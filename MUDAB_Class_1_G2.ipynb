{
 "cells": [
  {
   "cell_type": "markdown",
   "metadata": {
    "id": "eR-HT_ZoUqwH"
   },
   "source": [
    "# JSON en Python"
   ]
  },
  {
   "cell_type": "code",
   "execution_count": 5,
   "metadata": {
    "id": "MSxxTat1hxH1",
    "tags": []
   },
   "outputs": [
    {
     "name": "stdout",
     "output_type": "stream",
     "text": [
      "1\n",
      "this is a string\n",
      "[1, 2, 3]\n",
      "{'key': 'value', 'pages': [1, 2, 3, 65], 'age': 22, 'height': 1.85}\n"
     ]
    }
   ],
   "source": [
    "import json\n",
    "\n",
    "\n",
    "un_entero = json.loads('1')\n",
    "\n",
    "una_cadena = json.loads('\"this is a string\"')\n",
    "\n",
    "un_array = json.loads('[1, 2, 3]')\n",
    "\n",
    "un_objeto = json.loads('{\"key\": \"value\", \"pages\": [1, 2, 3, 65], \"age\": 22, \"height\": 1.85}')\n",
    "\n",
    "print(un_entero)\n",
    "print(una_cadena)\n",
    "print(un_array)\n",
    "print(un_objeto)"
   ]
  },
  {
   "cell_type": "markdown",
   "metadata": {
    "id": "Ok1KcC-IiNKp"
   },
   "source": [
    "## Repaso de Python\n"
   ]
  },
  {
   "cell_type": "markdown",
   "metadata": {
    "id": "yRInUHHfSjAK"
   },
   "source": [
    "### Acceder a un valor simple\n",
    "Si el parsing se hizo correctamente, la variable contendrá el valor"
   ]
  },
  {
   "cell_type": "code",
   "execution_count": 2,
   "metadata": {
    "colab": {
     "base_uri": "https://localhost:8080/"
    },
    "id": "8isrniCMR1J4",
    "outputId": "d12717cd-d4a4-406d-adc5-c44cee8bdbc1",
    "tags": []
   },
   "outputs": [
    {
     "name": "stdout",
     "output_type": "stream",
     "text": [
      "el entero: 1\n",
      "la cadena: this is a string\n"
     ]
    }
   ],
   "source": [
    "print(\"el entero:\", un_entero)\n",
    "print(\"la cadena:\", una_cadena)\n"
   ]
  },
  {
   "cell_type": "markdown",
   "metadata": {
    "id": "vf4Z-NxGSsvn"
   },
   "source": [
    "### Acceder a un array\n",
    "Un elemento de array se puede acceder a tráves de su posición"
   ]
  },
  {
   "cell_type": "code",
   "execution_count": 9,
   "metadata": {
    "colab": {
     "base_uri": "https://localhost:8080/"
    },
    "id": "41lxl8-CSweL",
    "outputId": "c030d20d-324e-4a42-b0da-683bf8f10424",
    "tags": []
   },
   "outputs": [
    {
     "name": "stdout",
     "output_type": "stream",
     "text": [
      "El array entero: [1, 2, 3]\n",
      "El primer elemento: 1\n",
      "El último elemento: 3\n",
      "El último elemento, en otra manera: 3\n"
     ]
    },
    {
     "ename": "IndexError",
     "evalue": "list index out of range",
     "output_type": "error",
     "traceback": [
      "\u001b[0;31m---------------------------------------------------------------------------\u001b[0m",
      "\u001b[0;31mIndexError\u001b[0m                                Traceback (most recent call last)",
      "Cell \u001b[0;32mIn[9], line 5\u001b[0m\n\u001b[1;32m      3\u001b[0m \u001b[38;5;28mprint\u001b[39m(\u001b[38;5;124m'\u001b[39m\u001b[38;5;124mEl último elemento:\u001b[39m\u001b[38;5;124m'\u001b[39m, un_array[\u001b[38;5;241m2\u001b[39m]) \u001b[38;5;66;03m# There's 3 items, so indexes are 0, 1, 2\u001b[39;00m\n\u001b[1;32m      4\u001b[0m \u001b[38;5;28mprint\u001b[39m(\u001b[38;5;124m'\u001b[39m\u001b[38;5;124mEl último elemento, en otra manera:\u001b[39m\u001b[38;5;124m'\u001b[39m, un_array[\u001b[38;5;241m-\u001b[39m\u001b[38;5;241m1\u001b[39m])\n\u001b[0;32m----> 5\u001b[0m \u001b[43mun_array\u001b[49m\u001b[43m[\u001b[49m\u001b[38;5;241;43m3\u001b[39;49m\u001b[43m]\u001b[49m\n",
      "\u001b[0;31mIndexError\u001b[0m: list index out of range"
     ]
    }
   ],
   "source": [
    "print('El array entero:', un_array)\n",
    "print('El primer elemento:', un_array[0]) # Indexes in python start from 0\n",
    "print('El último elemento:', un_array[2]) # There's 3 items, so indexes are 0, 1, 2\n",
    "print('El último elemento, en otra manera:', un_array[-1])\n",
    "un_array[3]"
   ]
  },
  {
   "cell_type": "markdown",
   "metadata": {
    "id": "-R7sJlcCTlGq"
   },
   "source": [
    "### Acceder a un objeto\n",
    "Un objeto de JSON en python se parsea como un diccionario. Si el objeto contiene otros objetos, esos también serán sub-diccionarios "
   ]
  },
  {
   "cell_type": "code",
   "execution_count": 10,
   "metadata": {
    "colab": {
     "base_uri": "https://localhost:8080/"
    },
    "id": "qVUeLG3QTouY",
    "outputId": "7beaa3bc-3af5-49b2-b07f-b8d443a3bb15",
    "tags": []
   },
   "outputs": [
    {
     "name": "stdout",
     "output_type": "stream",
     "text": [
      "El objeto entero: {'key': 'value', 'pages': [1, 2, 3, 65], 'age': 22, 'height': 1.85}\n",
      "El valor con nombre \"key\": value\n",
      "El último elemento del array \"pages\": 65\n",
      "El valor \"height\": 1.85\n"
     ]
    }
   ],
   "source": [
    "print('El objeto entero:', un_objeto)\n",
    "print('El valor con nombre \"key\":', un_objeto['key'])\n",
    "print('El último elemento del array \"pages\":', un_objeto['pages'][-1])\n",
    "print('El valor \"height\":', un_objeto['height'])"
   ]
  },
  {
   "cell_type": "markdown",
   "metadata": {
    "id": "YK0aXIlyVv9n"
   },
   "source": [
    "## Gestionar errores\n",
    "\n",
    "El input puede contener un JSON invalido; esta situación producirá un error en Python, y sin una gestión del error, el programa fallará inmediatamente. \n",
    "\n",
    "Para evitar esta situación, podemos incrustar el comando `json.loads` en un bloque de tipo `try`/`except`"
   ]
  },
  {
   "cell_type": "code",
   "execution_count": 11,
   "metadata": {
    "colab": {
     "base_uri": "https://localhost:8080/"
    },
    "id": "D18Rizk_WJBN",
    "outputId": "b43e8db1-366f-4b0a-8b85-f5ad352621f9",
    "tags": []
   },
   "outputs": [
    {
     "name": "stdout",
     "output_type": "stream",
     "text": [
      "algo no ha ido bien procesando el input: '123abc'\n"
     ]
    }
   ],
   "source": [
    "from json.decoder import JSONDecodeError\n",
    "a_tentative_json = \"123abc\" # this is not valid as number (spurious characters), nor as string (no quotes)\n",
    "\n",
    "try:\n",
    "  parsed = json.loads(a_tentative_json)\n",
    "  print(\"input procesado con éxito: \", parsed)\n",
    "except JSONDecodeError: # we're being specific, this will catch only this exception, any other will make the program to flow\n",
    "  print(f\"algo no ha ido bien procesando el input: '{a_tentative_json}'\")"
   ]
  },
  {
   "cell_type": "markdown",
   "metadata": {
    "id": "CIAvwpXuOoJC"
   },
   "source": [
    "### Handling all errors\n",
    "\n",
    "Las excepciones en Python forman una hierarquía que tiene `Exception` como raíz. Esto significa que utilizando `Exception` en la cláusula de `except` podemos capturar practicamente todos los errores. Al mismo tiempo, esto significa que todos los errores se procesarán como si fueran el mismo: esto no nos importa mucho ahora, pero en general no es una buena práctica. \n",
    "\n",
    "\n",
    "Ejemplo:\n",
    "```\n",
    "try:\n",
    "  # do something\n",
    "except Exception as e:\n",
    "  print(f\"Something happened! {e}\")\n",
    "```  "
   ]
  },
  {
   "cell_type": "markdown",
   "metadata": {
    "id": "UocBIFSOIqlM"
   },
   "source": [
    "# Data classes"
   ]
  },
  {
   "cell_type": "markdown",
   "metadata": {
    "id": "1U_IHj7tIzon"
   },
   "source": [
    "## Modelar un JSON en una data class de Python"
   ]
  },
  {
   "cell_type": "markdown",
   "metadata": {
    "id": "Vge2L7dSMtgt"
   },
   "source": [
    "### Crear una data class\n",
    "\n",
    "Una dataclass de python contiene datos inmutables. Por ejemplo, la siguiente clase define una Persona con dos atributos: el nombre y el apellido. "
   ]
  },
  {
   "cell_type": "code",
   "execution_count": 44,
   "metadata": {
    "id": "1L1TfyORMs4W",
    "tags": []
   },
   "outputs": [],
   "source": [
    "from dataclasses import dataclass\n",
    "\n",
    "@dataclass\n",
    "class Person:\n",
    "  \"\"\"Class to model a Person\"\"\"\n",
    "  first_name: str\n",
    "  last_name: str"
   ]
  },
  {
   "cell_type": "markdown",
   "metadata": {
    "id": "pv2BxaF5NCr7"
   },
   "source": [
    "### Parsear el input\n",
    "\n",
    "En este caso, simulamos un fichero con datos json a través de un array que contiene dos objetos de JSON. \n",
    "\n",
    "Observemos que el JSON puede contener más atributos de los que hemos modelado. "
   ]
  },
  {
   "cell_type": "code",
   "execution_count": 45,
   "metadata": {
    "colab": {
     "base_uri": "https://localhost:8080/"
    },
    "id": "0-lBpDJjI3rv",
    "outputId": "5b9745e1-d742-40fe-d1d0-5f04932ed63c",
    "tags": []
   },
   "outputs": [
    {
     "name": "stdout",
     "output_type": "stream",
     "text": [
      "[Person(first_name='Luca', last_name='Telloli'), Person(first_name='Ana', last_name='Freire')]\n"
     ]
    }
   ],
   "source": [
    "import json\n",
    "\n",
    "lines = ['{\"first_name\": \"Luca\", \"last_name\": \"Telloli\", \"role\": \"professor\", \"age\": 25}',\n",
    "         '{\"first_name\": \"Ana\", \"last_name\": \"Freire\", \"role\": \"coordinator\", \"age\": 25}']\n",
    "\n",
    "data = []\n",
    "\n",
    "def parse_line(line: str):\n",
    "  \"\"\"Try to parse a string into a Person\"\"\"\n",
    "  try:\n",
    "    parsed = json.loads(line)\n",
    "    return Person(parsed['first_name'], parsed['last_name']) # Use data class, we only extract from JSON the relevant fields\n",
    "  except Exception as e:\n",
    "    print(f\"Something happened with line '{line}': {e}\")\n",
    "\n",
    "def parse_line2(line: str):\n",
    "  \"\"\"Try to parse a string into a Person\"\"\"\n",
    "  try:\n",
    "    parsed = json.loads(line)\n",
    "    if(parsed['first_name'] and parsed['last_name']):\n",
    "        return Person(parsed['first_name'], parsed['last_name']) # Use data class, we only extract from JSON the relevant fields\n",
    "    else:\n",
    "        return None\n",
    "  except Exception as e:\n",
    "    print(f\"Something happened with line '{line}': {e}\")\n",
    "\n",
    "for line in lines:\n",
    "  data_item = parse_line(line)\n",
    "  data.append(data_item)\n",
    "\n",
    "print(data)"
   ]
  },
  {
   "cell_type": "markdown",
   "metadata": {
    "id": "ZNC8_B-bNcCI"
   },
   "source": [
    "### Casos límite (Corner cases)\n",
    "\n",
    "El input puede contener valores incorrectos (dirty values) o ser incompleto. \n",
    "\n",
    "Que hacer en estos casos? Unas opciones posibles son: \n",
    "* ignorar estos valores\n",
    "* intentar \"salvar\" la mayoría de información \n",
    "* fallar la aplicación cuando encontramos un valor así "
   ]
  },
  {
   "cell_type": "code",
   "execution_count": 50,
   "metadata": {
    "colab": {
     "base_uri": "https://localhost:8080/"
    },
    "id": "mGdeL8jNNbfd",
    "outputId": "df43d731-3f64-4893-bb61-6c657da47848",
    "tags": []
   },
   "outputs": [
    {
     "name": "stdout",
     "output_type": "stream",
     "text": [
      "Something happened with line '{\"first_name\": \"Ana\"}': 'last_name'\n",
      "*** PARSED DATA *** \n",
      "\n",
      "[Person(first_name='Mario', last_name='Rossi')]\n"
     ]
    }
   ],
   "source": [
    "lines = ['{\"first_name\": \"Luca\", \"last_name\": null}',\n",
    "         '{\"first_name\": \"Ana\"}',\n",
    "         '{\"first_name\": \"Mario\", \"last_name\": \"Rossi\"}'\n",
    "        ]\n",
    "\n",
    "data = []\n",
    "\n",
    "for line in lines:\n",
    "  parsed = parse_line2(line)\n",
    "  if parsed:  \n",
    "      data.append(parsed)\n",
    "\n",
    "print(\"*** PARSED DATA ***\", \"\\n\")\n",
    "print(data)"
   ]
  },
  {
   "cell_type": "markdown",
   "metadata": {
    "id": "fom3sjK7QocN"
   },
   "source": [
    "# ~Question 1.1~\n",
    "\n",
    "Que cambios tendríamos que implementar en nuestro código si no queremos que apareza el valor `None` en nuestro array `data`? Donde y de que manera hay que cambiar el código? \n",
    "\n",
    "Añade una celda aquí abajo con tu solución\n",
    "\n",
    "**NOTA** Este ejercicio lo hicimos en clase, así que no hace falta contestar esta pregunta."
   ]
  },
  {
   "cell_type": "markdown",
   "metadata": {
    "id": "UpNVEID0SS2n",
    "tags": []
   },
   "source": [
    "# Question 1\n",
    "\n",
    "## I Parte \n",
    "Dado como input el siguiente:\n",
    "\n",
    "```\n",
    "lines = ['{\"first_name\": \"Luca\", \"last_name\": \"Telloli\", \"role\": \"professor\", \"age\": 25}',\n",
    "         '{\"first_name\": \"Ana\", \"last_name\": \"Freire\", \"role\": \"coordinator\", \"age\": 25}']\n",
    "```\n",
    "Vamos a considerar otro atributo en nuestro input, `age`: es decir, queremos que la edad también apareza como información dentro de nuestro array `data`\n",
    "\n",
    "1. Como cambia la data class?\n",
    "2. Cómo cambia el código de parsing?\n",
    "\n",
    "Añade una celda abajo donde reimplementas el método `parse_line(line: str)` y lo usas de una forma similar a la de los ejemplos de arriba. \n",
    "\n",
    "## II Parte \n",
    "\n",
    "Amplía el input añadiendo un par más de valores de ejemplo. "
   ]
  },
  {
   "cell_type": "code",
   "execution_count": 31,
   "metadata": {
    "tags": []
   },
   "outputs": [],
   "source": [
    "# Respuesta Parte 1\n",
    "from dataclasses import dataclass\n",
    "\n",
    "@dataclass #Python decorator\n",
    "class Person: # Define Person class\n",
    "  \"\"\"Class to model a Person\"\"\"\n",
    "  first_name: str\n",
    "  last_name: str\n",
    "  age: int # number in JSON  "
   ]
  },
  {
   "cell_type": "code",
   "execution_count": 32,
   "metadata": {
    "tags": []
   },
   "outputs": [
    {
     "name": "stdout",
     "output_type": "stream",
     "text": [
      "[Person(first_name='Luca', last_name='Telloli', age=25), Person(first_name='Ana', last_name='Freire', age=25)]\n"
     ]
    }
   ],
   "source": [
    "import json    \n",
    "from json.decoder import JSONDecodeError\n",
    "\n",
    "# LIST\n",
    "lines = ['{\"first_name\": \"Luca\", \"last_name\": \"Telloli\", \"role\": \"professor\", \"age\": 25}',\n",
    "         '{\"first_name\": \"Ana\", \"last_name\": \"Freire\", \"role\": \"coordinator\", \"age\": 25}']\n",
    "\n",
    "data = []\n",
    "\n",
    "# FOR LOOP\n",
    "for line in lines:\n",
    "    try:\n",
    "        # PARSE IT\n",
    "        person_lines = json.loads(line) # JSON.LOADS -> PARSES THE STRING & CONVERTS IT INTO A PYTHON DICTIONARY \n",
    "        # OBJECT -> person\n",
    "        person = Person(\n",
    "            first_name=person_lines['first_name'],# DICT\n",
    "            last_name=person_lines['last_name'],# DICT\n",
    "            age=person_lines['age']# DICT\n",
    "        )\n",
    "        data.append(person)\n",
    "    #WILL GET THIS ERROR WHEN A DATA TYPE IS INCOMPATIBLE   \n",
    "    except JSONDecodeError:\n",
    "        # F'STRINGS \n",
    "        print(f\"Error parsing line: '{line}'\")\n",
    "\n",
    "print(data)"
   ]
  },
  {
   "cell_type": "markdown",
   "metadata": {},
   "source": [
    "or using a parsing function:"
   ]
  },
  {
   "cell_type": "code",
   "execution_count": 39,
   "metadata": {
    "tags": []
   },
   "outputs": [
    {
     "name": "stdout",
     "output_type": "stream",
     "text": [
      "[Person(first_name='Luca', last_name='Telloli', age=25), Person(first_name='Ana', last_name='Freire', age=25)]\n"
     ]
    }
   ],
   "source": [
    "import json    \n",
    "from json.decoder import JSONDecodeError\n",
    "\n",
    "# LIST\n",
    "lines = ['{\"first_name\": \"Luca\", \"last_name\": \"Telloli\", \"role\": \"professor\", \"age\": 25}',\n",
    "         '{\"first_name\": \"Ana\", \"last_name\": \"Freire\", \"role\": \"coordinator\", \"age\": 25}']\n",
    "\n",
    "data = []\n",
    "# USING parse_line(line: str)\n",
    "def parse_line(line: str):# PARSING FUNCTION\n",
    "    try:\n",
    "        person_lines = json.loads(line)\n",
    "        # OBJECT -> person\n",
    "        person = Person(\n",
    "            first_name=person_lines['first_name'],\n",
    "            last_name=person_lines['last_name'],\n",
    "            age=person_lines['age']\n",
    "        )\n",
    "        return person\n",
    "    #WILL GET THIS ERROR WHEN A DATA TYPE IS INCOMPATIBLE   \n",
    "    except JSONDecodeError:\n",
    "        print(f\"Error parsing line: '{line}'\")\n",
    "        return None # IF THE PARSING FAILS\n",
    "\n",
    "for line in lines:\n",
    "    person = parse_line(line)\n",
    "    if person:\n",
    "        data.append(person)\n",
    "\n",
    "print(data)"
   ]
  },
  {
   "cell_type": "markdown",
   "metadata": {},
   "source": [
    "Now doing it like the 2 examples above:"
   ]
  },
  {
   "cell_type": "code",
   "execution_count": 40,
   "metadata": {
    "tags": []
   },
   "outputs": [
    {
     "name": "stdout",
     "output_type": "stream",
     "text": [
      "[Person(first_name='Luca', last_name='Telloli', age=25), Person(first_name='Ana', last_name='Freire', age=25)]\n"
     ]
    }
   ],
   "source": [
    "import json\n",
    "\n",
    "# LIST\n",
    "lines = ['{\"first_name\": \"Luca\", \"last_name\": \"Telloli\", \"role\": \"professor\", \"age\": 25}',\n",
    "         '{\"first_name\": \"Ana\", \"last_name\": \"Freire\", \"role\": \"coordinator\", \"age\": 25}']\n",
    "\n",
    "data = []\n",
    "\n",
    "# BETTER ERROR HANDLING\n",
    "def parse_line(line: str):  # PARSING FUNCTION 1\n",
    "    \"\"\"Try to parse a string into a Person\"\"\"\n",
    "    try:\n",
    "        parsed = json.loads(line)\n",
    "        return Person(parsed['first_name'], parsed['last_name'], int(parsed['age'])) #TYPE CASTING\n",
    "    except Exception as e:\n",
    "        print(f\"Something happened with line '{line}': {e}\")\n",
    "        return None\n",
    "\n",
    "def parse_line2(line: str):  # PARSING FUNCTION 2\n",
    "    \"\"\"Try to parse a string into a Person\"\"\"\n",
    "    try:\n",
    "        parsed = json.loads(line)\n",
    "        if parsed['first_name'] and parsed['last_name']:\n",
    "            return Person(parsed['first_name'], parsed['last_name'], int(parsed['age'])) #TYPE CASTING\n",
    "        else:\n",
    "            return None # IF THE PARSING FAILS\n",
    "    except Exception as e:\n",
    "        print(f\"Something happened with line '{line}': {e}\")\n",
    "        return None # IF THE PARSING FAILS\n",
    "\n",
    "def parse_line3(line: str):  # PARSING FUNCTION 3\n",
    "    \"\"\"Try to parse a string/int into a Person\"\"\"\n",
    "    try:\n",
    "        parsed = json.loads(line)\n",
    "        return Person(parsed['first_name'], parsed['last_name'], parsed['age'])\n",
    "    except Exception as e:\n",
    "        print(f\"Something happened with line '{line}': {e}\")\n",
    "        return None # IF THE PARSING FAILS\n",
    "    \n",
    "for line in lines:\n",
    "    data_item = parse_line3(line) #CORNER CASE\n",
    "    if data_item:\n",
    "        data.append(data_item)\n",
    "\n",
    "print(data)"
   ]
  },
  {
   "cell_type": "code",
   "execution_count": null,
   "metadata": {},
   "outputs": [],
   "source": [
    "Should we `typecast` or no?"
   ]
  },
  {
   "cell_type": "code",
   "execution_count": 54,
   "metadata": {
    "tags": []
   },
   "outputs": [],
   "source": [
    "# Respuesta Parte 2\n",
    "from dataclasses import dataclass\n",
    "\n",
    "@dataclass #Python decorator\n",
    "class Person: # Define Person class\n",
    "  \"\"\"Class to model a Person\"\"\"\n",
    "  first_name: str\n",
    "  last_name: str\n",
    "  age: int # number in JSON  \n",
    "  is_verified: bool   "
   ]
  },
  {
   "cell_type": "code",
   "execution_count": 55,
   "metadata": {
    "tags": []
   },
   "outputs": [
    {
     "name": "stdout",
     "output_type": "stream",
     "text": [
      "[Person(first_name='Luca', last_name='Telloli', age=25, is_verified=False), Person(first_name='Ana', last_name='Freire', age=25, is_verified=True)]\n"
     ]
    }
   ],
   "source": [
    "import json\n",
    "\n",
    "lines = ['{\"first_name\": \"Luca\", \"last_name\": \"Telloli\", \"role\": \"professor\", \"age\": 25, \"is_verified\": false}',\n",
    "         '{\"first_name\": \"Ana\", \"last_name\": \"Freire\", \"role\": \"coordinator\", \"age\": 25, \"is_verified\": true}']\n",
    "data = []\n",
    "\n",
    "# BETTER ERROR HANDLING\n",
    "def parse_line(line: str):  # PARSING FUNCTION 1\n",
    "    \"\"\"Try to parse a string into a Person\"\"\"\n",
    "    try:\n",
    "        parsed = json.loads(line)\n",
    "        return Person(parsed['first_name'], parsed['last_name'], parsed['age'], parsed['is_verified']) \n",
    "    except Exception as e:\n",
    "        print(f\"Something happened with line '{line}': {e}\")\n",
    "        return None\n",
    "\n",
    "def parse_line2(line: str):  # PARSING FUNCTION 2\n",
    "    \"\"\"Try to parse a string into a Person\"\"\"\n",
    "    try:\n",
    "        parsed = json.loads(line)\n",
    "        if parsed['first_name'] and parsed['last_name']:\n",
    "            return Person(parsed['first_name'], parsed['last_name'], parsed['age'], parsed['is_verified'])\n",
    "        else:\n",
    "            return None # IF THE PARSING FAILS\n",
    "    except Exception as e:\n",
    "        print(f\"Something happened with line '{line}': {e}\")\n",
    "        return None # IF THE PARSING FAILS\n",
    "\n",
    "def parse_line3(line: str):  # PARSING FUNCTION 3\n",
    "    \"\"\"Try to parse a string into a Person\"\"\"\n",
    "    try:\n",
    "        parsed = json.loads(line)\n",
    "        return Person(parsed['first_name'], parsed['last_name'], parsed['age'], parsed['is_verified'])\n",
    "    except Exception as e:\n",
    "        print(f\"Something happened with line '{line}': {e}\")\n",
    "        return None # IF THE PARSING FAILS\n",
    "    \n",
    "def parse_line4(line: str):  # PARSING FUNCTION 4\n",
    "    \"\"\"Try to parse a string into a Person\"\"\"\n",
    "    try:\n",
    "        parsed = json.loads(line)\n",
    "        return Person(parsed['first_name'], parsed['last_name'], parsed['age'], parsed['is_verified'])\n",
    "    except Exception as e:\n",
    "        print(f\"Something happened with line '{line}': {e}\")\n",
    "        return None # IF THE PARSING FAILS\n",
    "    \n",
    "for line in lines:\n",
    "    data_item = parse_line4(line) #CORNER CASE\n",
    "    if data_item:\n",
    "        data.append(data_item)\n",
    "\n",
    "print(data)"
   ]
  },
  {
   "cell_type": "code",
   "execution_count": null,
   "metadata": {},
   "outputs": [],
   "source": []
  }
 ],
 "metadata": {
  "colab": {
   "authorship_tag": "ABX9TyN1BshO3DCwqSB28zNCqaQR",
   "include_colab_link": true,
   "provenance": [],
   "toc_visible": true
  },
  "kernelspec": {
   "display_name": "conda_pytorch_p310",
   "language": "python",
   "name": "conda_pytorch_p310"
  },
  "language_info": {
   "codemirror_mode": {
    "name": "ipython",
    "version": 3
   },
   "file_extension": ".py",
   "mimetype": "text/x-python",
   "name": "python",
   "nbconvert_exporter": "python",
   "pygments_lexer": "ipython3",
   "version": "3.10.14"
  }
 },
 "nbformat": 4,
 "nbformat_minor": 4
}
