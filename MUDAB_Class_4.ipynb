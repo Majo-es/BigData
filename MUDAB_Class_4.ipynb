{
 "cells": [
  {
   "cell_type": "markdown",
   "id": "d2966171",
   "metadata": {},
   "source": [
    "# MapReduce con Spark\n",
    "\n",
    "Para arrancar una aplicación de Spark, necesitamos unas operaciones preliminares: \n",
    "- crear una configuración de spark \n",
    "- crear una sesión de spark \n",
    "- obtener un *contexto* de *Spark*"
   ]
  },
  {
   "cell_type": "code",
   "execution_count": 2,
   "id": "d2e43260",
   "metadata": {
    "tags": []
   },
   "outputs": [
    {
     "name": "stderr",
     "output_type": "stream",
     "text": [
      "Setting default log level to \"WARN\".\n",
      "To adjust logging level use sc.setLogLevel(newLevel). For SparkR, use setLogLevel(newLevel).\n"
     ]
    },
    {
     "name": "stdout",
     "output_type": "stream",
     "text": [
      "25/02/11 14:40:51 WARN NativeCodeLoader: Unable to load native-hadoop library for your platform... using builtin-java classes where applicable\n"
     ]
    }
   ],
   "source": [
    "from pyspark import SparkConf\n",
    "from pyspark.sql import SparkSession\n",
    "import sagemaker_pyspark\n",
    "\n",
    "conf = SparkConf()\n",
    "conf.set(\"spark.driver.extraClassPath\", \":\".join(sagemaker_pyspark.classpath_jars()))\n",
    "conf.set('spark.hadoop.fs.s3a.aws.credentials.provider', 'org.apache.hadoop.fs.s3a.AnonymousAWSCredentialsProvider')\n",
    "spark = (\n",
    "    SparkSession\n",
    "    .builder\n",
    "    .config(conf=conf)\n",
    "    .appName(\"test\")\n",
    "    .getOrCreate()\n",
    ")\n",
    "sc = spark.sparkContext"
   ]
  },
  {
   "cell_type": "markdown",
   "id": "4fad20ae-a65f-4843-b648-e57659eabca7",
   "metadata": {},
   "source": [
    "### Notes:\n",
    "`spark.hadoop.fs.s3a.aws.credentials.provider` property to  `org.apache.hadoop.fs.s3a.AnonymousAWSCredentialsProvider`, `Spark` will use the anonymous AWS credentials provider to interact with Amazon S3 without any authentication. This is useful when the data in the S3 bucket is publicly accessible and doesn't require any specific AWS credentials (like an access key and secret key) to access it."
   ]
  },
  {
   "cell_type": "markdown",
   "id": "2cf34db9",
   "metadata": {},
   "source": [
    "## Leer el input\n",
    "\n",
    "Spark puede leer input directamente desde S3. Utilizando el método `textfile`, podemos leer el input entero línea por línea, donde cada línea (que en nuestro caso representa el JSON integral de un tweet) es un elemento de un RSS de un solo valor, que será de tipo `RDD[str]` (RDD de string, es decir, un RDD donde cada fila contiene un solo elemento, y ese elemento es una cadena. \n"
   ]
  },
  {
   "cell_type": "code",
   "execution_count": 2,
   "id": "c478eaa4",
   "metadata": {
    "tags": []
   },
   "outputs": [],
   "source": [
    "rdd = sc.textFile('s3a://mudab-2025-big-data/twitter-data/Eurovision-00.json')"
   ]
  },
  {
   "cell_type": "markdown",
   "id": "eba569a6",
   "metadata": {},
   "source": [
    "**Nota**: Si especificamos una *carpeta* en lugar de un *fichero*, procesaremos todos los ficheros de esa carpeta! "
   ]
  },
  {
   "cell_type": "code",
   "execution_count": 3,
   "id": "0164f462-de5f-4902-a8cd-190d4e83a4d3",
   "metadata": {
    "tags": []
   },
   "outputs": [
    {
     "name": "stdout",
     "output_type": "stream",
     "text": [
      "25/02/10 22:42:35 WARN MetricsConfig: Cannot locate configuration: tried hadoop-metrics2-s3a-file-system.properties,hadoop-metrics2.properties\n"
     ]
    },
    {
     "name": "stderr",
     "output_type": "stream",
     "text": [
      "                                                                                \r"
     ]
    },
    {
     "data": {
      "text/plain": [
       "222465"
      ]
     },
     "execution_count": 3,
     "metadata": {},
     "output_type": "execute_result"
    }
   ],
   "source": [
    "rdd.count()"
   ]
  },
  {
   "cell_type": "markdown",
   "id": "a55aafbf",
   "metadata": {},
   "source": [
    "## Reciclar código\n",
    "\n",
    "\n",
    "Podemos reutilizar algúnos de los métodos que escribimos en pasado, por ejemplo el código para parsear cadenar en Tweets"
   ]
  },
  {
   "cell_type": "code",
   "execution_count": 4,
   "id": "d2dae460",
   "metadata": {
    "tags": []
   },
   "outputs": [],
   "source": [
    "from dataclasses import dataclass\n",
    "\n",
    "@dataclass\n",
    "class Tweet:\n",
    "  \"\"\"Class to model a Tweet\"\"\"\n",
    "  id: int         # The unique ID of a tweet\n",
    "  content: str    # The textual content of a tweet\n",
    "  author: str     # The nickname of the author of the tweet\n",
    "  language: str   # The language of the tweet"
   ]
  },
  {
   "cell_type": "code",
   "execution_count": 5,
   "id": "f17be6b6",
   "metadata": {
    "tags": []
   },
   "outputs": [],
   "source": [
    "import json\n",
    "\n",
    "def toTweet(line: str): # FROM STRING TO TWEET\n",
    "      try: #TRY-EXCEPT BLOCK\n",
    "        parsed = json.loads(line)\n",
    "        return Tweet(parsed['id'], parsed['text'], parsed['user']['name'], parsed['lang'])\n",
    "      except Exception as e:\n",
    "        return None # IF AN EXCEPTION OCCURS\n",
    "\n",
    "# For small input tests, extract first 10 values\n",
    "#small_data = rdd.take(10) # Takes first 10 elements\n",
    "#input_rdd = sc.parallelize(input_data) # Create an RDD with first 10 elements\n",
    "# for small tests, use small_rdd instead of rdd below     \n",
    "\n",
    "processed = (rdd  # rdd[string]\n",
    "    .map(toTweet) # parse string into Tweet. Return rdd[Tweet]\n",
    "    .filter(lambda x: x is not None) # filter empty values. Return same type (rdd[Tweet])\n",
    ")"
   ]
  },
  {
   "cell_type": "markdown",
   "id": "a55e0300",
   "metadata": {},
   "source": [
    "## Recuento de tweets\n",
    "\n",
    "El código de arriba produce un `RDD[Tweet]` a partir de un `RDD[str]`. Con el comando de Spark `.count()` podemos obtener el recuento de elementos dentro del RDD. "
   ]
  },
  {
   "cell_type": "code",
   "execution_count": 6,
   "id": "81000ea7",
   "metadata": {
    "tags": []
   },
   "outputs": [
    {
     "name": "stderr",
     "output_type": "stream",
     "text": [
      "[Stage 1:======================================================>  (21 + 1) / 22]\r"
     ]
    },
    {
     "name": "stdout",
     "output_type": "stream",
     "text": [
      "102968\n"
     ]
    },
    {
     "name": "stderr",
     "output_type": "stream",
     "text": [
      "                                                                                \r"
     ]
    }
   ],
   "source": [
    "print(processed.count())"
   ]
  },
  {
   "cell_type": "code",
   "execution_count": 7,
   "id": "d7921ed8-227f-4048-9a75-71595629866d",
   "metadata": {
    "tags": []
   },
   "outputs": [
    {
     "data": {
      "text/plain": [
       "[Tweet(id=995443356309311493, content='RT @jk_rowling: France ❤️ #Eurovision', author='Liz', language='fr'),\n",
       " Tweet(id=995443356602982401, content='RT @neltropico: Salvador Sobral entregándole el premio a Israel #Eurovision https://t.co/sApzlSoPMb', author='Marina', language='es'),\n",
       " Tweet(id=995443356552527873, content='RT @jungjaeguns: cuando apago la luz del pasillo para irme a mi habitación y que no me maten los espíritus #Eurovision https://t.co/0naU3Xm…', author='Rosalinda ♥', language='es'),\n",
       " Tweet(id=995443356921720835, content='RT @itsbrookewar: Enrique amigooo!!! \\n#Eurovision https://t.co/HTbbMUwEHd', author='Laura Pérez🐒', language='es'),\n",
       " Tweet(id=995443356825202690, content='RT @snugglycamila: i’m not surprised eurovision is confusing for americans since the concept of the person with the most votes actually win…', author='Maggi', language='en')]"
      ]
     },
     "execution_count": 7,
     "metadata": {},
     "output_type": "execute_result"
    }
   ],
   "source": [
    "processed.take(5)"
   ]
  },
  {
   "cell_type": "markdown",
   "id": "ca6ad25c-c180-43c4-be3c-046a72524f60",
   "metadata": {},
   "source": [
    "### Note:\n",
    "`take()` action is a Spark action -> triggers the execution of the Spark job up to the point where the first 5 elements are collected. "
   ]
  },
  {
   "cell_type": "markdown",
   "id": "07ac27ed",
   "metadata": {},
   "source": [
    "## Tweets by language\n",
    "\n",
    "Podemos re-escribir un ejemplo anterior (recuento de Tweets por idioma) utilizando Spark. El código es muy compacto. "
   ]
  },
  {
   "cell_type": "code",
   "execution_count": 8,
   "id": "69301224",
   "metadata": {
    "tags": []
   },
   "outputs": [
    {
     "name": "stderr",
     "output_type": "stream",
     "text": [
      "[Stage 9:======================================================>  (21 + 1) / 22]\r"
     ]
    },
    {
     "name": "stdout",
     "output_type": "stream",
     "text": [
      "[('es', 50874), ('en', 30675), ('pt', 5831), ('fr', 3766), ('ru', 2774), ('und', 2659), ('it', 2326), ('tr', 672), ('el', 672), ('pl', 547), ('de', 332), ('ca', 286), ('nl', 269), ('iw', 181), ('et', 132), ('sv', 132), ('in', 109), ('tl', 102), ('uk', 95), ('cy', 79), ('ht', 52), ('no', 48), ('cs', 40), ('hu', 39), ('ja', 38), ('da', 36), ('ro', 35), ('vi', 34), ('is', 30), ('fi', 24), ('eu', 21), ('lt', 11), ('sr', 10), ('fa', 9), ('bg', 7), ('ar', 6), ('sl', 4), ('th', 4), ('hi', 3), ('lv', 3), ('ko', 1)]\n"
     ]
    },
    {
     "name": "stderr",
     "output_type": "stream",
     "text": [
      "                                                                                \r"
     ]
    }
   ],
   "source": [
    "by_lang = (\n",
    "    processed # RDD OF TWEET\n",
    "        .map(lambda x: (x.language, 1)) # from rdd[Tweet] to rdd[str, int]\n",
    "        .reduceByKey(lambda x, y: x + y) # reduce produces same type rdd[str, int]\n",
    "        .sortBy(lambda x: x[1], ascending=False) # sort the output. \n",
    "            # Since it's a pair-rdd, select which element of the pair should be used to order \n",
    ")\n",
    "\n",
    "print(by_lang.collect()) # we use collect() because we know that the output will be of limited size"
   ]
  },
  {
   "cell_type": "markdown",
   "id": "83e5dbe4-22bc-4a20-a393-b671c56ffdcb",
   "metadata": {},
   "source": [
    "Counts the number of tweets for each language, sorts the results by the tweet count in descending order, and then prints the final result."
   ]
  },
  {
   "cell_type": "markdown",
   "id": "43a4a687",
   "metadata": {},
   "source": [
    "## WordCount\n",
    "\n",
    "El siguiente código implementa el Word Count con Spark. Podemos reutilizar el RDD anterior `processed`, que ya contiene nuestra colección de Tweets. "
   ]
  },
  {
   "cell_type": "code",
   "execution_count": 9,
   "id": "fcec1c23",
   "metadata": {
    "tags": []
   },
   "outputs": [
    {
     "name": "stderr",
     "output_type": "stream",
     "text": [
      "[Stage 15:=====================================================>  (21 + 1) / 22]\r"
     ]
    },
    {
     "name": "stdout",
     "output_type": "stream",
     "text": [
      "[('rt', 85609), ('#eurovision', 64604), ('de', 27967), ('que', 27257), ('a', 26931), ('la', 20603), ('el', 17377), ('the', 16859), ('y', 16235), ('en', 13159), ('no', 10726), ('eurovision', 9431), ('un', 9042), ('israel', 8688), ('con', 8147), ('to', 7935), ('los', 7354), ('is', 7064), ('cuando', 6779), ('por', 6569), ('una', 6508), ('and', 6496), ('me', 6244), ('es', 6136), ('in', 5893), ('of', 5866), ('para', 5784), ('lo', 5714), ('i', 5554), ('año', 5342), ('se', 5103), ('for', 4845), ('you', 4386), ('del', 4325), ('ha', 4321), ('mi', 4020), ('te', 4017), ('este', 4013), ('gana', 3750), ('-', 3714), ('this', 3680), ('o', 3650), ('pero', 3283), ('that', 3193), ('yo', 3160), ('song', 2864), ('#finaleurovision', 2845), ('su', 2799), ('e', 2799), ('al', 2719), ('it', 2663), ('le', 2656), ('on', 2615), ('las', 2597), ('canción', 2551), ('españa', 2480), ('but', 2437), ('si', 2403), ('was', 2317), ('so', 2263), ('tu', 2229), ('winner', 2206), ('@manelnmusic:', 2192), ('we', 2173), ('my', 2127), ('with', 2106), ('nos', 2095), ('salvador', 2045), ('como', 2013), ('#esc2018', 1977), ('2018', 1947), ('esto', 1945), ('not', 1908), ('gallo', 1881), ('at', 1849), ('han', 1838), ('les', 1837), ('year', 1815), ('are', 1804), ('amaia', 1785), ('así', 1770), ('about', 1740), ('alfred', 1734), ('pasado', 1730), ('da', 1702), ('más', 1698), ('último', 1677), ('all', 1665), ('mucho', 1652), ('#eurovision2018', 1618), ('quedo', 1611), ('os', 1602), ('ganado', 1561), ('be', 1505), ('gallina...', 1501), ('https://t.co/efvxqbb8jp', 1500), ('ya', 1497), ('mejor', 1488), ('está', 1478), ('país', 1477)]\n"
     ]
    },
    {
     "name": "stderr",
     "output_type": "stream",
     "text": [
      "                                                                                \r"
     ]
    }
   ],
   "source": [
    "word_count = (\n",
    "    processed # RDD OF TWEET\n",
    "        .flatMap(lambda x: x.content.split()) # from rdd[Tweet] to rdd[str] \n",
    "        .map(lambda x: (x.lower(), 1)) # from rdd[str] to rdd[str, int]\n",
    "        .reduceByKey(lambda x, y: x + y) # reduce to same rdd[str, int]\n",
    "        .sortBy(lambda x: x[1], ascending=False) # sort the output. \n",
    "            # Since it's a pair-rdd, select which element of the pair should be used to order \n",
    ")\n",
    "\n",
    "print(word_count.take(100))"
   ]
  },
  {
   "cell_type": "markdown",
   "id": "7c9d714e-f179-482c-b54f-24dac98738db",
   "metadata": {},
   "source": [
    "It performs a word count operation on the tweet data, where the most frequently occurring words are identified and sorted in descending order. Super useful for understanding the content and trends within the tweet dataset."
   ]
  },
  {
   "cell_type": "code",
   "execution_count": 10,
   "id": "0529cc86-f6c8-47a6-ae5c-6f774f759bc1",
   "metadata": {
    "tags": []
   },
   "outputs": [
    {
     "name": "stderr",
     "output_type": "stream",
     "text": [
      "[Stage 22:=====================================================>  (21 + 1) / 22]\r"
     ]
    },
    {
     "name": "stdout",
     "output_type": "stream",
     "text": [
      "[('rt', 46290), ('#eurovision', 36209), ('de', 24563), ('que', 24539), ('la', 17957), ('el', 17271), ('y', 16142), ('a', 16001), ('en', 12437), ('no', 9635), ('un', 8104), ('con', 7897), ('los', 7347), ('cuando', 6778), ('por', 6320), ('una', 6227), ('es', 6046), ('lo', 5582), ('año', 5342), ('para', 4824), ('me', 4466), ('se', 4382), ('israel', 4369), ('del', 4096), ('ha', 4007), ('te', 3928), ('este', 3770), ('gana', 3744), ('mi', 3701), ('pero', 3281), ('yo', 3140), ('su', 2762), ('#finaleurovision', 2642), ('las', 2589), ('canción', 2543), ('eurovision', 2479), ('españa', 2475), ('al', 2470), ('si', 2210), ('@manelnmusic:', 2192), ('tu', 2127), ('nos', 1934), ('gallo', 1880), ('como', 1873), ('han', 1833), ('así', 1770), ('esto', 1770), ('amaia', 1763), ('pasado', 1730), ('alfred', 1720), ('-', 1704), ('más', 1697), ('mucho', 1651), ('quedo', 1611), ('le', 1561), ('ganado', 1560), ('último', 1547), ('gallina...', 1501), ('https://t.co/efvxqbb8jp', 1500), ('mejor', 1487), ('ya', 1442), ('qué', 1373), ('está', 1365), ('país', 1356), ('contra', 1316), ('os', 1281), ('europa', 1210), ('ganadora', 1206), ('sin', 1161), ('va', 1150), ('todos', 1128), ('esta', 1117), ('memes', 1093), ('madre', 1070), ('eurovisión', 1063), ('puntos', 1048), ('antes', 1046), ('ser', 1031), ('hay', 1015), ('nada', 997), ('son', 995), ('viene', 977), ('israel,', 965), ('tiene', 936), ('todo', 928), ('@amaia_ot2017', 923), ('porque', 883), ('hasta', 881), ('o', 879), ('@alfred_ot2017', 862), ('ni', 856), ('hace', 846), ('años', 843), ('ganar', 808), ('luz', 797), ('actuación', 794), ('siempre', 794), ('les', 792), ('puestos', 789), ('pasillo', 786)]\n"
     ]
    },
    {
     "name": "stderr",
     "output_type": "stream",
     "text": [
      "                                                                                \r"
     ]
    }
   ],
   "source": [
    "word_count = (\n",
    "    processed # RDD OF TWEET\n",
    "        .filter(lambda x: x.language == 'es') # filter for Spanish tweets\n",
    "        .flatMap(lambda x: x.content.split()) # from rdd[Tweet] to rdd[str] \n",
    "        .map(lambda x: (x.lower(), 1)) # from rdd[str] to rdd[str, int]\n",
    "        .reduceByKey(lambda x, y: x + y) # reduce to same rdd[str, int]\n",
    "        .sortBy(lambda x: x[1], ascending=False) # sort the output. \n",
    "            # Since it's a pair-rdd, select which element of the pair should be used to order \n",
    ")\n",
    "\n",
    "print(word_count.take(100))"
   ]
  },
  {
   "cell_type": "code",
   "execution_count": 11,
   "id": "ba02bdcb-7b75-49fa-a9c0-6e7e790700e2",
   "metadata": {
    "tags": []
   },
   "outputs": [
    {
     "name": "stderr",
     "output_type": "stream",
     "text": [
      "[Stage 29:==================================================>     (20 + 2) / 22]\r"
     ]
    },
    {
     "name": "stdout",
     "output_type": "stream",
     "text": [
      "['rt', '#eurovision', 'de', 'que', 'la', 'el', 'y', 'a', 'en', 'no', 'un', 'con', 'los', 'cuando', 'por', 'una', 'es', 'lo', 'año', 'para', 'me', 'se', 'israel', 'del', 'ha', 'te', 'este', 'gana', 'mi', 'pero', 'yo', 'su', '#finaleurovision', 'las', 'canción', 'eurovision', 'españa', 'al', 'si', '@manelnmusic:', 'tu', 'nos', 'gallo', 'como', 'han', 'así', 'esto', 'amaia', 'pasado', 'alfred', '-', 'más', 'mucho', 'quedo', 'le', 'ganado', 'último', 'gallina...', 'https://t.co/efvxqbb8jp', 'mejor', 'ya', 'qué', 'está', 'país', 'contra', 'os', 'europa', 'ganadora', 'sin', 'va', 'todos', 'esta', 'memes', 'madre', 'eurovisión', 'puntos', 'antes', 'ser', 'hay', 'nada', 'son', 'viene', 'israel,', 'tiene', 'todo', '@amaia_ot2017', 'porque', 'hasta', 'o', '@alfred_ot2017', 'ni', 'hace', 'años', 'ganar', 'luz', 'actuación', 'siempre', 'les', 'puestos', 'pasillo']\n"
     ]
    },
    {
     "name": "stderr",
     "output_type": "stream",
     "text": [
      "                                                                                \r"
     ]
    }
   ],
   "source": [
    "word_count = (\n",
    "    processed # RDD OF TWEET\n",
    "        .filter(lambda x: x.language == 'es') # filter for Spanish tweets\n",
    "        .flatMap(lambda x: x.content.split()) # from rdd[Tweet] to rdd[str] \n",
    "        .map(lambda x: (x.lower(), 1)) # from rdd[str] to rdd[str, int]\n",
    "        .reduceByKey(lambda x, y: x + y) # reduce to same rdd[str, int]\n",
    "        .sortBy(lambda x: x[1], ascending=False) # sort the output. \n",
    "            # Since it's a pair-rdd, select which element of the pair should be used to order \n",
    "        .map(lambda x :x[0]) # RDD OF STRING\n",
    ")\n",
    "\n",
    "print(word_count.take(100))"
   ]
  },
  {
   "cell_type": "markdown",
   "id": "bd8f427e-f1cc-44dd-97f0-e0d239c6b5e7",
   "metadata": {},
   "source": [
    "This script is to perform a word count operation on the Spanish tweets in the processed RDD, and then output the 100 most frequent words."
   ]
  },
  {
   "cell_type": "code",
   "execution_count": 12,
   "id": "7efa1d15-375c-4fd0-bae7-88af1feb8613",
   "metadata": {
    "tags": []
   },
   "outputs": [
    {
     "name": "stderr",
     "output_type": "stream",
     "text": [
      "[Stage 36:==================================================>     (20 + 2) / 22]\r"
     ]
    },
    {
     "name": "stdout",
     "output_type": "stream",
     "text": [
      "['#eurovision', '#finaleurovision', '#esc2018', '#eurovision2018', '#allaboard', '#israel', '#escita', '#eurovision.', '#isr', '#eurovision:', '#gaza', '#eurocancion', '#amaiaalfred12points', '#finaleurovisión', '#eurovisiongr', '#eurovision…', '#eurovision,', '#finaleu…', '#e…', '#eurovi…', '#eur…', '#metamoroesc2018', '#almaia', '#…', '#netta', '#eurovisi…', '#eurovis…', '#eurov…', '#píntalocántalo', '#metamoro', '#foustanela', '#freepalestine', '#cze', '#czechrepublic', '#yolaidaypa…', '#eurovision?', '#esp', '#cyprus', '#hun', '#toy', '#ukr', '#eu…', '#esf18', '#esc', '#den', '#euro…', '#allaboa…', '#bds', '#евровидение', '#irl', '#ita', '#yolaidaypacho12points', '#cyp', '#por', '#евровидение2018', '#mercy', '#voteisrael', '#eurovisionfinal', '#met…', '#esc18', '#españa', '#hungary', '#eurovisio…', '#freepalestina', '#eurowizja', '#israel.', '#eurovison', '#fin', '#esc2018!', '#nettabarzilai', '#esc2018…', '#eurovision!', '#graciasalfredyamaia', '#am…', '#fortnite', '#france', '#melovin', '#eurovisionsongcontest', '#fuego', '#merovision', '#spain12points', '#estonia', '#savelucifer', '#pickuplucifer', '#nonmiavetefattoniente', '#austria', '#syria', '#israelis', '#portugal', '#paris', '#es…', '#esc2018👏👏👏', '#sweden', '#nonmercy', '#salvadorsobral', '#loveislove', '#alfred', '#telaviv', '#australia', '#europizziadas']\n"
     ]
    },
    {
     "name": "stderr",
     "output_type": "stream",
     "text": [
      "                                                                                \r"
     ]
    }
   ],
   "source": [
    "word_count = (\n",
    "    processed # RDD OF TWEET\n",
    "        .flatMap(lambda x: x.content.split()) # from rdd[Tweet] to rdd[str] \n",
    "        .filter(lambda x: x.startswith('#')) # filter for hashtags\n",
    "        .map(lambda x: (x.lower(), 1)) # from rdd[str] to rdd[str, int]\n",
    "        .reduceByKey(lambda x, y: x + y) # reduce to same rdd[str, int]\n",
    "        .sortBy(lambda x: x[1], ascending=False) # sort the output. \n",
    "            # Since it's a pair-rdd, select which element of the pair should be used to order \n",
    "        .map(lambda x :x[0]) # RDD OF STRING\n",
    ")\n",
    "\n",
    "print(word_count.take(100))"
   ]
  },
  {
   "cell_type": "code",
   "execution_count": 13,
   "id": "ad77236f-65f1-451a-bbfa-7f2f1a03f2a1",
   "metadata": {
    "tags": []
   },
   "outputs": [
    {
     "name": "stderr",
     "output_type": "stream",
     "text": [
      "[Stage 43:==================================================>     (20 + 2) / 22]\r"
     ]
    },
    {
     "name": "stdout",
     "output_type": "stream",
     "text": [
      "[('#eurovision', 64604), ('#finaleurovision', 2845), ('#esc2018', 1977), ('#eurovision2018', 1618), ('#allaboard', 1372), ('#israel', 1328), ('#escita', 838), ('#eurovision.', 542), ('#isr', 360), ('#eurovision:', 346), ('#gaza', 339), ('#eurocancion', 334), ('#amaiaalfred12points', 317), ('#finaleurovisión', 296), ('#eurovisiongr', 283), ('#eurovision…', 281), ('#eurovision,', 278), ('#finaleu…', 252), ('#e…', 215), ('#eurovi…', 213), ('#eur…', 195), ('#metamoroesc2018', 195), ('#almaia', 188), ('#…', 174), ('#netta', 169), ('#eurovisi…', 168), ('#eurovis…', 162), ('#eurov…', 160), ('#píntalocántalo', 159), ('#metamoro', 158), ('#foustanela', 158), ('#freepalestine', 155), ('#cze', 146), ('#czechrepublic', 144), ('#yolaidaypa…', 143), ('#eurovision?', 142), ('#esp', 138), ('#cyprus', 136), ('#hun', 134), ('#toy', 129), ('#ukr', 126), ('#eu…', 121), ('#esf18', 112), ('#esc', 109), ('#den', 108), ('#euro…', 104), ('#allaboa…', 98), ('#bds', 98), ('#евровидение', 88), ('#irl', 88), ('#ita', 87), ('#yolaidaypacho12points', 86), ('#cyp', 85), ('#por', 80), ('#евровидение2018', 78), ('#mercy', 72), ('#voteisrael', 69), ('#eurovisionfinal', 68), ('#met…', 67), ('#esc18', 64), ('#españa', 63), ('#hungary', 62), ('#eurovisio…', 62), ('#freepalestina', 61), ('#eurowizja', 61), ('#israel.', 60), ('#eurovison', 59), ('#fin', 59), ('#esc2018!', 56), ('#nettabarzilai', 55), ('#esc2018…', 54), ('#eurovision!', 54), ('#graciasalfredyamaia', 52), ('#am…', 51), ('#fortnite', 50), ('#france', 50), ('#melovin', 48), ('#eurovisionsongcontest', 48), ('#fuego', 48), ('#merovision', 47), ('#spain12points', 46), ('#estonia', 46), ('#savelucifer', 46), ('#pickuplucifer', 45), ('#nonmiavetefattoniente', 42), ('#austria', 41), ('#syria', 41), ('#israelis', 40), ('#portugal', 39), ('#paris', 39), ('#es…', 39), ('#esc2018👏👏👏', 38), ('#sweden', 38), ('#nonmercy', 37), ('#salvadorsobral', 37), ('#loveislove', 37), ('#alfred', 36), ('#telaviv', 35), ('#australia', 35), ('#europizziadas', 35)]\n"
     ]
    },
    {
     "name": "stderr",
     "output_type": "stream",
     "text": [
      "                                                                                \r"
     ]
    }
   ],
   "source": [
    "word_count = (\n",
    "    processed # RDD OF TWEET\n",
    "        .flatMap(lambda x: x.content.split()) # from rdd[Tweet] to rdd[str] \n",
    "        .filter(lambda x: x[0][0]=='#') # filter for hashtags\n",
    "        .map(lambda x: (x.lower(), 1)) # from rdd[str] to rdd[str, int]\n",
    "        .reduceByKey(lambda x, y: x + y) # reduce to same rdd[str, int]\n",
    "        .sortBy(lambda x: x[1], ascending=False) # sort the output. \n",
    "            # Since it's a pair-rdd, select which element of the pair should be used to order \n",
    "        #.map(lambda x :x[0]) # RDD OF STRING\n",
    ")\n",
    "\n",
    "print(word_count.take(100))"
   ]
  },
  {
   "cell_type": "code",
   "execution_count": 14,
   "id": "d50618bb-6b0d-4757-892a-0067543814df",
   "metadata": {
    "tags": []
   },
   "outputs": [
    {
     "name": "stderr",
     "output_type": "stream",
     "text": [
      "[Stage 50:================================================>       (19 + 2) / 22]\r"
     ]
    },
    {
     "name": "stdout",
     "output_type": "stream",
     "text": [
      "[('rt', 46290), ('#eurovision', 36209), ('de', 24563), ('que', 24539), ('y', 16142), ('a', 16001), ('en', 12437), ('no', 9635), ('un', 8104), ('con', 7897), ('cuando', 6778), ('por', 6320), ('una', 6227), ('es', 6046), ('lo', 5582), ('año', 5342), ('para', 4824), ('me', 4466), ('se', 4382), ('israel', 4369), ('del', 4096), ('ha', 4007), ('te', 3928), ('este', 3770), ('gana', 3744), ('mi', 3701), ('el', 3663), ('pero', 3281), ('la', 3234), ('yo', 3140), ('su', 2762), ('#finaleurovision', 2642), ('las', 2589), ('canción', 2543), ('eurovision', 2479), ('españa', 2475), ('al', 2470), ('si', 2210), ('@manelnmusic:', 2192), ('tu', 2127), ('nos', 1934), ('gallo', 1880), ('como', 1873), ('han', 1833), ('así', 1770), ('esto', 1770), ('amaia', 1763), ('pasado', 1730), ('alfred', 1720), ('-', 1704), ('más', 1697), ('mucho', 1651), ('quedo', 1611), ('le', 1561), ('ganado', 1560), ('último', 1547), ('gallina...', 1501), ('https://t.co/efvxqbb8jp', 1500), ('mejor', 1487), ('ya', 1442), ('qué', 1373), ('está', 1365), ('país', 1356), ('contra', 1316), ('os', 1281), ('los', 1230), ('europa', 1210), ('ganadora', 1206), ('sin', 1161), ('va', 1150), ('todos', 1128), ('esta', 1117), ('memes', 1093), ('madre', 1070), ('eurovisión', 1063), ('puntos', 1048), ('antes', 1046), ('ser', 1031), ('hay', 1015), ('nada', 997), ('son', 995), ('viene', 977), ('israel,', 965), ('tiene', 936), ('todo', 928), ('@amaia_ot2017', 923), ('porque', 883), ('hasta', 881), ('o', 879), ('@alfred_ot2017', 862), ('ni', 856), ('hace', 846), ('años', 843), ('ganar', 808), ('luz', 797), ('actuación', 794), ('siempre', 794), ('les', 792), ('puestos', 789), ('pasillo', 786)]\n"
     ]
    },
    {
     "name": "stderr",
     "output_type": "stream",
     "text": [
      "                                                                                \r"
     ]
    }
   ],
   "source": [
    "word_count = (\n",
    "    processed # RDD OF TWEET\n",
    "        .filter(lambda x: x.language == 'es') # filter for Spanish tweets\n",
    "        .flatMap(lambda x: x.content.split()) # from rdd[Tweet] to rdd[str] \n",
    "        .filter(lambda x: x not in ['el', 'la', 'los'])\n",
    "        .map(lambda x: (x.lower(), 1)) # from rdd[str] to rdd[str, int]\n",
    "        .reduceByKey(lambda x, y: x + y) # reduce to same rdd[str, int]\n",
    "        .sortBy(lambda x: x[1], ascending=False) # sort the output. \n",
    "            # Since it's a pair-rdd, select which element of the pair should be used to order \n",
    "        #.map(lambda x :x[0]) # RDD OF STRING\n",
    ")\n",
    "\n",
    "print(word_count.take(100))"
   ]
  },
  {
   "cell_type": "markdown",
   "id": "fa338ad6",
   "metadata": {},
   "source": [
    "# Questions (Home, Moodle)\n",
    "\n",
    "Estas preguntas se tienen que contestar sobre la colección **entera** de Tweets"
   ]
  },
  {
   "cell_type": "code",
   "execution_count": 10,
   "id": "447123e8-f34b-4a3f-9884-4f55a3f84892",
   "metadata": {
    "tags": []
   },
   "outputs": [],
   "source": [
    "rdd = sc.textFile('s3a://mudab-2025-big-data/twitter-data/Eurovision-*.json')"
   ]
  },
  {
   "cell_type": "code",
   "execution_count": 4,
   "id": "174e582a-303e-4bde-85c5-27b45c6672ae",
   "metadata": {
    "tags": []
   },
   "outputs": [
    {
     "name": "stdout",
     "output_type": "stream",
     "text": [
      "25/02/11 14:41:15 WARN MetricsConfig: Cannot locate configuration: tried hadoop-metrics2-s3a-file-system.properties,hadoop-metrics2.properties\n"
     ]
    },
    {
     "name": "stderr",
     "output_type": "stream",
     "text": [
      "                                                                                \r"
     ]
    },
    {
     "data": {
      "text/plain": [
       "2583345"
      ]
     },
     "execution_count": 4,
     "metadata": {},
     "output_type": "execute_result"
    }
   ],
   "source": [
    "rdd.count()"
   ]
  },
  {
   "cell_type": "code",
   "execution_count": 11,
   "id": "0cc071a7-c0f8-4c90-b57d-28caabaae0cc",
   "metadata": {
    "tags": []
   },
   "outputs": [],
   "source": [
    "from dataclasses import dataclass\n",
    "\n",
    "@dataclass\n",
    "class Tweet:\n",
    "  \"\"\"Class to model a Tweet\"\"\"\n",
    "  id: int         # The unique ID of a tweet\n",
    "  content: str    # The textual content of a tweet\n",
    "  author: str     # The nickname of the author of the tweet\n",
    "  language: str   # The language of the tweet"
   ]
  },
  {
   "cell_type": "code",
   "execution_count": 12,
   "id": "c0185000-1981-492c-8745-c34532dcb6c9",
   "metadata": {
    "tags": []
   },
   "outputs": [],
   "source": [
    "import json\n",
    "\n",
    "def toTweet(line: str): # FROM STRING TO TWEET\n",
    "      try: #TRY-EXCEPT BLOCK\n",
    "        parsed = json.loads(line)\n",
    "        return Tweet(parsed['id'], parsed['text'], parsed['user']['name'], parsed['lang'])\n",
    "      except Exception as e:\n",
    "        return None # IF AN EXCEPTION OCCURS\n",
    "\n",
    "# For small input tests, extract first 10 values\n",
    "#small_data = rdd.take(10) # Takes first 10 elements\n",
    "#input_rdd = sc.parallelize(input_data) # Create an RDD with first 10 elements\n",
    "# for small tests, use small_rdd instead of rdd below     \n",
    "\n",
    "processed = (rdd  # rdd[string]\n",
    "    .map(toTweet) # parse string into Tweet. Return rdd[Tweet]\n",
    "    .filter(lambda x: x is not None) # filter empty values. Return same type (rdd[Tweet])\n",
    ")"
   ]
  },
  {
   "cell_type": "markdown",
   "id": "8a3e928b",
   "metadata": {
    "tags": []
   },
   "source": [
    "## 1. Encuentra las 100 palabras más largas entre los tweets en español"
   ]
  },
  {
   "cell_type": "markdown",
   "id": "169bef6a-95dd-4e49-b6af-8e48ed759af2",
   "metadata": {},
   "source": [
    "When using the `take(100)` we get the first 100 elements of the sorted RDD. So this means that an array of 100 elements is returned, which are the 100 longest words in the RDD."
   ]
  },
  {
   "cell_type": "code",
   "execution_count": 7,
   "id": "19cb3f6c-79d4-4544-9e5c-ec96076d48ff",
   "metadata": {
    "tags": []
   },
   "outputs": [
    {
     "name": "stderr",
     "output_type": "stream",
     "text": [
      "[Stage 3:======================================================>(219 + 1) / 220]\r"
     ]
    },
    {
     "name": "stdout",
     "output_type": "stream",
     "text": [
      "[('jajajajajajajajajajajajajajajajajajajajajajajajajajajajajajajjajajajajajjajajajajjsajaajajajajajajjajajajajajajsjajajajjajj…', 124), ('jajajajajajajajajajajajajajajajajajajajajajajajajajajajajajajjajajajajajjajajajajjsajaajajajajajajjajajajajajajsjajajajjajj…', 124), ('jajajajajajajajajajajajajajajajajajajajajajajajajajajajajajajjajajajajajjajajajajjsajaajajajajajajjajajajajajajsjajajajjajj…', 124), ('hungría&gt;moldavia&gt;&gt;&gt;&gt;&gt;&gt;&gt;&gt;&gt;&gt;&gt;&gt;&gt;&gt;&gt;&gt;&gt;&gt;&gt;&gt;&gt;&gt;&gt;&gt;&gt;resto', 124), ('jajajajajajajajajajajajajajajajajajajajajajajajajajajajajajajajajajajajajajajjjajajajajajajajajajajajajajajajajjjajajajaj…', 122), ('jajajajajajajajajajajajajajajajajajajajajajajajajajajajajajajajajajajajajajajjjajajajajajajajajajajajajajajajajjjajajajaj…', 122), ('jajajajajajajajajajajajajajajajajajajajajajajajajajajajajajajajajajajajajajajjjajajajajajajajajajajajajajajajajjjajajajaj…', 122), ('jajajajajajajajajajajajajajajajajajajajajajajajajajajajajajajajajajajajajajajjjajajajajajajajajajajajajajajajajjjajajajaj…', 122), ('jajajajajajajajajajajajajajajajajajajajajajajajajajajajajajajajajajajajajajajjjajajajajajajajajajajajajajajajajjjajajajaj…', 122), ('jajajajajajajajajajajajajajajajajajajajajajajajajajajajajajajajajajajajajajajjjajajajajajajajajajajajajajajajajjjajajajaj…', 122), ('nooooooooooooooooooooooooooooooooooooooooooooooooooooooooooooooooooooooooooooooooooooooooooooooooooooooooooooooooooooooo', 120), ('nooooooooooooooooooooooooooooooooooooooooooooooooooooooooooooooooooooooooooooooooooooooooooooooooooooooooooooooooooooooo', 120), ('jajajajajajajajajajajajajajajajajajajajajajajajajajajajajajajjajajajajajjajajajajjsajaajajajajajajjajajajajajajsjaj…', 116), ('jajajajajajajajajajajajajajajajajajajajajajajajajajajajajajajajajajajajajajajajajajajajajajajajajajajajajajajajajaj…', 116), ('jajajajajajajajajajajajajajajajajsjsksksksksksksksksskksjakaajajajajahahahahahahahahahahajakakakakakakakakakakakaka…', 116), ('wuajajajajajajajajajajajajajajajajajajajajjajajajajajajajaajjaajjajajajajaajjajajajaajajajajajjajajajajajajajajajaj…', 116), ('vienenlosdelmetalvienenlosdelmetalvienenlosdelmetalvienenlosdelmetalvienenlosdelmetalvienenlosdelmetalvienenlosdelm…', 116), ('jajjjajajajajajajajajjajajsjjjajajajajaajjajajajajajajajajajajajajajajaajajajajajajajajajajajjajaajajjqjajajajajaja…', 116), ('jaaaaaaaaaaaaajaajjaajajjajajajajajajajjajajajajajajajjajajajajajajajjajajajajajajajjajajajajajajajjajajajajajajajj…', 116), ('jajajajajajajajajajajajajajajajajajajajajajajajajajajajajajajajajajajajajajajajajajajajajajajajajajajajajajajajajaj…', 116), ('jajajajajajajajajajajajajajajajajajajajajajajajajajajajajajajajajajajajajajajajajajajajajajajajajajajajajajajajajaj…', 116), ('jajajajajajajajajajajajajajajajajajajajajajajajajajajajajajajajajajajajajajajjjajajajajajajajajajajajajajajajajjjaj…', 116), ('mooooooooooooooooooooooooooooooooooooooooooooooooooooooooooooooooooooooooooooooooooooooooooooooooooooooocasines', 111), ('mooooooooooooooooooooooooooooooooooooooooooooooooooooooooooooooooooooooooooooooooooooooooooooooooooooooocasines', 111), ('mooooooooooooooooooooooooooooooooooooooooooooooooooooooooooooooooooooooooooooooooooooooooooooooooooooooocasines', 111), ('mooooooooooooooooooooooooooooooooooooooooooooooooooooooooooooooooooooooooooooooooooooooooooooooooooooooocasines', 111), ('mooooooooooooooooooooooooooooooooooooooooooooooooooooooooooooooooooooooooooooooooooooooooooooooooooooooocasines', 111), ('mooooooooooooooooooooooooooooooooooooooooooooooooooooooooooooooooooooooooooooooooooooooooooooooooooooooocasines', 111), ('mooooooooooooooooooooooooooooooooooooooooooooooooooooooooooooooooooooooooooooooooooooooooooooooooooooooocasines', 111), ('mooooooooooooooooooooooooooooooooooooooooooooooooooooooooooooooooooooooooooooooooooooooooooooooooooooooocasines', 111), ('mooooooooooooooooooooooooooooooooooooooooooooooooooooooooooooooooooooooooooooooooooooooooooooooooooooooocasines', 111), ('mooooooooooooooooooooooooooooooooooooooooooooooooooooooooooooooooooooooooooooooooooooooooooooooooooooooocasines', 111), ('mooooooooooooooooooooooooooooooooooooooooooooooooooooooooooooooooooooooooooooooooooooooooooooooooooooooocasines', 111), ('mooooooooooooooooooooooooooooooooooooooooooooooooooooooooooooooooooooooooooooooooooooooooooooooooooooooocasines', 111), ('jajajajajajajajajajajajakakajajajajajajajajsjahajajajajakakajakajajajajajajajaajjsjaajjaajajajajajsjsjajajajsjs', 111), ('mooooooooooooooooooooooooooooooooooooooooooooooooooooooooooooooooooooooooooooooooooooooooooooooooooooooocasines', 111), ('mooooooooooooooooooooooooooooooooooooooooooooooooooooooooooooooooooooooooooooooooooooooooooooooooooooooocasines', 111), ('mooooooooooooooooooooooooooooooooooooooooooooooooooooooooooooooooooooooooooooooooooooooooooooooooooooooocasines', 111), ('mooooooooooooooooooooooooooooooooooooooooooooooooooooooooooooooooooooooooooooooooooooooooooooooooooooooocasines', 111), ('mooooooooooooooooooooooooooooooooooooooooooooooooooooooooooooooooooooooooooooooooooooooooooooooooooooooocasines', 111), ('mooooooooooooooooooooooooooooooooooooooooooooooooooooooooooooooooooooooooooooooooooooooooooooooooooooooocasines', 111), ('mooooooooooooooooooooooooooooooooooooooooooooooooooooooooooooooooooooooooooooooooooooooooooooooooooooooocasines', 111), ('mooooooooooooooooooooooooooooooooooooooooooooooooooooooooooooooooooooooooooooooooooooooooooooooooooooooocasines', 111), ('mooooooooooooooooooooooooooooooooooooooooooooooooooooooooooooooooooooooooooooooooooooooooooooooooooooooocasines', 111), ('mooooooooooooooooooooooooooooooooooooooooooooooooooooooooooooooooooooooooooooooooooooooooooooooooooooooocasines', 111), ('mooooooooooooooooooooooooooooooooooooooooooooooooooooooooooooooooooooooooooooooooooooooooooooooooooooooocasines', 111), ('mooooooooooooooooooooooooooooooooooooooooooooooooooooooooooooooooooooooooooooooooooooooooooooooooooooooocasines', 111), ('mooooooooooooooooooooooooooooooooooooooooooooooooooooooooooooooooooooooooooooooooooooooooooooooooooooooocasines', 111), ('mooooooooooooooooooooooooooooooooooooooooooooooooooooooooooooooooooooooooooooooooooooooooooooooooooooooocasines', 111), ('mooooooooooooooooooooooooooooooooooooooooooooooooooooooooooooooooooooooooooooooooooooooooooooooooooooooocasines', 111), ('mooooooooooooooooooooooooooooooooooooooooooooooooooooooooooooooooooooooooooooooooooooooooooooooooooooooocasines', 111), ('mooooooooooooooooooooooooooooooooooooooooooooooooooooooooooooooooooooooooooooooooooooooooooooooooooooooocasines', 111), ('mooooooooooooooooooooooooooooooooooooooooooooooooooooooooooooooooooooooooooooooooooooooooooooooooooooooocasines', 111), ('jajajajajajajajajajajajajajajajajajaajajajajajajajajajajajajajajajajajajajajajajajajajajajajajajajajaajajajajaj', 111), ('mooooooooooooooooooooooooooooooooooooooooooooooooooooooooooooooooooooooooooooooooooooooooooooooooooooooocasines', 111), ('mooooooooooooooooooooooooooooooooooooooooooooooooooooooooooooooooooooooooooooooooooooooooooooooooooooooocasines', 111), ('mooooooooooooooooooooooooooooooooooooooooooooooooooooooooooooooooooooooooooooooooooooooooooooooooooooooocasines', 111), ('mooooooooooooooooooooooooooooooooooooooooooooooooooooooooooooooooooooooooooooooooooooooooooooooooooooooocasines', 111), ('mooooooooooooooooooooooooooooooooooooooooooooooooooooooooooooooooooooooooooooooooooooooooooooooooooooooocasines', 111), ('mooooooooooooooooooooooooooooooooooooooooooooooooooooooooooooooooooooooooooooooooooooooooooooooooooooooocasines', 111), ('mooooooooooooooooooooooooooooooooooooooooooooooooooooooooooooooooooooooooooooooooooooooooooooooooooooooocasines', 111), ('mooooooooooooooooooooooooooooooooooooooooooooooooooooooooooooooooooooooooooooooooooooooooooooooooooooooocasines', 111), ('mooooooooooooooooooooooooooooooooooooooooooooooooooooooooooooooooooooooooooooooooooooooooooooooooooooooocasines', 111), ('jajajajananjajajajajajajajajajajajjajajajajajajajajajjaajjajajaajjajahahahahahajajajajajajajajajajajajaja', 105), ('&gt;&gt;&gt;&gt;&gt;&gt;&gt;&gt;&gt;&gt;&gt;&gt;&gt;&gt;&gt;&gt;&gt;&gt;&gt;&gt;&gt;&gt;&gt;&gt;&gt;la', 102), ('jjajajajajajajajajajajajajajajajajajajajajajajajajajajajajajajajajajajajajajajajajajajajajajajajajajaj', 102), ('jajjjajjajjajajjajajajajajjaujjajajajajjajajajajajjajajjuajajjujjuajajjauajauajujajujajajajjajajjaja…', 101), ('jajajajajajaajajajajajajajjajajajajajajajjajajajajajaajajajajjajajajajajajajajjajajajajajajajaaja', 97), ('jajajajajajajajjajajajajajajajajajajajajajajajajajajajajajajajajajajajajajajajajajajajajajajajj…', 96), ('jajajajajajajajjajajajajajajajajajajajajajajajajajajajajajajajajajajajajajajajajajajajajajajajj…', 96), ('puaaaajajajajajajjajajajajajajajajjajajajajajajajajajajajajajajajajajjajajajajsjajajjajajsjsja', 94), ('aaaaaaaaaaaaaaaaaaaaaaaaajajajajajajjajajajajajajjajajajajajjajajajjajajajajajajajajajjajajaj', 93), ('jajajajajajajajajajajajajajajajajajajaajajajjaajjaajajajajajajajajajajajajaajajajajajaja…', 89), ('😂😂😂😂😂😂😂😂😂😂😂😂😂😂😂😂😂😂😂😂😂😂😂😂😂😂😂😂😂😂😂😂😂😂😂😂😂😂😂😂😂😂😂😂😂😂😂😂😂😂😂😂😂😂😂😂😂😂😂😂😂😂😂😂😂😂😂😂😂😂😂😂😂😂😂😂😂😂😂😂😂😂😂😂😂😂😂😂…', 89), ('jajajjajajajajajajajajajjajajajajajajjaajjajajajajajajajajajjajajajajajajajajajajajjajaja', 89), ('jajajajajajajajahahajaahhahajajajajajajajajajajajajajajajajajajajajajajajajajajajajajjaja', 89), ('jajajajajajajajahahajaahhahajajajajajajajajajajajajajajajajajajajajajajajajajajajajajjaja', 89), ('saliiiiiiiiiiiiiiiiiiiiiiiiiiiiiiiiiiiiiiiiiiiiiiiiiiiiiiiiiiiiiiiiiiiiiiiiiiiiiiiiiiii…', 88), ('saliiiiiiiiiiiiiiiiiiiiiiiiiiiiiiiiiiiiiiiiiiiiiiiiiiiiiiiiiiiiiiiiiiiiiiiiiiiiiiiiiiii…', 88), ('saliiiiiiiiiiiiiiiiiiiiiiiiiiiiiiiiiiiiiiiiiiiiiiiiiiiiiiiiiiiiiiiiiiiiiiiiiiiiiiiiiiii…', 88), ('saliiiiiiiiiiiiiiiiiiiiiiiiiiiiiiiiiiiiiiiiiiiiiiiiiiiiiiiiiiiiiiiiiiiiiiiiiiiiiiiiiiii…', 88), ('saliiiiiiiiiiiiiiiiiiiiiiiiiiiiiiiiiiiiiiiiiiiiiiiiiiiiiiiiiiiiiiiiiiiiiiiiiiiiiiiiiiii…', 88), ('saliiiiiiiiiiiiiiiiiiiiiiiiiiiiiiiiiiiiiiiiiiiiiiiiiiiiiiiiiiiiiiiiiiiiiiiiiiiiiiiiiiii…', 88), ('saliiiiiiiiiiiiiiiiiiiiiiiiiiiiiiiiiiiiiiiiiiiiiiiiiiiiiiiiiiiiiiiiiiiiiiiiiiiiiiiiiiii…', 88), ('saliiiiiiiiiiiiiiiiiiiiiiiiiiiiiiiiiiiiiiiiiiiiiiiiiiiiiiiiiiiiiiiiiiiiiiiiiiiiiiiiiiii…', 88), ('saliiiiiiiiiiiiiiiiiiiiiiiiiiiiiiiiiiiiiiiiiiiiiiiiiiiiiiiiiiiiiiiiiiiiiiiiiiiiiiiiiiii…', 88), ('saliiiiiiiiiiiiiiiiiiiiiiiiiiiiiiiiiiiiiiiiiiiiiiiiiiiiiiiiiiiiiiiiiiiiiiiiiiiiiiiiiiii…', 88), ('saliiiiiiiiiiiiiiiiiiiiiiiiiiiiiiiiiiiiiiiiiiiiiiiiiiiiiiiiiiiiiiiiiiiiiiiiiiiiiiiiiiii…', 88), ('saliiiiiiiiiiiiiiiiiiiiiiiiiiiiiiiiiiiiiiiiiiiiiiiiiiiiiiiiiiiiiiiiiiiiiiiiiiiiiiiiiiii…', 88), ('saliiiiiiiiiiiiiiiiiiiiiiiiiiiiiiiiiiiiiiiiiiiiiiiiiiiiiiiiiiiiiiiiiiiiiiiiiiiiiiiiiiii…', 88), ('saliiiiiiiiiiiiiiiiiiiiiiiiiiiiiiiiiiiiiiiiiiiiiiiiiiiiiiiiiiiiiiiiiiiiiiiiiiiiiiiiiiii…', 88), ('saliiiiiiiiiiiiiiiiiiiiiiiiiiiiiiiiiiiiiiiiiiiiiiiiiiiiiiiiiiiiiiiiiiiiiiiiiiiiiiiiiiii…', 88), ('saliiiiiiiiiiiiiiiiiiiiiiiiiiiiiiiiiiiiiiiiiiiiiiiiiiiiiiiiiiiiiiiiiiiiiiiiiiiiiiiiiiii…', 88), ('saliiiiiiiiiiiiiiiiiiiiiiiiiiiiiiiiiiiiiiiiiiiiiiiiiiiiiiiiiiiiiiiiiiiiiiiiiiiiiiiiiiii…', 88), ('saliiiiiiiiiiiiiiiiiiiiiiiiiiiiiiiiiiiiiiiiiiiiiiiiiiiiiiiiiiiiiiiiiiiiiiiiiiiiiiiiiiii…', 88), ('saliiiiiiiiiiiiiiiiiiiiiiiiiiiiiiiiiiiiiiiiiiiiiiiiiiiiiiiiiiiiiiiiiiiiiiiiiiiiiiiiiiii…', 88), ('saliiiiiiiiiiiiiiiiiiiiiiiiiiiiiiiiiiiiiiiiiiiiiiiiiiiiiiiiiiiiiiiiiiiiiiiiiiiiiiiiiiii…', 88), ('saliiiiiiiiiiiiiiiiiiiiiiiiiiiiiiiiiiiiiiiiiiiiiiiiiiiiiiiiiiiiiiiiiiiiiiiiiiiiiiiiiiii…', 88), ('saliiiiiiiiiiiiiiiiiiiiiiiiiiiiiiiiiiiiiiiiiiiiiiiiiiiiiiiiiiiiiiiiiiiiiiiiiiiiiiiiiiii…', 88), ('saliiiiiiiiiiiiiiiiiiiiiiiiiiiiiiiiiiiiiiiiiiiiiiiiiiiiiiiiiiiiiiiiiiiiiiiiiiiiiiiiiiii…', 88)]\n"
     ]
    },
    {
     "name": "stderr",
     "output_type": "stream",
     "text": [
      "                                                                                \r"
     ]
    }
   ],
   "source": [
    "from pyspark.sql.functions import length\n",
    "\n",
    "word_count = (\n",
    "    processed # RDD OF TWEET\n",
    "        .filter(lambda x: x.language == 'es') # filter for Spanish tweets\n",
    "        .flatMap(lambda x: x.content.split()) # from rdd[Tweet] to rdd[str]\n",
    "        .map(lambda x: (x.lower(), len(x))) # from rdd[str] to rdd[str, int]\n",
    "        .sortBy(lambda x: x[1], ascending=False) # sort by word length in descending order\n",
    "        .take(100) # take the top 100 longest words\n",
    ")\n",
    "\n",
    "print(word_count)"
   ]
  },
  {
   "cell_type": "markdown",
   "id": "9be94f0f-c052-4bba-b7af-76638ed04f8c",
   "metadata": {},
   "source": [
    "The `take(100)` is appplied after the RDD has been sorted. So this means that an array of 100 elements is returned, which are the 100 longest words in the RDD."
   ]
  },
  {
   "cell_type": "code",
   "execution_count": 15,
   "id": "7c1664c3-c181-41d2-b4db-dc503aae914a",
   "metadata": {
    "tags": []
   },
   "outputs": [
    {
     "name": "stderr",
     "output_type": "stream",
     "text": [
      "[Stage 19:==================================================>     (20 + 2) / 22]\r"
     ]
    },
    {
     "name": "stdout",
     "output_type": "stream",
     "text": [
      "[('jajajajajajajajajajajajajajajajajajajajajajajajajajajajajajajjajajajajajjajajajajjsajaajajajajajajjajajajajajajsjajajajjajj…', 124), ('jajajajajajajajajajajajajajajajajajajajajajajajajajajajajajajjajajajajajjajajajajjsajaajajajajajajjajajajajajajsjajajajjajj…', 124), ('jajajajajajajajajajajajajajajajajajajajajajajajajajajajajajajajajajajajajajajjjajajajajajajajajajajajajajajajajjjajajajaj…', 122), ('jajajajajajajajajajajajajajajajajajajajajajajajajajajajajajajajajajajajajajajjjajajajajajajajajajajajajajajajajjjajajajaj…', 122), ('jajajajajajajajajajajajajajajajajajajajajajajajajajajajajajajajajajajajajajajjjajajajajajajajajajajajajajajajajjjajajajaj…', 122), ('jajajajajajajajajajajajajajajajajajajajajajajajajajajajajajajjajajajajajjajajajajjsajaajajajajajajjajajajajajajsjaj…', 116), ('jajajajajajajajajajajajajajajajajajajajajajajajajajajajajajajajajajajajajajajajajajajajajajajajajajajajajajajajajaj…', 116), ('mooooooooooooooooooooooooooooooooooooooooooooooooooooooooooooooooooooooooooooooooooooooooooooooooooooooocasines', 111), ('mooooooooooooooooooooooooooooooooooooooooooooooooooooooooooooooooooooooooooooooooooooooooooooooooooooooocasines', 111), ('mooooooooooooooooooooooooooooooooooooooooooooooooooooooooooooooooooooooooooooooooooooooooooooooooooooooocasines', 111), ('mooooooooooooooooooooooooooooooooooooooooooooooooooooooooooooooooooooooooooooooooooooooooooooooooooooooocasines', 111), ('mooooooooooooooooooooooooooooooooooooooooooooooooooooooooooooooooooooooooooooooooooooooooooooooooooooooocasines', 111), ('mooooooooooooooooooooooooooooooooooooooooooooooooooooooooooooooooooooooooooooooooooooooooooooooooooooooocasines', 111), ('jajajajajajajajjajajajajajajajajajajajajajajajajajajajajajajajajajajajajajajajajajajajajajajajj…', 96), ('jajajajajajajajjajajajajajajajajajajajajajajajajajajajajajajajajajajajajajajajajajaj…', 85), ('🇮🇱🇮🇱🇮🇱🇮🇱🇮🇱🇮🇱🇮🇱🇮🇱🇮🇱🇮🇱🇮🇱🇮🇱🇮🇱🇮🇱🇮🇱🇮🇱🇮🇱🇮🇱🇮🇱🇮🇱🇮🇱🇮🇱🇮🇱🇮🇱🇮🇱🇮🇱🇮🇱🇮🇱🇮🇱🇮🇱🇮🇱🇮🇱🇮🇱🇮🇱🇮🇱🇮🇱🇮🇱🇮🇱…', 77), ('👏👏👏👏👏👏👏👏👏👏👏👏👏👏👏👏👏👏👏👏👏👏👏👏👏👏👏👏👏👏👏👏👏👏👏👏👏👏👏👏👏👏👏👏👏👏👏👏👏👏👏👏👏👏👏👏👏👏👏👏👏👏👏👏👏👏👏👏👏', 69), ('👏👏👏👏👏👏👏👏👏👏👏👏👏👏👏👏👏👏👏👏👏👏👏👏👏👏👏👏👏👏👏👏👏👏👏👏👏👏👏👏👏👏👏👏👏👏👏👏👏👏👏👏👏👏👏👏👏👏👏👏👏👏👏👏👏👏👏👏👏', 69), ('👏👏👏👏👏👏👏👏👏👏👏👏👏👏👏👏👏👏👏👏👏👏👏👏👏👏👏👏👏👏👏👏👏👏👏👏👏👏👏👏👏👏👏👏👏👏👏👏👏👏👏👏👏👏👏👏👏👏👏👏👏👏👏👏👏👏👏👏👏', 69), ('👏👏👏👏👏👏👏👏👏👏👏👏👏👏👏👏👏👏👏👏👏👏👏👏👏👏👏👏👏👏👏👏👏👏👏👏👏👏👏👏👏👏👏👏👏👏👏👏👏👏👏👏👏👏👏👏👏👏👏👏👏👏👏👏👏👏👏👏👏', 69), ('👏👏👏👏👏👏👏👏👏👏👏👏👏👏👏👏👏👏👏👏👏👏👏👏👏👏👏👏👏👏👏👏👏👏👏👏👏👏👏👏👏👏👏👏👏👏👏👏👏👏👏👏👏👏👏👏👏👏👏👏👏👏👏👏👏👏👏👏👏', 69), ('👏👏👏👏👏👏👏👏👏👏👏👏👏👏👏👏👏👏👏👏👏👏👏👏👏👏👏👏👏👏👏👏👏👏👏👏👏👏👏👏👏👏👏👏👏👏👏👏👏👏👏👏👏👏👏👏👏👏👏👏👏👏👏👏👏👏👏👏👏', 69), ('👏👏👏👏👏👏👏👏👏👏👏👏👏👏👏👏👏👏👏👏👏👏👏👏👏👏👏👏👏👏👏👏👏👏👏👏👏👏👏👏👏👏👏👏👏👏👏👏👏👏👏👏👏👏👏👏👏👏👏👏👏👏👏👏👏👏👏👏👏', 69), ('💪💪💪💪💪🏳️\\u200d🌈🏳️\\u200d🌈🏳️\\u200d🌈🏳️\\u200d🌈🏳️\\u200d🌈🏳️\\u200d🌈🏳️\\u200d🌈🏳️\\u200d🌈🏳️\\u200d🌈🏳️\\u200d🌈🏳️\\u200d🌈🏳️\\u200d🌈🏳️\\u200d🌈🏳️\\u200d🌈🏳️\\u200d🌈🏳️\\u200d🌈', 69), ('👏👏👏👏👏👏👏👏👏👏👏👏👏👏👏👏👏👏👏👏👏👏👏👏👏👏👏👏👏👏👏👏👏👏👏👏👏👏👏👏👏👏👏👏👏👏👏👏👏👏👏👏👏👏👏👏👏👏👏👏👏👏👏👏👏👏👏👏👏', 69), ('jajajajajajajaajajajajajakjajajajaajjajajajajajajajajajajaja', 60), ('jajajajajajajjaajjajajajjajajajajjajaajajaaajajajjajajaja', 57), ('jajajajajjajajajajajajajajajajajajajajajajajjajajajajaja', 56), ('jajajajajajajajajajajajajajajajajajajajajajajaajaja!!!!', 55), ('puajajajajajajajajajajaajajajajajajajajajajajajaja', 50), ('puajajajajajajajajajajaajajajajajajajajajajajajaja', 50), ('puajajajajajajajajajajaajajajajajajajajajajajajaja', 50), ('puajajajajajajajajajajaajajajajajajajajajajajajaja', 50), ('impresentable,manipulador,vomitivo,depredador,un', 48), ('jajajajajajjajajjajajajajajajaajajajajajajajaj', 46), ('#elredactordevertelenoestáemocionadoninadaeh…', 45), ('hornitorrincoooooooooooooooooooooooooooooooo', 44), ('hornitorrincoooooooooooooooooooooooooooooooo', 44), ('hornitorrincoooooooooooooooooooooooooooooooo', 44), ('hornitorrincoooooooooooooooooooooooooooooooo', 44), ('hornitorrincoooooooooooooooooooooooooooooooo', 44), ('hornitorrincoooooooooooooooooooooooooooooooo', 44), ('hornitorrincoooooooooooooooooooooooooooooooo', 44), ('hornitorrincoooooooooooooooooooooooooooooooo', 44), ('hornitorrincoooooooooooooooooooooooooooooooo', 44), ('hornitorrincoooooooooooooooooooooooooooooooo', 44), ('hornitorrincoooooooooooooooooooooooooooooooo', 44), ('hornitorrincoooooooooooooooooooooooooooooooo', 44), ('hornitorrincoooooooooooooooooooooooooooooooo', 44), ('hornitorrincoooooooooooooooooooooooooooooooo', 44), ('hornitorrincoooooooooooooooooooooooooooooooo', 44), ('hornitorrincoooooooooooooooooooooooooooooooo', 44), ('hornitorrincoooooooooooooooooooooooooooooooo', 44), ('hornitorrincoooooooooooooooooooooooooooooooo', 44), ('hornitorrincoooooooooooooooooooooooooooooooo', 44), ('hornitorrincoooooooooooooooooooooooooooooooo', 44), ('hornitorrincoooooooooooooooooooooooooooooooo', 44), ('hornitorrincoooooooooooooooooooooooooooooooo', 44), ('hornitorrincoooooooooooooooooooooooooooooooo', 44), ('hornitorrincoooooooooooooooooooooooooooooooo', 44), ('hornitorrincoooooooooooooooooooooooooooooooo', 44), ('hornitorrincoooooooooooooooooooooooooooooooo', 44), ('hornitorrincoooooooooooooooooooooooooooooooo', 44), ('hornitorrincoooooooooooooooooooooooooooooooo', 44), ('hornitorrincoooooooooooooooooooooooooooooooo', 44), ('hornitorrincoooooooooooooooooooooooooooooooo', 44), ('hornitorrincoooooooooooooooooooooooooooooooo', 44), ('hornitorrincoooooooooooooooooooooooooooooooo', 44), ('hornitorrincoooooooooooooooooooooooooooooooo', 44), ('hornitorrincoooooooooooooooooooooooooooooooo', 44), ('hornitorrincoooooooooooooooooooooooooooooooo', 44), ('hornitorrincoooooooooooooooooooooooooooooooo', 44), ('hornitorrincoooooooooooooooooooooooooooooooo', 44), ('hornitorrincoooooooooooooooooooooooooooooooo', 44), ('hornitorrincoooooooooooooooooooooooooooooooo', 44), ('hornitorrincoooooooooooooooooooooooooooooooo', 44), ('hornitorrincoooooooooooooooooooooooooooooooo', 44), ('hornitorrincoooooooooooooooooooooooooooooooo', 44), ('hornitorrincoooooooooooooooooooooooooooooooo', 44), ('hornitorrincoooooooooooooooooooooooooooooooo', 44), ('hornitorrincoooooooooooooooooooooooooooooooo', 44), ('hornitorrincoooooooooooooooooooooooooooooooo', 44), ('hornitorrincoooooooooooooooooooooooooooooooo', 44), ('hornitorrincoooooooooooooooooooooooooooooooo', 44), ('hornitorrincoooooooooooooooooooooooooooooooo', 44), ('hornitorrincoooooooooooooooooooooooooooooooo', 44), ('hornitorrincoooooooooooooooooooooooooooooooo', 44), ('hornitorrincoooooooooooooooooooooooooooooooo', 44), ('hornitorrincoooooooooooooooooooooooooooooooo', 44), ('hornitorrincoooooooooooooooooooooooooooooooo', 44), ('hornitorrincoooooooooooooooooooooooooooooooo', 44), ('hornitorrincoooooooooooooooooooooooooooooooo', 44), ('hornitorrincoooooooooooooooooooooooooooooooo', 44), ('hornitorrincoooooooooooooooooooooooooooooooo', 44), ('hornitorrincoooooooooooooooooooooooooooooooo', 44), ('hornitorrincoooooooooooooooooooooooooooooooo', 44), ('hornitorrincoooooooooooooooooooooooooooooooo', 44), ('hornitorrincoooooooooooooooooooooooooooooooo', 44), ('hornitorrincoooooooooooooooooooooooooooooooo', 44), ('hornitorrincoooooooooooooooooooooooooooooooo', 44)]\n"
     ]
    },
    {
     "name": "stderr",
     "output_type": "stream",
     "text": [
      "                                                                                \r"
     ]
    }
   ],
   "source": [
    "from pyspark.sql.functions import length\n",
    "\n",
    "longest_word = (\n",
    "    processed # RDD OF TWEET\n",
    "        .filter(lambda x: x.language == 'es') # filter for Spanish tweets\n",
    "        .flatMap(lambda x: x.content.split()) # from rdd[Tweet] to rdd[str]\n",
    "        .map(lambda x: (x.lower(), len(x))) # from rdd[str] to rdd[str, int]\n",
    "        .sortBy(lambda x: x[1], ascending=False) # sort by word length in descending order\n",
    ")\n",
    "\n",
    "print(longest_word.take(100))"
   ]
  },
  {
   "cell_type": "markdown",
   "id": "b4f07577-b94b-4e05-bb8f-a90823ff261e",
   "metadata": {},
   "source": [
    "Most efficient way bc of `top(100, key=lambda x: x[1])`. By using this method we will get the 100 longest words in the RDD. So this means that an array of 100 elements is returned, which are the 100 longest words in the RDD, sorted by word length. "
   ]
  },
  {
   "cell_type": "code",
   "execution_count": 16,
   "id": "9f16797e-b368-420b-a183-ae5a4b32ddb7",
   "metadata": {
    "tags": []
   },
   "outputs": [
    {
     "name": "stderr",
     "output_type": "stream",
     "text": [
      "[Stage 21:==================================================>     (20 + 2) / 22]\r"
     ]
    },
    {
     "name": "stdout",
     "output_type": "stream",
     "text": [
      "[('jajajajajajajajajajajajajajajajajajajajajajajajajajajajajajajjajajajajajjajajajajjsajaajajajajajajjajajajajajajsjajajajjajj…', 124), ('jajajajajajajajajajajajajajajajajajajajajajajajajajajajajajajjajajajajajjajajajajjsajaajajajajajajjajajajajajajsjajajajjajj…', 124), ('jajajajajajajajajajajajajajajajajajajajajajajajajajajajajajajajajajajajajajajjjajajajajajajajajajajajajajajajajjjajajajaj…', 122), ('jajajajajajajajajajajajajajajajajajajajajajajajajajajajajajajajajajajajajajajjjajajajajajajajajajajajajajajajajjjajajajaj…', 122), ('jajajajajajajajajajajajajajajajajajajajajajajajajajajajajajajajajajajajajajajjjajajajajajajajajajajajajajajajajjjajajajaj…', 122), ('jajajajajajajajajajajajajajajajajajajajajajajajajajajajajajajjajajajajajjajajajajjsajaajajajajajajjajajajajajajsjaj…', 116), ('jajajajajajajajajajajajajajajajajajajajajajajajajajajajajajajajajajajajajajajajajajajajajajajajajajajajajajajajajaj…', 116), ('mooooooooooooooooooooooooooooooooooooooooooooooooooooooooooooooooooooooooooooooooooooooooooooooooooooooocasines', 111), ('mooooooooooooooooooooooooooooooooooooooooooooooooooooooooooooooooooooooooooooooooooooooooooooooooooooooocasines', 111), ('mooooooooooooooooooooooooooooooooooooooooooooooooooooooooooooooooooooooooooooooooooooooooooooooooooooooocasines', 111), ('mooooooooooooooooooooooooooooooooooooooooooooooooooooooooooooooooooooooooooooooooooooooooooooooooooooooocasines', 111), ('mooooooooooooooooooooooooooooooooooooooooooooooooooooooooooooooooooooooooooooooooooooooooooooooooooooooocasines', 111), ('mooooooooooooooooooooooooooooooooooooooooooooooooooooooooooooooooooooooooooooooooooooooooooooooooooooooocasines', 111), ('jajajajajajajajjajajajajajajajajajajajajajajajajajajajajajajajajajajajajajajajajajajajajajajajj…', 96), ('jajajajajajajajjajajajajajajajajajajajajajajajajajajajajajajajajajajajajajajajajajaj…', 85), ('🇮🇱🇮🇱🇮🇱🇮🇱🇮🇱🇮🇱🇮🇱🇮🇱🇮🇱🇮🇱🇮🇱🇮🇱🇮🇱🇮🇱🇮🇱🇮🇱🇮🇱🇮🇱🇮🇱🇮🇱🇮🇱🇮🇱🇮🇱🇮🇱🇮🇱🇮🇱🇮🇱🇮🇱🇮🇱🇮🇱🇮🇱🇮🇱🇮🇱🇮🇱🇮🇱🇮🇱🇮🇱🇮🇱…', 77), ('👏👏👏👏👏👏👏👏👏👏👏👏👏👏👏👏👏👏👏👏👏👏👏👏👏👏👏👏👏👏👏👏👏👏👏👏👏👏👏👏👏👏👏👏👏👏👏👏👏👏👏👏👏👏👏👏👏👏👏👏👏👏👏👏👏👏👏👏👏', 69), ('👏👏👏👏👏👏👏👏👏👏👏👏👏👏👏👏👏👏👏👏👏👏👏👏👏👏👏👏👏👏👏👏👏👏👏👏👏👏👏👏👏👏👏👏👏👏👏👏👏👏👏👏👏👏👏👏👏👏👏👏👏👏👏👏👏👏👏👏👏', 69), ('👏👏👏👏👏👏👏👏👏👏👏👏👏👏👏👏👏👏👏👏👏👏👏👏👏👏👏👏👏👏👏👏👏👏👏👏👏👏👏👏👏👏👏👏👏👏👏👏👏👏👏👏👏👏👏👏👏👏👏👏👏👏👏👏👏👏👏👏👏', 69), ('👏👏👏👏👏👏👏👏👏👏👏👏👏👏👏👏👏👏👏👏👏👏👏👏👏👏👏👏👏👏👏👏👏👏👏👏👏👏👏👏👏👏👏👏👏👏👏👏👏👏👏👏👏👏👏👏👏👏👏👏👏👏👏👏👏👏👏👏👏', 69), ('👏👏👏👏👏👏👏👏👏👏👏👏👏👏👏👏👏👏👏👏👏👏👏👏👏👏👏👏👏👏👏👏👏👏👏👏👏👏👏👏👏👏👏👏👏👏👏👏👏👏👏👏👏👏👏👏👏👏👏👏👏👏👏👏👏👏👏👏👏', 69), ('👏👏👏👏👏👏👏👏👏👏👏👏👏👏👏👏👏👏👏👏👏👏👏👏👏👏👏👏👏👏👏👏👏👏👏👏👏👏👏👏👏👏👏👏👏👏👏👏👏👏👏👏👏👏👏👏👏👏👏👏👏👏👏👏👏👏👏👏👏', 69), ('👏👏👏👏👏👏👏👏👏👏👏👏👏👏👏👏👏👏👏👏👏👏👏👏👏👏👏👏👏👏👏👏👏👏👏👏👏👏👏👏👏👏👏👏👏👏👏👏👏👏👏👏👏👏👏👏👏👏👏👏👏👏👏👏👏👏👏👏👏', 69), ('💪💪💪💪💪🏳️\\u200d🌈🏳️\\u200d🌈🏳️\\u200d🌈🏳️\\u200d🌈🏳️\\u200d🌈🏳️\\u200d🌈🏳️\\u200d🌈🏳️\\u200d🌈🏳️\\u200d🌈🏳️\\u200d🌈🏳️\\u200d🌈🏳️\\u200d🌈🏳️\\u200d🌈🏳️\\u200d🌈🏳️\\u200d🌈🏳️\\u200d🌈', 69), ('👏👏👏👏👏👏👏👏👏👏👏👏👏👏👏👏👏👏👏👏👏👏👏👏👏👏👏👏👏👏👏👏👏👏👏👏👏👏👏👏👏👏👏👏👏👏👏👏👏👏👏👏👏👏👏👏👏👏👏👏👏👏👏👏👏👏👏👏👏', 69), ('jajajajajajajaajajajajajakjajajajaajjajajajajajajajajajajaja', 60), ('jajajajajajajjaajjajajajjajajajajjajaajajaaajajajjajajaja', 57), ('jajajajajjajajajajajajajajajajajajajajajajajjajajajajaja', 56), ('jajajajajajajajajajajajajajajajajajajajajajajaajaja!!!!', 55), ('puajajajajajajajajajajaajajajajajajajajajajajajaja', 50), ('puajajajajajajajajajajaajajajajajajajajajajajajaja', 50), ('puajajajajajajajajajajaajajajajajajajajajajajajaja', 50), ('puajajajajajajajajajajaajajajajajajajajajajajajaja', 50), ('impresentable,manipulador,vomitivo,depredador,un', 48), ('jajajajajajjajajjajajajajajajaajajajajajajajaj', 46), ('#elredactordevertelenoestáemocionadoninadaeh…', 45), ('hornitorrincoooooooooooooooooooooooooooooooo', 44), ('hornitorrincoooooooooooooooooooooooooooooooo', 44), ('hornitorrincoooooooooooooooooooooooooooooooo', 44), ('hornitorrincoooooooooooooooooooooooooooooooo', 44), ('hornitorrincoooooooooooooooooooooooooooooooo', 44), ('hornitorrincoooooooooooooooooooooooooooooooo', 44), ('hornitorrincoooooooooooooooooooooooooooooooo', 44), ('hornitorrincoooooooooooooooooooooooooooooooo', 44), ('hornitorrincoooooooooooooooooooooooooooooooo', 44), ('hornitorrincoooooooooooooooooooooooooooooooo', 44), ('hornitorrincoooooooooooooooooooooooooooooooo', 44), ('hornitorrincoooooooooooooooooooooooooooooooo', 44), ('hornitorrincoooooooooooooooooooooooooooooooo', 44), ('hornitorrincoooooooooooooooooooooooooooooooo', 44), ('hornitorrincoooooooooooooooooooooooooooooooo', 44), ('hornitorrincoooooooooooooooooooooooooooooooo', 44), ('hornitorrincoooooooooooooooooooooooooooooooo', 44), ('hornitorrincoooooooooooooooooooooooooooooooo', 44), ('hornitorrincoooooooooooooooooooooooooooooooo', 44), ('hornitorrincoooooooooooooooooooooooooooooooo', 44), ('hornitorrincoooooooooooooooooooooooooooooooo', 44), ('hornitorrincoooooooooooooooooooooooooooooooo', 44), ('hornitorrincoooooooooooooooooooooooooooooooo', 44), ('hornitorrincoooooooooooooooooooooooooooooooo', 44), ('hornitorrincoooooooooooooooooooooooooooooooo', 44), ('hornitorrincoooooooooooooooooooooooooooooooo', 44), ('hornitorrincoooooooooooooooooooooooooooooooo', 44), ('hornitorrincoooooooooooooooooooooooooooooooo', 44), ('hornitorrincoooooooooooooooooooooooooooooooo', 44), ('hornitorrincoooooooooooooooooooooooooooooooo', 44), ('hornitorrincoooooooooooooooooooooooooooooooo', 44), ('hornitorrincoooooooooooooooooooooooooooooooo', 44), ('hornitorrincoooooooooooooooooooooooooooooooo', 44), ('hornitorrincoooooooooooooooooooooooooooooooo', 44), ('hornitorrincoooooooooooooooooooooooooooooooo', 44), ('hornitorrincoooooooooooooooooooooooooooooooo', 44), ('hornitorrincoooooooooooooooooooooooooooooooo', 44), ('hornitorrincoooooooooooooooooooooooooooooooo', 44), ('hornitorrincoooooooooooooooooooooooooooooooo', 44), ('hornitorrincoooooooooooooooooooooooooooooooo', 44), ('hornitorrincoooooooooooooooooooooooooooooooo', 44), ('hornitorrincoooooooooooooooooooooooooooooooo', 44), ('hornitorrincoooooooooooooooooooooooooooooooo', 44), ('hornitorrincoooooooooooooooooooooooooooooooo', 44), ('hornitorrincoooooooooooooooooooooooooooooooo', 44), ('hornitorrincoooooooooooooooooooooooooooooooo', 44), ('hornitorrincoooooooooooooooooooooooooooooooo', 44), ('hornitorrincoooooooooooooooooooooooooooooooo', 44), ('hornitorrincoooooooooooooooooooooooooooooooo', 44), ('hornitorrincoooooooooooooooooooooooooooooooo', 44), ('hornitorrincoooooooooooooooooooooooooooooooo', 44), ('hornitorrincoooooooooooooooooooooooooooooooo', 44), ('hornitorrincoooooooooooooooooooooooooooooooo', 44), ('hornitorrincoooooooooooooooooooooooooooooooo', 44), ('hornitorrincoooooooooooooooooooooooooooooooo', 44), ('hornitorrincoooooooooooooooooooooooooooooooo', 44), ('hornitorrincoooooooooooooooooooooooooooooooo', 44), ('hornitorrincoooooooooooooooooooooooooooooooo', 44), ('hornitorrincoooooooooooooooooooooooooooooooo', 44), ('hornitorrincoooooooooooooooooooooooooooooooo', 44), ('hornitorrincoooooooooooooooooooooooooooooooo', 44), ('hornitorrincoooooooooooooooooooooooooooooooo', 44), ('hornitorrincoooooooooooooooooooooooooooooooo', 44), ('hornitorrincoooooooooooooooooooooooooooooooo', 44)]\n"
     ]
    },
    {
     "name": "stderr",
     "output_type": "stream",
     "text": [
      "                                                                                \r"
     ]
    }
   ],
   "source": [
    "from pyspark.sql.functions import length\n",
    "\n",
    "longest_word = (\n",
    "    processed # RDD OF TWEET\n",
    "        .filter(lambda x: x.language == 'es') # filter for Spanish tweets\n",
    "        .flatMap(lambda x: x.content.split()) # from rdd[Tweet] to rdd[str]\n",
    "        .map(lambda x: (x.lower(), len(x))) # from rdd[str] to rdd[str, int]\n",
    ")\n",
    "\n",
    "print(longest_word.top(100, key=lambda x: x[1]))"
   ]
  },
  {
   "cell_type": "markdown",
   "id": "8c07e6a5",
   "metadata": {},
   "source": [
    "## 2. Encuentra las 100 palabra palíndroma más largas entre los tweets en inglés \n",
    "\n",
    "Un palíndromo es una palabra que tiene la misma lectura de izquierda a derecha o de derecha a izquierda. \n",
    "\n",
    "Ejemplos de palíndromos en inglés: `noon`, `level`, etc..."
   ]
  },
  {
   "cell_type": "markdown",
   "id": "71d95b27-2736-4434-b854-fcc442a658e0",
   "metadata": {},
   "source": [
    "### WITH EMOJIS"
   ]
  },
  {
   "cell_type": "code",
   "execution_count": 8,
   "id": "01918305-73ad-40d9-8017-0ba8bcc45716",
   "metadata": {
    "tags": []
   },
   "outputs": [
    {
     "name": "stderr",
     "output_type": "stream",
     "text": [
      "[Stage 7:======================================================>(219 + 1) / 220]\r"
     ]
    },
    {
     "name": "stdout",
     "output_type": "stream",
     "text": [
      "[('🔥🔥🔥🔥🔥🔥🔥🔥🔥🔥🔥🔥🔥🔥🔥🔥🔥🔥🔥🔥🔥🔥🔥🔥🔥🔥🔥🔥🔥🔥🔥🔥🔥🔥🔥🔥🔥🔥🔥🔥🔥🔥🔥🔥🔥🔥🔥🔥🔥🔥🔥🔥🔥🔥🔥🔥🔥🔥🔥🔥🔥🔥🔥🔥🔥🔥🔥🔥🔥🔥🔥🔥🔥🔥🔥🔥🔥🔥🔥🔥🔥🔥🔥🔥🔥🔥', 86), ('🤘🤘🤘🤘🤘🤘🤘🤘🤘🤘🤘🤘🤘🤘🤘🤘🤘🤘🤘🤘🤘🤘🤘🤘🤘🤘🤘🤘🤘🤘🤘🤘🤘🤘🤘🤘🤘🤘🤘🤘🤘🤘', 42), ('😂😂😂😂😂😂😂😂😂😂😂😂😂😂😂😂😂😂😂😂😂😂😂😂😂😂😂😂😂😂😂😂😂😂😂😂😂😂😂😂', 40), ('😭😭😭😭😭😭😭😭😭😭😭😭😭😭😭😭😭😭😭😭😭😭😭😭😭😭😭😭😭😭😭😭😭😭😭😭😭😭😭', 39), ('!!!!!!!!!!!!!!!!!!!!!!!!!!!!!!!!!!!!!', 37), ('..................................', 34), ('✨✨✨✨✨✨✨✨✨✨✨✨✨✨✨✨✨✨✨✨✨✨✨✨✨✨✨✨✨✨✨✨✨', 33), ('🔥🔥🔥🔥🔥🔥🔥🔥🔥🔥🔥🔥🔥🔥🔥🔥🔥🔥🔥🔥🔥🔥🔥🔥🔥🔥🔥🔥🔥🔥🔥🔥🔥', 33), ('...............................', 31), ('...............................', 31), ('...............................', 31), ('...............................', 31), ('...............................', 31), ('...............................', 31), ('.............................', 29), ('♡♡♡♡♡♡♡♡♡♡♡♡♡♡♡♡♡♡♡♡♡♡♡♡♡♡♡♡', 28), ('.........................', 25), ('aaaaaaaaaaaaaaaaaaaaaaaaa', 25), ('🐓🐓🐓🐓🐓🐓🐓🐓🐓🐓🐓🐓🐓🐓🐓🐓🐓🐓🐓🐓🐓🐓🐓🐓🐓', 25), ('........................', 24), ('🎉🎉🎉🎉🎉🎉🎉🎉🎉🎉🎉🎉🎉🎉🎉🎉🎉🎉🎉🎉🎉🎉', 22), ('aaaaaaaaaaaaaaaaaaaaaa', 22), ('aaaaaaaaaaaaaaaaaaaaaa', 22), ('aaaaaaaaaaaaaaaaaaaaa', 21), ('.....................', 21), ('....................', 20), ('____________________', 20), ('!!!!!!!!!!!!!!!!!!!!', 20), ('!!!!!!!!!!!!!!!!!!!!', 20), ('🔥🔥🔥🔥🔥🔥🔥🔥🔥🔥🔥🔥🔥🔥🔥🔥🔥🔥🔥🔥', 20), ('🐓🐓🐓🐓🐓🐓🐓🐓🐓🐓🐓🐓🐓🐓🐓🐓🐓🐓🐓🐓', 20), ('___________________', 19), ('___________________', 19), ('!!!!!!!!!!!!!!!!!!!', 19), ('🤘🤘🤘🤘🤘🤘🤘🤘🤘🤘🤘🤘🤘🤘🤘🤘🤘🤘🤘', 19), ('🇪🇪🇪🇪🇪🇪🇪🇪🇪🇪🇪🇪🇪🇪🇪🇪🇪🇪', 18), ('!!!!!!!!!!!!!!!!!!', 18), ('looooooooooooooool', 18), ('😍😍😍😍😍😍😍😍😍😍😍😍😍😍😍😍😍😍', 18), ('-----------------', 17), ('😂😂🤣😂🤣😂🤣😂🤣😂🤣😂🤣😂🤣😂😂', 17), ('================', 16), ('zzzzzzzzzzzzzzzz', 16), ('eeeeeeeeeeeeeeee', 16), ('oooooooooooooooo', 16), ('!!!!!!!!!!!!!!!!', 16), ('!!!!!!!!!!!!!!!!', 16), ('................', 16), ('................', 16), ('!!!!!!!!!!!!!!!!', 16), ('................', 16), ('😂😂😂😂😂😂😂😂😂😂😂😂😂😂😂', 15), ('😭😭😭😭😭😭😭😭😭😭😭😭😭😭😭', 15), ('!!!!!!!!!!!!!!!', 15), ('!!!!!!!!!!!!!!!', 15), ('!!!!!!!!!!!!!!!', 15), ('!!!!!!!!!!!!!!!', 15), ('!!!!!!!!!!!!!!!', 15), ('!!!!!!!!!!!!!!!', 15), ('!!!!!!!!!!!!!!!', 15), ('!!!!!!!!!!!!!!!', 15), ('!!!!!!!!!!!!!!!', 15), ('!!!!!!!!!!!!!!!', 15), ('!!!!!!!!!!!!!!!', 15), ('!!!!!!!!!!!!!!!', 15), ('aaaaaaaaaaaaaaa', 15), ('😂😂😂😂😂😂😂😂😂😂😂😂😂😂😂', 15), ('loooooooooooool', 15), ('!!!!!!!!!!!!!!!', 15), ('..............', 14), ('💛💛💛💛💛💛💛💛💛💛💛💛💛💛', 14), ('aaaaaaaaaaaaaa', 14), ('zzzzzzzzzzzzzz', 14), ('😭😭😭😭😭😭😭😭😭😭😭😭😭😭', 14), ('oooooooooooooo', 14), ('😂😂😂😂😂😂😂😂😂😂😂😂😂', 13), ('☆☆☆☆☆☆☆☆☆☆☆☆☆', 13), ('£££££££££££££', 13), ('🙃🙃🙃🙃🙃🙃🙃🙃🙃🙃🙃🙃🙃', 13), ('-------------', 13), ('🔥🔥🔥🔥🔥🔥🔥🔥🔥🔥🔥🔥🔥', 13), ('aaaaaaaaaaaaa', 13), ('💗💗💗💗💗💗💗💗💗💗💗💗💗', 13), ('💗💗💗💗💗💗💗💗💗💗💗💗💗', 13), ('ahahahahahaha', 13), ('.............', 13), ('hahahahahahah', 13), ('💗💗💗💗💗💗💗💗💗💗💗💗💗', 13), ('aaaaaaaaaaaaa', 13), ('!!!!!!!!!!!!!', 13), ('!!!!!!!!!!!!!', 13), ('aaaaaaaaaaaaa', 13), ('?????????????', 13), ('!!!!!!!!!!!!!', 13), ('!!!!!!!!!!!!', 12), ('oooooooooooo', 12), ('🤔🤔🤔🤔🤔🤔🤔🤔🤔🤔🤔🤔', 12), ('😱😱😱😱😱😱😱😱😱😱😱😱', 12), ('😭😭😭😭😭😭😭😭😭😭😭😭', 12), ('aaaaaaaaaaaa', 12)]\n"
     ]
    },
    {
     "name": "stderr",
     "output_type": "stream",
     "text": [
      "                                                                                \r"
     ]
    }
   ],
   "source": [
    "english_palyndrome = (\n",
    "    processed # RDD OF TWEET\n",
    "        .filter(lambda x: x.language == 'en') # filter for English tweets\n",
    "        .flatMap(lambda x: x.content.split()) # from rdd[Tweet] to rdd[str]\n",
    "        .map(lambda x: (x.lower(), len(x))) # from rdd[str] to rdd[str, int]\n",
    "        .filter(lambda x: x[0] == x[0][::-1]) # filter for palindromes\n",
    "        .sortBy(lambda x: x[1], ascending=False) # sort by word length in descending order\n",
    ")\n",
    "\n",
    "print(english_palyndrome.take(100))"
   ]
  },
  {
   "cell_type": "markdown",
   "id": "48bdfe58-4343-4af0-ac1e-70d5b662fff4",
   "metadata": {},
   "source": [
    "### WITHOUT EMOJIS"
   ]
  },
  {
   "cell_type": "code",
   "execution_count": 17,
   "id": "a9af51e2-4a77-4ea1-b2c5-485f0c17835f",
   "metadata": {
    "tags": []
   },
   "outputs": [
    {
     "name": "stderr",
     "output_type": "stream",
     "text": [
      "[Stage 72:==================================================>     (59 + 3) / 66]\r"
     ]
    },
    {
     "name": "stdout",
     "output_type": "stream",
     "text": [
      "[('aaaaaaaaaaaaaaaaaaaaaaaaaaaaaaaaaaaaaaaaaaaaaaaaaaaaaaaaaaaaaaaaaaaaaaaaaaaaaaaaaaaaaaaaaaaaaaaaaaaaaaaaaa', 106), ('aaaaaaaaaaaaaaaaaaaaaaaaaaaaaaaaaaaaaaaaaaaaaaaaaaaaaaaaaaaaaaaaaaaaaaaaaa', 74), ('aaaaaaaaaaaaaaaaaaaaaaaaa', 25), ('aaaaaaaaaaaaaaaaaaaaaa', 22), ('aaaaaaaaaaaaaaaaaaaaa', 21), ('looooooooooooooool', 18), ('eeeeeeeeeeeeeeee', 16), ('oooooooooooooooo', 16), ('zzzzzzzzzzzzzzzz', 16), ('loooooooooooool', 15), ('aaaaaaaaaaaaaaa', 15), ('zzzzzzzzzzzzzz', 14), ('oooooooooooooo', 14), ('aaaaaaaaaaaaaa', 14), ('hahahahahahah', 13), ('lolololololol', 13), ('aaaaaaaaaaaaa', 13), ('ahahahahahaha', 13), ('aaaaaaaaaaaa', 12), ('eeeeeeeeeeee', 12), ('oooooooooooo', 12), ('woooooooooow', 12), ('looooooooool', 12), ('muuuuuuuuum', 11), ('lololololol', 11), ('ahahahahaha', 11), ('lemononomel', 11), ('wwwooooowww', 11), ('mmmmmmmmmmm', 11), ('hahahahahah', 11), ('nerak3karen', 11), ('wooooooooow', 11), ('loooooooool', 11), ('renyapayner', 11), ('wowowowowow', 11), ('aaaaaaaaaaa', 11), ('zzzzzzzzzz', 10), ('aaaaaaaaaa', 10), ('haaaaaaaah', 10), ('looooooool', 10), ('woooooooow', 10), ('hahahahah', 9), ('aaaaaaaaa', 9), ('wooooooow', 9), ('zzzzzzzzz', 9), ('tutututut', 9), ('ahahahaha', 9), ('wowowowow', 9), ('333333333', 9), ('sksksksks', 9), ('minalanim', 9), ('ooooooooo', 9), ('loooooool', 9), ('yyyyyyyyy', 9), ('yayayayay', 9), ('aaaaaaaa', 8), ('ffffffff', 8), ('yaaaaaay', 8), ('kinuunik', 8), ('ahahhaha', 8), ('yyyyyyyy', 8), ('atirrita', 8), ('ssssssss', 8), ('looooool', 8), ('woooooow', 8), ('zzzzzzzz', 8), ('hahahah', 7), ('hshshsh', 7), ('xoxoxox', 7), ('rotator', 7), ('yaaaaay', 7), ('ahahaha', 7), ('ksksksk', 7), ('sooooos', 7), ('loooool', 7), ('wowowow', 7), ('ohohoho', 7), ('jdjsjdj', 7), ('shshshs', 7), ('3333333', 7), ('jsjsjsj', 7), ('jdjdjdj', 7), ('yeeeeey', 7), ('yayayay', 7), ('djdjdjd', 7), ('zzzzzzz', 7), ('ooooooo', 7), ('eyeyeye', 7), ('mmmmmmm', 7), ('aaaaaaa', 7), ('hhhhhhh', 7), ('lololol', 7), ('wooooow', 7), ('xxxxxxx', 7), ('sksjsks', 7), ('1111111', 7), ('daaaaad', 7), ('mmmmmm', 6), ('bbbbbb', 6), ('yayyay', 6)]\n"
     ]
    },
    {
     "name": "stderr",
     "output_type": "stream",
     "text": [
      "                                                                                \r"
     ]
    }
   ],
   "source": [
    "import re\n",
    "\n",
    "english_palindrome = (\n",
    "    processed # RDD OF TWEET\n",
    "        .filter(lambda x: x.language == 'en') # FILTER FOR ENGLISH TWEETS\n",
    "        # EXCLUDE EMOJIS\n",
    "        .flatMap(lambda x: re.findall(r'\\b\\w+\\b', re.sub(r'[^\\x00-\\x7F]+', '', x.content).lower())) # from rdd[Tweet] to rdd[str]\n",
    "        .map(lambda x: re.sub(r'[^a-z0-9]', '', x)) # REMOVE PUNCTUATION AND SPECIAL CHARACTERS\n",
    "        .distinct() # REMOVE DUPLICATES\n",
    "        .map(lambda x: (x, len(x))) # from rdd[str] to rdd[str, int]\n",
    "        .filter(lambda x: x[0] == x[0][::-1] and len(x[0]) > 1) # FILTER PALINDROMES\n",
    "        .sortBy(lambda x: x[1], ascending=False) # SORT ASC. \n",
    ")\n",
    "\n",
    "print(english_palindrome.take(100))"
   ]
  },
  {
   "cell_type": "markdown",
   "id": "5448cf2a-8143-440a-a7ac-0f19ff8630bc",
   "metadata": {},
   "source": [
    "`re.findall(r'\\b\\w+\\b', ...)` -> finds all occurrences of word characters that might have letters, numbers, or underscores in the input string. The `\\b` match word boundaries, and `\\w+` matches one or more word characters.\n",
    "`re.sub(r'[^\\x00-\\x7F]+', '', ...)` -> replaces any characters that are not in the ASCII range with an empty string, they will get deleted from the input string."
   ]
  },
  {
   "cell_type": "code",
   "execution_count": 18,
   "id": "bce71a2c-bac7-4632-b698-9b347c52be6a",
   "metadata": {
    "tags": []
   },
   "outputs": [
    {
     "name": "stderr",
     "output_type": "stream",
     "text": [
      "[Stage 84:======================================================> (64 + 2) / 66]\r"
     ]
    },
    {
     "name": "stdout",
     "output_type": "stream",
     "text": [
      "| Word                                                                                                       |   Len. |\n",
      "|------------------------------------------------------------------------------------------------------------+--------|\n",
      "| aaaaaaaaaaaaaaaaaaaaaaaaaaaaaaaaaaaaaaaaaaaaaaaaaaaaaaaaaaaaaaaaaaaaaaaaaaaaaaaaaaaaaaaaaaaaaaaaaaaaaaaaaa |    106 |\n",
      "| aaaaaaaaaaaaaaaaaaaaaaaaaaaaaaaaaaaaaaaaaaaaaaaaaaaaaaaaaaaaaaaaaaaaaaaaaa                                 |     74 |\n",
      "| aaaaaaaaaaaaaaaaaaaaaaaaa                                                                                  |     25 |\n",
      "| aaaaaaaaaaaaaaaaaaaaaa                                                                                     |     22 |\n",
      "| aaaaaaaaaaaaaaaaaaaaa                                                                                      |     21 |\n",
      "| looooooooooooooool                                                                                         |     18 |\n",
      "| eeeeeeeeeeeeeeee                                                                                           |     16 |\n",
      "| oooooooooooooooo                                                                                           |     16 |\n",
      "| zzzzzzzzzzzzzzzz                                                                                           |     16 |\n",
      "| loooooooooooool                                                                                            |     15 |\n",
      "| aaaaaaaaaaaaaaa                                                                                            |     15 |\n",
      "| zzzzzzzzzzzzzz                                                                                             |     14 |\n",
      "| oooooooooooooo                                                                                             |     14 |\n",
      "| aaaaaaaaaaaaaa                                                                                             |     14 |\n",
      "| hahahahahahah                                                                                              |     13 |\n",
      "| lolololololol                                                                                              |     13 |\n",
      "| aaaaaaaaaaaaa                                                                                              |     13 |\n",
      "| ahahahahahaha                                                                                              |     13 |\n",
      "| aaaaaaaaaaaa                                                                                               |     12 |\n",
      "| eeeeeeeeeeee                                                                                               |     12 |\n",
      "| oooooooooooo                                                                                               |     12 |\n",
      "| woooooooooow                                                                                               |     12 |\n",
      "| looooooooool                                                                                               |     12 |\n",
      "| muuuuuuuuum                                                                                                |     11 |\n",
      "| lololololol                                                                                                |     11 |\n",
      "| ahahahahaha                                                                                                |     11 |\n",
      "| lemononomel                                                                                                |     11 |\n",
      "| wwwooooowww                                                                                                |     11 |\n",
      "| mmmmmmmmmmm                                                                                                |     11 |\n",
      "| hahahahahah                                                                                                |     11 |\n",
      "| nerak3karen                                                                                                |     11 |\n",
      "| wooooooooow                                                                                                |     11 |\n",
      "| loooooooool                                                                                                |     11 |\n",
      "| renyapayner                                                                                                |     11 |\n",
      "| wowowowowow                                                                                                |     11 |\n",
      "| aaaaaaaaaaa                                                                                                |     11 |\n",
      "| zzzzzzzzzz                                                                                                 |     10 |\n",
      "| aaaaaaaaaa                                                                                                 |     10 |\n",
      "| haaaaaaaah                                                                                                 |     10 |\n",
      "| looooooool                                                                                                 |     10 |\n",
      "| woooooooow                                                                                                 |     10 |\n",
      "| hahahahah                                                                                                  |      9 |\n",
      "| aaaaaaaaa                                                                                                  |      9 |\n",
      "| wooooooow                                                                                                  |      9 |\n",
      "| zzzzzzzzz                                                                                                  |      9 |\n",
      "| tutututut                                                                                                  |      9 |\n",
      "| ahahahaha                                                                                                  |      9 |\n",
      "| wowowowow                                                                                                  |      9 |\n",
      "| 333333333                                                                                                  |      9 |\n",
      "| sksksksks                                                                                                  |      9 |\n",
      "| minalanim                                                                                                  |      9 |\n",
      "| ooooooooo                                                                                                  |      9 |\n",
      "| loooooool                                                                                                  |      9 |\n",
      "| yyyyyyyyy                                                                                                  |      9 |\n",
      "| yayayayay                                                                                                  |      9 |\n",
      "| aaaaaaaa                                                                                                   |      8 |\n",
      "| ffffffff                                                                                                   |      8 |\n",
      "| yaaaaaay                                                                                                   |      8 |\n",
      "| kinuunik                                                                                                   |      8 |\n",
      "| ahahhaha                                                                                                   |      8 |\n",
      "| yyyyyyyy                                                                                                   |      8 |\n",
      "| atirrita                                                                                                   |      8 |\n",
      "| ssssssss                                                                                                   |      8 |\n",
      "| looooool                                                                                                   |      8 |\n",
      "| woooooow                                                                                                   |      8 |\n",
      "| zzzzzzzz                                                                                                   |      8 |\n",
      "| hahahah                                                                                                    |      7 |\n",
      "| hshshsh                                                                                                    |      7 |\n",
      "| xoxoxox                                                                                                    |      7 |\n",
      "| rotator                                                                                                    |      7 |\n",
      "| yaaaaay                                                                                                    |      7 |\n",
      "| ahahaha                                                                                                    |      7 |\n",
      "| ksksksk                                                                                                    |      7 |\n",
      "| sooooos                                                                                                    |      7 |\n",
      "| loooool                                                                                                    |      7 |\n",
      "| wowowow                                                                                                    |      7 |\n",
      "| ohohoho                                                                                                    |      7 |\n",
      "| jdjsjdj                                                                                                    |      7 |\n",
      "| shshshs                                                                                                    |      7 |\n",
      "| 3333333                                                                                                    |      7 |\n",
      "| jsjsjsj                                                                                                    |      7 |\n",
      "| jdjdjdj                                                                                                    |      7 |\n",
      "| yeeeeey                                                                                                    |      7 |\n",
      "| yayayay                                                                                                    |      7 |\n",
      "| djdjdjd                                                                                                    |      7 |\n",
      "| zzzzzzz                                                                                                    |      7 |\n",
      "| ooooooo                                                                                                    |      7 |\n",
      "| eyeyeye                                                                                                    |      7 |\n",
      "| mmmmmmm                                                                                                    |      7 |\n",
      "| aaaaaaa                                                                                                    |      7 |\n",
      "| hhhhhhh                                                                                                    |      7 |\n",
      "| lololol                                                                                                    |      7 |\n",
      "| wooooow                                                                                                    |      7 |\n",
      "| xxxxxxx                                                                                                    |      7 |\n",
      "| sksjsks                                                                                                    |      7 |\n",
      "| 1111111                                                                                                    |      7 |\n",
      "| daaaaad                                                                                                    |      7 |\n",
      "| mmmmmm                                                                                                     |      6 |\n",
      "| bbbbbb                                                                                                     |      6 |\n",
      "| yayyay                                                                                                     |      6 |\n"
     ]
    },
    {
     "name": "stderr",
     "output_type": "stream",
     "text": [
      "                                                                                \r"
     ]
    }
   ],
   "source": [
    "from tabulate import tabulate\n",
    "\n",
    "results = english_palindrome.take(100)\n",
    "table = [[word, len(word)] for word, _ in results]\n",
    "# tablefmt parameter -> specify the table format\n",
    "print(tabulate(table, headers=['Word', 'Len.'], tablefmt='orgtbl'))"
   ]
  }
 ],
 "metadata": {
  "kernelspec": {
   "display_name": "conda_python3",
   "language": "python",
   "name": "conda_python3"
  },
  "language_info": {
   "codemirror_mode": {
    "name": "ipython",
    "version": 3
   },
   "file_extension": ".py",
   "mimetype": "text/x-python",
   "name": "python",
   "nbconvert_exporter": "python",
   "pygments_lexer": "ipython3",
   "version": "3.10.16"
  }
 },
 "nbformat": 4,
 "nbformat_minor": 5
}
