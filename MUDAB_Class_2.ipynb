{
 "cells": [
  {
   "cell_type": "markdown",
   "metadata": {
    "id": "7e3SpPNdP8As"
   },
   "source": [
    "# Clase 2 - Contestar a preguntas sencillas sobre datos\n",
    "\n",
    "## Objetivos\n",
    "\n",
    "Utilizar datos reales y crear código para contestar preguntas sobre el conjunto.\n",
    "\n",
    "### Pasos\n",
    "\n",
    "1. leer el input (1 json per línea)\n",
    "2. modelar cada línea correcta en una data class que represente a un Tweet \n",
    "3. contestar preguntas sobre el conjunto de datos obtenidos"
   ]
  },
  {
   "cell_type": "markdown",
   "metadata": {
    "id": "VUrEnRQ5zTd8"
   },
   "source": [
    "## Repaso de Python: I/O con ficheros"
   ]
  },
  {
   "cell_type": "markdown",
   "metadata": {
    "id": "0sfVIfxzrZqc"
   },
   "source": [
    "### Escribir ficheros\n",
    "\n",
    "El siguiente snippet de código muestra como escribir un fichero (observen la `w` - de *write* - como segundo argumento del método `open`)\n",
    "Además, observen el carater espeecial `\\n` para insertar un final de línea. \n",
    "\n",
    "\n",
    "```python\n",
    "with open('/some/path/to/a/file', 'w') as f:\n",
    "  f.writeline(\"a line\\n\")\n",
    "```\n",
    "\n",
    "-> `\\n` fin de linea"
   ]
  },
  {
   "cell_type": "code",
   "execution_count": null,
   "metadata": {
    "id": "UbftQULFrw4U",
    "tags": []
   },
   "outputs": [],
   "source": [
    "with open('/tmp/test-file.txt', 'w') as input:\n",
    "  input.write(\"test1\\n\")\n",
    "  input.write(\"test2\\n\")\n",
    "  input.writelines([\"test3\\n\", 'test4\\n'])\n"
   ]
  },
  {
   "cell_type": "code",
   "execution_count": 3,
   "metadata": {
    "tags": []
   },
   "outputs": [],
   "source": [
    "with open('test-file.txt', 'w') as input:\n",
    "  input.write(\"test1\\n\")\n",
    "  input.write(\"test2\\n\")\n",
    "  input.writelines([\"test3\\n\", 'test4\\n'])"
   ]
  },
  {
   "cell_type": "markdown",
   "metadata": {
    "id": "WmvTH93QqYgL"
   },
   "source": [
    "### Leer ficheros\n",
    "\n",
    "El siguiente snippet de código muestra como escribir un fichero (observen la `r` - de *read* - como segundo argumento del método `open`)\n",
    "\n",
    "\n",
    "```python\n",
    "with open('/some/path/to/a/file', 'r') as f:\n",
    "  line = f.readline()\n",
    "```"
   ]
  },
  {
   "cell_type": "markdown",
   "metadata": {
    "id": "MpWGCgaQtEn9"
   },
   "source": [
    "### Leer linea por línea\n",
    "\n",
    "Es la manera recomendada en leer ficheros grandes en Python, para evitar de mantener todo el fichero en memoria, que es un recurso escaso. "
   ]
  },
  {
   "cell_type": "code",
   "execution_count": 5,
   "metadata": {
    "colab": {
     "base_uri": "https://localhost:8080/"
    },
    "id": "I1sHXcTssEzp",
    "outputId": "f12fa8a5-b896-4fe9-ea22-5409c49b13a1",
    "tags": []
   },
   "outputs": [
    {
     "name": "stdout",
     "output_type": "stream",
     "text": [
      "test1\n",
      "test2\n",
      "test3\n",
      "test4\n"
     ]
    }
   ],
   "source": [
    "with open('test-file.txt', 'r') as f:\n",
    "    for line in f:\n",
    "      print(line.rstrip()) "
   ]
  },
  {
   "cell_type": "markdown",
   "metadata": {},
   "source": [
    "rstrip() method removes any trailing whitespace characters (including newlines) from the string"
   ]
  },
  {
   "cell_type": "markdown",
   "metadata": {},
   "source": [
    "### Leer solo las primeras N líneas\n",
    "\n",
    "Puede ser útil para explorar los ficheros de input y hacerse una idea de la forma de los datos "
   ]
  },
  {
   "cell_type": "code",
   "execution_count": 7,
   "metadata": {
    "tags": []
   },
   "outputs": [
    {
     "name": "stdout",
     "output_type": "stream",
     "text": [
      "test1\n",
      "test2\n"
     ]
    }
   ],
   "source": [
    "with open('test-file.txt', 'r') as f:\n",
    "    ## Lee cada línea (next) para cada elemento de una lista de 0 a N y añadela a la lista head\n",
    "    head = [next(f).rstrip() for _ in range(2)] # next 2 times over f \n",
    "    ## Imprime una línea por cada línea en head (que es una lista) \n",
    "    [print(line) for line in head]"
   ]
  },
  {
   "cell_type": "code",
   "execution_count": 8,
   "metadata": {
    "tags": []
   },
   "outputs": [
    {
     "name": "stdout",
     "output_type": "stream",
     "text": [
      "test1\n",
      "test2\n",
      "test3\n"
     ]
    }
   ],
   "source": [
    "with open('test-file.txt', 'r') as f:\n",
    "    ## Lee cada línea (next) para cada elemento de una lista de 0 a N y añadela a la lista head\n",
    "    head = [next(f).rstrip() for _ in range(3)] # next 3 times over f \n",
    "    ## Imprime una línea por cada línea en head (que es una lista) \n",
    "    [print(line) for line in head]"
   ]
  },
  {
   "cell_type": "markdown",
   "metadata": {
    "id": "9nMLMr9Ks5_D"
   },
   "source": [
    "# ETL (Extract, transform, Load)\n",
    "\n",
    "\n"
   ]
  },
  {
   "cell_type": "markdown",
   "metadata": {
    "tags": []
   },
   "source": [
    "### Estudiar el input\n",
    "\n",
    "Descargamos el fichero `mini_input.txt` y lo subimos a nuestro entorno Jupyter. Procedemos a explorarlo, leendo las primeras líneas del mismo. "
   ]
  },
  {
   "cell_type": "code",
   "execution_count": 9,
   "metadata": {
    "tags": []
   },
   "outputs": [
    {
     "name": "stdout",
     "output_type": "stream",
     "text": [
      "{\"created_at\":\"Sat May 12 15:58:53 +0000 2018\",\"id\":995332494974210048,\"id_str\":\"995332494974210048\",\"text\":\"RT @carloscarmo98: -Manel, algo que decir sobre tu actuaci\\u00f3n en Eurovision?\\n-Kikiriketediga https:\\/\\/t.co\\/yXGYtKmJoM\",\"source\":\"\\u003ca href=\\\"http:\\/\\/twitter.com\\/download\\/android\\\" rel=\\\"nofollow\\\"\\u003eTwitter for Android\\u003c\\/a\\u003e\",\"truncated\":false,\"in_reply_to_status_id\":null,\"in_reply_to_status_id_str\":null,\"in_reply_to_user_id\":null,\"in_reply_to_user_id_str\":null,\"in_reply_to_screen_name\":null,\"user\":{\"id\":492271155,\"id_str\":\"492271155\",\"name\":\"alba aguirre\",\"screen_name\":\"Alba137\",\"location\":\"en pleno akelarre\",\"url\":null,\"description\":\"no todo lo que brilla es oro, a veces es highlight \\u2728\\ud83d\\udc9c\",\"translator_type\":\"regular\",\"protected\":false,\"verified\":false,\"followers_count\":718,\"friends_count\":416,\"listed_count\":2,\"favourites_count\":24718,\"statuses_count\":21764,\"created_at\":\"Tue Feb 14 14:46:34 +0000 2012\",\"utc_offset\":10800,\"time_zone\":\"Athens\",\"geo_enabled\":true,\"lang\":\"es\",\"contributors_enabled\":false,\"is_translator\":false,\"profile_background_color\":\"C0DEED\",\"profile_background_image_url\":\"http:\\/\\/pbs.twimg.com\\/profile_background_images\\/623739463202684928\\/vjeMtHPV.jpg\",\"profile_background_image_url_https\":\"https:\\/\\/pbs.twimg.com\\/profile_background_images\\/623739463202684928\\/vjeMtHPV.jpg\",\"profile_background_tile\":true,\"profile_link_color\":\"00B371\",\"profile_sidebar_border_color\":\"000000\",\"profile_sidebar_fill_color\":\"DDEEF6\",\"profile_text_color\":\"333333\",\"profile_use_background_image\":true,\"profile_image_url\":\"http:\\/\\/pbs.twimg.com\\/profile_images\\/992694287451217920\\/v3dvIg9N_normal.jpg\",\"profile_image_url_https\":\"https:\\/\\/pbs.twimg.com\\/profile_images\\/992694287451217920\\/v3dvIg9N_normal.jpg\",\"profile_banner_url\":\"https:\\/\\/pbs.twimg.com\\/profile_banners\\/492271155\\/1516449879\",\"default_profile\":false,\"default_profile_image\":false,\"following\":null,\"follow_request_sent\":null,\"notifications\":null},\"geo\":null,\"coordinates\":null,\"place\":null,\"contributors\":null,\"retweeted_status\":{\"created_at\":\"Sat May 13 20:57:18 +0000 2017\",\"id\":863498411517108224,\"id_str\":\"863498411517108224\",\"text\":\"-Manel, algo que decir sobre tu actuaci\\u00f3n en Eurovision?\\n-Kikiriketediga https:\\/\\/t.co\\/yXGYtKmJoM\",\"display_text_range\":[0,72],\"source\":\"\\u003ca href=\\\"http:\\/\\/twitter.com\\/download\\/android\\\" rel=\\\"nofollow\\\"\\u003eTwitter for Android\\u003c\\/a\\u003e\",\"truncated\":false,\"in_reply_to_status_id\":null,\"in_reply_to_status_id_str\":null,\"in_reply_to_user_id\":null,\"in_reply_to_user_id_str\":null,\"in_reply_to_screen_name\":null,\"user\":{\"id\":1651197529,\"id_str\":\"1651197529\",\"name\":\"Carlos Carmona\",\"screen_name\":\"carloscarmo98\",\"location\":\"Logro\\u00f1o, Espa\\u00f1a\",\"url\":null,\"description\":\"Estudiante de Geograf\\u00eda e Historia y seguidor del Valencia C.F. Nacido en Villanueva de la Serena, Extremadura, y viviendo en Logro\\u00f1o\",\"translator_type\":\"none\",\"protected\":false,\"verified\":false,\"followers_count\":155,\"friends_count\":108,\"listed_count\":0,\"favourites_count\":1100,\"statuses_count\":1857,\"created_at\":\"Tue Aug 06 20:28:56 +0000 2013\",\"utc_offset\":null,\"time_zone\":null,\"geo_enabled\":false,\"lang\":\"es\",\"contributors_enabled\":false,\"is_translator\":false,\"profile_background_color\":\"C0DEED\",\"profile_background_image_url\":\"http:\\/\\/abs.twimg.com\\/images\\/themes\\/theme1\\/bg.png\",\"profile_background_image_url_https\":\"https:\\/\\/abs.twimg.com\\/images\\/themes\\/theme1\\/bg.png\",\"profile_background_tile\":false,\"profile_link_color\":\"1DA1F2\",\"profile_sidebar_border_color\":\"C0DEED\",\"profile_sidebar_fill_color\":\"DDEEF6\",\"profile_text_color\":\"333333\",\"profile_use_background_image\":true,\"profile_image_url\":\"http:\\/\\/pbs.twimg.com\\/profile_images\\/924184485771522048\\/MGfUXALI_normal.jpg\",\"profile_image_url_https\":\"https:\\/\\/pbs.twimg.com\\/profile_images\\/924184485771522048\\/MGfUXALI_normal.jpg\",\"profile_banner_url\":\"https:\\/\\/pbs.twimg.com\\/profile_banners\\/1651197529\\/1498818908\",\"default_profile\":true,\"default_profile_image\":false,\"following\":null,\"follow_request_sent\":null,\"notifications\":null},\"geo\":null,\"coordinates\":null,\"place\":null,\"contributors\":null,\"is_quote_status\":false,\"quote_count\":63,\"reply_count\":17,\"retweet_count\":2945,\"favorite_count\":2568,\"entities\":{\"hashtags\":[],\"urls\":[],\"user_mentions\":[],\"symbols\":[],\"media\":[{\"id\":863498400314126342,\"id_str\":\"863498400314126342\",\"indices\":[73,96],\"media_url\":\"http:\\/\\/pbs.twimg.com\\/media\\/C_vDOFbXcAYRKXK.jpg\",\"media_url_https\":\"https:\\/\\/pbs.twimg.com\\/media\\/C_vDOFbXcAYRKXK.jpg\",\"url\":\"https:\\/\\/t.co\\/yXGYtKmJoM\",\"display_url\":\"pic.twitter.com\\/yXGYtKmJoM\",\"expanded_url\":\"https:\\/\\/twitter.com\\/carloscarmo98\\/status\\/863498411517108224\\/photo\\/1\",\"type\":\"photo\",\"sizes\":{\"thumb\":{\"w\":150,\"h\":150,\"resize\":\"crop\"},\"small\":{\"w\":680,\"h\":519,\"resize\":\"fit\"},\"medium\":{\"w\":1078,\"h\":823,\"resize\":\"fit\"},\"large\":{\"w\":1078,\"h\":823,\"resize\":\"fit\"}}}]},\"extended_entities\":{\"media\":[{\"id\":863498400314126342,\"id_str\":\"863498400314126342\",\"indices\":[73,96],\"media_url\":\"http:\\/\\/pbs.twimg.com\\/media\\/C_vDOFbXcAYRKXK.jpg\",\"media_url_https\":\"https:\\/\\/pbs.twimg.com\\/media\\/C_vDOFbXcAYRKXK.jpg\",\"url\":\"https:\\/\\/t.co\\/yXGYtKmJoM\",\"display_url\":\"pic.twitter.com\\/yXGYtKmJoM\",\"expanded_url\":\"https:\\/\\/twitter.com\\/carloscarmo98\\/status\\/863498411517108224\\/photo\\/1\",\"type\":\"photo\",\"sizes\":{\"thumb\":{\"w\":150,\"h\":150,\"resize\":\"crop\"},\"small\":{\"w\":680,\"h\":519,\"resize\":\"fit\"},\"medium\":{\"w\":1078,\"h\":823,\"resize\":\"fit\"},\"large\":{\"w\":1078,\"h\":823,\"resize\":\"fit\"}}}]},\"favorited\":false,\"retweeted\":false,\"possibly_sensitive\":false,\"filter_level\":\"low\",\"lang\":\"es\"},\"is_quote_status\":false,\"quote_count\":0,\"reply_count\":0,\"retweet_count\":0,\"favorite_count\":0,\"entities\":{\"hashtags\":[],\"urls\":[],\"user_mentions\":[{\"screen_name\":\"carloscarmo98\",\"name\":\"Carlos Carmona\",\"id\":1651197529,\"id_str\":\"1651197529\",\"indices\":[3,17]}],\"symbols\":[],\"media\":[{\"id\":863498400314126342,\"id_str\":\"863498400314126342\",\"indices\":[92,115],\"media_url\":\"http:\\/\\/pbs.twimg.com\\/media\\/C_vDOFbXcAYRKXK.jpg\",\"media_url_https\":\"https:\\/\\/pbs.twimg.com\\/media\\/C_vDOFbXcAYRKXK.jpg\",\"url\":\"https:\\/\\/t.co\\/yXGYtKmJoM\",\"display_url\":\"pic.twitter.com\\/yXGYtKmJoM\",\"expanded_url\":\"https:\\/\\/twitter.com\\/carloscarmo98\\/status\\/863498411517108224\\/photo\\/1\",\"type\":\"photo\",\"sizes\":{\"thumb\":{\"w\":150,\"h\":150,\"resize\":\"crop\"},\"small\":{\"w\":680,\"h\":519,\"resize\":\"fit\"},\"medium\":{\"w\":1078,\"h\":823,\"resize\":\"fit\"},\"large\":{\"w\":1078,\"h\":823,\"resize\":\"fit\"}},\"source_status_id\":863498411517108224,\"source_status_id_str\":\"863498411517108224\",\"source_user_id\":1651197529,\"source_user_id_str\":\"1651197529\"}]},\"extended_entities\":{\"media\":[{\"id\":863498400314126342,\"id_str\":\"863498400314126342\",\"indices\":[92,115],\"media_url\":\"http:\\/\\/pbs.twimg.com\\/media\\/C_vDOFbXcAYRKXK.jpg\",\"media_url_https\":\"https:\\/\\/pbs.twimg.com\\/media\\/C_vDOFbXcAYRKXK.jpg\",\"url\":\"https:\\/\\/t.co\\/yXGYtKmJoM\",\"display_url\":\"pic.twitter.com\\/yXGYtKmJoM\",\"expanded_url\":\"https:\\/\\/twitter.com\\/carloscarmo98\\/status\\/863498411517108224\\/photo\\/1\",\"type\":\"photo\",\"sizes\":{\"thumb\":{\"w\":150,\"h\":150,\"resize\":\"crop\"},\"small\":{\"w\":680,\"h\":519,\"resize\":\"fit\"},\"medium\":{\"w\":1078,\"h\":823,\"resize\":\"fit\"},\"large\":{\"w\":1078,\"h\":823,\"resize\":\"fit\"}},\"source_status_id\":863498411517108224,\"source_status_id_str\":\"863498411517108224\",\"source_user_id\":1651197529,\"source_user_id_str\":\"1651197529\"}]},\"favorited\":false,\"retweeted\":false,\"possibly_sensitive\":false,\"filter_level\":\"low\",\"lang\":\"es\",\"timestamp_ms\":\"1526140733842\"}\n",
      "\n",
      "{\"created_at\":\"Sat May 12 15:58:54 +0000 2018\",\"id\":995332495783727105,\"id_str\":\"995332495783727105\",\"text\":\"RT @DougJ7777: If Britain wins #Eurovision then we have to rejoin the EU. It's in the rules. #Eurovision2018\",\"source\":\"\\u003ca href=\\\"http:\\/\\/twitter.com\\/download\\/android\\\" rel=\\\"nofollow\\\"\\u003eTwitter for Android\\u003c\\/a\\u003e\",\"truncated\":false,\"in_reply_to_status_id\":null,\"in_reply_to_status_id_str\":null,\"in_reply_to_user_id\":null,\"in_reply_to_user_id_str\":null,\"in_reply_to_screen_name\":null,\"user\":{\"id\":295119361,\"id_str\":\"295119361\",\"name\":\"Doug\",\"screen_name\":\"DougJ7777\",\"location\":\"Newcastle\",\"url\":null,\"description\":\"'If we find in ourselves a desire which nothing on earth can satisfy, the only explanation is that we were made for another world' - CS Lewis\",\"translator_type\":\"none\",\"protected\":false,\"verified\":false,\"followers_count\":967,\"friends_count\":1564,\"listed_count\":6,\"favourites_count\":12087,\"statuses_count\":9294,\"created_at\":\"Sun May 08 12:01:06 +0000 2011\",\"utc_offset\":null,\"time_zone\":null,\"geo_enabled\":true,\"lang\":\"en\",\"contributors_enabled\":false,\"is_translator\":false,\"profile_background_color\":\"C0DEED\",\"profile_background_image_url\":\"http:\\/\\/abs.twimg.com\\/images\\/themes\\/theme1\\/bg.png\",\"profile_background_image_url_https\":\"https:\\/\\/abs.twimg.com\\/images\\/themes\\/theme1\\/bg.png\",\"profile_background_tile\":false,\"profile_link_color\":\"1DA1F2\",\"profile_sidebar_border_color\":\"C0DEED\",\"profile_sidebar_fill_color\":\"DDEEF6\",\"profile_text_color\":\"333333\",\"profile_use_background_image\":true,\"profile_image_url\":\"http:\\/\\/pbs.twimg.com\\/profile_images\\/981507339323920387\\/H76UOiji_normal.jpg\",\"profile_image_url_https\":\"https:\\/\\/pbs.twimg.com\\/profile_images\\/981507339323920387\\/H76UOiji_normal.jpg\",\"profile_banner_url\":\"https:\\/\\/pbs.twimg.com\\/profile_banners\\/295119361\\/1523786878\",\"default_profile\":true,\"default_profile_image\":false,\"following\":null,\"follow_request_sent\":null,\"notifications\":null},\"geo\":null,\"coordinates\":null,\"place\":null,\"contributors\":null,\"retweeted_status\":{\"created_at\":\"Sat May 12 15:58:17 +0000 2018\",\"id\":995332342712586240,\"id_str\":\"995332342712586240\",\"text\":\"If Britain wins #Eurovision then we have to rejoin the EU. It's in the rules. #Eurovision2018\",\"source\":\"\\u003ca href=\\\"http:\\/\\/twitter.com\\/download\\/android\\\" rel=\\\"nofollow\\\"\\u003eTwitter for Android\\u003c\\/a\\u003e\",\"truncated\":false,\"in_reply_to_status_id\":null,\"in_reply_to_status_id_str\":null,\"in_reply_to_user_id\":null,\"in_reply_to_user_id_str\":null,\"in_reply_to_screen_name\":null,\"user\":{\"id\":295119361,\"id_str\":\"295119361\",\"name\":\"Doug\",\"screen_name\":\"DougJ7777\",\"location\":\"Newcastle\",\"url\":null,\"description\":\"'If we find in ourselves a desire which nothing on earth can satisfy, the only explanation is that we were made for another world' - CS Lewis\",\"translator_type\":\"none\",\"protected\":false,\"verified\":false,\"followers_count\":967,\"friends_count\":1564,\"listed_count\":6,\"favourites_count\":12087,\"statuses_count\":9293,\"created_at\":\"Sun May 08 12:01:06 +0000 2011\",\"utc_offset\":null,\"time_zone\":null,\"geo_enabled\":true,\"lang\":\"en\",\"contributors_enabled\":false,\"is_translator\":false,\"profile_background_color\":\"C0DEED\",\"profile_background_image_url\":\"http:\\/\\/abs.twimg.com\\/images\\/themes\\/theme1\\/bg.png\",\"profile_background_image_url_https\":\"https:\\/\\/abs.twimg.com\\/images\\/themes\\/theme1\\/bg.png\",\"profile_background_tile\":false,\"profile_link_color\":\"1DA1F2\",\"profile_sidebar_border_color\":\"C0DEED\",\"profile_sidebar_fill_color\":\"DDEEF6\",\"profile_text_color\":\"333333\",\"profile_use_background_image\":true,\"profile_image_url\":\"http:\\/\\/pbs.twimg.com\\/profile_images\\/981507339323920387\\/H76UOiji_normal.jpg\",\"profile_image_url_https\":\"https:\\/\\/pbs.twimg.com\\/profile_images\\/981507339323920387\\/H76UOiji_normal.jpg\",\"profile_banner_url\":\"https:\\/\\/pbs.twimg.com\\/profile_banners\\/295119361\\/1523786878\",\"default_profile\":true,\"default_profile_image\":false,\"following\":null,\"follow_request_sent\":null,\"notifications\":null},\"geo\":null,\"coordinates\":null,\"place\":{\"id\":\"7bd9298983681ec3\",\"url\":\"https:\\/\\/api.twitter.com\\/1.1\\/geo\\/id\\/7bd9298983681ec3.json\",\"place_type\":\"city\",\"name\":\"Sunderland\",\"full_name\":\"Sunderland, England\",\"country_code\":\"GB\",\"country\":\"United Kingdom\",\"bounding_box\":{\"type\":\"Polygon\",\"coordinates\":[[[-1.416610,54.858852],[-1.416610,54.939633],[-1.354122,54.939633],[-1.354122,54.858852]]]},\"attributes\":{}},\"contributors\":null,\"is_quote_status\":false,\"quote_count\":0,\"reply_count\":0,\"retweet_count\":2,\"favorite_count\":2,\"entities\":{\"hashtags\":[{\"text\":\"Eurovision\",\"indices\":[16,27]},{\"text\":\"Eurovision2018\",\"indices\":[78,93]}],\"urls\":[],\"user_mentions\":[],\"symbols\":[]},\"favorited\":false,\"retweeted\":false,\"filter_level\":\"low\",\"lang\":\"en\"},\"is_quote_status\":false,\"quote_count\":0,\"reply_count\":0,\"retweet_count\":0,\"favorite_count\":0,\"entities\":{\"hashtags\":[{\"text\":\"Eurovision\",\"indices\":[31,42]},{\"text\":\"Eurovision2018\",\"indices\":[93,108]}],\"urls\":[],\"user_mentions\":[{\"screen_name\":\"DougJ7777\",\"name\":\"Doug\",\"id\":295119361,\"id_str\":\"295119361\",\"indices\":[3,13]}],\"symbols\":[]},\"favorited\":false,\"retweeted\":false,\"filter_level\":\"low\",\"lang\":\"en\",\"timestamp_ms\":\"1526140734035\"}\n"
     ]
    }
   ],
   "source": [
    "with open('mini_input.txt', 'r') as f:\n",
    "    head = [next(f).rstrip() for _ in range(3)]\n",
    "    [print(line) for line in head]"
   ]
  },
  {
   "cell_type": "markdown",
   "metadata": {
    "id": "v5MGuGGFJy2-"
   },
   "source": [
    "## Modelizar Tweets\n",
    "\n",
    "Representar un Tweet dentro de una dataclass de python. Desde el input de arriba sabemos que: \n",
    "- el input es en formato JSON \n",
    "- contiene muchos campos, por lo tanto seleccionaremos algunos relevantes, u ignoraremos los otros"
   ]
  },
  {
   "cell_type": "code",
   "execution_count": 1,
   "metadata": {
    "id": "BF2lAty2c4yy",
    "tags": []
   },
   "outputs": [],
   "source": [
    "from dataclasses import dataclass\n",
    "\n",
    "@dataclass\n",
    "class Tweet:\n",
    "  \"\"\"Class to model a Tweet\"\"\"\n",
    "  id: int         # The unique ID of a tweet\n",
    "  content: str    # The textual content of a tweet\n",
    "  author: str     # The nickname of the author of the tweet\n",
    "  language: str   # The language of the tweet"
   ]
  },
  {
   "cell_type": "markdown",
   "metadata": {},
   "source": [
    "En el código siguiente, el método `parse_line` se ocupa de interpretar una línea de input como JSON, y de mapear cada línea en una instancia de la dataclass `Tweet`. \n",
    "\n",
    "De momento, aunque no se recomiende para inputs de gran tamaño, almacenaremos **todos** los Tweets en una lista `tweets`, que escribiremos en un fichero `clean-dataset`. \n",
    "\n",
    "Completamos juntos *en clase* el código del método `parse_line`. "
   ]
  },
  {
   "cell_type": "code",
   "execution_count": 2,
   "metadata": {
    "colab": {
     "base_uri": "https://localhost:8080/"
    },
    "id": "ghv9ixwmcbk9",
    "outputId": "d8197cee-9cc9-4904-ec91-509748ce6ecb",
    "tags": []
   },
   "outputs": [],
   "source": [
    "import json, dataclasses\n",
    "\n",
    "tweets = [] # empty list to store the parsed tweet objects.\n",
    "\n",
    "def parse_line(line: str):\n",
    "  \"\"\"Try to parse a string into a Person\"\"\"\n",
    "  try:\n",
    "    parsed = json.loads(line) # \n",
    "    return Tweet(parsed['id'], parsed['text'], parsed['user']['screen_name'], parsed['lang'])\n",
    "    pass\n",
    "  except Exception as e:\n",
    "    print(f\"Error parsing '{line}': {e}\")\n",
    "\n",
    "with open(\"mini_input.txt\") as input:\n",
    "    for line in input:\n",
    "        if len(line.rstrip()) > 0:\n",
    "          tweet = parse_line(line)\n",
    "          tweets.append(tweet)\n",
    "\n",
    "#print(tweets)\n",
    "                                                            \n",
    "with open(\"clean-dataset\", 'w') as f:\n",
    "  tweet_strings = map(lambda x: json.dumps(dataclasses.asdict(x)) + '\\n', tweets)\n",
    "  f.writelines(tweet_strings)\n"
   ]
  },
  {
   "cell_type": "code",
   "execution_count": 3,
   "metadata": {
    "colab": {
     "base_uri": "https://localhost:8080/"
    },
    "id": "apozej9_LL6l",
    "outputId": "2f4341bc-df83-4824-b9ef-2670c8938c47",
    "tags": []
   },
   "outputs": [
    {
     "name": "stdout",
     "output_type": "stream",
     "text": [
      "Tweet(id=995332494974210048, content='RT @carloscarmo98: -Manel, algo que decir sobre tu actuación en Eurovision?\\n-Kikiriketediga https://t.co/yXGYtKmJoM', author='Alba137', language='es')\n",
      "Tweet(id=995332495783727105, content=\"RT @DougJ7777: If Britain wins #Eurovision then we have to rejoin the EU. It's in the rules. #Eurovision2018\", author='DougJ7777', language='en')\n",
      "Tweet(id=995332497029332994, content='RT @AndreaMBaeza: Enserio esto es BRUTAL. ESTAMOS TODOS A UNA CON ELLOS!!!!!!!! OS QUEREMOS!! ❤️💛❤️ #aMaiaALFRED12POINTS #AmaiaAlfredLisboa…', author='cf_pablochape', language='es')\n",
      "Tweet(id=995332494185680897, content='8. беларусь • 2018 \\n#eurovision https://t.co/eWK7qRykgz', author='blcklcfr', language='ru')\n",
      "Tweet(id=995332497419403265, content=\"RT @Mystificus: Of course I'll watch #eurovision tonight. After all, 200 million people can't be wrong, can they?\\nEr...🍊🔫...\", author='EcuadorDon', language='en')\n",
      "Tweet(id=995332497943777281, content='RT @KlNGNEUER: Me when Europeans make fun of Eurovision VS Me when Americans make fun of Eurovision\\n\\n#Eurovision #EuroSemi2 https://t.co/HW…', author='BitterSweetMei', language='en')\n",
      "Tweet(id=995332498153529344, content='Eurovision song contest 2018 tonight!!!!!!', author='666asstrid', language='en')\n",
      "Tweet(id=995332497918570496, content='RT @itsjonjol: Europe! Vote for Spain, vote for song number 2! ✨\\n--\\nEuropa! Votad a España, votad por la canción número 2! ✨\\n\\n#Eurovision #…', author='paurrodriguez15', language='es')\n",
      "Tweet(id=995332498312843264, content='RT @r3alityfan: Miriam, Agoney y Cepeda usando la palabra “magia” para dar ánimos a Amaia &amp; Alfred. Tal vez de eso vaya la noche... de ilus…', author='demarcaribe', language='es')\n",
      "Tweet(id=995332497142636551, content='@foureira_eleni La ganadora de Eurovisión 2018!! Es una diosaaaa!!!  #elenifoureira #fuego #eurovision #esc2018… https://t.co/qX3b7BbH7m', author='dragonred84', language='es')\n"
     ]
    }
   ],
   "source": [
    "for modeled_tweet in tweets[0:10]:\n",
    "  print(modeled_tweet)"
   ]
  },
  {
   "cell_type": "markdown",
   "metadata": {
    "id": "e4PHW8O8wbCO"
   },
   "source": [
    "# Responder preguntas sobre datos\n",
    "\n",
    "Desde nuestro dataset limpio `clean_input` podemos ahora intentar responder a preguntas concretas, por ejemplo:\n",
    "\n",
    "1. Cuántos tweets hay en nuestro fichero `mini_input.txt`? \n",
    "2. Cuántos de estos tweets son en español? Y cuantos son en inglés? \n",
    "3. Cual es la palabra más significativa de los tweets en castellano? "
   ]
  },
  {
   "cell_type": "code",
   "execution_count": 4,
   "metadata": {
    "colab": {
     "base_uri": "https://localhost:8080/"
    },
    "id": "0M228jcmOWBS",
    "outputId": "2ccaa550-be80-465f-dfa4-3744cda48797",
    "tags": []
   },
   "outputs": [
    {
     "name": "stdout",
     "output_type": "stream",
     "text": [
      "[Tweet(id=995332494974210048, content='RT @carloscarmo98: -Manel, algo que decir sobre tu actuación en Eurovision?\\n-Kikiriketediga https://t.co/yXGYtKmJoM', author='Alba137', language='es'), Tweet(id=995332495783727105, content=\"RT @DougJ7777: If Britain wins #Eurovision then we have to rejoin the EU. It's in the rules. #Eurovision2018\", author='DougJ7777', language='en')]\n",
      "1000\n",
      "236\n",
      "{'de': 146, 'RT': 142, 'que': 96, 'y': 92, 'a': 87, 'en': 81, '#Eurovision': 75, 'la': 73, 'el': 68, 'no': 48, 'para': 31, 'Amaia': 28, 'Eurovision': 27, 'con': 27, 'es': 26, 'Alfred': 26, 'un': 26, 'por': 25, 'me': 22, 'ya': 21, 'los': 19, '@Alfred_ot2017': 18, 'nos': 18, 'del': 18, 'si': 17, 'noche': 16, 'ver': 16, '@Amaia_ot2017': 15, 'al': 15, 'España': 15, 'esta': 15, 'ha': 15, 'lo': 15, 'este': 15, 'La': 14, 'se': 14, 'No': 14, 'porque': 14, 'esto': 13, 'A': 13, 'Hoy': 13, 'hemos': 13, 'han': 13, 'más': 13, 'todos': 12, '#AmaiaAlfred12points': 12, 'va': 12, 'importa': 12, 'ganado': 11, 'hoy': 11, 'día': 11, 'Y': 10, 'cómo': 10, 'Son': 10, 'las': 10, 'nosotros': 10, 'enseñado': 10, 'su': 10, '#eurovision': 9, 'Nos': 9, 'pero': 9, 'puesto': 8, 'El': 8, 'Me': 8, 'da': 8, 'igual': 8, 'DE': 8, 'año': 8, 'gran': 8, '@DavidLinares:': 8, 'ganan': 8, 'ellos.': 8, 'importan…': 8, 'Esta': 8, 'qué': 8, 'canción': 7, '#AllAboard': 7, 'suerte': 7, 'final': 7, 'Festival': 7, 'haber': 7, 'mejor': 7, '#Eurovision2018': 7, '@LVPibai:': 7, 'le': 7, 'Si': 7, 'todo': 7, 'Eurovisión': 6, 'una': 6, 'días': 6, 'te': 6, 'cada': 6, 'Salvador': 6, 'Que': 6, 'Chikilicuatre': 6, 'ni': 6, 'eurovision': 6, 'actuación': 5, '': 5, '@FonGoesWest:': 5, '364': 5, 'año:': 5, 'asco': 5, 'españa\\n\\ndía': 5, '#eurovision:': 5, 'https://t.co/m8yWbNmZEg': 5, '12': 5, 'está': 5, '@serperort:': 5, 'Tucan-ción\\n#EuroSemi2': 5, 'https://t.co/cfIpFSSc4N': 5, '#esc2018': 5, '#allaboard': 5, 'mi': 5, 'ir': 5, 'españoles': 5, 'arrepentimos': 5, 'llevado': 5, 'https://t.co/mnpanS21gK': 5, 'Pero': 5, 'como': 5, 'Cuando': 5, '3': 5, 'queremos': 5, '-': 5, '#Eurovision!': 5, 'sobre': 4, '@AndreaMBaeza:': 4, 'Enserio': 4, 'BRUTAL.': 4, 'ESTAMOS': 4, 'TODOS': 4, 'UNA': 4, 'CON': 4, 'ELLOS!!!!!!!!': 4, 'OS': 4, 'QUEREMOS!!': 4, '❤️💛❤️': 4, '#aMaiaALFRED12POINTS': 4, '#AmaiaAlfredLisboa…': 4, '#…': 4, 'Es': 4, 'será': 4, 'en…': 4, 'estar': 4, 'canciones': 4, '@PalomaGQuiros:': 4, 'queden.': 4, 'músicos,': 4, 'verdad.': 4, 'sinceros,': 4, 'educados': 4, 'dan': 4, 'oro': 4, 'entrevista.': 4, '\\nEspaña': 4, 'g…': 4, 'mis': 4, 'quedará': 4, 'brillar': 4, 'noche.': 4, 'POR': 4, 'antes': 4, '@moedetriana:': 4, 'hablamos': 4, 'deberíamos': 4, 'olvidar': 4, 'quedó': 4, 'clasificado': 4, 'Edurne,': 4, 'Barei,': 4, 'Sora…': 4, 'hay': 4, 'unas': 4, 'mí': 4, '(y': 4, 'son': 4, 'grande': 4, 'os': 4, 'Mi': 4, '#Almaia': 4, 'horas': 4, 'país': 4, 'fue': 4, 'ensayo': 4, 'tiene': 4, 'hace': 4, 'tu': 3, 'for': 3, 'vez': 3, '2018': 3, 'fuera': 3, 'votar': 3, 'sus': 3, 'Las': 3, 'de…': 3, '😂': 3, 'también': 3, '@_Parao:': 3, 'Rt': 3, 'crees': 3, 'detrás': 3, 'Málaga.': 3, '@Alfred_ot2017.': 3, 'ser': 3, 'Eurovision.': 3, 'gana': 3, 'banderas': 3, 'celebra': 3, 'estoy': 3, ',': 3, 'libro': 3, 'sólo': 3, 'HA': 3, 'único': 3, '#ESC2018': 3, '@Gastako:': 3, '\\n#eurovision': 3, 'pasado': 3, 'Este': 3, '@OT_Oficial:': 3, 'muy': 3, 'toda': 3, '@Mimi_ot2017:': 3, 'quedao': 3, 'pa': 3, 'https://t.co/FudBeYo8RB': 3, 'hacemos': 3, 'poco': 3, 'v…': 3, 'partido': 3, 'o': 3, 'festival': 3, 'mucha': 3, '#Eurovision?': 3, 'tenemos': 3, 'menos': 3, 'pareja': 3, 'cuenta': 3, 'ganar': 3, 'enviar': 3, '2018.': 3, 'Final': 3, 'así': 3, 'En': 3, 'tarde': 3, 'les': 3, '@Alfonso_martin1:': 3, 'Se': 3, 'rumorea': 3, 'después': 3, 'Quim': 3, 'Torrá': 3, 'sucesor': 3, 'trono': 3, 'Alfred.\\n#Eurovision': 3, '#InvestiduraTV3': 3, 'algo': 2, 'decir': 2, 'vote': 2, '2!': 2, 'Cepeda': 2, 'dar': 2, '&amp;': 2, 'vaya': 2, 'nadie': 2, 'otra': 2, '@teleaudiencias:': 2, '#Eurovision:': 2, '¡¡IMPORTANTE!!': 2, 'RT/MG\\nSi': 2, 'eres': 2, 'español,': 2, 'vives': 2, 'quieres': 2, '@Sisisisimba1045:': 2, 'Miriam': 2, 'deseando': 2, 'https://t.co/zFxV7273Fm': 2, 'hasta': 2, '@el_show_de_SAM:': 2, 'show': 2, 'SAM': 2, '(@el_show_de_sam):': 2, 'VÍDEO:': 2, '46': 2, '16': 2, 'https://t.co/mkmCI5W9JN': 2, '#eurovision…': 2, 'veré': 2, 'LOS': 2, 'LA': 2, 'apoya': 2, 'estaremos': 2, 'e': 2, '@SwordGH:': 2, 'Belén': 2, 'Esteban': 2, 'responde': 2, 'Sobral.': 2, 'https://t.co/XxFPNWlipT': 2, 'primera': 2, 'voy': 2, 'nada': 2, 'nuestros': 2, 'sin': 2, 'Amaia,': 2, 'Lisboa': 2, 'preparada': 2, 'vosotros': 2, 'Vais': 2, '🇪🇸✨': 2, '@Amaia_ot2017…': 2, 'Triana': 2, 'Sánchez': 2, 'ella.Nos': 2, 'donde': 2, 'memes': 2, 'tanto': 2, 'Alfred,': 2, 'Aún': 2, '#EUROVISION': 2, '@Amonicaco:': 2, 'mucho.': 2, 'facherío': 2, 'inflamado': 2, 'conocen': 2, 'título': 2, 'hace…': 2, 'GANAS': 2, 'EUROVISION': 2, 'directo': 2, 'Quiero': 2, '@Eurovision_ESP:': 2, 'CUMPLIDO': 2, 'SU': 2, 'SUEÑO': 2, 'https://t.co/Z688o89l2t': 2, 'Descubre': 2, 'segunda': 2, 'mejores': 2, '@Rocu_dan:': 2, 'preocupa': 2, 'Lisboa,': 2, 'Portugal...No': 2, 'sorprendería': 2, 'nada,': 2, 'que…': 2, 'vídeo': 2, 'hecho': 2, '#Eurovision,': 2, 'FAVOR.': 2, 'Hispanidad': 2, 'habían': 2, 'visto': 2, 'tantas': 2, 'españolas': 2, 'juntas.': 2, 'vestido': 2, 'tengo': 2, 'Traje': 2, 'Ya': 2, 'más,': 2, 'verdadero': 2, 'fuegos': 2, '#Europizziadas': 2, 'verdad': 2, '@la2_tve:': 2, 'Paul': 2, 'Newman': 2, 'Roddy': 2, 'McDowall': 2, 'oso).\\nJunto': 2, 'Ava': 2, 'Gardner': 2, 'Anthony': 2, 'Perkins': 2, 'interpretan': 2, 'película': 2, \"\\n'El\": 2, 'juez': 2, 'hor…': 2, 'viviremos': 2, 'especial': 2, 'mandarles': 2, 'suerte…': 2, 'Mensaje': 2, 'Portugal:': 2, 'mañana': 2, 'dais': 2, 'puntos': 2, 'Extremadura': 2, 'Galicia': 2, 'mucho': 2, 'amigos': 2, 'ME': 2, 'Todo': 2, 'yo': 2, 'sé': 2, '.': 2, 'he': 2, 'casa': 2, 'toca': 2, 'sábado': 2, '@eurovision_tve': 2, '@borjateran:': 2, 'Tengo': 2, 'buscando': 2, 'tuit': 2, 'enero': 2, 'dije': 2, 'ganábamos': 2, '#España': 2, '#AlmaiaEurovision': 2, '#CuriosidadCinéfila': 2, '¡Dentro': 2, 'tendremos': 2, '¿Sabíais': 2, 'par': 2, 'actore…': 2, 'Alfred:': 2, '#Eurovision…': 2, 'posición': 2, 'solo': 2, 'Mucha': 2, 'puedes': 2, '@javierescarting:': 2, 'e…': 2, 'Top': 2, '@CAOsasuna:': 2, '🎤': 2, 'clave': 2, 'Sadar.': 2, 'nuestro': 2, 'apoyo': 2, 'rojilla': 2, 'compañ…': 2, 'Lo': 2, 'desde': 2, 'academia': 2, 'hayan': 2, 'día,': 2, '@ManuGuix:': 2, 'final.': 2, 'siempre': 2, 'deseo': 2, 'buena': 2, 'eurovision.': 2, 'sea': 2, 'gran…': 2, 'día.': 2, 'x': 2, 'harán': 2, 'sentir': 2, 'ellos': 2, 'Qué': 2, 'q': 2, 'viendo': 2, 'cuando': 2, 'otro': 2, 'actor': 2, 'sonar': 2, 'contamos': 2, 'tiempo:': 2, '¡Ben': 2, 'Barnes!\\n#Eurovision…': 2, '@carloscarmo98:': 1, '-Manel,': 1, 'Eurovision?\\n-Kikiriketediga': 1, 'https://t.co/yXGYtKmJoM': 1, '@itsjonjol:': 1, 'Europe!': 1, 'Vote': 1, 'Spain,': 1, 'song': 1, 'number': 1, '✨\\n--\\nEuropa!': 1, 'Votad': 1, 'España,': 1, 'votad': 1, 'número': 1, '✨\\n\\n#Eurovision': 1, '@r3alityfan:': 1, 'Miriam,': 1, 'Agoney': 1, 'usando': 1, 'palabra': 1, '“magia”': 1, 'ánimos': 1, 'Alfred.': 1, 'Tal': 1, 'eso': 1, 'noche...': 1, 'ilus…': 1, '@foureira_eleni': 1, 'ganadora': 1, '2018!!': 1, 'diosaaaa!!!': 1, '#elenifoureira': 1, '#fuego': 1, '#esc2018…': 1, 'https://t.co/qX3b7BbH7m': 1, '@latitaana:': 1, 'actuarán': 1, '✌️,': 1, 'VICTORIA': 1, '✌️.': 1, '#SuperFan': 1, '#ILoveEurovision…': 1, 'caso': 1, 'perderemos': 1, 'dos': 1, 'ratos': 1, 'acordará': 1, '#Eurovision.': 1, 'luego': 1, 'cosa.': 1, '@Clossssssssss:': 1, 'Europe': 1, 'the': 1, 'SONG': 1, '02': 1, 'tonight': 1, 'at': 1, \"❤\\n\\n🇪🇸\\n'Tú\": 1, \"canción'\\nAmaia\": 1, '\\n#Eurovision': 1, 'https:/…': 1, '@Jotawy:': 1, 'Portugal': 1, 'última': 1, 'puntos\\n\\nVamos': 1, 'sufriendo': 1, ':_________': 1, 'https://t.co/ijB5lKwLOm': 1, 'minutos': 1, '¡Subelamusica': 1, 'News': 1, 'disponible!': 1, 'https://t.co/wOGnAW6rqW': 1, 'Gracias': 1, '@javivacas': 1, '@dodmagazine': 1, '@cervezasambar': 1, '#warpmagazine88': 1, '@pol_chamorro:': 1, 'MUCHA': 1, 'SUERTE': 1, 'CAMPEONES!!!!': 1, 'alfred_ot2017': 1, 'amaia_ot2017': 1, 'https://t.co/41Tp0Tsodb': 1, 'dia!': 1, ':3': 1, '@DavidMasi95:': 1, 'EBU': 1, 'prohibido': 1, 'Mango': 1, 'TV': 1, '(#China🇨🇳)': 1, 'seguir': 1, 'emitiendo': 1, 'censurado': 1, '“si': 1, 'agenda': 1, 'permite,': 1, 'compañeros”': 1, 'creímos': 1, 'JUEGUITOS': 1, 'JAM': 1, 'https://t.co/PV75jJlN3v': 1, '@AlfredGDaily:': 1, 'Pol': 1, 'Chamorro': 1, '#AmaiaAlfred12points.\\nhttps://t.co/gPIJaeC9m5': 1, 'https://t.co/fZy…': 1, 'IMPORTANTE.': 1, 'Para': 1, 'viviéndolo': 1, 'vivo.': 1, 'Todos': 1, 'una.': 1, 'https://t.co/33ChHMoA7f': 1, '@20m': 1, 'Netta': 1, 'calla': 1, 'escucha': 1, 'Israel': 1, 'memez': 1, 'ganas.': 1, 'minuto...': 1, '@fedeariasp:': 1, '¡Cómo': 1, 'quedando': 1, 'salón': 1, 'año!': 1, '😍': 1, 'VUELVE': 1, '#Eurovisivas': 1, 'reaccionando': 1, 'TODO': 1, '#AllAbo…': 1, '@DisneySpain:': 1, 'siente': 1, 'mando,': 1, '¡que': 1, 'pegados': 1, 'tele!': 1, '¡Mu…': 1, '@marubimo:': 1, 'Siento': 1, 'cantar': 1, 'representación': 1, 'Aparte': 1, 'opinión…': 1, 'previa': 1, 'Ipurúa': 1, 'aporta': 1, 'interesante.': 1, 'Pulsamos': 1, 'opinión': 1, 'queridos': 1, 'seguidores': 1, 'amigos.': 1, '\\n\\n¿Qu…': 1, 'https://t.co/6NNfPTfsJj': 1, '@laugheverx:': 1, 'Alba': 1, 'Reig': 1, 'compositora': 1, 'Arde,': 1, 'quedo': 1, 'puertas': 1, 'embargo': 1, 'Amaia.': 1, 'Diferenci…': 1, '#Eurovison': 1, '\\nÁnimo': 1, 'resultado': 1, 'fest…': 1, 'https://t.co/cfTnpVAwnZ': 1, 'https://t.co/DMEOhKXcl5': 1, 'import…': 1, 'https://t.co/b2RT6D2VWR': 1, '@joosearodriguez:': 1, 'inundan': 1, 'escenario': 1, '#Eurovision\\n#AmaiaAlfred12points': 1, '🇪🇸': 1, 'https://t.co/UnohX3Fe…': 1, '*preparando': 1, 'eurovision*': 1, 'Hay': 1, 'llorando': 1, 'conocido': 1, 'sobral': 1, 'alegro': 1, '😭😭😭😭': 1, 'https://t.co/iDygSuab1Z': 1, '@SrtaManuelafr:': 1, 'maravilla.\\nQue': 1, 'orgullo.\\nAmaia,': 1, 'TODAS!!!♥️♥️\\n#Eurovision': 1, 'https://t.co/3ILRXiHwRh': 1, '@MrGalisteo:': 1, 'ponen': 1, 'pelos': 1, 'punta': 1, 'escucho': 1, '“Quédate': 1, 'Conmigo”': 1, 'Pastora': 1, 'Soler': 1, '2012.': 1, 'Sin': 1, 'pues…': 1, 'QUE': 1, 'TENGO': 1, 'AAAAAAAAAAAAAAAAAAAAAAAAAAAAAAAAAAAAAAAAAAAAAAAAAAAAAA': 1, 'en\\xa0vivo': 1, 'https://t.co/kdSORzeQdg': 1, 'ganen': 1, 'Piqué': 1, 'marque': 1, 'Mundial.': 1, '@TimeJustOficial:': 1, 'MÚSICA': 1, '|': 1, 'transcurrió': 1, 'semifinal': 1, '@obvio99': 1, 'https://t.c…': 1, '@etsey24': 1, 'tema': 1, 'lol,': 1, 'otras,': 1, 'música': 1, 'peor;': 1, 'un…': 1, 'https://t.co/vkVKlOfs7d': 1, 'Entrevista': 1, 'Saara': 1, 'Aalto\\n#Eurovision': 1, '\\nhttps://t.co/GdkynJjiGa': 1, '@RamonEspinar:': 1, 'Mira': 1, '@ierrejon': 1, '@LateMotivcero': 1, 'muero': 1, 'risa': 1, '😂😂': 1, 'https://t.co/gB…': 1, '@soyestherr:': 1, 'FIN.': 1, 'ALFRED': 1, 'CONOCIDO': 1, 'SALVADOR': 1, 'SOBRAL.': 1, '😭💘': 1, 'https://t.co/a9hFjIr…': 1, '@MomentsES:': 1, '⚡️': 1, 'histórica': 1, 'eliminación': 1, 'Rusia': 1, '#EuroSemi2': 1, 'desapercibida': 1, 'fans': 1, '👀\\nhttps://t.co/…': 1, '@soulofmysoul__:': 1, 'HISTORIA': 1, 'ESPAÑA': 1, 'EUROPA': 1, 'https://t.co/Cdnq0j6eIF': 1, 'Deberia': 1, 'ponerme': 1, 'purpurina': 1, 'eurovision?': 1, '@Ikus93:': 1, 'graduación': 1, '80': 1, 'sienta': 1, 'fatal.': 1, '\\nVale.': 1, '\\nMejor': 1, 'hago': 1, 'idea.': 1, 'Pues': 1, 'eso...': 1, '¡DISFRUTAD!': 1, '🤘🏻🖤': 1, '\\n\\n#AmaiaAlfred12points': 1, '#EurovisionTVE…': 1, 'https://t.co/v2sQTy6w9z': 1, 'JAJAJQ': 1, 'KE': 1, 'ES': 1, 'EWTOY': 1, 'PUNTO': 1, 'CAGARME': 1, 'EMOCION': 1, 'FUA': 1, 'NO': 1, 'PUEDOTIO': 1, 'JAJSJRJJRJRJRJAJAJSJJ': 1, '@Eurovisionario:': 1, 'llegó,': 1, 'largo': 1, 'corta)': 1, 'año.\\n¡¡': 1, 'Disfrutemos': 1, '!!\\n#AllAboard…': 1, '@elpais_tele:': 1, 'reto': 1, 'casi': 1, 'imposible': 1, 'montar': 1, '26': 1, 'videoclips': 1, 'https://t.co/3gb5GkD3bD': 1, 'prodcutor': 1, 'Christer': 1, 'Bjorj…': 1, '@mlaredoperez:': 1, 'debe': 1, 'triunfar': 1, 'magia': 1, 'artificiales.\\nAqui': 1, 'estan': 1, 'números': 1, 'telefono': 1, 'Almaia': 1, 'tuviese': 1, 'favoritos': 1, 'gustan': 1, 'estas:': 1, '\\n•Lie': 1, 't…': 1, 'https://t.co/LZsSTGEYJQ': 1, '@casasola89:': 1, 'Quizá': 1, 'quedemos': 1, 'merecen,': 1, 'encanta': 1, 'artistas': 1, 'españoles,': 1, 'algunos': 1, 'internaci…': 1, '@ramonetlop:': 1, 'Allá': 1, '1856,': 1, 'pintor': 1, 'realista': 1, 'Jean-François': 1, 'Millet': 1, 'predijo': 1, 'Polonia': 1, '2014.': 1, 'https://t.co/…': 1, '0': 1, 'interés': 1, '100': 1, 'pizzas': 1, 'sacar': 1, 'dato': 1, 'https://t.co/WR5tCwSozl': 1, '@luisangelsjo:': 1, 'Feliz': 1, 'eurofans': 1, 'estén.': 1, '\\nGracias': 1, 'pasa,': 1, 'aún': 1, 'm…': 1, 'https://t.co/zzyQ3NcPMW': 1, 'GUSTAN': 1, 'COÑOs\\n#Eurovision': 1, '\\n#12PointsSpain': 1, '\\n#TorneoMCU': 1, '\\n#FelizSabado': 1, 'https://t.co/YzJygmIC9Y': 1, 'listo!': 1, '😁': 1, 'https://t.co/bf3aFDqr3y': 1, 'Quedan': 1, '3h': 1, 'matar': 1, 'tiempo': 1, 'entonces': 1, '@PrincesaBocazas': 1, 'Puto': 1, 'Mordor': 1, 'Yo': 1, 'quedado': 1, 'calentitos.': 1, 'sinceramente': 1, 'chiste': 1, 'medio': 1, 'ot': 1, 'esté': 1, 'metido': 1, 'año.': 1, 'roi': 1, 'miriam': 1, 'ju…': 1, 'https://t.co/aQLL30oBI3': 1, '@lanuevaespana:': 1, 'Espontáneos,': 1, 'fallos': 1, 'técnicos': 1, 'caídas': 1, 'algunas': 1, 'situaciones': 1, 'bochornosas': 1, 'podido': 1, '#Eurov…': 1, 'JAJAJJAJAJA': 1, 'https://t.co/vRwGoivNaA': 1, 'Viejuna': 1, 'Azúcar': 1, 'Moreno': 1, 'Bandido': 1, '(Eurovisión': 1, '1990': 1, 'España)': 1, 'https://t.co/IQ81Wv8DCu': 1, '@Isaac__am:': 1, '@DeluxeSabado': 1, '@MariaLapiedra1': 1, '@jjaviervazquez': 1, '21h': 1, '@La1_tve': 1, '(posición': 1, '2)': 1, '@RTVE_Com:': 1, '.@ManelNMusic': 1, 'podía': 1, 'faltar': 1, 'Sus': 1, 'deseos': 1, '@Superbritanico:': 1, 'Junto': 1, 'ti.': 1, '🖤': 1, '#YourSong': 1, '#Eurovision\\n\\nhttps://t.co/gd2yEkDPja': 1, 'https://t.co/sXYCu4Jplw': 1, 'penita': 1, 'vivo': 1, 'enamorado': 1, '13': 1, 'sube': 1, 'nadie.': 1, 'bueno': 1, 'pues': 1, 'quien': 1, 'quiere': 1, 'inigo': 1, 'TEST': 1, '📋': 1, '¿Eres': 1, 'experto': 1, '¡Demuéstralo': 1, 'llévate': 1, 'points!': 1, 'https://t.co/aYWlTtCYOW': 1, 'canal': 1, '@DrawMyLife_Es': 1, 'recuerda': 1, 'hicieron': 1, '#OT': 1, 'momentos': 1, 'https://t.co/XhRzFzfgPW': 1, '¡Hoy': 1, 'animar': 1, 'Desde': 1, 'aquí': 1, 'desearle': 1, 'muchísima': 1, 'a…': 1, 'https://t.co/PV6zh9lZ8F': 1, 'somos': 1, 'Esperanza': 1, 'Gracia,': 1, 'sabemos': 1, 'pasar': 1, '#euronoches…': 1, 'https://t.co/YPkNd5Ruzr': 1, 'Hace': 1, 'años': 1, 'estaba': 1, 'tan': 1, 'pendiente': 1, 'festival.': 1, 'devuelto': 1, 'magia…': 1, 'https://t.co/TjkAF7zAOJ': 1, '#JoséMaríaÍñigo': 1, 'falta': 1, 'voz.': 1, 'Siempre': 1, 'tendrás': 1, 'página': 1, 'Historia.': 1, 'Porque...': 1, 'https://t.co/PcIULqJUno': 1, 'https://t.co/7Itlqvcrre': 1, 'Silvia': 1, 'Abril': 1, 'levanta': 1, 'ánimo': 1, '\"Nadie': 1, 'daba': 1, 'duro': 1, 'mira\"': 1, 'https://t.co/X4W7yvynr0': 1, 'actuará': 1, '¡Suerte': 1, '@Amaia_ot2017!': 1, '&gt;…': 1, 'https://t.co/fSPoXFEuTc': 1, '⏰🎵🎶': 1, '¿Todavía': 1, 'has': 1, 'apuesta': 1, 'ganador': 1, '?': 1, 'Date': 1, 'prisa,': 1, 'quedan': 1, 'horas!…': 1, 'https://t.co/g260TMlZpB': 1, '#Almaia:': 1, '¡por': 1, 'fin': 1, 'llegado': 1, 'previos…': 1, 'https://t.co/gxIh7KOSBW': 1, 'dúo': 1, 'francés': 1, 'Madame': 1, 'Monsieur': 1, 'cantará': 1, '“Mercy”': 1, 'historia': 1, 'una…': 1, 'https://t.co/ZyZie9qSfR': 1, '#Top10:\\n1': 1, 'adictiva': 1, 'efectiva': 1, '🇨🇾\\n2': 1, 'desgarradora': 1, '🇮🇹\\n3': 1, 'incomparable': 1, '🇮🇱\\n4': 1, 'conmovedora': 1, '🇫🇷\\n5': 1, 'inquietan…': 1, 'https://t.co/cclbgVVPEL': 1, '.@BAREI_MUSIC:': 1, '\"Acabo': 1, 'lanzar': 1, \"'You\": 1, 'Number': 1, \"One',\": 1, 'tercer': 1, 'disco.': 1, 'álbum': 1, 'adulto': 1, 'inconformista': 1, 'https://t.co/5Zzhmh7EtC': 1, 'Eurovisión.': 1, 'Esperamos': 1, 'tengáis': 1, 'actuación…': 1, 'https://t.co/B1XIh9HrHI': 1, '¿Preparado': 1, '\\n\\n¡Pues': 1, 'apostar': 1, 'quién': 1, 'edición?': 1, '\\n\\nAquí': 1, 'tienes': 1, 'in…': 1, 'https://t.co/hrKaRDxiWq': 1, '@SergiioMancini:': 1, 'dellafuente': 1, 'seguro': 1, '✡️': 1, 'Segunda': 1, 'parte': 1, 'jury': 1, 'rehearsal': 1, 'ovación': 1, 'https://t.co/qrndpb24…': 1, 'Massiel': 1, 'ganó': 1, 'exhibe': 1, 'Museo': 1, 'https://t.co/w1txX1jCLO': 1, '@MaryWachi_:': 1, 'Sobral:': 1, 'artificiales': 1, 'baile.': 1, '\\n\\nEleni': 1, 'Foureira:': 1, '¿que': 1, 'no?': 1, 'Madre': 1, 'mía': 1, 'digo': 1, 'ti': 1, 'si.…': 1, '@diegopena_humor:': 1, 'EURORISION,': 1, 'retransmisión': 1, 'cachonda': 1, 'pase': 1, 'también,': 1, '21,': 1, 'Solo': 1, 'top': 1, '5': 1, '\\n#Israel': 1, '\\n#Cyprus\\n#Francia\\n#Dinamarca\\n#Irealand\\n\\nPara': 1, '10': 1, 'quizás': 1, '3\\nGanador': 1, '#Francia…': 1, 'https://t.co/yidsU4MPFX': 1, 'https://t.co/gbSbfpiijH': 1, 'Alfredo': 1, 'Duro': 1, 'carga': 1, 'contra': 1, '\"Un': 1, 'anormal': 1, 'chupiparejita': 1, 'define': 1, 'd…': 1, 'https://t.co/jy9iM8vQU4': 1, '\"que': 1, 'esa': 1, 'mirada': 1, 'convierta': 1, 'música\"': 1, 'parecido': 1, 'súper': 1, 'bonito': 1, '💖': 1, '#AmaiaAlfred12Points': 1, '@JAntonio_ot2017:': 1, 'Contando': 1, 'horas...': 1, '#12PointsSpain': 1, 'https://t.co/qe0EFAb140': 1, 'https://t.co/l2P3nXpExN': 1, '@lolatihan:': 1, 'rabia': 1, 'salieron': 1, 'parado': 1, 'entregado': 1, '10…': 1, 'Faltan': 1, '#EUROVISIÓN:': 1, '¿quién': 1, 'año?': 1, 'https://t.co/R7oHf3M51r': 1, 'Bueno,': 1, 'costado': 1, '#TeamChipre.': 1, 'versión': 1, 'español': 1, 'ahora': 1, 'veo': 1, 'posibi…': 1, 'https://t.co/bqP3hquxvD': 1, 'primer': 1, '\"Que': 1, 'sigan': 1, 'luces\"': 1, '💡': 1, 'propuesta': 1, '@NilMoliner': 1, 'A…': 1, 'Último': 1, 'técnico': 1, 'Después': 1, 'descansar': 1, 'tope': 1, '20h.': 1, 'Esto': 1, 'acaba': 1, 'am…': 1, 'Rusia,': 1, 'Rumanía,': 1, 'Grecia,': 1, 'Azerbaiyán': 1, 'Armenia': 1, 'histórico': 1, 'certamen.': 1, 'Igual': 1, 'nosotr…': 1, 'https://t.co/pHqDfWlNTI': 1, 'Joder': 1, 'Francia,': 1, 'letra': 1, 'profunda,': 1, 'bien': 1, 'estructurada...': 1, 'locura.': 1, 'https://t.co/w9PW9fb2oC': 1, '@p_glvz:': 1, 'Por': 1, 'cositas': 1, 'banca,': 1, 'todavía': 1, 'Alfred.\\nA': 1, 'favor': 1, 'fascio': 1, 'rabiar': 1, '🤗\\n\\n#AmaiaAlfred12poin…': 1, '@RuthLorenzo:': 1, 'mando': 1, 'universo': 1, 'Vosotros': 1, 'llenaros': 1, 'música,': 1, '@Amaia_winner:': 1, 'YAAAS': 1, 'consiguió': 1, '🙌❤': 1, 'https://t.co/gige5lnH9z': 1, '@Briznilla_:': 1, 'actúa': 1, 'malo': 1, 'Eurovision?': 1, 'https://t.co/nXpkqnuW2C': 1, '@jokermac_:': 1, 'participan': 1, '¿Te': 1, 'gustaría': 1, 'enterara': 1, 'pon…': 1, 'Vota': 1, 'app': 1, 'Suerte': 1, 'alfred': 1, 'https://t.co/gH2boE9DnT': 1, 'Aunque': 1, 'favorita': 1, 'Chipre,': 1, 'https://t.co/6i85ZvnNG9': 1, 'Irlanda': 1, 'retransmitida': 1, 'contenido': 1, 'LGTBI': 1, 'Albania': 1, 'músicos': 1, 'lucen': 1, 'tatuajes': 1, 'https://t.co/PNr6Erxx7x': 1, '@Indigo3x1:': 1, 'SPAIN': 1, 'PRE-SELECTION': 1, '\\nÍNDIGO': 1, '3.1': 1, '\"NO': 1, 'PIDAS\"': 1, '#goodluckspain': 1, '#1single': 1, 'segundo': 1, 'álbum,': 1, 'qu…': 1, 'ENTREVISTA.': 1, '¿Tiene': 1, 'algún': 1, 'favorito': 1, '@VarelaJulia': 1, '¿Cuál': 1, 'pronóstico?': 1, 'prnoticias…': 1, 'https://t.co/hsmMQSdHzc': 1, '@Currice:': 1, 'mierda': 1, '🙌🏻': 1, 'soy': 1, 'consumidor': 1, 'OT': 1, 'deben': 1, 'hacie…': 1, '@irlyuuto:': 1, 'bajona': 1, 'recuerdo': 1, 'https://t.co/IbQklq56Zc': 1, 'quedamos?': 1, 'emoción': 1, '¡A': 1, 'todas': 1, '@Alfred_ot2017!': 1, 'https://t.co/LL5rmXhxsg': 1, 'QUÉ': 1, '@polsest:': 1, 'alfred:': 1, 'sería': 1, 'guay': 1, 'catalán': 1, 'euskera': 1, 'mostrar': 1, 'variedad': 1, 'cultural': 1, 'es…': 1, 'porra': 1, 'quedar': 1, '12.\\n#Eurovision': 1, '@EFELafototeca:': 1, 'Siete': 1, 'victorias': 1, 'triunfos': 1, 'Canción': 1, '¿Sabes': 1, 'trata?': 1, '@AdrianAlba_P:': 1, 'aventura': 1, 'eurovisiva': 1, 'siendo': 1, 'sueño': 1, 'cumplido': 1, '✨❤': 1, '#eurovision2018': 1, '@amaia_ot2017': 1, '@alfred_ot2…': 1, '@pilipoto95:': 1, 'resto': 1, 'año:\\n-': 1, 'corrupto': 1, 'representa.': 1, 'Vaya': 1, 'vergüenza': 1, 'país\\n\\nme': 1, ':': 1, 'https://t.co/B…': 1, '@joseguti_99:': 1, 'vais': 1, 'pesados': 1, 'decídmelo': 1, 'favor,': 1, 'seguiros': 1, 'cosa': 1, '@HablamosdeTv:': 1, 'Llegó': 1, 'bailamos': 1, 'vez.': 1, 'Creo': 1, 'disfrutaré…': 1, 'ganas': 1, 'veros': 1, 'abrazaros': 1, '@NoemiGaleraN': 1, '@javviercalvo': 1, '@soyambrossi': 1, '@RobertoLealG': 1, '@Aitana_ot2017': 1, '!!!!!!!': 1, 'https://t.co/Mk7YZepYyC': 1, 'ganado,': 1, 'queden': 1, 'podemos': 1, 'enviarle': 1, 'tupper': 1, '@Amaia_ot2017,': 1, 'tú': 1, 'sí': 1, 'degustar': 1, 'cocina': 1, '#Navarra.': 1, '¡Hazlo': 1, 'ella!…': 1, 'https://t.co/cs778XQ6J7': 1, 'hacen': 1, 'ridiculo': 1, 'llevan': 1, 'haciendo': 1, 'meses.…': 1, 'https://t.co/tzBjVOP2tH': 1, '@NoelBayarri:': 1, 'Soy': 1, 'tristes': 1, 'calcetines': 1, 'cajón?': 1, '@BodegasCovinas:': 1, 'Queremos': 1, 'celebrar': 1, '#SanIsidro': 1, 'vosotros.': 1, 'estás': 1, 'fiestas': 1, '#EscápateconCoviñas.': 1, 'Participa': 1, 'sorteo': 1, 'tre…': 1, '@dux_albanus:': 1, 'Ella,': 1, 'progre': 1, 'limitadita': 1, 'facciones': 1, 'hombre': 1, 'lleva': 1, 'maleta': 1, '\"España': 1, 'mierda\"': 1, '\\nÉl,': 1, 'soy-boy': 1, 'bl…': 1, 'Nose': 1, 'pensar': 1, '26\\n#Eurovision': 1, 'Noemí': 1, 'Galera,': 1, 'Diario': 1, 'Navarra:': 1, '“Me': 1, 'queden,': 1, 'ganadores”': 1, 'https://t.co/PP3prdLyuW…': 1, 'https://t.co/VWZdxgMwxf': 1, '@naforue:': 1, 'Mientras': 1, 'delegación': 1, 'española': 1, 'ridiculiza': 1, 'eurofans,': 1, 'Jury': 1, 'Rehearsal': 1, 'Gran': 1, 'Final…': 1, '@saemaligna:': 1, 'pedir': 1, 'perdón': 1, 'followers': 1, 'espera': 1, 'https://t.co/NErYRY4G…': 1, \"LET'S\": 1, 'GO': 1, 'PORTUGAL!!\\n\\n#Eurovision': 1, 'https://t.co/NEUpReuJfn': 1, '¿Os': 1, 'acordáis': 1, '\"Spain,': 1, 'points\"?': 1, 'Algunos': 1, 'tampoco.': 1, 'Aquí': 1, 'peores': 1, 'mejores)': 1, 'puestos': 1, 'https://t.co/0bL6xug5fC': 1, 'dilema.': 1, '¿Para': 1, 'propuesta?': 1, 'sirve': 1, 'culpa': 1, 'mayor…': 1, 'https://t.co/xGxuQCPwk9': 1, '@100mildolares:': 1, 'importancia…': 1, 'explico': 1, '@DomDevilSR': 1, 'autocontrolandose': 1, 'escribir': 1, 'mayúsculas': 1, 'cuál': 1, 'fan': 1, 'histérico': 1, 'vida': 1, 'https://t.co/1svHHBdTvd': 1, '@eur_ot:': 1, '#ULTIMAHORA': 1, 'Máxima': 1, 'difusión': 1, 'tweet!\\nEsta': 1, '19:00': 1, 'hacer': 1, 'TT': 1, 'hashtag': 1, '#EuropeVoteTheSong2!!!\\n#eurovision': 1, '#Euro…': 1, 'horitas': 1, 'comienza': 1, 'final!!!\\n#Eurovision': 1, '@Agoney_ot2017:': 1, '“Hoy': 1, 'puede': 1, 'plantéatelo': 1, 'así”': 1, 'todxs': 1, 'EUROVISION!!!!': 1, '\\nMucha': 1, '@Amai…': 1, '@info_dalma:': 1, 'Hagamos': 1, 'llegue': 1, 'Seguro': 1, 'ilusión': 1, 'subirse': 1, 'escena…': 1, '@pilargazquez98:': 1, 'Difundid': 1, 'cartel': 1, 'correcto': 1, 'https://t.co/w3w9PH1hvf': 1, 'inicio': 1, 'importante': 1, 'planeta': 1, '¿…': 1, 'https://t.co/P2fMQYEKt6': 1, '@abc_es': 1, 'encuesta': 1, 'semana!': 1, '⬇⬇\\nhttps://t.co/f9kFUUlen3': 1, '@IdiazAyuso:': 1, 'queda': 1, 'nación,': 1, 'hijo': 1, 'mío.': 1, 'https://t.co/yqpjOC5Zxa': 1, 'imaginando': 1, 'emocionado': 1, 'Bisbal': 1, 'que....…': 1, 'https://t.co/RXX25QnYN3': 1, 'vale': 1, 'mensajes': 1, 'negativos': 1, 'coño!': 1, 'toca!!!\\nMañana': 1, 'pediremos': 1, 'responsabilidades': 1, 'dimisiones,': 1, 'disfrutar': 1, 'E…': 1, 'https://t.co/fzIM3VgeiQ': 1, 'santo': 1, 'lado': 1, 'muchos': 1, 'otros': 1, 'https://t.co/AzihBZhArm': 1, '#Eurovision\\n#AllAboard': 1, '\\n#Lisboa': 1, 'Sobral!': 1, 'https://t.co/Rhwgwg2Lyf': 1, '@Dulcesol1952:': 1, '.@Amaia_ot2017': 1, '\"bailamos': 1, '1ª': 1, 'vez\"': 1, 'punto': 1, 'para…': 1, '@JoniLara': 1, '@Eurovision': 1, '@rtve': 1, '@marianorajoy': 1, 'creo': 1, 'adecuado': 1, 'hacerlo': 1, 'Los': 1, 'per…': 1, 'https://t.co/BcZbEJw7bH': 1, 'Brutales': 1, 'último': 1, 'nuevo,': 1, 'visiblemente': 1, 'emocionado.': 1, 'público': 1, 'https://t.co/ikt81IEroE': 1, '#PreguntaAErrejon': 1, 'Podemos': 1, 'llegará': 1, 'poder,': 1, '¿qué': 1, 'tipo': 1, 'cantante': 1, 'grupo': 1, 'mandaría': 1, '?.': 1, 'Gracias.': 1, 'ESTOY': 1, 'NERVIOSAAAAAAAAAAAAAAAA\\n\\n#eurovision': 1, 'https://t.co/Ai1ohZVMyy': 1, '@LordbzB:': 1, 'muero,': 1, 'lema': 1, 'Atlético': 1, 'Madrid': 1, 'https://t.co/ab8cL7puX5': 1, '@BrioEnfurecida:': 1, 'REGLAS': 1, 'DEL': 1, 'VERDADERO': 1, 'FAN': 1, 'EUROVISION:\\n\\n-No': 1, 'semifinales\\n-No': 1, 'escuchado': 1, 'ninguna': 1, 'canción\\n-Tener': 1, 'twitter\\n-Te…': 1, '@TonyAguilarOfi:': 1, 'acaban': 1, 'bordarlo!!!': 1, 'estado': 1, 'IMPRESIONANTES': 1, 'general': 1, 'Estoy': 1, 'realmente': 1, 'emocionada': 1, 'Twitter': 1, 'empiece': 1, 'real': 1}\n"
     ]
    }
   ],
   "source": [
    "import json, dataclasses\n",
    "\n",
    "def read_clean_tweets(input: str):\n",
    "  tweets = []\n",
    "  with open(input, 'r') as f:\n",
    "    lines = f.readlines()\n",
    "  for line in lines:\n",
    "    parsed = json.loads(line)\n",
    "    tweet = Tweet(**parsed) \n",
    "    tweets.append(tweet)\n",
    "  return tweets\n",
    "\n",
    "def count_tweets(tweets: list[Tweet]): # Function 1\n",
    "    return len(tweets)\n",
    "\n",
    "def count_spanish_tweets(tweets: list[Tweet]):  # Function 2\n",
    "    count = 0\n",
    "    for tweet in tweets:\n",
    "        if tweet.language == 'es':\n",
    "            count += 1\n",
    "    return count           \n",
    "\n",
    "def most_significant_word_in_lang(tweets: list[Tweet], lang: str): # Function 3\n",
    "    counts = {} # EMPTY DICTIONARY \n",
    "    # ITERATION\n",
    "    for tweet in tweets:\n",
    "        if tweet.language == lang:\n",
    "            for word in tweet.content.split(' '):\n",
    "                if word in counts: \n",
    "                    current_value = counts[word]\n",
    "                    new_value = current_value + 1\n",
    "                    counts[word] = new_value\n",
    "                else:\n",
    "                    counts[word] = 1\n",
    "    return dict(sorted(counts.items(), key = lambda x: x[1], reverse = True))\n",
    "   \n",
    "\n",
    "tweets = read_clean_tweets('clean-dataset')\n",
    "\n",
    "print(tweets[0:2]) # FIRST 2\n",
    "\n",
    "tweets_count = count_tweets(tweets) # CALL \n",
    "\n",
    "spanish_tweets_count = count_spanish_tweets(tweets)\n",
    "\n",
    "most_significant_word_in_spanish = most_significant_word_in_lang(tweets, 'es')\n",
    "\n",
    "print(tweets_count)\n",
    "\n",
    "print(spanish_tweets_count)\n",
    "\n",
    "print(most_significant_word_in_spanish)"
   ]
  },
  {
   "cell_type": "markdown",
   "metadata": {},
   "source": [
    "for word in tweet.content.split(' '): will break down the content of a tweet into individual words, and then perform an analays to get the most_significant_word_in_lang"
   ]
  },
  {
   "cell_type": "markdown",
   "metadata": {
    "id": "VEUuzkPYUWMW"
   },
   "source": [
    "## Brainstorming\n",
    "\n",
    "What other questions could we ask to the data?"
   ]
  },
  {
   "cell_type": "markdown",
   "metadata": {},
   "source": [
    "Which account has the most retweets and followers. "
   ]
  },
  {
   "cell_type": "markdown",
   "metadata": {
    "id": "MwjHMWoRCGn7"
   },
   "source": [
    "# Question 2.1\n",
    "\n",
    "Cuántos tweets son originales? \n",
    "\n",
    "Definimos un Tweet como *original* si no es un retweet. Para nuestros datos, diremos que un tweet es un retweet si contiene el campo `retweeted_status`. (null -> original)\n",
    "\n",
    "Pasos a seguir: \n",
    "- Anadir un elemento a nuestra dataclass Tweet (que tipo mejor representa esta información?) \n",
    "- Leer de nuevo el input teniendo en cuenta este nuevo elemento y el criterio establecido arriba para determinar si un tweet as un retweet\n",
    "- Escribir un método `count_original_tweets` que devuelva el recuento de tweet originales"
   ]
  },
  {
   "cell_type": "code",
   "execution_count": null,
   "metadata": {
    "tags": []
   },
   "outputs": [],
   "source": [
    "from dataclasses import dataclass\n",
    "\n",
    "@dataclass\n",
    "class Tweet:\n",
    "  \"\"\"Class to model a Tweet\"\"\"\n",
    "  id: int         # The unique ID of a tweet\n",
    "  content: str    # The textual content of a tweet\n",
    "  author: str     # The nickname of the author of the tweet\n",
    "  language: str   # The language of the tweet\n",
    "  retweeted_status: bool "
   ]
  },
  {
   "cell_type": "code",
   "execution_count": null,
   "metadata": {
    "tags": []
   },
   "outputs": [],
   "source": [
    "import json, dataclasses\n",
    "\n",
    "tweets = [] # empty list to store the parsed tweet objects.\n",
    "\n",
    "def parse_line(line: str):\n",
    "  \"\"\"Try to parse a string into a Person\"\"\"\n",
    "  try:\n",
    "    parsed = json.loads(line) # \n",
    "    return Tweet(parsed['id'], parsed['text'], parsed['user']['screen_name'], parsed['lang'], parsed.get('retweeted_status', False))\n",
    "    pass\n",
    "  except Exception as e:\n",
    "    print(f\"Error parsing '{line}': {e}\")\n",
    "\n",
    "with open(\"mini_input.txt\") as input:\n",
    "    for line in input:\n",
    "        if len(line.rstrip()) > 0:\n",
    "          tweet = parse_line(line)\n",
    "          tweets.append(tweet)\n",
    "\n",
    "#print(tweets)\n",
    "                                                            \n",
    "with open(\"clean-dataset\", 'w') as f:\n",
    "  tweet_strings = map(lambda x: json.dumps(dataclasses.asdict(x)) + '\\n', tweets)\n",
    "  f.writelines(tweet_strings)"
   ]
  },
  {
   "cell_type": "code",
   "execution_count": null,
   "metadata": {
    "tags": []
   },
   "outputs": [],
   "source": [
    "import json, dataclasses\n",
    "\n",
    "def read_clean_tweets(input: str):\n",
    "  tweets = []\n",
    "  with open(input, 'r') as f:\n",
    "    lines = f.readlines()\n",
    "  for line in lines:\n",
    "    parsed = json.loads(line)\n",
    "    tweet = Tweet(**parsed) \n",
    "    tweets.append(tweet)\n",
    "  return tweets\n",
    "\n",
    "def count_tweets(tweets: list[Tweet]): # Function 1\n",
    "    return len(tweets)\n",
    "\n",
    "\n",
    "def count_original_tweets(tweets: list[Tweet]):  # Function 2\n",
    "    count = 0\n",
    "    for tweet in tweets:\n",
    "        if tweet.retweeted_status == False:\n",
    "            count += 1\n",
    "    return count \n",
    "\n",
    "tweets = read_clean_tweets('clean-dataset')\n",
    "\n",
    "print(tweets[0:2]) # FIRST 2\n",
    "\n",
    "tweets_count = count_tweets(tweets) # CALL \n",
    "\n",
    "original_tweets_count = count_original_tweets(tweets)\n",
    "\n",
    "\n",
    "print(tweets_count)\n",
    "\n",
    "print(original_tweets_count)"
   ]
  },
  {
   "cell_type": "code",
   "execution_count": 65,
   "metadata": {
    "tags": []
   },
   "outputs": [
    {
     "name": "stdout",
     "output_type": "stream",
     "text": [
      "[Tweet(id=995332494974210048, content='RT @carloscarmo98: -Manel, algo que decir sobre tu actuación en Eurovision?\\n-Kikiriketediga https://t.co/yXGYtKmJoM', author='Alba137', language='es', retweeted_status={'created_at': 'Sat May 13 20:57:18 +0000 2017', 'id': 863498411517108224, 'id_str': '863498411517108224', 'text': '-Manel, algo que decir sobre tu actuación en Eurovision?\\n-Kikiriketediga https://t.co/yXGYtKmJoM', 'display_text_range': [0, 72], 'source': '<a href=\"http://twitter.com/download/android\" rel=\"nofollow\">Twitter for Android</a>', 'truncated': False, 'in_reply_to_status_id': None, 'in_reply_to_status_id_str': None, 'in_reply_to_user_id': None, 'in_reply_to_user_id_str': None, 'in_reply_to_screen_name': None, 'user': {'id': 1651197529, 'id_str': '1651197529', 'name': 'Carlos Carmona', 'screen_name': 'carloscarmo98', 'location': 'Logroño, España', 'url': None, 'description': 'Estudiante de Geografía e Historia y seguidor del Valencia C.F. Nacido en Villanueva de la Serena, Extremadura, y viviendo en Logroño', 'translator_type': 'none', 'protected': False, 'verified': False, 'followers_count': 155, 'friends_count': 108, 'listed_count': 0, 'favourites_count': 1100, 'statuses_count': 1857, 'created_at': 'Tue Aug 06 20:28:56 +0000 2013', 'utc_offset': None, 'time_zone': None, 'geo_enabled': False, 'lang': 'es', 'contributors_enabled': False, 'is_translator': False, 'profile_background_color': 'C0DEED', 'profile_background_image_url': 'http://abs.twimg.com/images/themes/theme1/bg.png', 'profile_background_image_url_https': 'https://abs.twimg.com/images/themes/theme1/bg.png', 'profile_background_tile': False, 'profile_link_color': '1DA1F2', 'profile_sidebar_border_color': 'C0DEED', 'profile_sidebar_fill_color': 'DDEEF6', 'profile_text_color': '333333', 'profile_use_background_image': True, 'profile_image_url': 'http://pbs.twimg.com/profile_images/924184485771522048/MGfUXALI_normal.jpg', 'profile_image_url_https': 'https://pbs.twimg.com/profile_images/924184485771522048/MGfUXALI_normal.jpg', 'profile_banner_url': 'https://pbs.twimg.com/profile_banners/1651197529/1498818908', 'default_profile': True, 'default_profile_image': False, 'following': None, 'follow_request_sent': None, 'notifications': None}, 'geo': None, 'coordinates': None, 'place': None, 'contributors': None, 'is_quote_status': False, 'quote_count': 63, 'reply_count': 17, 'retweet_count': 2945, 'favorite_count': 2568, 'entities': {'hashtags': [], 'urls': [], 'user_mentions': [], 'symbols': [], 'media': [{'id': 863498400314126342, 'id_str': '863498400314126342', 'indices': [73, 96], 'media_url': 'http://pbs.twimg.com/media/C_vDOFbXcAYRKXK.jpg', 'media_url_https': 'https://pbs.twimg.com/media/C_vDOFbXcAYRKXK.jpg', 'url': 'https://t.co/yXGYtKmJoM', 'display_url': 'pic.twitter.com/yXGYtKmJoM', 'expanded_url': 'https://twitter.com/carloscarmo98/status/863498411517108224/photo/1', 'type': 'photo', 'sizes': {'thumb': {'w': 150, 'h': 150, 'resize': 'crop'}, 'small': {'w': 680, 'h': 519, 'resize': 'fit'}, 'medium': {'w': 1078, 'h': 823, 'resize': 'fit'}, 'large': {'w': 1078, 'h': 823, 'resize': 'fit'}}}]}, 'extended_entities': {'media': [{'id': 863498400314126342, 'id_str': '863498400314126342', 'indices': [73, 96], 'media_url': 'http://pbs.twimg.com/media/C_vDOFbXcAYRKXK.jpg', 'media_url_https': 'https://pbs.twimg.com/media/C_vDOFbXcAYRKXK.jpg', 'url': 'https://t.co/yXGYtKmJoM', 'display_url': 'pic.twitter.com/yXGYtKmJoM', 'expanded_url': 'https://twitter.com/carloscarmo98/status/863498411517108224/photo/1', 'type': 'photo', 'sizes': {'thumb': {'w': 150, 'h': 150, 'resize': 'crop'}, 'small': {'w': 680, 'h': 519, 'resize': 'fit'}, 'medium': {'w': 1078, 'h': 823, 'resize': 'fit'}, 'large': {'w': 1078, 'h': 823, 'resize': 'fit'}}}]}, 'favorited': False, 'retweeted': False, 'possibly_sensitive': False, 'filter_level': 'low', 'lang': 'es'}), Tweet(id=995332495783727105, content=\"RT @DougJ7777: If Britain wins #Eurovision then we have to rejoin the EU. It's in the rules. #Eurovision2018\", author='DougJ7777', language='en', retweeted_status={'created_at': 'Sat May 12 15:58:17 +0000 2018', 'id': 995332342712586240, 'id_str': '995332342712586240', 'text': \"If Britain wins #Eurovision then we have to rejoin the EU. It's in the rules. #Eurovision2018\", 'source': '<a href=\"http://twitter.com/download/android\" rel=\"nofollow\">Twitter for Android</a>', 'truncated': False, 'in_reply_to_status_id': None, 'in_reply_to_status_id_str': None, 'in_reply_to_user_id': None, 'in_reply_to_user_id_str': None, 'in_reply_to_screen_name': None, 'user': {'id': 295119361, 'id_str': '295119361', 'name': 'Doug', 'screen_name': 'DougJ7777', 'location': 'Newcastle', 'url': None, 'description': \"'If we find in ourselves a desire which nothing on earth can satisfy, the only explanation is that we were made for another world' - CS Lewis\", 'translator_type': 'none', 'protected': False, 'verified': False, 'followers_count': 967, 'friends_count': 1564, 'listed_count': 6, 'favourites_count': 12087, 'statuses_count': 9293, 'created_at': 'Sun May 08 12:01:06 +0000 2011', 'utc_offset': None, 'time_zone': None, 'geo_enabled': True, 'lang': 'en', 'contributors_enabled': False, 'is_translator': False, 'profile_background_color': 'C0DEED', 'profile_background_image_url': 'http://abs.twimg.com/images/themes/theme1/bg.png', 'profile_background_image_url_https': 'https://abs.twimg.com/images/themes/theme1/bg.png', 'profile_background_tile': False, 'profile_link_color': '1DA1F2', 'profile_sidebar_border_color': 'C0DEED', 'profile_sidebar_fill_color': 'DDEEF6', 'profile_text_color': '333333', 'profile_use_background_image': True, 'profile_image_url': 'http://pbs.twimg.com/profile_images/981507339323920387/H76UOiji_normal.jpg', 'profile_image_url_https': 'https://pbs.twimg.com/profile_images/981507339323920387/H76UOiji_normal.jpg', 'profile_banner_url': 'https://pbs.twimg.com/profile_banners/295119361/1523786878', 'default_profile': True, 'default_profile_image': False, 'following': None, 'follow_request_sent': None, 'notifications': None}, 'geo': None, 'coordinates': None, 'place': {'id': '7bd9298983681ec3', 'url': 'https://api.twitter.com/1.1/geo/id/7bd9298983681ec3.json', 'place_type': 'city', 'name': 'Sunderland', 'full_name': 'Sunderland, England', 'country_code': 'GB', 'country': 'United Kingdom', 'bounding_box': {'type': 'Polygon', 'coordinates': [[[-1.41661, 54.858852], [-1.41661, 54.939633], [-1.354122, 54.939633], [-1.354122, 54.858852]]]}, 'attributes': {}}, 'contributors': None, 'is_quote_status': False, 'quote_count': 0, 'reply_count': 0, 'retweet_count': 2, 'favorite_count': 2, 'entities': {'hashtags': [{'text': 'Eurovision', 'indices': [16, 27]}, {'text': 'Eurovision2018', 'indices': [78, 93]}], 'urls': [], 'user_mentions': [], 'symbols': []}, 'favorited': False, 'retweeted': False, 'filter_level': 'low', 'lang': 'en'})]\n",
      "1000\n",
      "236\n",
      "541\n",
      "{'de': 146, 'RT': 142, 'que': 96, 'y': 92, 'a': 87, 'en': 81, '#Eurovision': 75, 'la': 73, 'el': 68, 'no': 48, 'para': 31, 'Amaia': 28, 'Eurovision': 27, 'con': 27, 'es': 26, 'Alfred': 26, 'un': 26, 'por': 25, 'me': 22, 'ya': 21, 'los': 19, '@Alfred_ot2017': 18, 'nos': 18, 'del': 18, 'si': 17, 'noche': 16, 'ver': 16, '@Amaia_ot2017': 15, 'al': 15, 'España': 15, 'esta': 15, 'ha': 15, 'lo': 15, 'este': 15, 'La': 14, 'se': 14, 'No': 14, 'porque': 14, 'esto': 13, 'A': 13, 'Hoy': 13, 'hemos': 13, 'han': 13, 'más': 13, 'todos': 12, '#AmaiaAlfred12points': 12, 'va': 12, 'importa': 12, 'ganado': 11, 'hoy': 11, 'día': 11, 'Y': 10, 'cómo': 10, 'Son': 10, 'las': 10, 'nosotros': 10, 'enseñado': 10, 'su': 10, '#eurovision': 9, 'Nos': 9, 'pero': 9, 'puesto': 8, 'El': 8, 'Me': 8, 'da': 8, 'igual': 8, 'DE': 8, 'año': 8, 'gran': 8, '@DavidLinares:': 8, 'ganan': 8, 'ellos.': 8, 'importan…': 8, 'Esta': 8, 'qué': 8, 'canción': 7, '#AllAboard': 7, 'suerte': 7, 'final': 7, 'Festival': 7, 'haber': 7, 'mejor': 7, '#Eurovision2018': 7, '@LVPibai:': 7, 'le': 7, 'Si': 7, 'todo': 7, 'Eurovisión': 6, 'una': 6, 'días': 6, 'te': 6, 'cada': 6, 'Salvador': 6, 'Que': 6, 'Chikilicuatre': 6, 'ni': 6, 'eurovision': 6, 'actuación': 5, '': 5, '@FonGoesWest:': 5, '364': 5, 'año:': 5, 'asco': 5, 'españa\\n\\ndía': 5, '#eurovision:': 5, 'https://t.co/m8yWbNmZEg': 5, '12': 5, 'está': 5, '@serperort:': 5, 'Tucan-ción\\n#EuroSemi2': 5, 'https://t.co/cfIpFSSc4N': 5, '#esc2018': 5, '#allaboard': 5, 'mi': 5, 'ir': 5, 'españoles': 5, 'arrepentimos': 5, 'llevado': 5, 'https://t.co/mnpanS21gK': 5, 'Pero': 5, 'como': 5, 'Cuando': 5, '3': 5, 'queremos': 5, '-': 5, '#Eurovision!': 5, 'sobre': 4, '@AndreaMBaeza:': 4, 'Enserio': 4, 'BRUTAL.': 4, 'ESTAMOS': 4, 'TODOS': 4, 'UNA': 4, 'CON': 4, 'ELLOS!!!!!!!!': 4, 'OS': 4, 'QUEREMOS!!': 4, '❤️💛❤️': 4, '#aMaiaALFRED12POINTS': 4, '#AmaiaAlfredLisboa…': 4, '#…': 4, 'Es': 4, 'será': 4, 'en…': 4, 'estar': 4, 'canciones': 4, '@PalomaGQuiros:': 4, 'queden.': 4, 'músicos,': 4, 'verdad.': 4, 'sinceros,': 4, 'educados': 4, 'dan': 4, 'oro': 4, 'entrevista.': 4, '\\nEspaña': 4, 'g…': 4, 'mis': 4, 'quedará': 4, 'brillar': 4, 'noche.': 4, 'POR': 4, 'antes': 4, '@moedetriana:': 4, 'hablamos': 4, 'deberíamos': 4, 'olvidar': 4, 'quedó': 4, 'clasificado': 4, 'Edurne,': 4, 'Barei,': 4, 'Sora…': 4, 'hay': 4, 'unas': 4, 'mí': 4, '(y': 4, 'son': 4, 'grande': 4, 'os': 4, 'Mi': 4, '#Almaia': 4, 'horas': 4, 'país': 4, 'fue': 4, 'ensayo': 4, 'tiene': 4, 'hace': 4, 'tu': 3, 'for': 3, 'vez': 3, '2018': 3, 'fuera': 3, 'votar': 3, 'sus': 3, 'Las': 3, 'de…': 3, '😂': 3, 'también': 3, '@_Parao:': 3, 'Rt': 3, 'crees': 3, 'detrás': 3, 'Málaga.': 3, '@Alfred_ot2017.': 3, 'ser': 3, 'Eurovision.': 3, 'gana': 3, 'banderas': 3, 'celebra': 3, 'estoy': 3, ',': 3, 'libro': 3, 'sólo': 3, 'HA': 3, 'único': 3, '#ESC2018': 3, '@Gastako:': 3, '\\n#eurovision': 3, 'pasado': 3, 'Este': 3, '@OT_Oficial:': 3, 'muy': 3, 'toda': 3, '@Mimi_ot2017:': 3, 'quedao': 3, 'pa': 3, 'https://t.co/FudBeYo8RB': 3, 'hacemos': 3, 'poco': 3, 'v…': 3, 'partido': 3, 'o': 3, 'festival': 3, 'mucha': 3, '#Eurovision?': 3, 'tenemos': 3, 'menos': 3, 'pareja': 3, 'cuenta': 3, 'ganar': 3, 'enviar': 3, '2018.': 3, 'Final': 3, 'así': 3, 'En': 3, 'tarde': 3, 'les': 3, '@Alfonso_martin1:': 3, 'Se': 3, 'rumorea': 3, 'después': 3, 'Quim': 3, 'Torrá': 3, 'sucesor': 3, 'trono': 3, 'Alfred.\\n#Eurovision': 3, '#InvestiduraTV3': 3, 'algo': 2, 'decir': 2, 'vote': 2, '2!': 2, 'Cepeda': 2, 'dar': 2, '&amp;': 2, 'vaya': 2, 'nadie': 2, 'otra': 2, '@teleaudiencias:': 2, '#Eurovision:': 2, '¡¡IMPORTANTE!!': 2, 'RT/MG\\nSi': 2, 'eres': 2, 'español,': 2, 'vives': 2, 'quieres': 2, '@Sisisisimba1045:': 2, 'Miriam': 2, 'deseando': 2, 'https://t.co/zFxV7273Fm': 2, 'hasta': 2, '@el_show_de_SAM:': 2, 'show': 2, 'SAM': 2, '(@el_show_de_sam):': 2, 'VÍDEO:': 2, '46': 2, '16': 2, 'https://t.co/mkmCI5W9JN': 2, '#eurovision…': 2, 'veré': 2, 'LOS': 2, 'LA': 2, 'apoya': 2, 'estaremos': 2, 'e': 2, '@SwordGH:': 2, 'Belén': 2, 'Esteban': 2, 'responde': 2, 'Sobral.': 2, 'https://t.co/XxFPNWlipT': 2, 'primera': 2, 'voy': 2, 'nada': 2, 'nuestros': 2, 'sin': 2, 'Amaia,': 2, 'Lisboa': 2, 'preparada': 2, 'vosotros': 2, 'Vais': 2, '🇪🇸✨': 2, '@Amaia_ot2017…': 2, 'Triana': 2, 'Sánchez': 2, 'ella.Nos': 2, 'donde': 2, 'memes': 2, 'tanto': 2, 'Alfred,': 2, 'Aún': 2, '#EUROVISION': 2, '@Amonicaco:': 2, 'mucho.': 2, 'facherío': 2, 'inflamado': 2, 'conocen': 2, 'título': 2, 'hace…': 2, 'GANAS': 2, 'EUROVISION': 2, 'directo': 2, 'Quiero': 2, '@Eurovision_ESP:': 2, 'CUMPLIDO': 2, 'SU': 2, 'SUEÑO': 2, 'https://t.co/Z688o89l2t': 2, 'Descubre': 2, 'segunda': 2, 'mejores': 2, '@Rocu_dan:': 2, 'preocupa': 2, 'Lisboa,': 2, 'Portugal...No': 2, 'sorprendería': 2, 'nada,': 2, 'que…': 2, 'vídeo': 2, 'hecho': 2, '#Eurovision,': 2, 'FAVOR.': 2, 'Hispanidad': 2, 'habían': 2, 'visto': 2, 'tantas': 2, 'españolas': 2, 'juntas.': 2, 'vestido': 2, 'tengo': 2, 'Traje': 2, 'Ya': 2, 'más,': 2, 'verdadero': 2, 'fuegos': 2, '#Europizziadas': 2, 'verdad': 2, '@la2_tve:': 2, 'Paul': 2, 'Newman': 2, 'Roddy': 2, 'McDowall': 2, 'oso).\\nJunto': 2, 'Ava': 2, 'Gardner': 2, 'Anthony': 2, 'Perkins': 2, 'interpretan': 2, 'película': 2, \"\\n'El\": 2, 'juez': 2, 'hor…': 2, 'viviremos': 2, 'especial': 2, 'mandarles': 2, 'suerte…': 2, 'Mensaje': 2, 'Portugal:': 2, 'mañana': 2, 'dais': 2, 'puntos': 2, 'Extremadura': 2, 'Galicia': 2, 'mucho': 2, 'amigos': 2, 'ME': 2, 'Todo': 2, 'yo': 2, 'sé': 2, '.': 2, 'he': 2, 'casa': 2, 'toca': 2, 'sábado': 2, '@eurovision_tve': 2, '@borjateran:': 2, 'Tengo': 2, 'buscando': 2, 'tuit': 2, 'enero': 2, 'dije': 2, 'ganábamos': 2, '#España': 2, '#AlmaiaEurovision': 2, '#CuriosidadCinéfila': 2, '¡Dentro': 2, 'tendremos': 2, '¿Sabíais': 2, 'par': 2, 'actore…': 2, 'Alfred:': 2, '#Eurovision…': 2, 'posición': 2, 'solo': 2, 'Mucha': 2, 'puedes': 2, '@javierescarting:': 2, 'e…': 2, 'Top': 2, '@CAOsasuna:': 2, '🎤': 2, 'clave': 2, 'Sadar.': 2, 'nuestro': 2, 'apoyo': 2, 'rojilla': 2, 'compañ…': 2, 'Lo': 2, 'desde': 2, 'academia': 2, 'hayan': 2, 'día,': 2, '@ManuGuix:': 2, 'final.': 2, 'siempre': 2, 'deseo': 2, 'buena': 2, 'eurovision.': 2, 'sea': 2, 'gran…': 2, 'día.': 2, 'x': 2, 'harán': 2, 'sentir': 2, 'ellos': 2, 'Qué': 2, 'q': 2, 'viendo': 2, 'cuando': 2, 'otro': 2, 'actor': 2, 'sonar': 2, 'contamos': 2, 'tiempo:': 2, '¡Ben': 2, 'Barnes!\\n#Eurovision…': 2, '@carloscarmo98:': 1, '-Manel,': 1, 'Eurovision?\\n-Kikiriketediga': 1, 'https://t.co/yXGYtKmJoM': 1, '@itsjonjol:': 1, 'Europe!': 1, 'Vote': 1, 'Spain,': 1, 'song': 1, 'number': 1, '✨\\n--\\nEuropa!': 1, 'Votad': 1, 'España,': 1, 'votad': 1, 'número': 1, '✨\\n\\n#Eurovision': 1, '@r3alityfan:': 1, 'Miriam,': 1, 'Agoney': 1, 'usando': 1, 'palabra': 1, '“magia”': 1, 'ánimos': 1, 'Alfred.': 1, 'Tal': 1, 'eso': 1, 'noche...': 1, 'ilus…': 1, '@foureira_eleni': 1, 'ganadora': 1, '2018!!': 1, 'diosaaaa!!!': 1, '#elenifoureira': 1, '#fuego': 1, '#esc2018…': 1, 'https://t.co/qX3b7BbH7m': 1, '@latitaana:': 1, 'actuarán': 1, '✌️,': 1, 'VICTORIA': 1, '✌️.': 1, '#SuperFan': 1, '#ILoveEurovision…': 1, 'caso': 1, 'perderemos': 1, 'dos': 1, 'ratos': 1, 'acordará': 1, '#Eurovision.': 1, 'luego': 1, 'cosa.': 1, '@Clossssssssss:': 1, 'Europe': 1, 'the': 1, 'SONG': 1, '02': 1, 'tonight': 1, 'at': 1, \"❤\\n\\n🇪🇸\\n'Tú\": 1, \"canción'\\nAmaia\": 1, '\\n#Eurovision': 1, 'https:/…': 1, '@Jotawy:': 1, 'Portugal': 1, 'última': 1, 'puntos\\n\\nVamos': 1, 'sufriendo': 1, ':_________': 1, 'https://t.co/ijB5lKwLOm': 1, 'minutos': 1, '¡Subelamusica': 1, 'News': 1, 'disponible!': 1, 'https://t.co/wOGnAW6rqW': 1, 'Gracias': 1, '@javivacas': 1, '@dodmagazine': 1, '@cervezasambar': 1, '#warpmagazine88': 1, '@pol_chamorro:': 1, 'MUCHA': 1, 'SUERTE': 1, 'CAMPEONES!!!!': 1, 'alfred_ot2017': 1, 'amaia_ot2017': 1, 'https://t.co/41Tp0Tsodb': 1, 'dia!': 1, ':3': 1, '@DavidMasi95:': 1, 'EBU': 1, 'prohibido': 1, 'Mango': 1, 'TV': 1, '(#China🇨🇳)': 1, 'seguir': 1, 'emitiendo': 1, 'censurado': 1, '“si': 1, 'agenda': 1, 'permite,': 1, 'compañeros”': 1, 'creímos': 1, 'JUEGUITOS': 1, 'JAM': 1, 'https://t.co/PV75jJlN3v': 1, '@AlfredGDaily:': 1, 'Pol': 1, 'Chamorro': 1, '#AmaiaAlfred12points.\\nhttps://t.co/gPIJaeC9m5': 1, 'https://t.co/fZy…': 1, 'IMPORTANTE.': 1, 'Para': 1, 'viviéndolo': 1, 'vivo.': 1, 'Todos': 1, 'una.': 1, 'https://t.co/33ChHMoA7f': 1, '@20m': 1, 'Netta': 1, 'calla': 1, 'escucha': 1, 'Israel': 1, 'memez': 1, 'ganas.': 1, 'minuto...': 1, '@fedeariasp:': 1, '¡Cómo': 1, 'quedando': 1, 'salón': 1, 'año!': 1, '😍': 1, 'VUELVE': 1, '#Eurovisivas': 1, 'reaccionando': 1, 'TODO': 1, '#AllAbo…': 1, '@DisneySpain:': 1, 'siente': 1, 'mando,': 1, '¡que': 1, 'pegados': 1, 'tele!': 1, '¡Mu…': 1, '@marubimo:': 1, 'Siento': 1, 'cantar': 1, 'representación': 1, 'Aparte': 1, 'opinión…': 1, 'previa': 1, 'Ipurúa': 1, 'aporta': 1, 'interesante.': 1, 'Pulsamos': 1, 'opinión': 1, 'queridos': 1, 'seguidores': 1, 'amigos.': 1, '\\n\\n¿Qu…': 1, 'https://t.co/6NNfPTfsJj': 1, '@laugheverx:': 1, 'Alba': 1, 'Reig': 1, 'compositora': 1, 'Arde,': 1, 'quedo': 1, 'puertas': 1, 'embargo': 1, 'Amaia.': 1, 'Diferenci…': 1, '#Eurovison': 1, '\\nÁnimo': 1, 'resultado': 1, 'fest…': 1, 'https://t.co/cfTnpVAwnZ': 1, 'https://t.co/DMEOhKXcl5': 1, 'import…': 1, 'https://t.co/b2RT6D2VWR': 1, '@joosearodriguez:': 1, 'inundan': 1, 'escenario': 1, '#Eurovision\\n#AmaiaAlfred12points': 1, '🇪🇸': 1, 'https://t.co/UnohX3Fe…': 1, '*preparando': 1, 'eurovision*': 1, 'Hay': 1, 'llorando': 1, 'conocido': 1, 'sobral': 1, 'alegro': 1, '😭😭😭😭': 1, 'https://t.co/iDygSuab1Z': 1, '@SrtaManuelafr:': 1, 'maravilla.\\nQue': 1, 'orgullo.\\nAmaia,': 1, 'TODAS!!!♥️♥️\\n#Eurovision': 1, 'https://t.co/3ILRXiHwRh': 1, '@MrGalisteo:': 1, 'ponen': 1, 'pelos': 1, 'punta': 1, 'escucho': 1, '“Quédate': 1, 'Conmigo”': 1, 'Pastora': 1, 'Soler': 1, '2012.': 1, 'Sin': 1, 'pues…': 1, 'QUE': 1, 'TENGO': 1, 'AAAAAAAAAAAAAAAAAAAAAAAAAAAAAAAAAAAAAAAAAAAAAAAAAAAAAA': 1, 'en\\xa0vivo': 1, 'https://t.co/kdSORzeQdg': 1, 'ganen': 1, 'Piqué': 1, 'marque': 1, 'Mundial.': 1, '@TimeJustOficial:': 1, 'MÚSICA': 1, '|': 1, 'transcurrió': 1, 'semifinal': 1, '@obvio99': 1, 'https://t.c…': 1, '@etsey24': 1, 'tema': 1, 'lol,': 1, 'otras,': 1, 'música': 1, 'peor;': 1, 'un…': 1, 'https://t.co/vkVKlOfs7d': 1, 'Entrevista': 1, 'Saara': 1, 'Aalto\\n#Eurovision': 1, '\\nhttps://t.co/GdkynJjiGa': 1, '@RamonEspinar:': 1, 'Mira': 1, '@ierrejon': 1, '@LateMotivcero': 1, 'muero': 1, 'risa': 1, '😂😂': 1, 'https://t.co/gB…': 1, '@soyestherr:': 1, 'FIN.': 1, 'ALFRED': 1, 'CONOCIDO': 1, 'SALVADOR': 1, 'SOBRAL.': 1, '😭💘': 1, 'https://t.co/a9hFjIr…': 1, '@MomentsES:': 1, '⚡️': 1, 'histórica': 1, 'eliminación': 1, 'Rusia': 1, '#EuroSemi2': 1, 'desapercibida': 1, 'fans': 1, '👀\\nhttps://t.co/…': 1, '@soulofmysoul__:': 1, 'HISTORIA': 1, 'ESPAÑA': 1, 'EUROPA': 1, 'https://t.co/Cdnq0j6eIF': 1, 'Deberia': 1, 'ponerme': 1, 'purpurina': 1, 'eurovision?': 1, '@Ikus93:': 1, 'graduación': 1, '80': 1, 'sienta': 1, 'fatal.': 1, '\\nVale.': 1, '\\nMejor': 1, 'hago': 1, 'idea.': 1, 'Pues': 1, 'eso...': 1, '¡DISFRUTAD!': 1, '🤘🏻🖤': 1, '\\n\\n#AmaiaAlfred12points': 1, '#EurovisionTVE…': 1, 'https://t.co/v2sQTy6w9z': 1, 'JAJAJQ': 1, 'KE': 1, 'ES': 1, 'EWTOY': 1, 'PUNTO': 1, 'CAGARME': 1, 'EMOCION': 1, 'FUA': 1, 'NO': 1, 'PUEDOTIO': 1, 'JAJSJRJJRJRJRJAJAJSJJ': 1, '@Eurovisionario:': 1, 'llegó,': 1, 'largo': 1, 'corta)': 1, 'año.\\n¡¡': 1, 'Disfrutemos': 1, '!!\\n#AllAboard…': 1, '@elpais_tele:': 1, 'reto': 1, 'casi': 1, 'imposible': 1, 'montar': 1, '26': 1, 'videoclips': 1, 'https://t.co/3gb5GkD3bD': 1, 'prodcutor': 1, 'Christer': 1, 'Bjorj…': 1, '@mlaredoperez:': 1, 'debe': 1, 'triunfar': 1, 'magia': 1, 'artificiales.\\nAqui': 1, 'estan': 1, 'números': 1, 'telefono': 1, 'Almaia': 1, 'tuviese': 1, 'favoritos': 1, 'gustan': 1, 'estas:': 1, '\\n•Lie': 1, 't…': 1, 'https://t.co/LZsSTGEYJQ': 1, '@casasola89:': 1, 'Quizá': 1, 'quedemos': 1, 'merecen,': 1, 'encanta': 1, 'artistas': 1, 'españoles,': 1, 'algunos': 1, 'internaci…': 1, '@ramonetlop:': 1, 'Allá': 1, '1856,': 1, 'pintor': 1, 'realista': 1, 'Jean-François': 1, 'Millet': 1, 'predijo': 1, 'Polonia': 1, '2014.': 1, 'https://t.co/…': 1, '0': 1, 'interés': 1, '100': 1, 'pizzas': 1, 'sacar': 1, 'dato': 1, 'https://t.co/WR5tCwSozl': 1, '@luisangelsjo:': 1, 'Feliz': 1, 'eurofans': 1, 'estén.': 1, '\\nGracias': 1, 'pasa,': 1, 'aún': 1, 'm…': 1, 'https://t.co/zzyQ3NcPMW': 1, 'GUSTAN': 1, 'COÑOs\\n#Eurovision': 1, '\\n#12PointsSpain': 1, '\\n#TorneoMCU': 1, '\\n#FelizSabado': 1, 'https://t.co/YzJygmIC9Y': 1, 'listo!': 1, '😁': 1, 'https://t.co/bf3aFDqr3y': 1, 'Quedan': 1, '3h': 1, 'matar': 1, 'tiempo': 1, 'entonces': 1, '@PrincesaBocazas': 1, 'Puto': 1, 'Mordor': 1, 'Yo': 1, 'quedado': 1, 'calentitos.': 1, 'sinceramente': 1, 'chiste': 1, 'medio': 1, 'ot': 1, 'esté': 1, 'metido': 1, 'año.': 1, 'roi': 1, 'miriam': 1, 'ju…': 1, 'https://t.co/aQLL30oBI3': 1, '@lanuevaespana:': 1, 'Espontáneos,': 1, 'fallos': 1, 'técnicos': 1, 'caídas': 1, 'algunas': 1, 'situaciones': 1, 'bochornosas': 1, 'podido': 1, '#Eurov…': 1, 'JAJAJJAJAJA': 1, 'https://t.co/vRwGoivNaA': 1, 'Viejuna': 1, 'Azúcar': 1, 'Moreno': 1, 'Bandido': 1, '(Eurovisión': 1, '1990': 1, 'España)': 1, 'https://t.co/IQ81Wv8DCu': 1, '@Isaac__am:': 1, '@DeluxeSabado': 1, '@MariaLapiedra1': 1, '@jjaviervazquez': 1, '21h': 1, '@La1_tve': 1, '(posición': 1, '2)': 1, '@RTVE_Com:': 1, '.@ManelNMusic': 1, 'podía': 1, 'faltar': 1, 'Sus': 1, 'deseos': 1, '@Superbritanico:': 1, 'Junto': 1, 'ti.': 1, '🖤': 1, '#YourSong': 1, '#Eurovision\\n\\nhttps://t.co/gd2yEkDPja': 1, 'https://t.co/sXYCu4Jplw': 1, 'penita': 1, 'vivo': 1, 'enamorado': 1, '13': 1, 'sube': 1, 'nadie.': 1, 'bueno': 1, 'pues': 1, 'quien': 1, 'quiere': 1, 'inigo': 1, 'TEST': 1, '📋': 1, '¿Eres': 1, 'experto': 1, '¡Demuéstralo': 1, 'llévate': 1, 'points!': 1, 'https://t.co/aYWlTtCYOW': 1, 'canal': 1, '@DrawMyLife_Es': 1, 'recuerda': 1, 'hicieron': 1, '#OT': 1, 'momentos': 1, 'https://t.co/XhRzFzfgPW': 1, '¡Hoy': 1, 'animar': 1, 'Desde': 1, 'aquí': 1, 'desearle': 1, 'muchísima': 1, 'a…': 1, 'https://t.co/PV6zh9lZ8F': 1, 'somos': 1, 'Esperanza': 1, 'Gracia,': 1, 'sabemos': 1, 'pasar': 1, '#euronoches…': 1, 'https://t.co/YPkNd5Ruzr': 1, 'Hace': 1, 'años': 1, 'estaba': 1, 'tan': 1, 'pendiente': 1, 'festival.': 1, 'devuelto': 1, 'magia…': 1, 'https://t.co/TjkAF7zAOJ': 1, '#JoséMaríaÍñigo': 1, 'falta': 1, 'voz.': 1, 'Siempre': 1, 'tendrás': 1, 'página': 1, 'Historia.': 1, 'Porque...': 1, 'https://t.co/PcIULqJUno': 1, 'https://t.co/7Itlqvcrre': 1, 'Silvia': 1, 'Abril': 1, 'levanta': 1, 'ánimo': 1, '\"Nadie': 1, 'daba': 1, 'duro': 1, 'mira\"': 1, 'https://t.co/X4W7yvynr0': 1, 'actuará': 1, '¡Suerte': 1, '@Amaia_ot2017!': 1, '&gt;…': 1, 'https://t.co/fSPoXFEuTc': 1, '⏰🎵🎶': 1, '¿Todavía': 1, 'has': 1, 'apuesta': 1, 'ganador': 1, '?': 1, 'Date': 1, 'prisa,': 1, 'quedan': 1, 'horas!…': 1, 'https://t.co/g260TMlZpB': 1, '#Almaia:': 1, '¡por': 1, 'fin': 1, 'llegado': 1, 'previos…': 1, 'https://t.co/gxIh7KOSBW': 1, 'dúo': 1, 'francés': 1, 'Madame': 1, 'Monsieur': 1, 'cantará': 1, '“Mercy”': 1, 'historia': 1, 'una…': 1, 'https://t.co/ZyZie9qSfR': 1, '#Top10:\\n1': 1, 'adictiva': 1, 'efectiva': 1, '🇨🇾\\n2': 1, 'desgarradora': 1, '🇮🇹\\n3': 1, 'incomparable': 1, '🇮🇱\\n4': 1, 'conmovedora': 1, '🇫🇷\\n5': 1, 'inquietan…': 1, 'https://t.co/cclbgVVPEL': 1, '.@BAREI_MUSIC:': 1, '\"Acabo': 1, 'lanzar': 1, \"'You\": 1, 'Number': 1, \"One',\": 1, 'tercer': 1, 'disco.': 1, 'álbum': 1, 'adulto': 1, 'inconformista': 1, 'https://t.co/5Zzhmh7EtC': 1, 'Eurovisión.': 1, 'Esperamos': 1, 'tengáis': 1, 'actuación…': 1, 'https://t.co/B1XIh9HrHI': 1, '¿Preparado': 1, '\\n\\n¡Pues': 1, 'apostar': 1, 'quién': 1, 'edición?': 1, '\\n\\nAquí': 1, 'tienes': 1, 'in…': 1, 'https://t.co/hrKaRDxiWq': 1, '@SergiioMancini:': 1, 'dellafuente': 1, 'seguro': 1, '✡️': 1, 'Segunda': 1, 'parte': 1, 'jury': 1, 'rehearsal': 1, 'ovación': 1, 'https://t.co/qrndpb24…': 1, 'Massiel': 1, 'ganó': 1, 'exhibe': 1, 'Museo': 1, 'https://t.co/w1txX1jCLO': 1, '@MaryWachi_:': 1, 'Sobral:': 1, 'artificiales': 1, 'baile.': 1, '\\n\\nEleni': 1, 'Foureira:': 1, '¿que': 1, 'no?': 1, 'Madre': 1, 'mía': 1, 'digo': 1, 'ti': 1, 'si.…': 1, '@diegopena_humor:': 1, 'EURORISION,': 1, 'retransmisión': 1, 'cachonda': 1, 'pase': 1, 'también,': 1, '21,': 1, 'Solo': 1, 'top': 1, '5': 1, '\\n#Israel': 1, '\\n#Cyprus\\n#Francia\\n#Dinamarca\\n#Irealand\\n\\nPara': 1, '10': 1, 'quizás': 1, '3\\nGanador': 1, '#Francia…': 1, 'https://t.co/yidsU4MPFX': 1, 'https://t.co/gbSbfpiijH': 1, 'Alfredo': 1, 'Duro': 1, 'carga': 1, 'contra': 1, '\"Un': 1, 'anormal': 1, 'chupiparejita': 1, 'define': 1, 'd…': 1, 'https://t.co/jy9iM8vQU4': 1, '\"que': 1, 'esa': 1, 'mirada': 1, 'convierta': 1, 'música\"': 1, 'parecido': 1, 'súper': 1, 'bonito': 1, '💖': 1, '#AmaiaAlfred12Points': 1, '@JAntonio_ot2017:': 1, 'Contando': 1, 'horas...': 1, '#12PointsSpain': 1, 'https://t.co/qe0EFAb140': 1, 'https://t.co/l2P3nXpExN': 1, '@lolatihan:': 1, 'rabia': 1, 'salieron': 1, 'parado': 1, 'entregado': 1, '10…': 1, 'Faltan': 1, '#EUROVISIÓN:': 1, '¿quién': 1, 'año?': 1, 'https://t.co/R7oHf3M51r': 1, 'Bueno,': 1, 'costado': 1, '#TeamChipre.': 1, 'versión': 1, 'español': 1, 'ahora': 1, 'veo': 1, 'posibi…': 1, 'https://t.co/bqP3hquxvD': 1, 'primer': 1, '\"Que': 1, 'sigan': 1, 'luces\"': 1, '💡': 1, 'propuesta': 1, '@NilMoliner': 1, 'A…': 1, 'Último': 1, 'técnico': 1, 'Después': 1, 'descansar': 1, 'tope': 1, '20h.': 1, 'Esto': 1, 'acaba': 1, 'am…': 1, 'Rusia,': 1, 'Rumanía,': 1, 'Grecia,': 1, 'Azerbaiyán': 1, 'Armenia': 1, 'histórico': 1, 'certamen.': 1, 'Igual': 1, 'nosotr…': 1, 'https://t.co/pHqDfWlNTI': 1, 'Joder': 1, 'Francia,': 1, 'letra': 1, 'profunda,': 1, 'bien': 1, 'estructurada...': 1, 'locura.': 1, 'https://t.co/w9PW9fb2oC': 1, '@p_glvz:': 1, 'Por': 1, 'cositas': 1, 'banca,': 1, 'todavía': 1, 'Alfred.\\nA': 1, 'favor': 1, 'fascio': 1, 'rabiar': 1, '🤗\\n\\n#AmaiaAlfred12poin…': 1, '@RuthLorenzo:': 1, 'mando': 1, 'universo': 1, 'Vosotros': 1, 'llenaros': 1, 'música,': 1, '@Amaia_winner:': 1, 'YAAAS': 1, 'consiguió': 1, '🙌❤': 1, 'https://t.co/gige5lnH9z': 1, '@Briznilla_:': 1, 'actúa': 1, 'malo': 1, 'Eurovision?': 1, 'https://t.co/nXpkqnuW2C': 1, '@jokermac_:': 1, 'participan': 1, '¿Te': 1, 'gustaría': 1, 'enterara': 1, 'pon…': 1, 'Vota': 1, 'app': 1, 'Suerte': 1, 'alfred': 1, 'https://t.co/gH2boE9DnT': 1, 'Aunque': 1, 'favorita': 1, 'Chipre,': 1, 'https://t.co/6i85ZvnNG9': 1, 'Irlanda': 1, 'retransmitida': 1, 'contenido': 1, 'LGTBI': 1, 'Albania': 1, 'músicos': 1, 'lucen': 1, 'tatuajes': 1, 'https://t.co/PNr6Erxx7x': 1, '@Indigo3x1:': 1, 'SPAIN': 1, 'PRE-SELECTION': 1, '\\nÍNDIGO': 1, '3.1': 1, '\"NO': 1, 'PIDAS\"': 1, '#goodluckspain': 1, '#1single': 1, 'segundo': 1, 'álbum,': 1, 'qu…': 1, 'ENTREVISTA.': 1, '¿Tiene': 1, 'algún': 1, 'favorito': 1, '@VarelaJulia': 1, '¿Cuál': 1, 'pronóstico?': 1, 'prnoticias…': 1, 'https://t.co/hsmMQSdHzc': 1, '@Currice:': 1, 'mierda': 1, '🙌🏻': 1, 'soy': 1, 'consumidor': 1, 'OT': 1, 'deben': 1, 'hacie…': 1, '@irlyuuto:': 1, 'bajona': 1, 'recuerdo': 1, 'https://t.co/IbQklq56Zc': 1, 'quedamos?': 1, 'emoción': 1, '¡A': 1, 'todas': 1, '@Alfred_ot2017!': 1, 'https://t.co/LL5rmXhxsg': 1, 'QUÉ': 1, '@polsest:': 1, 'alfred:': 1, 'sería': 1, 'guay': 1, 'catalán': 1, 'euskera': 1, 'mostrar': 1, 'variedad': 1, 'cultural': 1, 'es…': 1, 'porra': 1, 'quedar': 1, '12.\\n#Eurovision': 1, '@EFELafototeca:': 1, 'Siete': 1, 'victorias': 1, 'triunfos': 1, 'Canción': 1, '¿Sabes': 1, 'trata?': 1, '@AdrianAlba_P:': 1, 'aventura': 1, 'eurovisiva': 1, 'siendo': 1, 'sueño': 1, 'cumplido': 1, '✨❤': 1, '#eurovision2018': 1, '@amaia_ot2017': 1, '@alfred_ot2…': 1, '@pilipoto95:': 1, 'resto': 1, 'año:\\n-': 1, 'corrupto': 1, 'representa.': 1, 'Vaya': 1, 'vergüenza': 1, 'país\\n\\nme': 1, ':': 1, 'https://t.co/B…': 1, '@joseguti_99:': 1, 'vais': 1, 'pesados': 1, 'decídmelo': 1, 'favor,': 1, 'seguiros': 1, 'cosa': 1, '@HablamosdeTv:': 1, 'Llegó': 1, 'bailamos': 1, 'vez.': 1, 'Creo': 1, 'disfrutaré…': 1, 'ganas': 1, 'veros': 1, 'abrazaros': 1, '@NoemiGaleraN': 1, '@javviercalvo': 1, '@soyambrossi': 1, '@RobertoLealG': 1, '@Aitana_ot2017': 1, '!!!!!!!': 1, 'https://t.co/Mk7YZepYyC': 1, 'ganado,': 1, 'queden': 1, 'podemos': 1, 'enviarle': 1, 'tupper': 1, '@Amaia_ot2017,': 1, 'tú': 1, 'sí': 1, 'degustar': 1, 'cocina': 1, '#Navarra.': 1, '¡Hazlo': 1, 'ella!…': 1, 'https://t.co/cs778XQ6J7': 1, 'hacen': 1, 'ridiculo': 1, 'llevan': 1, 'haciendo': 1, 'meses.…': 1, 'https://t.co/tzBjVOP2tH': 1, '@NoelBayarri:': 1, 'Soy': 1, 'tristes': 1, 'calcetines': 1, 'cajón?': 1, '@BodegasCovinas:': 1, 'Queremos': 1, 'celebrar': 1, '#SanIsidro': 1, 'vosotros.': 1, 'estás': 1, 'fiestas': 1, '#EscápateconCoviñas.': 1, 'Participa': 1, 'sorteo': 1, 'tre…': 1, '@dux_albanus:': 1, 'Ella,': 1, 'progre': 1, 'limitadita': 1, 'facciones': 1, 'hombre': 1, 'lleva': 1, 'maleta': 1, '\"España': 1, 'mierda\"': 1, '\\nÉl,': 1, 'soy-boy': 1, 'bl…': 1, 'Nose': 1, 'pensar': 1, '26\\n#Eurovision': 1, 'Noemí': 1, 'Galera,': 1, 'Diario': 1, 'Navarra:': 1, '“Me': 1, 'queden,': 1, 'ganadores”': 1, 'https://t.co/PP3prdLyuW…': 1, 'https://t.co/VWZdxgMwxf': 1, '@naforue:': 1, 'Mientras': 1, 'delegación': 1, 'española': 1, 'ridiculiza': 1, 'eurofans,': 1, 'Jury': 1, 'Rehearsal': 1, 'Gran': 1, 'Final…': 1, '@saemaligna:': 1, 'pedir': 1, 'perdón': 1, 'followers': 1, 'espera': 1, 'https://t.co/NErYRY4G…': 1, \"LET'S\": 1, 'GO': 1, 'PORTUGAL!!\\n\\n#Eurovision': 1, 'https://t.co/NEUpReuJfn': 1, '¿Os': 1, 'acordáis': 1, '\"Spain,': 1, 'points\"?': 1, 'Algunos': 1, 'tampoco.': 1, 'Aquí': 1, 'peores': 1, 'mejores)': 1, 'puestos': 1, 'https://t.co/0bL6xug5fC': 1, 'dilema.': 1, '¿Para': 1, 'propuesta?': 1, 'sirve': 1, 'culpa': 1, 'mayor…': 1, 'https://t.co/xGxuQCPwk9': 1, '@100mildolares:': 1, 'importancia…': 1, 'explico': 1, '@DomDevilSR': 1, 'autocontrolandose': 1, 'escribir': 1, 'mayúsculas': 1, 'cuál': 1, 'fan': 1, 'histérico': 1, 'vida': 1, 'https://t.co/1svHHBdTvd': 1, '@eur_ot:': 1, '#ULTIMAHORA': 1, 'Máxima': 1, 'difusión': 1, 'tweet!\\nEsta': 1, '19:00': 1, 'hacer': 1, 'TT': 1, 'hashtag': 1, '#EuropeVoteTheSong2!!!\\n#eurovision': 1, '#Euro…': 1, 'horitas': 1, 'comienza': 1, 'final!!!\\n#Eurovision': 1, '@Agoney_ot2017:': 1, '“Hoy': 1, 'puede': 1, 'plantéatelo': 1, 'así”': 1, 'todxs': 1, 'EUROVISION!!!!': 1, '\\nMucha': 1, '@Amai…': 1, '@info_dalma:': 1, 'Hagamos': 1, 'llegue': 1, 'Seguro': 1, 'ilusión': 1, 'subirse': 1, 'escena…': 1, '@pilargazquez98:': 1, 'Difundid': 1, 'cartel': 1, 'correcto': 1, 'https://t.co/w3w9PH1hvf': 1, 'inicio': 1, 'importante': 1, 'planeta': 1, '¿…': 1, 'https://t.co/P2fMQYEKt6': 1, '@abc_es': 1, 'encuesta': 1, 'semana!': 1, '⬇⬇\\nhttps://t.co/f9kFUUlen3': 1, '@IdiazAyuso:': 1, 'queda': 1, 'nación,': 1, 'hijo': 1, 'mío.': 1, 'https://t.co/yqpjOC5Zxa': 1, 'imaginando': 1, 'emocionado': 1, 'Bisbal': 1, 'que....…': 1, 'https://t.co/RXX25QnYN3': 1, 'vale': 1, 'mensajes': 1, 'negativos': 1, 'coño!': 1, 'toca!!!\\nMañana': 1, 'pediremos': 1, 'responsabilidades': 1, 'dimisiones,': 1, 'disfrutar': 1, 'E…': 1, 'https://t.co/fzIM3VgeiQ': 1, 'santo': 1, 'lado': 1, 'muchos': 1, 'otros': 1, 'https://t.co/AzihBZhArm': 1, '#Eurovision\\n#AllAboard': 1, '\\n#Lisboa': 1, 'Sobral!': 1, 'https://t.co/Rhwgwg2Lyf': 1, '@Dulcesol1952:': 1, '.@Amaia_ot2017': 1, '\"bailamos': 1, '1ª': 1, 'vez\"': 1, 'punto': 1, 'para…': 1, '@JoniLara': 1, '@Eurovision': 1, '@rtve': 1, '@marianorajoy': 1, 'creo': 1, 'adecuado': 1, 'hacerlo': 1, 'Los': 1, 'per…': 1, 'https://t.co/BcZbEJw7bH': 1, 'Brutales': 1, 'último': 1, 'nuevo,': 1, 'visiblemente': 1, 'emocionado.': 1, 'público': 1, 'https://t.co/ikt81IEroE': 1, '#PreguntaAErrejon': 1, 'Podemos': 1, 'llegará': 1, 'poder,': 1, '¿qué': 1, 'tipo': 1, 'cantante': 1, 'grupo': 1, 'mandaría': 1, '?.': 1, 'Gracias.': 1, 'ESTOY': 1, 'NERVIOSAAAAAAAAAAAAAAAA\\n\\n#eurovision': 1, 'https://t.co/Ai1ohZVMyy': 1, '@LordbzB:': 1, 'muero,': 1, 'lema': 1, 'Atlético': 1, 'Madrid': 1, 'https://t.co/ab8cL7puX5': 1, '@BrioEnfurecida:': 1, 'REGLAS': 1, 'DEL': 1, 'VERDADERO': 1, 'FAN': 1, 'EUROVISION:\\n\\n-No': 1, 'semifinales\\n-No': 1, 'escuchado': 1, 'ninguna': 1, 'canción\\n-Tener': 1, 'twitter\\n-Te…': 1, '@TonyAguilarOfi:': 1, 'acaban': 1, 'bordarlo!!!': 1, 'estado': 1, 'IMPRESIONANTES': 1, 'general': 1, 'Estoy': 1, 'realmente': 1, 'emocionada': 1, 'Twitter': 1, 'empiece': 1, 'real': 1}\n"
     ]
    }
   ],
   "source": [
    "import json, dataclasses\n",
    "\n",
    "def read_clean_tweets(input: str):\n",
    "  tweets = []\n",
    "  with open(input, 'r') as f:\n",
    "    lines = f.readlines()\n",
    "  for line in lines:\n",
    "    parsed = json.loads(line)\n",
    "    tweet = Tweet(**parsed) \n",
    "    tweets.append(tweet)\n",
    "  return tweets\n",
    "\n",
    "def count_tweets(tweets: list[Tweet]): # Function 1\n",
    "    return len(tweets)\n",
    "\n",
    "def count_spanish_tweets(tweets: list[Tweet]):  # Function 2\n",
    "    count = 0\n",
    "    for tweet in tweets:\n",
    "        if tweet.language == 'es':\n",
    "            count += 1\n",
    "    return count   \n",
    "\n",
    "def count_original_tweets(tweets: list[Tweet]):  # Function 3\n",
    "    count = 0\n",
    "    for tweet in tweets:\n",
    "        if tweet.retweeted_status == False:\n",
    "            count += 1\n",
    "    return count \n",
    "\n",
    "def most_significant_word_in_lang(tweets: list[Tweet], lang: str): # Function 4\n",
    "    counts = {} # EMPTY DICTIONARY \n",
    "    # ITERATION\n",
    "    for tweet in tweets:\n",
    "        if tweet.language == lang:\n",
    "            for word in tweet.content.split(' '):\n",
    "                if word in counts: \n",
    "                    current_value = counts[word]\n",
    "                    new_value = current_value + 1\n",
    "                    counts[word] = new_value\n",
    "                else:\n",
    "                    counts[word] = 1\n",
    "    return dict(sorted(counts.items(), key = lambda x: x[1], reverse = True))\n",
    "   \n",
    "\n",
    "tweets = read_clean_tweets('clean-dataset')\n",
    "\n",
    "print(tweets[0:2]) # FIRST 2\n",
    "\n",
    "tweets_count = count_tweets(tweets) # CALL \n",
    "\n",
    "spanish_tweets_count = count_spanish_tweets(tweets)\n",
    "\n",
    "original_tweets_count = count_original_tweets(tweets)\n",
    "\n",
    "most_significant_word_in_spanish = most_significant_word_in_lang(tweets, 'es')\n",
    "\n",
    "print(tweets_count)\n",
    "\n",
    "print(spanish_tweets_count)\n",
    "\n",
    "print(original_tweets_count)\n",
    "\n",
    "print(most_significant_word_in_spanish)"
   ]
  },
  {
   "cell_type": "code",
   "execution_count": null,
   "metadata": {},
   "outputs": [],
   "source": []
  }
 ],
 "metadata": {
  "colab": {
   "provenance": [],
   "toc_visible": true
  },
  "kernelspec": {
   "display_name": "conda_pytorch_p310",
   "language": "python",
   "name": "conda_pytorch_p310"
  },
  "language_info": {
   "codemirror_mode": {
    "name": "ipython",
    "version": 3
   },
   "file_extension": ".py",
   "mimetype": "text/x-python",
   "name": "python",
   "nbconvert_exporter": "python",
   "pygments_lexer": "ipython3",
   "version": "3.10.14"
  }
 },
 "nbformat": 4,
 "nbformat_minor": 4
}
