{
 "cells": [
  {
   "cell_type": "markdown",
   "metadata": {
    "id": "7e3SpPNdP8As"
   },
   "source": [
    "# Class 3 - Usar ficheros desde S3\n",
    "\n",
    "## Objetivo\n",
    "\n",
    "Usar datos reales de gran tamaño almacenados en S3\n",
    "\n",
    "### Steps\n",
    "\n",
    "1. subir datos a S3\n",
    "2. utilizar S3 como fuente de datos de Tweets \n",
    "3. contestar preguntas sobre estos datos"
   ]
  },
  {
   "cell_type": "markdown",
   "metadata": {},
   "source": [
    "# Parte 1: Operaciones en S3\n",
    "\n",
    "Para praticar las operaciones disponibles en S3 usaremos la consola del Learner Lab. \n",
    "\n",
    "## Buckets \n",
    "\n",
    "### Crear un bucket \n",
    "\n",
    "Para crear el bucket `bucket-de-ejemplo`, el comando es: \n",
    "\n",
    "```aws\n",
    "aws s3api create-bucket -bucket bucket-de-ejemplo\n",
    "```\n",
    "\n",
    "Con el comando \n",
    "```aws\n",
    "aws s3api list-buckets  \n",
    "```\n",
    "\n",
    "podemos comprobar que el bucket haya sido creado. \n",
    "\n",
    "&#x26A0; **Importante!** No pueden existir globalmente en S3 dos buckets con el mismo nombre, aunque sean creados por personas/cuentas diferentes. \n",
    "\n",
    "### Eliminar un bucket \n",
    "\n",
    "Para eliminar el bucket `bucket-de-ejemplo`, el comando es: \n",
    "\n",
    "```aws\n",
    "aws s3api delete-bucket -bucket bucket-de-ejemplo\n",
    "```\n",
    "\n",
    "Con el comando \n",
    "```aws\n",
    "aws s3api list-buckets  \n",
    "```\n",
    "\n",
    "podemos comprobar que el bucket haya sido eliminado. \n",
    "\n",
    "## Ficheros\n",
    "\n",
    "### Hacer el listado de ficheros en un directorio \n",
    "\n",
    "En S3 los directorios como si no existen, pero cuando dos objetos tienen un prefijo comun separado por `/` este prefijo comun se puede interpretar como un directorio. Por ejemplo, el fichero con key `test/sub/file1` y el fichero con key `test/sub/file2` comparten el mismo prefijo `test/sub`, que podemos interpretar como que en el bucket contiene un directorio `test` que contiene un directorio `sub`, que contiene dos ficheros `file1` y `file2`. \n",
    "\n",
    "Por lo tanto, imaginando que estos ficheros sean dentro de un bucket llamado `my-bucket`, podemos pedir por consola de ver el contenido del directorio `test/sub` con el siguiente comando:\n",
    "\n",
    "```\n",
    "aws s3 ls s3://my-bucket/test/sub \n",
    "```\n",
    "\n",
    "### Copiar un fichero a S3 \n",
    "\n",
    "Un fichero `my-file.txt` desde el ordenador se puede copiar a S3 con el siguiente comando:\n",
    "\n",
    "```\n",
    "aws s3 cp my-file.txt s3://my-bucket/my-dir/my-file.txt\n",
    "```\n",
    "\n",
    "También es posible copiar un fichero de S3 a S3, siempre y cuando tengamos los permisos suficientes para realizar la operación (permisos de lectura del fichero de origen, y permiso de escritura al bucket de destino).\n",
    "\n",
    "Por ejemplo el siguiente comando: \n",
    "```\n",
    "aws s3 cp s3://my-bucket/file1.txt s3://my-other-bucket/copy/file1\n",
    "```\n",
    "\n",
    "copia el fichero `file1.txt` desde el bucket `my-bucket` al bucket `my-other-bucket` con el key `copy/file1`. Esto quiere decir que el fichero `file1` estará automáticamente en un directorio `copy` que se creará sin necesidad de existir previamente. Con el comando \n",
    "\n",
    "```\n",
    "aws s3 ls s3://my-other-bucket/copy/ \n",
    "```\n",
    "confirmaremos que el fichero está en el directorio `copy` bajo el nombre `file1` \n",
    "\n",
    "### Otras operaciones sobre ficheros \"locales\"\n",
    "\n",
    "Para hacer pruebas, puede ser útil crear ficheros **desde la consola del Learner Lab**. \n",
    "\n",
    "El siguiente comando crea un fichero vacío llamado `my-file.txt`\n",
    "\n",
    "```bash\n",
    "touch my-file.txt\n",
    "```\n",
    "\n",
    "El siguiente comando imprime en pantalla el listado de ficheros en el directorio actual: \n",
    "\n",
    "```bash\n",
    "ls\n",
    "```\n",
    "\n",
    "También podemos crear un fichero con un contenido desde la consola: \n",
    "\n",
    "```bash\n",
    "echo '12345' > my-second-file.txt \n",
    "```\n",
    "\n",
    "El contenido del fichero `my-second-file.txt` será el texto `12345`"
   ]
  },
  {
   "cell_type": "markdown",
   "metadata": {},
   "source": [
    "## Actividad 1 (en clase)\n",
    "**Usando la consola del Learner Lab**, ejecuta lo siguiente:\n",
    "\n",
    "- Crea un bucket llamado `mudab-ixxxxx` donde `ixxxxx` es tu número identificativo de estudiante\n",
    "- Crea un fichero local con el contenido `abcde` y nombre `file1.txt`\n",
    "- Copia el fichero en tu bucket, bajo el nombre `test/consola/file1`\n",
    "- Copia de nuevo el fichero, bajo el nombre `test/consola/file2`\n",
    "- Comprueba el contenido de tu bucket bajo la key `test/consola/`, deberían aparecer 2 ficheros\n",
    "- Borra el fichero `file2`\n",
    "- Comprueba el contenido de tu bucket bajo la key `test/consola/`, debería aparecer 1 fichero\n",
    "\n",
    "### Descarga en tu ordenador  \n",
    "Si quieres tener los ficheros en tu ordenador para hacer pruebas por tu cuenta, pues los objetos públicos de S3 tiene un URL desde donde descargar el objeto. La versión comprimida de los tweet está disponible aquí: https://mudab-2025-big-data.s3.us-east-1.amazonaws.com/twitter-data-compressed/twitter-data-from-eurovision-2018-splits.zip"
   ]
  },
  {
   "cell_type": "markdown",
   "metadata": {
    "id": "9nMLMr9Ks5_D"
   },
   "source": [
    "# Parte 2: S3 de manera programática \n",
    "\n",
    "En esta parte, añadiremos el acceso a S3 como sistema de ficheros a través de una librería llamada [s3fs](https://s3fs.readthedocs.io/en/latest/). Esta librería nos permite acceder a S3 como si fuera un sistema de ficheros local. \n",
    "\n",
    "Aunque el acceso a S3 de manera programatica requiera credenciales, la ejecución en entorno SageMaker nos permite omitir este paso de configuración, y tener un código más sencillo. \n",
    "\n"
   ]
  },
  {
   "cell_type": "code",
   "execution_count": null,
   "metadata": {
    "tags": []
   },
   "outputs": [],
   "source": [
    "import s3fs\n",
    "s3 = s3fs.S3FileSystem(anon=False)\n",
    "\n",
    "bucket='mudab-2025-big-data'\n",
    "data_key = 'twitter-data/Eurovision-00.json'\n",
    "data_location = 's3://{}/{}'.format(bucket, data_key)"
   ]
  },
  {
   "cell_type": "markdown",
   "metadata": {},
   "source": [
    "### Operaciones sobre ficheros con la librería s3fs \n",
    "\n",
    "La librería s3fs es un ejemplo de acceso programático a los servicios de AWS. En este caso, nos permite acceder a S3 y hacer operaciones utilizando Python. Las operaciones sobre ficheros explicadas arriba se traducen en pequeños *snippets* de código.\n",
    "\n",
    "#### Hacer el listado de ficheros en un directorio\n",
    "\n",
    "```python\n",
    "s3.ls(\"my-bucket/test/sub\")\n",
    "```\n",
    "\n",
    "#### Copiar un fichero a S3\n",
    "\n",
    "```python\n",
    "s3.put(\"my-file.txt\", \"s3://my-bucket/my-dir/my-file.txt\")\n",
    "```\n",
    "\n",
    "#### Borrar un fichero desde S3 \n",
    "\n",
    "```python\n",
    "s3.rm(\"my-bucket/my-dir/my-file.txt\")\n",
    "```"
   ]
  },
  {
   "cell_type": "markdown",
   "metadata": {
    "tags": []
   },
   "source": [
    "## Actividad 2 (en clase)\n",
    "\n",
    "Primero, crea en tu ordenador un fichero local con el contenido que quieras, y nombre `f1.txt`, luego cargalo a tu entorno Jupyter a través del icono de upload &#x2B06;. Usaremos el mismo bucket creado en la actividad anterior\n",
    "\n",
    "Luego, **Usando el entorno de Jupyter**, ejecuta lo siguiente:\n",
    "\n",
    "- Copia el fichero en tu bucket, bajo el nombre `test/jupyter/file1`\n",
    "- Copia de nuevo el fichero, bajo el nombre `test/jupyter/file2`\n",
    "- Comprueba el contenido de tu bucket bajo la key `test/jupyter/`, deberían aparecer 2 ficheros\n",
    "- Borra el fichero `file2`\n",
    "- Comprueba el contenido de tu bucket bajo la key `test/jupyter/`, debería aparecer 1 fichero"
   ]
  },
  {
   "cell_type": "code",
   "execution_count": 1,
   "metadata": {
    "tags": []
   },
   "outputs": [],
   "source": [
    "import s3fs\n",
    "s3 = s3fs.S3FileSystem(anon=False) # CREATE CLIENT\n",
    "\n",
    "s3.put('mini_input.txt', 's3://mudab-2025-pc1262057/dir3/') # COPIES LOCAL FILE "
   ]
  },
  {
   "cell_type": "code",
   "execution_count": 2,
   "metadata": {
    "tags": []
   },
   "outputs": [
    {
     "data": {
      "text/plain": [
       "['mudab-2025-pc1262057/dir3/mini_input.txt']"
      ]
     },
     "execution_count": 2,
     "metadata": {},
     "output_type": "execute_result"
    }
   ],
   "source": [
    "s3.ls('s3://mudab-2025-pc1262057/dir3/')"
   ]
  },
  {
   "cell_type": "code",
   "execution_count": 3,
   "metadata": {
    "tags": []
   },
   "outputs": [
    {
     "data": {
      "text/plain": [
       "['mudab-2025-pc1262057/dir3/mini_input.txt',\n",
       " 'mudab-2025-pc1262057/dir3/mini_input2.txt']"
      ]
     },
     "execution_count": 3,
     "metadata": {},
     "output_type": "execute_result"
    }
   ],
   "source": [
    "s3.put('mini_input.txt', 's3://mudab-2025-pc1262057/dir3/mini_input2.txt')\n",
    "s3.ls('s3://mudab-2025-pc1262057/dir3/')"
   ]
  },
  {
   "cell_type": "code",
   "execution_count": 4,
   "metadata": {
    "tags": []
   },
   "outputs": [
    {
     "data": {
      "text/plain": [
       "['mudab-2025-pc1262057/dir3/mini_input.txt']"
      ]
     },
     "execution_count": 4,
     "metadata": {},
     "output_type": "execute_result"
    }
   ],
   "source": [
    "s3.rm('s3://mudab-2025-pc1262057/dir3/mini_input2.txt') # ERASE\n",
    "s3.ls('s3://mudab-2025-pc1262057/dir3/')"
   ]
  },
  {
   "cell_type": "markdown",
   "metadata": {},
   "source": [
    "# Parte 3: Big data desde S3 \n",
    "\n",
    "En esta parte, intentaremos procesar la colección entera de Tweets que reside en S3. Los pasos a seguir serán los siguientes: \n",
    "\n",
    "1. Desde la consola del Learner Lab, copiar la colección entera desde el bucket de origen (`mudab-2025-big-data`) bajo el path `twitter-data`. Los ficheros se denominan `Eurovision-XX.json` donde `XX` es un número entre `00` y `09`. Para hacer una copia recursiva de ficheros se puede utilizar el comando de copia de una manera más sofisticada utilizando la opción `--recursive`. \n",
    "```bash\n",
    "aws s3 cp —recursive s3://mudab-2023/twitter-data/ s3://mudab2023-i123456/input/\n",
    "```\n",
    "\n",
    "2. Utilizar el mísmo código de la versión anterior para contestar a las siguientes preguntas: \n",
    "- Cuántos Tweeets son en español? \n",
    "- Cual son las 100 palabras más frecuentes en español? "
   ]
  },
  {
   "cell_type": "markdown",
   "metadata": {
    "id": "v5MGuGGFJy2-"
   },
   "source": [
    "## Modelo de Tweets\n",
    "\n",
    "Similar a la clase anterior, creamos un modelo de Tweet "
   ]
  },
  {
   "cell_type": "code",
   "execution_count": 5,
   "metadata": {
    "id": "BF2lAty2c4yy",
    "tags": []
   },
   "outputs": [],
   "source": [
    "from dataclasses import dataclass\n",
    "\n",
    "@dataclass\n",
    "class Tweet:\n",
    "  \"\"\"Class to model a Tweet\"\"\"\n",
    "  id: int         # The unique ID of a tweet\n",
    "  content: str    # The textual content of a tweet\n",
    "  author: str     # The nickname of the author of the tweet\n",
    "  language: str   # The language of the tweet\n"
   ]
  },
  {
   "cell_type": "markdown",
   "metadata": {},
   "source": [
    "## Procesamiento de input (ETL) \n",
    "\n",
    "Similar a la clase anterior, almacenamos todos los tweets en memoria. \n",
    "\n",
    "**Pregunta**: funcionarà esto para nuestro input completo? Que hacer si así no es? "
   ]
  },
  {
   "cell_type": "code",
   "execution_count": 7,
   "metadata": {
    "id": "ghv9ixwmcbk9",
    "tags": []
   },
   "outputs": [
    {
     "name": "stdout",
     "output_type": "stream",
     "text": [
      "Tweet(id=995443356309311493, content='RT @jk_rowling: France ❤️ #Eurovision', author='Liz', language='fr')\n",
      "Tweet(id=995443356602982401, content='RT @neltropico: Salvador Sobral entregándole el premio a Israel #Eurovision https://t.co/sApzlSoPMb', author='Marina', language='es')\n",
      "Tweet(id=995443356552527873, content='RT @jungjaeguns: cuando apago la luz del pasillo para irme a mi habitación y que no me maten los espíritus #Eurovision https://t.co/0naU3Xm…', author='Rosalinda ♥', language='es')\n",
      "Tweet(id=995443356921720835, content='RT @itsbrookewar: Enrique amigooo!!! \\n#Eurovision https://t.co/HTbbMUwEHd', author='Laura Pérez🐒', language='es')\n",
      "Tweet(id=995443356825202690, content='RT @snugglycamila: i’m not surprised eurovision is confusing for americans since the concept of the person with the most votes actually win…', author='Maggi', language='en')\n",
      "Tweet(id=995443357055967233, content='RT @JESSthir: Fuegos artificiales para celebrarlo vamooooooos #eurovision https://t.co/2hwMsyRVAZ', author='Daniel', language='es')\n",
      "Tweet(id=995443357043298304, content='RT @gi_de_off: #Eurovision \\ni just adopted two boys 🇺🇦❤️🇨🇿 https://t.co/2ZSvphRPxV', author='hytr_0', language='en')\n",
      "Tweet(id=995443357236252673, content='RT @kkwondragon: No ha ganado una MUJER, no ha ganado una mujer GORDA, no ha ganado una FEMINISTA, no ha ganado un mensaje ANTI-BULLYING. H…', author='ESPARTANA', language='es')\n",
      "Tweet(id=995443356422557696, content='RT @britneyxcheetos: you mean Chub-Bi https://t.co/KijWpZxRYR', author='ㅤَ', language='en')\n",
      "Tweet(id=995443357366267904, content='Era pra ser a outra colega, mas tá bom https://t.co/0gvd2ei5aU', author='Gri', language='pt')\n"
     ]
    }
   ],
   "source": [
    "import json, dataclasses\n",
    "\n",
    "tweets = []\n",
    "\n",
    "bucket='mudab-2025-pc1262057'\n",
    "data_key = 'input/Eurovision-00.json'\n",
    "data_location = 's3://{}/{}'.format(bucket, data_key)\n",
    "\n",
    "def parse_line(line: str):\n",
    "  \"\"\"Try to parse a string into a Person\"\"\"\n",
    "  error = 0\n",
    "  try:\n",
    "    parsed = json.loads(line)\n",
    "    return Tweet(parsed['id'], parsed['text'], parsed['user']['name'], parsed['lang'])\n",
    "  except Exception as e:\n",
    "    error += 1    \n",
    "#   print(f\"Error parsing '{line}': {e}\")\n",
    "\n",
    "with s3.open(data_location) as input: #CLIENT S3. CAN READ THE FILE LINE BY LINE\n",
    "  for line in input.readlines():\n",
    "    if len(line.strip()) > 0:\n",
    "      tweet = parse_line(line)\n",
    "      if tweet: # We add only if the tweet is not 'None'\n",
    "         tweets.append(tweet)\n",
    "\n",
    "for modeled_tweet in tweets[0:10]:\n",
    "  print(modeled_tweet)"
   ]
  },
  {
   "cell_type": "markdown",
   "metadata": {
    "id": "e4PHW8O8wbCO"
   },
   "source": [
    "# Procesamiento de datos"
   ]
  },
  {
   "cell_type": "code",
   "execution_count": 8,
   "metadata": {
    "colab": {
     "base_uri": "https://localhost:8080/"
    },
    "id": "0M228jcmOWBS",
    "outputId": "8976386a-0645-4be9-a1e0-56bc47767f69",
    "tags": []
   },
   "outputs": [
    {
     "name": "stdout",
     "output_type": "stream",
     "text": [
      "50874\n",
      "[('RT', 85512), ('#Eurovision', 45318), ('de', 26529), ('a', 23982), ('que', 23961), ('la', 16756), ('y', 14531), ('the', 14414), ('el', 13689), ('en', 11688), ('un', 8159), ('to', 7662), ('Israel', 7521), ('', 7442), ('no', 7327), ('con', 7203), ('una', 6211), ('is', 6209), ('los', 6100), ('#eurovision', 6040), ('por', 5799), ('and', 5562), ('in', 5386), ('año', 5282), ('Eurovision', 5220), ('of', 5200), ('es', 4987), ('for', 4565), ('para', 4427), ('Cuando', 4321), ('lo', 4291), ('se', 4120), ('me', 4087), ('del', 4041), ('ha', 3972), ('I', 3783), ('te', 3769), ('eurovision', 3622), ('gana', 3565), ('you', 3377), ('este', 3324), ('mi', 2886), ('this', 2870), ('A', 2854), ('that', 2836), ('#EUROVISION', 2822), ('su', 2749), ('o', 2742), ('#FinalEurovision', 2672), ('pero', 2548), ('canción', 2362), ('e', 2353), ('QUE', 2324), ('on', 2307), ('España', 2286), ('it', 2281), ('El', 2263), ('le', 2223), ('was', 2222), ('-', 2222), ('al', 2211), ('@ManelNMusic:', 2192), ('las', 2171), ('but', 2140), ('La', 2062), ('yo', 2044), ('cuando', 2039), ('with', 1984), ('winner', 1903), ('gallo', 1872), ('nos', 1810), ('2018', 1804), ('tu', 1791), ('Salvador', 1769), ('so', 1766), ('song', 1751), ('about', 1720), ('pasado', 1719), ('Amaia', 1695), ('not', 1679), ('les', 1652), ('#ESC2018', 1652), ('are', 1646), ('NO', 1636), ('último', 1633), ('esto', 1621), ('mucho', 1618), ('quedo', 1610), ('Así', 1596), ('i', 1595), ('han', 1591), ('LA', 1588), ('como', 1580), ('más', 1580), ('da', 1561), ('No', 1560), ('ganado', 1535), ('at', 1527), ('gallina...', 1501), ('https://t.co/EfvXQbb8jp', 1500)]\n"
     ]
    }
   ],
   "source": [
    "import json, dataclasses\n",
    "\n",
    "def read_clean_tweets(input: str):\n",
    "  tweets = []\n",
    "  with open(input, 'r') as f:\n",
    "    lines = f.readlines()\n",
    "  for line in lines:\n",
    "    parsed = json.loads(line)\n",
    "    tweet = Tweet(**parsed)\n",
    "    tweets.append(tweet)\n",
    "  return tweets\n",
    "\n",
    "def count_tweets(language: str, tweets: list[Tweet]):\n",
    "  count = 0\n",
    "  for tweet in tweets:\n",
    "    if (tweet.language == language):\n",
    "      count = count + 1\n",
    "  return count\n",
    "\n",
    "def most_frequent_word(tweets: list[Tweet]):\n",
    "  count = {}\n",
    "  for tweet in tweets:\n",
    "    words = tweet.content.split(' ')\n",
    "    for word in words:\n",
    "      if (word in count):\n",
    "        new_val = count[word] + 1\n",
    "        count[word] = new_val\n",
    "      else:\n",
    "        count[word] = 1\n",
    "  return dict(sorted(count.items(), key=lambda item: item[1], reverse=True))\n",
    "\n",
    "spanish_tweets_count = count_tweets('es', tweets)\n",
    "\n",
    "words_by_frequence = list(most_frequent_word(tweets).items())[0:100]\n",
    "\n",
    "print(spanish_tweets_count)\n",
    "print(words_by_frequence)"
   ]
  },
  {
   "cell_type": "markdown",
   "metadata": {
    "id": "MwjHMWoRCGn7"
   },
   "source": [
    "# Question 3 (Home, Moodle)\n",
    "\n",
    "Los ejemplos de arriba se han hecho con *un solo* fichero, pero las siguientes preguntas aplican a **TODA** la colección (el conjunto de 10 ficheros). \n",
    "\n",
    "- 3.1. Cuántos tweets en español son originales (es decir, no son retweets)? \n",
    "- 3.2. Cual es el porcentaje de tweets para cada lenguaje? Es decir, de toda la colleccion, XX% son en idioma YY, ZZ% son en idioma WW, etc...\n",
    "- 3.3. Cuáles son las palabras más frecuentse en castellano? \n",
    "\n",
    "Añade tu respuesta en un bloque de Jupyter aquí abajo "
   ]
  },
  {
   "cell_type": "code",
   "execution_count": null,
   "metadata": {
    "tags": []
   },
   "outputs": [],
   "source": [
    "import json\n",
    "import s3fs\n",
    "from collections import Counter\n",
    "from dataclasses import dataclass\n",
    "\n",
    "@dataclass\n",
    "class Tweet:\n",
    "    id: int\n",
    "    content: str\n",
    "    author: str\n",
    "    language: str\n",
    "    is_retweet: bool\n",
    "\n",
    "tweets = []\n",
    "\n",
    "bucket = 'mudab-2025-pc1262057'\n",
    "file_names = [f\"s3://{bucket}/input/Eurovision-0{i}.json\" for i in range(10)]\n",
    "\n",
    "def parse_line(line: str):\n",
    "    \"\"\"Tries to convert a line into a Tweet object\"\"\"\n",
    "    try:\n",
    "        parsed = json.loads(line)\n",
    "        is_retweet = parsed.get('retweeted_status', False)\n",
    "        id_ = parsed.get('id')\n",
    "        content = parsed.get('text')\n",
    "        author = parsed.get('user', {}).get('name')\n",
    "        language = parsed.get('lang')\n",
    "\n",
    "        if all([id_, content, author, language]):\n",
    "            return Tweet(id_, content, author, language, is_retweet)\n",
    "        else:\n",
    "            return None  \n",
    "\n",
    "    except (json.JSONDecodeError, KeyError) as e:\n",
    "        # Log the error (optional, but good practice)\n",
    "        # import logging\n",
    "        # logging.error(f\"Error parsing line: {line.strip()} - {e}\")\n",
    "        return None  \n",
    "    except Exception as e:\n",
    "        # logging.exception(\"An unexpected error occurred:\") \n",
    "        return None  \n",
    "\n",
    "\n",
    "s3 = s3fs.S3FileSystem(anon=False)  # S3 client\n",
    "print(\"Starting file reading...\")\n",
    "for file in file_names:\n",
    "    print(f\"Processing file: {file}\")\n",
    "    try:\n",
    "        with s3.open(file) as f:\n",
    "            for line in f:\n",
    "                line = line.strip()\n",
    "                if line:\n",
    "                    tweet = parse_line(line)\n",
    "                    if tweet:\n",
    "                        tweets.append(tweet)\n",
    "    except Exception as e:\n",
    "        print(f\"Error processing file {file}: {e}\")\n",
    "\n",
    "print(f\"Total tweets processed: {len(tweets)}\")\n",
    "\n",
    "\n",
    "def count_tweets(language: str, tweets: list[Tweet]):\n",
    "    return sum(1 for tweet in tweets if tweet.language == language)\n",
    "\n",
    "def get_total_tweets_count(tweets: list[Tweet]):\n",
    "    return len(tweets)\n",
    "\n",
    "def count_original_tweets(tweets: list[Tweet]):\n",
    "    return sum(1 for tweet in tweets if not tweet.is_retweet)\n",
    "\n",
    "def count_original_tweets_spanish(tweets: list[Tweet]):\n",
    "    return sum(1 for tweet in tweets if tweet.language == 'es' and not tweet.is_retweet)\n",
    "\n",
    "def most_frequent_words(tweets: list[Tweet], language=None, top_n=100):\n",
    "    word_counts = Counter()\n",
    "    for tweet in tweets:\n",
    "        if language is None or tweet.language == language:\n",
    "            words = [word.lower().strip('.,!?\"') for word in tweet.content.split()]\n",
    "            word_counts.update(words)\n",
    "    return word_counts.most_common(top_n)\n",
    "\n",
    "\n",
    "languages = ['en', 'es', 'ca', 'gl', 'eu', 'pt', 'fr', 'it', 'ro', 'oc', 'co', 'br', 'lb', 'el', 'tr', 'de', 'sv', 'no', 'da', 'fi', 'nl', 'uk', 'pl', 'cs', 'hu', 'bg', 'sq', 'bs', 'is', 'et', 'mt', 'me', 'mk', 'az', 'lt', 'lv', 'hy', 'ka', 'sr', 'hr', 'sl', 'sk', 'ru', 'be', 'he', 'und']\n",
    "\n",
    "for language in languages:\n",
    "    count = count_tweets(language, tweets)\n",
    "    percentage = (count / get_total_tweets_count(tweets)) * 100 if tweets else 0\n",
    "    print(f\"Number of {language} tweets: {count}\")\n",
    "    print(f\"Percentage of {language} tweets: {percentage:.2f}%\")\n",
    "\n",
    "tweets_count = get_total_tweets_count(tweets)\n",
    "original_tweets_count = count_original_tweets(tweets)\n",
    "\n",
    "frequent_words = most_frequent_words(tweets)\n",
    "spanish_frequent_words = most_frequent_words(tweets, language='es')\n",
    "\n",
    "print(\"----------------------------------\")\n",
    "print(f\"Number of tweets: {tweets_count}\")\n",
    "print(f\"Number of original tweets: {original_tweets_count}\")\n",
    "print(f\"Number of original Spanish tweets: {count_original_tweets_spanish(tweets)}\")\n",
    "print(\"-----------------------------------\")\n",
    "print(f\"Frequent words: {frequent_words}\\n\")\n",
    "print(f\"Most frequent Spanish words: {spanish_frequent_words}\\n\")    "
   ]
  },
  {
   "cell_type": "markdown",
   "metadata": {
    "jp-MarkdownHeadingCollapsed": true,
    "tags": []
   },
   "source": [
    "# Tweets"
   ]
  },
  {
   "cell_type": "markdown",
   "metadata": {},
   "source": [
    "### 1:"
   ]
  },
  {
   "cell_type": "code",
   "execution_count": 3,
   "metadata": {
    "tags": []
   },
   "outputs": [],
   "source": [
    "import s3fs\n",
    "s3 = s3fs.S3FileSystem(anon=False)\n",
    "\n",
    "bucket='mudab-2025-big-data'\n",
    "data_key = 'twitter-data/Eurovision-01.json'\n",
    "data_location = 's3://{}/{}'.format(bucket, data_key)"
   ]
  },
  {
   "cell_type": "code",
   "execution_count": null,
   "metadata": {},
   "outputs": [],
   "source": []
  },
  {
   "cell_type": "markdown",
   "metadata": {
    "tags": []
   },
   "source": [
    "### 2:"
   ]
  },
  {
   "cell_type": "code",
   "execution_count": 1,
   "metadata": {
    "tags": []
   },
   "outputs": [],
   "source": [
    "import s3fs\n",
    "s3 = s3fs.S3FileSystem(anon=False)\n",
    "\n",
    "bucket='mudab-2025-big-data'\n",
    "data_key = 'twitter-data/Eurovision-02.json'\n",
    "data_location = 's3://{}/{}'.format(bucket, data_key)"
   ]
  },
  {
   "cell_type": "code",
   "execution_count": 2,
   "metadata": {
    "tags": []
   },
   "outputs": [],
   "source": [
    "import json, dataclasses\n",
    "\n",
    "tweets = []\n",
    "\n",
    "bucket='mudab-2025-pc1262057'\n",
    "data_key = 'input/Eurovision-02.json'\n",
    "data_location = 's3://{}/{}'.format(bucket, data_key)\n",
    "\n",
    "def parse_line(line: str):\n",
    "  \"\"\"Try to parse a string into a Person\"\"\"\n",
    "  error = 0\n",
    "  try:\n",
    "    parsed = json.loads(line)\n",
    "    return Tweet(parsed['id'], parsed['text'], parsed['user']['name'], parsed['lang'],parsed.get('retweeted_status', False))\n",
    "  except Exception as e:\n",
    "    error += 1    \n",
    "#   print(f\"Error parsing '{line}': {e}\")\n",
    "\n",
    "with s3.open(data_location) as input: #CLIENT S3. CAN READ THE FILE LINE BY LINE\n",
    "  for line in input.readlines():\n",
    "    if len(line.strip()) > 0:\n",
    "      tweet = parse_line(line)\n",
    "      if tweet: # We add only if the tweet is not 'None'\n",
    "         tweets.append(tweet)\n",
    "\n",
    "for modeled_tweet in tweets[0:10]:\n",
    "  print(modeled_tweet)"
   ]
  },
  {
   "cell_type": "markdown",
   "metadata": {
    "tags": []
   },
   "source": [
    "### 3:"
   ]
  },
  {
   "cell_type": "code",
   "execution_count": 13,
   "metadata": {
    "tags": []
   },
   "outputs": [],
   "source": [
    "import s3fs\n",
    "s3 = s3fs.S3FileSystem(anon=False)\n",
    "\n",
    "bucket='mudab-2025-big-data'\n",
    "data_key = 'twitter-data/Eurovision-03.json'\n",
    "data_location = 's3://{}/{}'.format(bucket, data_key)"
   ]
  },
  {
   "cell_type": "code",
   "execution_count": 14,
   "metadata": {
    "tags": []
   },
   "outputs": [
    {
     "name": "stdout",
     "output_type": "stream",
     "text": [
      "Tweet(id=995492134441639936, content='RT @vickygom3z: Como han estado mis niños @Amaia_ot2017 y @Alfred_ot2017 de brillantes???? 😍😍😍 Que emoción por dios! Son tan especiales...…', author='ALFRED🎺1016🎺', language='es', retweeted_status={'created_at': 'Sat May 12 19:44:41 +0000 2018', 'id': 995389318213586945, 'id_str': '995389318213586945', 'text': 'Como han estado mis niños @Amaia_ot2017 y @Alfred_ot2017 de brillantes???? 😍😍😍 Que emoción por dios! Son tan especi… https://t.co/rU5JpZr6Js', 'source': '<a href=\"http://twitter.com/download/iphone\" rel=\"nofollow\">Twitter for iPhone</a>', 'truncated': True, 'in_reply_to_status_id': None, 'in_reply_to_status_id_str': None, 'in_reply_to_user_id': None, 'in_reply_to_user_id_str': None, 'in_reply_to_screen_name': None, 'user': {'id': 485237915, 'id_str': '485237915', 'name': 'Vicky Gómez', 'screen_name': 'vickygom3z', 'location': None, 'url': None, 'description': 'Bailarina y coreógrafa/ Profesora de baile de OT Instagram: @vickygom3z', 'translator_type': 'none', 'protected': False, 'verified': True, 'followers_count': 62510, 'friends_count': 548, 'listed_count': 111, 'favourites_count': 10573, 'statuses_count': 4186, 'created_at': 'Tue Feb 07 00:15:43 +0000 2012', 'utc_offset': -25200, 'time_zone': 'Pacific Time (US & Canada)', 'geo_enabled': True, 'lang': 'es', 'contributors_enabled': False, 'is_translator': False, 'profile_background_color': 'C0DEED', 'profile_background_image_url': 'http://pbs.twimg.com/profile_background_images/418486854/vicky-3.jpg', 'profile_background_image_url_https': 'https://pbs.twimg.com/profile_background_images/418486854/vicky-3.jpg', 'profile_background_tile': True, 'profile_link_color': '0084B4', 'profile_sidebar_border_color': 'C0DEED', 'profile_sidebar_fill_color': 'DDEEF6', 'profile_text_color': '333333', 'profile_use_background_image': True, 'profile_image_url': 'http://pbs.twimg.com/profile_images/961412001221300224/NOKG-K93_normal.jpg', 'profile_image_url_https': 'https://pbs.twimg.com/profile_images/961412001221300224/NOKG-K93_normal.jpg', 'profile_banner_url': 'https://pbs.twimg.com/profile_banners/485237915/1519412399', 'default_profile': False, 'default_profile_image': False, 'following': None, 'follow_request_sent': None, 'notifications': None}, 'geo': None, 'coordinates': None, 'place': None, 'contributors': None, 'is_quote_status': False, 'extended_tweet': {'full_text': 'Como han estado mis niños @Amaia_ot2017 y @Alfred_ot2017 de brillantes???? 😍😍😍 Que emoción por dios! Son tan especiales... GRACIAS por tanto!! Os quiero pequeños!! ♥️♥️♥️ #AmaiaAlfred12points #Eurovision', 'display_text_range': [0, 203], 'entities': {'hashtags': [{'text': 'AmaiaAlfred12points', 'indices': [171, 191]}, {'text': 'Eurovision', 'indices': [192, 203]}], 'urls': [], 'user_mentions': [{'screen_name': 'Amaia_ot2017', 'name': 'Amaia', 'id': 921683886819639296, 'id_str': '921683886819639296', 'indices': [26, 39]}, {'screen_name': 'Alfred_ot2017', 'name': 'Alfred García', 'id': 921485446705803267, 'id_str': '921485446705803267', 'indices': [42, 56]}], 'symbols': []}}, 'quote_count': 1, 'reply_count': 5, 'retweet_count': 548, 'favorite_count': 3410, 'entities': {'hashtags': [], 'urls': [{'url': 'https://t.co/rU5JpZr6Js', 'expanded_url': 'https://twitter.com/i/web/status/995389318213586945', 'display_url': 'twitter.com/i/web/status/9…', 'indices': [117, 140]}], 'user_mentions': [{'screen_name': 'Amaia_ot2017', 'name': 'Amaia', 'id': 921683886819639296, 'id_str': '921683886819639296', 'indices': [26, 39]}, {'screen_name': 'Alfred_ot2017', 'name': 'Alfred García', 'id': 921485446705803267, 'id_str': '921485446705803267', 'indices': [42, 56]}], 'symbols': []}, 'favorited': False, 'retweeted': False, 'filter_level': 'low', 'lang': 'es'})\n",
      "Tweet(id=995492135305646080, content='RT @MarioManzanares: #Eurovision intro videos be like https://t.co/zMLh8d39Ye', author='bad medicine', language='en', retweeted_status={'created_at': 'Sat May 12 19:34:21 +0000 2018', 'id': 995386717778702341, 'id_str': '995386717778702341', 'text': '#Eurovision intro videos be like https://t.co/zMLh8d39Ye', 'display_text_range': [0, 32], 'source': '<a href=\"http://twitter.com/download/android\" rel=\"nofollow\">Twitter for Android</a>', 'truncated': False, 'in_reply_to_status_id': None, 'in_reply_to_status_id_str': None, 'in_reply_to_user_id': None, 'in_reply_to_user_id_str': None, 'in_reply_to_screen_name': None, 'user': {'id': 73935619, 'id_str': '73935619', 'name': 'Mario Manzanares', 'screen_name': 'MarioManzanares', 'location': 'Madrid, Spain', 'url': 'https://mariomanzanares.artstation.com/', 'description': \"I'm a very hydrated person. \\n[Concept Artist & Illustrator]\\n(Some tweets may be in Spanish!)\", 'translator_type': 'none', 'protected': False, 'verified': False, 'followers_count': 3513, 'friends_count': 522, 'listed_count': 52, 'favourites_count': 6021, 'statuses_count': 11180, 'created_at': 'Sun Sep 13 18:03:24 +0000 2009', 'utc_offset': 7200, 'time_zone': 'Madrid', 'geo_enabled': False, 'lang': 'en', 'contributors_enabled': False, 'is_translator': False, 'profile_background_color': '000000', 'profile_background_image_url': 'http://pbs.twimg.com/profile_background_images/338053503/Back.jpg', 'profile_background_image_url_https': 'https://pbs.twimg.com/profile_background_images/338053503/Back.jpg', 'profile_background_tile': True, 'profile_link_color': '19303D', 'profile_sidebar_border_color': '4E141A', 'profile_sidebar_fill_color': '99202A', 'profile_text_color': 'F8EAAD', 'profile_use_background_image': True, 'profile_image_url': 'http://pbs.twimg.com/profile_images/956510117394034689/bL3Evbcn_normal.jpg', 'profile_image_url_https': 'https://pbs.twimg.com/profile_images/956510117394034689/bL3Evbcn_normal.jpg', 'profile_banner_url': 'https://pbs.twimg.com/profile_banners/73935619/1510326312', 'default_profile': False, 'default_profile_image': False, 'following': None, 'follow_request_sent': None, 'notifications': None}, 'geo': None, 'coordinates': None, 'place': None, 'contributors': None, 'is_quote_status': False, 'quote_count': 58, 'reply_count': 9, 'retweet_count': 5257, 'favorite_count': 5881, 'entities': {'hashtags': [{'text': 'Eurovision', 'indices': [0, 11]}], 'urls': [], 'user_mentions': [], 'symbols': [], 'media': [{'id': 995386712087023616, 'id_str': '995386712087023616', 'indices': [33, 56], 'media_url': 'http://pbs.twimg.com/media/DdBS8NwXUAAwYGr.jpg', 'media_url_https': 'https://pbs.twimg.com/media/DdBS8NwXUAAwYGr.jpg', 'url': 'https://t.co/zMLh8d39Ye', 'display_url': 'pic.twitter.com/zMLh8d39Ye', 'expanded_url': 'https://twitter.com/MarioManzanares/status/995386717778702341/photo/1', 'type': 'photo', 'sizes': {'thumb': {'w': 150, 'h': 150, 'resize': 'crop'}, 'small': {'w': 320, 'h': 180, 'resize': 'fit'}, 'large': {'w': 320, 'h': 180, 'resize': 'fit'}, 'medium': {'w': 320, 'h': 180, 'resize': 'fit'}}}]}, 'extended_entities': {'media': [{'id': 995386712087023616, 'id_str': '995386712087023616', 'indices': [33, 56], 'media_url': 'http://pbs.twimg.com/media/DdBS8NwXUAAwYGr.jpg', 'media_url_https': 'https://pbs.twimg.com/media/DdBS8NwXUAAwYGr.jpg', 'url': 'https://t.co/zMLh8d39Ye', 'display_url': 'pic.twitter.com/zMLh8d39Ye', 'expanded_url': 'https://twitter.com/MarioManzanares/status/995386717778702341/photo/1', 'type': 'photo', 'sizes': {'thumb': {'w': 150, 'h': 150, 'resize': 'crop'}, 'small': {'w': 320, 'h': 180, 'resize': 'fit'}, 'large': {'w': 320, 'h': 180, 'resize': 'fit'}, 'medium': {'w': 320, 'h': 180, 'resize': 'fit'}}}]}, 'favorited': False, 'retweeted': False, 'possibly_sensitive': False, 'filter_level': 'low', 'lang': 'en'})\n",
      "Tweet(id=995492135402135554, content='RT @jungjaeguns: cuando apago la luz del pasillo para irme a mi habitación y que no me maten los espíritus #Eurovision https://t.co/0naU3Xm…', author='Adrián Montalbán', language='es', retweeted_status={'created_at': 'Sat May 12 21:35:02 +0000 2018', 'id': 995417089656672256, 'id_str': '995417089656672256', 'text': 'cuando apago la luz del pasillo para irme a mi habitación y que no me maten los espíritus #Eurovision https://t.co/0naU3Xmt44', 'source': '<a href=\"http://twitter.com/download/android\" rel=\"nofollow\">Twitter for Android</a>', 'truncated': False, 'in_reply_to_status_id': None, 'in_reply_to_status_id_str': None, 'in_reply_to_user_id': None, 'in_reply_to_user_id_str': None, 'in_reply_to_screen_name': None, 'user': {'id': 2424309080, 'id_str': '2424309080', 'name': 'yopor', 'screen_name': 'jungjaeguns', 'location': 'pied piper 2:03', 'url': None, 'description': '#민윤기🍀 #정재현🍑', 'translator_type': 'none', 'protected': False, 'verified': False, 'followers_count': 309, 'friends_count': 147, 'listed_count': 18, 'favourites_count': 10400, 'statuses_count': 31379, 'created_at': 'Wed Apr 02 20:33:51 +0000 2014', 'utc_offset': 7200, 'time_zone': 'Madrid', 'geo_enabled': True, 'lang': 'es', 'contributors_enabled': False, 'is_translator': False, 'profile_background_color': 'CC99FF', 'profile_background_image_url': 'http://pbs.twimg.com/profile_background_images/718139660594229248/ey6vMq90.jpg', 'profile_background_image_url_https': 'https://pbs.twimg.com/profile_background_images/718139660594229248/ey6vMq90.jpg', 'profile_background_tile': True, 'profile_link_color': 'F58EA8', 'profile_sidebar_border_color': 'FFFFFF', 'profile_sidebar_fill_color': 'DDEEF6', 'profile_text_color': '333333', 'profile_use_background_image': True, 'profile_image_url': 'http://pbs.twimg.com/profile_images/994776428649631745/fGZCApPR_normal.jpg', 'profile_image_url_https': 'https://pbs.twimg.com/profile_images/994776428649631745/fGZCApPR_normal.jpg', 'profile_banner_url': 'https://pbs.twimg.com/profile_banners/2424309080/1526008108', 'default_profile': False, 'default_profile_image': False, 'following': None, 'follow_request_sent': None, 'notifications': None}, 'geo': None, 'coordinates': None, 'place': None, 'contributors': None, 'is_quote_status': False, 'quote_count': 309, 'reply_count': 69, 'retweet_count': 10979, 'favorite_count': 12241, 'entities': {'hashtags': [{'text': 'Eurovision', 'indices': [90, 101]}], 'urls': [], 'user_mentions': [], 'symbols': [], 'media': [{'id': 995407454023438339, 'id_str': '995407454023438339', 'indices': [102, 125], 'additional_media_info': {'monetizable': False}, 'media_url': 'http://pbs.twimg.com/ext_tw_video_thumb/995407454023438339/pu/img/s02rMoMfzovaBZTd.jpg', 'media_url_https': 'https://pbs.twimg.com/ext_tw_video_thumb/995407454023438339/pu/img/s02rMoMfzovaBZTd.jpg', 'url': 'https://t.co/0naU3Xmt44', 'display_url': 'pic.twitter.com/0naU3Xmt44', 'expanded_url': 'https://twitter.com/acano3_/status/995407527864041473/video/1', 'type': 'photo', 'sizes': {'thumb': {'w': 150, 'h': 150, 'resize': 'crop'}, 'medium': {'w': 1200, 'h': 675, 'resize': 'fit'}, 'small': {'w': 680, 'h': 383, 'resize': 'fit'}, 'large': {'w': 1280, 'h': 720, 'resize': 'fit'}}, 'source_status_id': 995407527864041473, 'source_status_id_str': '995407527864041473', 'source_user_id': 420495532, 'source_user_id_str': '420495532'}]}, 'extended_entities': {'media': [{'id': 995407454023438339, 'id_str': '995407454023438339', 'indices': [102, 125], 'additional_media_info': {'monetizable': False}, 'media_url': 'http://pbs.twimg.com/ext_tw_video_thumb/995407454023438339/pu/img/s02rMoMfzovaBZTd.jpg', 'media_url_https': 'https://pbs.twimg.com/ext_tw_video_thumb/995407454023438339/pu/img/s02rMoMfzovaBZTd.jpg', 'url': 'https://t.co/0naU3Xmt44', 'display_url': 'pic.twitter.com/0naU3Xmt44', 'expanded_url': 'https://twitter.com/acano3_/status/995407527864041473/video/1', 'type': 'video', 'video_info': {'aspect_ratio': [16, 9], 'duration_millis': 1330, 'variants': [{'bitrate': 832000, 'content_type': 'video/mp4', 'url': 'https://video.twimg.com/ext_tw_video/995407454023438339/pu/vid/640x360/V0eyjgGk2cxo28He.mp4?tag=3'}, {'bitrate': 2176000, 'content_type': 'video/mp4', 'url': 'https://video.twimg.com/ext_tw_video/995407454023438339/pu/vid/1280x720/T0Ly_Z5EqtUQUZ9P.mp4?tag=3'}, {'content_type': 'application/x-mpegURL', 'url': 'https://video.twimg.com/ext_tw_video/995407454023438339/pu/pl/LV2AhLra6ApSkeCf.m3u8?tag=3'}, {'bitrate': 256000, 'content_type': 'video/mp4', 'url': 'https://video.twimg.com/ext_tw_video/995407454023438339/pu/vid/320x180/_SOEWxpG8Fd3oi_8.mp4?tag=3'}]}, 'sizes': {'thumb': {'w': 150, 'h': 150, 'resize': 'crop'}, 'medium': {'w': 1200, 'h': 675, 'resize': 'fit'}, 'small': {'w': 680, 'h': 383, 'resize': 'fit'}, 'large': {'w': 1280, 'h': 720, 'resize': 'fit'}}, 'source_status_id': 995407527864041473, 'source_status_id_str': '995407527864041473', 'source_user_id': 420495532, 'source_user_id_str': '420495532'}]}, 'favorited': False, 'retweeted': False, 'possibly_sensitive': False, 'filter_level': 'low', 'lang': 'es'})\n",
      "Tweet(id=995492135091650560, content='RT @sirecactus: they sure were among my absolute faves!! #Eurovision #Moldova #DoReDos https://t.co/9hx1B8iVCa', author='🤷🏽\\u200d♀️ kiki 🤦🏽\\u200d♀️', language='en', retweeted_status={'created_at': 'Sat May 12 23:03:43 +0000 2018', 'id': 995439408177405952, 'id_str': '995439408177405952', 'text': 'they sure were among my absolute faves!! #Eurovision #Moldova #DoReDos https://t.co/9hx1B8iVCa', 'display_text_range': [0, 70], 'source': '<a href=\"http://twitter.com/download/android\" rel=\"nofollow\">Twitter for Android</a>', 'truncated': False, 'in_reply_to_status_id': None, 'in_reply_to_status_id_str': None, 'in_reply_to_user_id': None, 'in_reply_to_user_id_str': None, 'in_reply_to_screen_name': None, 'user': {'id': 901007978035392516, 'id_str': '901007978035392516', 'name': '💥bree💥', 'screen_name': 'sirecactus', 'location': None, 'url': 'http://sirecactus.tumblr.com', 'description': 'italian kid // almost 16 // aspiring animator // my moral alignment is probably true neutral atm //', 'translator_type': 'none', 'protected': False, 'verified': False, 'followers_count': 9, 'friends_count': 67, 'listed_count': 0, 'favourites_count': 1122, 'statuses_count': 221, 'created_at': 'Fri Aug 25 09:06:56 +0000 2017', 'utc_offset': None, 'time_zone': None, 'geo_enabled': False, 'lang': 'it', 'contributors_enabled': False, 'is_translator': False, 'profile_background_color': 'F5F8FA', 'profile_background_image_url': '', 'profile_background_image_url_https': '', 'profile_background_tile': False, 'profile_link_color': '1DA1F2', 'profile_sidebar_border_color': 'C0DEED', 'profile_sidebar_fill_color': 'DDEEF6', 'profile_text_color': '333333', 'profile_use_background_image': True, 'profile_image_url': 'http://pbs.twimg.com/profile_images/951926707983978496/uO1ftL-H_normal.jpg', 'profile_image_url_https': 'https://pbs.twimg.com/profile_images/951926707983978496/uO1ftL-H_normal.jpg', 'profile_banner_url': 'https://pbs.twimg.com/profile_banners/901007978035392516/1515791955', 'default_profile': True, 'default_profile_image': False, 'following': None, 'follow_request_sent': None, 'notifications': None}, 'geo': None, 'coordinates': None, 'place': None, 'contributors': None, 'is_quote_status': False, 'quote_count': 0, 'reply_count': 0, 'retweet_count': 2, 'favorite_count': 4, 'entities': {'hashtags': [{'text': 'Eurovision', 'indices': [41, 52]}, {'text': 'Moldova', 'indices': [53, 61]}, {'text': 'DoReDos', 'indices': [62, 70]}], 'urls': [], 'user_mentions': [], 'symbols': [], 'media': [{'id': 995439389361823745, 'id_str': '995439389361823745', 'indices': [71, 94], 'media_url': 'http://pbs.twimg.com/media/DdCC2b5X4AEcrLE.jpg', 'media_url_https': 'https://pbs.twimg.com/media/DdCC2b5X4AEcrLE.jpg', 'url': 'https://t.co/9hx1B8iVCa', 'display_url': 'pic.twitter.com/9hx1B8iVCa', 'expanded_url': 'https://twitter.com/sireecactus/status/995439408177405952/photo/1', 'type': 'photo', 'sizes': {'thumb': {'w': 150, 'h': 150, 'resize': 'crop'}, 'large': {'w': 1050, 'h': 800, 'resize': 'fit'}, 'small': {'w': 680, 'h': 518, 'resize': 'fit'}, 'medium': {'w': 1050, 'h': 800, 'resize': 'fit'}}}]}, 'extended_entities': {'media': [{'id': 995439389361823745, 'id_str': '995439389361823745', 'indices': [71, 94], 'media_url': 'http://pbs.twimg.com/media/DdCC2b5X4AEcrLE.jpg', 'media_url_https': 'https://pbs.twimg.com/media/DdCC2b5X4AEcrLE.jpg', 'url': 'https://t.co/9hx1B8iVCa', 'display_url': 'pic.twitter.com/9hx1B8iVCa', 'expanded_url': 'https://twitter.com/sireecactus/status/995439408177405952/photo/1', 'type': 'photo', 'sizes': {'thumb': {'w': 150, 'h': 150, 'resize': 'crop'}, 'large': {'w': 1050, 'h': 800, 'resize': 'fit'}, 'small': {'w': 680, 'h': 518, 'resize': 'fit'}, 'medium': {'w': 1050, 'h': 800, 'resize': 'fit'}}}]}, 'favorited': False, 'retweeted': False, 'possibly_sensitive': False, 'filter_level': 'low', 'lang': 'en'})\n",
      "Tweet(id=995492135465037829, content='RT @EiProfeta: Si España queda ÚLTIMA en #Eurovision sorteo un viaje al parque temático de Harry Potter en Orlando entre todos los que hagá…', author='ROJO86', language='es', retweeted_status={'created_at': 'Sat May 12 21:37:12 +0000 2018', 'id': 995417631820828673, 'id_str': '995417631820828673', 'text': 'Si España queda ÚLTIMA en #Eurovision sorteo un viaje al parque temático de Harry Potter en Orlando entre todos los… https://t.co/xm8xmuJele', 'display_text_range': [0, 140], 'source': '<a href=\"http://twitter.com/download/android\" rel=\"nofollow\">Twitter for Android</a>', 'truncated': True, 'in_reply_to_status_id': None, 'in_reply_to_status_id_str': None, 'in_reply_to_user_id': None, 'in_reply_to_user_id_str': None, 'in_reply_to_screen_name': None, 'user': {'id': 1290550819, 'id_str': '1290550819', 'name': 'El Profeta', 'screen_name': 'EiProfeta', 'location': 'Redacción del Profeta - #SHPF', 'url': 'http://Instagram.com/diarioelprofeta', 'description': 'Dando noticias al mundo mágico desde tiempos inmemoriales. Por solo 5 Knuts nos puedes tener en tu hogar. Contacto: eiprofetatw@gmail.com (Fake) ♀', 'translator_type': 'regular', 'protected': False, 'verified': False, 'followers_count': 277737, 'friends_count': 1386, 'listed_count': 651, 'favourites_count': 34652, 'statuses_count': 5063, 'created_at': 'Sat Mar 23 05:51:30 +0000 2013', 'utc_offset': 7200, 'time_zone': 'Amsterdam', 'geo_enabled': False, 'lang': 'es', 'contributors_enabled': False, 'is_translator': False, 'profile_background_color': '022330', 'profile_background_image_url': 'http://abs.twimg.com/images/themes/theme15/bg.png', 'profile_background_image_url_https': 'https://abs.twimg.com/images/themes/theme15/bg.png', 'profile_background_tile': False, 'profile_link_color': '0084B4', 'profile_sidebar_border_color': '000000', 'profile_sidebar_fill_color': '000000', 'profile_text_color': '000000', 'profile_use_background_image': True, 'profile_image_url': 'http://pbs.twimg.com/profile_images/685269903402774529/PF1R22GR_normal.jpg', 'profile_image_url_https': 'https://pbs.twimg.com/profile_images/685269903402774529/PF1R22GR_normal.jpg', 'profile_banner_url': 'https://pbs.twimg.com/profile_banners/1290550819/1521006940', 'default_profile': False, 'default_profile_image': False, 'following': None, 'follow_request_sent': None, 'notifications': None}, 'geo': None, 'coordinates': None, 'place': None, 'contributors': None, 'is_quote_status': False, 'extended_tweet': {'full_text': 'Si España queda ÚLTIMA en #Eurovision sorteo un viaje al parque temático de Harry Potter en Orlando entre todos los que hagáis RT. #Eurovision https://t.co/IVOJCSJAdX', 'display_text_range': [0, 142], 'entities': {'hashtags': [{'text': 'Eurovision', 'indices': [26, 37]}, {'text': 'Eurovision', 'indices': [131, 142]}], 'urls': [], 'user_mentions': [], 'symbols': [], 'media': [{'id': 995417613734989824, 'id_str': '995417613734989824', 'indices': [143, 166], 'media_url': 'http://pbs.twimg.com/media/DdBvC7XXUAAOqrH.jpg', 'media_url_https': 'https://pbs.twimg.com/media/DdBvC7XXUAAOqrH.jpg', 'url': 'https://t.co/IVOJCSJAdX', 'display_url': 'pic.twitter.com/IVOJCSJAdX', 'expanded_url': 'https://twitter.com/EiProfeta/status/995417631820828673/photo/1', 'type': 'photo', 'sizes': {'medium': {'w': 1200, 'h': 675, 'resize': 'fit'}, 'thumb': {'w': 150, 'h': 150, 'resize': 'crop'}, 'large': {'w': 1920, 'h': 1080, 'resize': 'fit'}, 'small': {'w': 680, 'h': 383, 'resize': 'fit'}}}]}, 'extended_entities': {'media': [{'id': 995417613734989824, 'id_str': '995417613734989824', 'indices': [143, 166], 'media_url': 'http://pbs.twimg.com/media/DdBvC7XXUAAOqrH.jpg', 'media_url_https': 'https://pbs.twimg.com/media/DdBvC7XXUAAOqrH.jpg', 'url': 'https://t.co/IVOJCSJAdX', 'display_url': 'pic.twitter.com/IVOJCSJAdX', 'expanded_url': 'https://twitter.com/EiProfeta/status/995417631820828673/photo/1', 'type': 'photo', 'sizes': {'medium': {'w': 1200, 'h': 675, 'resize': 'fit'}, 'thumb': {'w': 150, 'h': 150, 'resize': 'crop'}, 'large': {'w': 1920, 'h': 1080, 'resize': 'fit'}, 'small': {'w': 680, 'h': 383, 'resize': 'fit'}}}]}}, 'quote_count': 27, 'reply_count': 53, 'retweet_count': 5087, 'favorite_count': 1380, 'entities': {'hashtags': [{'text': 'Eurovision', 'indices': [26, 37]}], 'urls': [{'url': 'https://t.co/xm8xmuJele', 'expanded_url': 'https://twitter.com/i/web/status/995417631820828673', 'display_url': 'twitter.com/i/web/status/9…', 'indices': [117, 140]}], 'user_mentions': [], 'symbols': []}, 'favorited': False, 'retweeted': False, 'possibly_sensitive': False, 'filter_level': 'low', 'lang': 'es'})\n",
      "Tweet(id=995492135301459968, content='RT @bbceurovision: Congratulations Israel! @NettaBarzilai\\xa0is the 2018 #Eurovision winner! https://t.co/LgCPqKDmbr', author='Olivia', language='en', retweeted_status={'created_at': 'Sat May 12 22:41:13 +0000 2018', 'id': 995433742771552256, 'id_str': '995433742771552256', 'text': 'Congratulations Israel! @NettaBarzilai\\xa0is the 2018 #Eurovision winner! https://t.co/LgCPqKDmbr', 'display_text_range': [0, 70], 'source': '<a href=\"https://studio.twitter.com\" rel=\"nofollow\">Media Studio</a>', 'truncated': False, 'in_reply_to_status_id': None, 'in_reply_to_status_id_str': None, 'in_reply_to_user_id': None, 'in_reply_to_user_id_str': None, 'in_reply_to_screen_name': None, 'user': {'id': 24679473, 'id_str': '24679473', 'name': 'BBC Eurovision🇬🇧', 'screen_name': 'bbceurovision', 'location': 'London', 'url': 'http://www.bbc.co.uk/eurovision', 'description': 'Official UK #Eurovision delegation. Replies may be used during live BBC shows. http://www.bbc.co.uk/eurovision. #ESC2018.', 'translator_type': 'none', 'protected': False, 'verified': True, 'followers_count': 212424, 'friends_count': 9716, 'listed_count': 1021, 'favourites_count': 2287, 'statuses_count': 6504, 'created_at': 'Mon Mar 16 11:48:06 +0000 2009', 'utc_offset': 3600, 'time_zone': 'London', 'geo_enabled': False, 'lang': 'en', 'contributors_enabled': False, 'is_translator': False, 'profile_background_color': '192B2D', 'profile_background_image_url': 'http://pbs.twimg.com/profile_background_images/439048993423638529/VuBeLGUL.jpeg', 'profile_background_image_url_https': 'https://pbs.twimg.com/profile_background_images/439048993423638529/VuBeLGUL.jpeg', 'profile_background_tile': False, 'profile_link_color': '2D7088', 'profile_sidebar_border_color': 'FFFFFF', 'profile_sidebar_fill_color': 'F58989', 'profile_text_color': '333333', 'profile_use_background_image': False, 'profile_image_url': 'http://pbs.twimg.com/profile_images/719089304056766464/bxmo1D13_normal.jpg', 'profile_image_url_https': 'https://pbs.twimg.com/profile_images/719089304056766464/bxmo1D13_normal.jpg', 'profile_banner_url': 'https://pbs.twimg.com/profile_banners/24679473/1522401767', 'default_profile': False, 'default_profile_image': False, 'following': None, 'follow_request_sent': None, 'notifications': None}, 'geo': None, 'coordinates': None, 'place': None, 'contributors': None, 'is_quote_status': False, 'quote_count': 451, 'reply_count': 538, 'retweet_count': 2360, 'favorite_count': 5765, 'entities': {'hashtags': [{'text': 'Eurovision', 'indices': [51, 62]}], 'urls': [], 'user_mentions': [{'screen_name': 'NettaBarzilai', 'name': 'Netta Barzilai', 'id': 972800740862382082, 'id_str': '972800740862382082', 'indices': [24, 38]}], 'symbols': [], 'media': [{'id': 995423162992033793, 'id_str': '995423162992033793', 'indices': [71, 94], 'additional_media_info': {'title': '', 'description': '', 'embeddable': True, 'monetizable': False}, 'media_url': 'http://pbs.twimg.com/amplify_video_thumb/995423162992033793/img/xtC2VPWUUDRk-YhG.jpg', 'media_url_https': 'https://pbs.twimg.com/amplify_video_thumb/995423162992033793/img/xtC2VPWUUDRk-YhG.jpg', 'url': 'https://t.co/LgCPqKDmbr', 'display_url': 'pic.twitter.com/LgCPqKDmbr', 'expanded_url': 'https://twitter.com/bbceurovision/status/995433742771552256/video/1', 'type': 'photo', 'sizes': {'thumb': {'w': 150, 'h': 150, 'resize': 'crop'}, 'medium': {'w': 960, 'h': 720, 'resize': 'fit'}, 'large': {'w': 960, 'h': 720, 'resize': 'fit'}, 'small': {'w': 680, 'h': 510, 'resize': 'fit'}}}]}, 'extended_entities': {'media': [{'id': 995423162992033793, 'id_str': '995423162992033793', 'indices': [71, 94], 'additional_media_info': {'title': '', 'description': '', 'embeddable': True, 'monetizable': False}, 'media_url': 'http://pbs.twimg.com/amplify_video_thumb/995423162992033793/img/xtC2VPWUUDRk-YhG.jpg', 'media_url_https': 'https://pbs.twimg.com/amplify_video_thumb/995423162992033793/img/xtC2VPWUUDRk-YhG.jpg', 'url': 'https://t.co/LgCPqKDmbr', 'display_url': 'pic.twitter.com/LgCPqKDmbr', 'expanded_url': 'https://twitter.com/bbceurovision/status/995433742771552256/video/1', 'type': 'video', 'video_info': {'aspect_ratio': [4, 3], 'duration_millis': 12040, 'variants': [{'content_type': 'application/x-mpegURL', 'url': 'https://video.twimg.com/amplify_video/995423162992033793/pl/aiTbe6yqaE2VovqG.m3u8?tag=2'}, {'bitrate': 832000, 'content_type': 'video/mp4', 'url': 'https://video.twimg.com/amplify_video/995423162992033793/vid/480x360/Ki_ydrvhkA28nKK2.mp4?tag=2'}, {'bitrate': 2176000, 'content_type': 'video/mp4', 'url': 'https://video.twimg.com/amplify_video/995423162992033793/vid/960x720/nJ17AMDRszqDEQ3u.mp4?tag=2'}, {'bitrate': 320000, 'content_type': 'video/mp4', 'url': 'https://video.twimg.com/amplify_video/995423162992033793/vid/240x180/lDAXQKdXCPKPvf9G.mp4?tag=2'}]}, 'sizes': {'thumb': {'w': 150, 'h': 150, 'resize': 'crop'}, 'medium': {'w': 960, 'h': 720, 'resize': 'fit'}, 'large': {'w': 960, 'h': 720, 'resize': 'fit'}, 'small': {'w': 680, 'h': 510, 'resize': 'fit'}}}]}, 'favorited': False, 'retweeted': False, 'possibly_sensitive': False, 'filter_level': 'low', 'lang': 'en'})\n",
      "Tweet(id=995492135645405187, content='RT @ifclvsx: Ganhou tudo o que o Salvador Sobral não representava, é um dia escuro para a música #Eurovision', author='pɐǝɥƃnɾ', language='pt', retweeted_status={'created_at': 'Sat May 12 22:42:53 +0000 2018', 'id': 995434163179270144, 'id_str': '995434163179270144', 'text': 'Ganhou tudo o que o Salvador Sobral não representava, é um dia escuro para a música #Eurovision', 'source': '<a href=\"http://twitter.com/download/android\" rel=\"nofollow\">Twitter for Android</a>', 'truncated': False, 'in_reply_to_status_id': None, 'in_reply_to_status_id_str': None, 'in_reply_to_user_id': None, 'in_reply_to_user_id_str': None, 'in_reply_to_screen_name': None, 'user': {'id': 716652530307043334, 'id_str': '716652530307043334', 'name': 'josé', 'screen_name': 'ifclvsx', 'location': 'intp-t', 'url': 'https://www.instagram.com/ifclvsx/', 'description': 'eu não me vim, eu cheguei', 'translator_type': 'none', 'protected': False, 'verified': False, 'followers_count': 837, 'friends_count': 268, 'listed_count': 11, 'favourites_count': 15785, 'statuses_count': 18099, 'created_at': 'Sun Apr 03 15:44:12 +0000 2016', 'utc_offset': -25200, 'time_zone': 'Pacific Time (US & Canada)', 'geo_enabled': False, 'lang': 'pt', 'contributors_enabled': False, 'is_translator': False, 'profile_background_color': '000000', 'profile_background_image_url': 'http://abs.twimg.com/images/themes/theme1/bg.png', 'profile_background_image_url_https': 'https://abs.twimg.com/images/themes/theme1/bg.png', 'profile_background_tile': False, 'profile_link_color': '000000', 'profile_sidebar_border_color': '000000', 'profile_sidebar_fill_color': '000000', 'profile_text_color': '000000', 'profile_use_background_image': False, 'profile_image_url': 'http://pbs.twimg.com/profile_images/961636986556645376/Lj4Byh1G_normal.jpg', 'profile_image_url_https': 'https://pbs.twimg.com/profile_images/961636986556645376/Lj4Byh1G_normal.jpg', 'profile_banner_url': 'https://pbs.twimg.com/profile_banners/716652530307043334/1518105751', 'default_profile': False, 'default_profile_image': False, 'following': None, 'follow_request_sent': None, 'notifications': None}, 'geo': None, 'coordinates': None, 'place': None, 'contributors': None, 'is_quote_status': False, 'quote_count': 2, 'reply_count': 0, 'retweet_count': 115, 'favorite_count': 101, 'entities': {'hashtags': [{'text': 'Eurovision', 'indices': [84, 95]}], 'urls': [], 'user_mentions': [], 'symbols': []}, 'favorited': False, 'retweeted': False, 'filter_level': 'low', 'lang': 'pt'})\n",
      "Tweet(id=995492135670550528, content='11/11- Ancak (musibetlere)sabredip güzel iş yapanlar böyle değildir. İşte onlar için bir bağış ve bir büyük mükâfat… https://t.co/Gdj8sPQ2Uu', author='Sibelo', language='tr', retweeted_status=False)\n",
      "Tweet(id=995492137985691649, content='Vaya, hace un mes dije que ganaría Israel, tengo miedo de que siempre acierto con estas cosas, a la siguiente, apuesto #Eurovision', author='Elberond', language='es', retweeted_status=False)\n",
      "Tweet(id=995492138652717056, content='RT @Uznare: eurovision rules https://t.co/I8cG3D5tCh', author='伽さん', language='en', retweeted_status={'created_at': 'Sat May 12 19:13:51 +0000 2018', 'id': 995381560277979136, 'id_str': '995381560277979136', 'text': 'eurovision rules https://t.co/I8cG3D5tCh', 'display_text_range': [0, 16], 'source': '<a href=\"http://twitter.com\" rel=\"nofollow\">Twitter Web Client</a>', 'truncated': False, 'in_reply_to_status_id': None, 'in_reply_to_status_id_str': None, 'in_reply_to_user_id': None, 'in_reply_to_user_id_str': None, 'in_reply_to_screen_name': None, 'user': {'id': 29056256, 'id_str': '29056256', 'name': 'ウズ@ころあず最高', 'screen_name': 'Uznare', 'location': 'Hyperliterate México', 'url': 'http://outerheaven.xyz', 'description': '田所あずさが大好きです', 'translator_type': 'none', 'protected': False, 'verified': False, 'followers_count': 668, 'friends_count': 449, 'listed_count': 17, 'favourites_count': 22953, 'statuses_count': 92283, 'created_at': 'Sun Apr 05 20:25:20 +0000 2009', 'utc_offset': -18000, 'time_zone': 'Mexico City', 'geo_enabled': True, 'lang': 'en', 'contributors_enabled': False, 'is_translator': False, 'profile_background_color': '1A1B1F', 'profile_background_image_url': 'http://pbs.twimg.com/profile_background_images/344511763025245288/1e8cd6ca1e50ab57ab2640d4280407fe.png', 'profile_background_image_url_https': 'https://pbs.twimg.com/profile_background_images/344511763025245288/1e8cd6ca1e50ab57ab2640d4280407fe.png', 'profile_background_tile': True, 'profile_link_color': '2FC2EF', 'profile_sidebar_border_color': 'FFFFFF', 'profile_sidebar_fill_color': '252429', 'profile_text_color': '666666', 'profile_use_background_image': True, 'profile_image_url': 'http://pbs.twimg.com/profile_images/898530421486571521/Yw6NuYrS_normal.jpg', 'profile_image_url_https': 'https://pbs.twimg.com/profile_images/898530421486571521/Yw6NuYrS_normal.jpg', 'profile_banner_url': 'https://pbs.twimg.com/profile_banners/29056256/1498219250', 'default_profile': False, 'default_profile_image': False, 'following': None, 'follow_request_sent': None, 'notifications': None}, 'geo': None, 'coordinates': None, 'place': None, 'contributors': None, 'is_quote_status': False, 'quote_count': 504, 'reply_count': 142, 'retweet_count': 13545, 'favorite_count': 26726, 'entities': {'hashtags': [], 'urls': [], 'user_mentions': [], 'symbols': [], 'media': [{'id': 995381528115871744, 'id_str': '995381528115871744', 'indices': [17, 40], 'media_url': 'http://pbs.twimg.com/media/DdBOOd9VAAAm3YX.jpg', 'media_url_https': 'https://pbs.twimg.com/media/DdBOOd9VAAAm3YX.jpg', 'url': 'https://t.co/I8cG3D5tCh', 'display_url': 'pic.twitter.com/I8cG3D5tCh', 'expanded_url': 'https://twitter.com/Uznare/status/995381560277979136/photo/1', 'type': 'photo', 'sizes': {'small': {'w': 680, 'h': 383, 'resize': 'fit'}, 'thumb': {'w': 150, 'h': 150, 'resize': 'crop'}, 'medium': {'w': 1200, 'h': 676, 'resize': 'fit'}, 'large': {'w': 1708, 'h': 962, 'resize': 'fit'}}}]}, 'extended_entities': {'media': [{'id': 995381528115871744, 'id_str': '995381528115871744', 'indices': [17, 40], 'media_url': 'http://pbs.twimg.com/media/DdBOOd9VAAAm3YX.jpg', 'media_url_https': 'https://pbs.twimg.com/media/DdBOOd9VAAAm3YX.jpg', 'url': 'https://t.co/I8cG3D5tCh', 'display_url': 'pic.twitter.com/I8cG3D5tCh', 'expanded_url': 'https://twitter.com/Uznare/status/995381560277979136/photo/1', 'type': 'photo', 'sizes': {'small': {'w': 680, 'h': 383, 'resize': 'fit'}, 'thumb': {'w': 150, 'h': 150, 'resize': 'crop'}, 'medium': {'w': 1200, 'h': 676, 'resize': 'fit'}, 'large': {'w': 1708, 'h': 962, 'resize': 'fit'}}}, {'id': 995381541797691397, 'id_str': '995381541797691397', 'indices': [17, 40], 'media_url': 'http://pbs.twimg.com/media/DdBOPQ7VAAUbpzx.jpg', 'media_url_https': 'https://pbs.twimg.com/media/DdBOPQ7VAAUbpzx.jpg', 'url': 'https://t.co/I8cG3D5tCh', 'display_url': 'pic.twitter.com/I8cG3D5tCh', 'expanded_url': 'https://twitter.com/Uznare/status/995381560277979136/photo/1', 'type': 'photo', 'sizes': {'thumb': {'w': 150, 'h': 150, 'resize': 'crop'}, 'medium': {'w': 1200, 'h': 675, 'resize': 'fit'}, 'small': {'w': 680, 'h': 383, 'resize': 'fit'}, 'large': {'w': 1592, 'h': 896, 'resize': 'fit'}}}]}, 'favorited': False, 'retweeted': False, 'possibly_sensitive': False, 'filter_level': 'low', 'lang': 'en'})\n"
     ]
    }
   ],
   "source": [
    "import json, dataclasses\n",
    "\n",
    "tweets = []\n",
    "\n",
    "bucket='mudab-2025-pc1262057'\n",
    "data_key = 'input/Eurovision-03.json'\n",
    "data_location = 's3://{}/{}'.format(bucket, data_key)\n",
    "\n",
    "def parse_line(line: str):\n",
    "  \"\"\"Try to parse a string into a Person\"\"\"\n",
    "  error = 0\n",
    "  try:\n",
    "    parsed = json.loads(line)\n",
    "    return Tweet(parsed['id'], parsed['text'], parsed['user']['name'], parsed['lang'],parsed.get('retweeted_status', False))\n",
    "  except Exception as e:\n",
    "    error += 1    \n",
    "#   print(f\"Error parsing '{line}': {e}\")\n",
    "\n",
    "with s3.open(data_location) as input: #CLIENT S3. CAN READ THE FILE LINE BY LINE\n",
    "  for line in input.readlines():\n",
    "    if len(line.strip()) > 0:\n",
    "      tweet = parse_line(line)\n",
    "      if tweet: # We add only if the tweet is not 'None'\n",
    "         tweets.append(tweet)\n",
    "\n",
    "for modeled_tweet in tweets[0:10]:\n",
    "  print(modeled_tweet)"
   ]
  },
  {
   "cell_type": "markdown",
   "metadata": {
    "tags": []
   },
   "source": [
    "### 4:"
   ]
  },
  {
   "cell_type": "code",
   "execution_count": 22,
   "metadata": {
    "tags": []
   },
   "outputs": [],
   "source": [
    "import s3fs\n",
    "s3 = s3fs.S3FileSystem(anon=False)\n",
    "\n",
    "bucket='mudab-2025-big-data'\n",
    "data_key = 'twitter-data/Eurovision-04.json'\n",
    "data_location = 's3://{}/{}'.format(bucket, data_key)"
   ]
  },
  {
   "cell_type": "code",
   "execution_count": 24,
   "metadata": {
    "tags": []
   },
   "outputs": [
    {
     "name": "stdout",
     "output_type": "stream",
     "text": [
      "Tweet(id=995364942193848322, content='RT @NetflixES: Ella está al mando. Con @PaquitaSalas nada malo puede pasar, ¿no? #Eurovision https://t.co/5HeUDCqxX6', author='GH taxi', language='es', retweeted_status={'created_at': 'Sat May 12 17:35:18 +0000 2018', 'id': 995356756770467840, 'id_str': '995356756770467840', 'text': 'Ella está al mando. Con @PaquitaSalas nada malo puede pasar, ¿no? #Eurovision https://t.co/5HeUDCqxX6', 'display_text_range': [0, 77], 'source': '<a href=\"https://studio.twitter.com\" rel=\"nofollow\">Media Studio</a>', 'truncated': False, 'in_reply_to_status_id': None, 'in_reply_to_status_id_str': None, 'in_reply_to_user_id': None, 'in_reply_to_user_id_str': None, 'in_reply_to_screen_name': None, 'user': {'id': 3143260474, 'id_str': '3143260474', 'name': 'Netflix España', 'screen_name': 'NetflixES', 'location': 'Spain', 'url': 'http://www.netflix.es', 'description': 'Oh Bella Ciao, bella ciao, bella ciao, ciao, ciao. Ayuda: @Netflixhelps', 'translator_type': 'none', 'protected': False, 'verified': True, 'followers_count': 573350, 'friends_count': 264, 'listed_count': 1450, 'favourites_count': 2463, 'statuses_count': 8349, 'created_at': 'Tue Apr 07 09:14:20 +0000 2015', 'utc_offset': 7200, 'time_zone': 'Madrid', 'geo_enabled': True, 'lang': 'es', 'contributors_enabled': False, 'is_translator': False, 'profile_background_color': '000000', 'profile_background_image_url': 'http://abs.twimg.com/images/themes/theme1/bg.png', 'profile_background_image_url_https': 'https://abs.twimg.com/images/themes/theme1/bg.png', 'profile_background_tile': False, 'profile_link_color': 'E81C4F', 'profile_sidebar_border_color': '000000', 'profile_sidebar_fill_color': '000000', 'profile_text_color': '000000', 'profile_use_background_image': False, 'profile_image_url': 'http://pbs.twimg.com/profile_images/744942939932082176/_9oX7gdV_normal.jpg', 'profile_image_url_https': 'https://pbs.twimg.com/profile_images/744942939932082176/_9oX7gdV_normal.jpg', 'profile_banner_url': 'https://pbs.twimg.com/profile_banners/3143260474/1523006236', 'default_profile': False, 'default_profile_image': False, 'following': None, 'follow_request_sent': None, 'notifications': None}, 'geo': None, 'coordinates': None, 'place': None, 'contributors': None, 'is_quote_status': False, 'quote_count': 1183, 'reply_count': 249, 'retweet_count': 5273, 'favorite_count': 7608, 'entities': {'hashtags': [{'text': 'Eurovision', 'indices': [66, 77]}], 'urls': [], 'user_mentions': [{'screen_name': 'PaquitaSalas', 'name': 'Paquita Salas', 'id': 739812492310896640, 'id_str': '739812492310896640', 'indices': [24, 37]}], 'symbols': [], 'media': [{'id': 995346161769828353, 'id_str': '995346161769828353', 'indices': [78, 101], 'additional_media_info': {'title': '', 'description': '', 'embeddable': True, 'monetizable': False}, 'media_url': 'http://pbs.twimg.com/media/DdAvlHFW0AAvqGr.jpg', 'media_url_https': 'https://pbs.twimg.com/media/DdAvlHFW0AAvqGr.jpg', 'url': 'https://t.co/5HeUDCqxX6', 'display_url': 'pic.twitter.com/5HeUDCqxX6', 'expanded_url': 'https://twitter.com/NetflixES/status/995356756770467840/video/1', 'type': 'photo', 'sizes': {'thumb': {'w': 150, 'h': 150, 'resize': 'crop'}, 'medium': {'w': 1200, 'h': 675, 'resize': 'fit'}, 'small': {'w': 680, 'h': 383, 'resize': 'fit'}, 'large': {'w': 1280, 'h': 720, 'resize': 'fit'}}}]}, 'extended_entities': {'media': [{'id': 995346161769828353, 'id_str': '995346161769828353', 'indices': [78, 101], 'additional_media_info': {'title': '', 'description': '', 'embeddable': True, 'monetizable': False}, 'media_url': 'http://pbs.twimg.com/media/DdAvlHFW0AAvqGr.jpg', 'media_url_https': 'https://pbs.twimg.com/media/DdAvlHFW0AAvqGr.jpg', 'url': 'https://t.co/5HeUDCqxX6', 'display_url': 'pic.twitter.com/5HeUDCqxX6', 'expanded_url': 'https://twitter.com/NetflixES/status/995356756770467840/video/1', 'type': 'video', 'video_info': {'aspect_ratio': [16, 9], 'duration_millis': 190880, 'variants': [{'content_type': 'application/x-mpegURL', 'url': 'https://video.twimg.com/amplify_video/995346161769828353/pl/WPFdpHuoatjtZKnI.m3u8?tag=2'}, {'bitrate': 2176000, 'content_type': 'video/mp4', 'url': 'https://video.twimg.com/amplify_video/995346161769828353/vid/1280x720/cbspZ0NjwU7-wpSq.mp4?tag=2'}, {'bitrate': 832000, 'content_type': 'video/mp4', 'url': 'https://video.twimg.com/amplify_video/995346161769828353/vid/640x360/oCWqzYk1AXyL3Tm-.mp4?tag=2'}, {'bitrate': 320000, 'content_type': 'video/mp4', 'url': 'https://video.twimg.com/amplify_video/995346161769828353/vid/320x180/5y8pUxDe-rj6erFi.mp4?tag=2'}]}, 'sizes': {'thumb': {'w': 150, 'h': 150, 'resize': 'crop'}, 'medium': {'w': 1200, 'h': 675, 'resize': 'fit'}, 'small': {'w': 680, 'h': 383, 'resize': 'fit'}, 'large': {'w': 1280, 'h': 720, 'resize': 'fit'}}}]}, 'favorited': False, 'retweeted': False, 'possibly_sensitive': False, 'filter_level': 'low', 'lang': 'es'})\n",
      "Tweet(id=995364942692929537, content='RT @NetflixES: Ella está al mando. Con @PaquitaSalas nada malo puede pasar, ¿no? #Eurovision https://t.co/5HeUDCqxX6', author='Clau', language='es', retweeted_status={'created_at': 'Sat May 12 17:35:18 +0000 2018', 'id': 995356756770467840, 'id_str': '995356756770467840', 'text': 'Ella está al mando. Con @PaquitaSalas nada malo puede pasar, ¿no? #Eurovision https://t.co/5HeUDCqxX6', 'display_text_range': [0, 77], 'source': '<a href=\"https://studio.twitter.com\" rel=\"nofollow\">Media Studio</a>', 'truncated': False, 'in_reply_to_status_id': None, 'in_reply_to_status_id_str': None, 'in_reply_to_user_id': None, 'in_reply_to_user_id_str': None, 'in_reply_to_screen_name': None, 'user': {'id': 3143260474, 'id_str': '3143260474', 'name': 'Netflix España', 'screen_name': 'NetflixES', 'location': 'Spain', 'url': 'http://www.netflix.es', 'description': 'Oh Bella Ciao, bella ciao, bella ciao, ciao, ciao. Ayuda: @Netflixhelps', 'translator_type': 'none', 'protected': False, 'verified': True, 'followers_count': 573350, 'friends_count': 264, 'listed_count': 1450, 'favourites_count': 2463, 'statuses_count': 8349, 'created_at': 'Tue Apr 07 09:14:20 +0000 2015', 'utc_offset': 7200, 'time_zone': 'Madrid', 'geo_enabled': True, 'lang': 'es', 'contributors_enabled': False, 'is_translator': False, 'profile_background_color': '000000', 'profile_background_image_url': 'http://abs.twimg.com/images/themes/theme1/bg.png', 'profile_background_image_url_https': 'https://abs.twimg.com/images/themes/theme1/bg.png', 'profile_background_tile': False, 'profile_link_color': 'E81C4F', 'profile_sidebar_border_color': '000000', 'profile_sidebar_fill_color': '000000', 'profile_text_color': '000000', 'profile_use_background_image': False, 'profile_image_url': 'http://pbs.twimg.com/profile_images/744942939932082176/_9oX7gdV_normal.jpg', 'profile_image_url_https': 'https://pbs.twimg.com/profile_images/744942939932082176/_9oX7gdV_normal.jpg', 'profile_banner_url': 'https://pbs.twimg.com/profile_banners/3143260474/1523006236', 'default_profile': False, 'default_profile_image': False, 'following': None, 'follow_request_sent': None, 'notifications': None}, 'geo': None, 'coordinates': None, 'place': None, 'contributors': None, 'is_quote_status': False, 'quote_count': 1183, 'reply_count': 249, 'retweet_count': 5273, 'favorite_count': 7609, 'entities': {'hashtags': [{'text': 'Eurovision', 'indices': [66, 77]}], 'urls': [], 'user_mentions': [{'screen_name': 'PaquitaSalas', 'name': 'Paquita Salas', 'id': 739812492310896640, 'id_str': '739812492310896640', 'indices': [24, 37]}], 'symbols': [], 'media': [{'id': 995346161769828353, 'id_str': '995346161769828353', 'indices': [78, 101], 'additional_media_info': {'title': '', 'description': '', 'embeddable': True, 'monetizable': False}, 'media_url': 'http://pbs.twimg.com/media/DdAvlHFW0AAvqGr.jpg', 'media_url_https': 'https://pbs.twimg.com/media/DdAvlHFW0AAvqGr.jpg', 'url': 'https://t.co/5HeUDCqxX6', 'display_url': 'pic.twitter.com/5HeUDCqxX6', 'expanded_url': 'https://twitter.com/NetflixES/status/995356756770467840/video/1', 'type': 'photo', 'sizes': {'thumb': {'w': 150, 'h': 150, 'resize': 'crop'}, 'medium': {'w': 1200, 'h': 675, 'resize': 'fit'}, 'small': {'w': 680, 'h': 383, 'resize': 'fit'}, 'large': {'w': 1280, 'h': 720, 'resize': 'fit'}}}]}, 'extended_entities': {'media': [{'id': 995346161769828353, 'id_str': '995346161769828353', 'indices': [78, 101], 'additional_media_info': {'title': '', 'description': '', 'embeddable': True, 'monetizable': False}, 'media_url': 'http://pbs.twimg.com/media/DdAvlHFW0AAvqGr.jpg', 'media_url_https': 'https://pbs.twimg.com/media/DdAvlHFW0AAvqGr.jpg', 'url': 'https://t.co/5HeUDCqxX6', 'display_url': 'pic.twitter.com/5HeUDCqxX6', 'expanded_url': 'https://twitter.com/NetflixES/status/995356756770467840/video/1', 'type': 'video', 'video_info': {'aspect_ratio': [16, 9], 'duration_millis': 190880, 'variants': [{'content_type': 'application/x-mpegURL', 'url': 'https://video.twimg.com/amplify_video/995346161769828353/pl/WPFdpHuoatjtZKnI.m3u8?tag=2'}, {'bitrate': 2176000, 'content_type': 'video/mp4', 'url': 'https://video.twimg.com/amplify_video/995346161769828353/vid/1280x720/cbspZ0NjwU7-wpSq.mp4?tag=2'}, {'bitrate': 832000, 'content_type': 'video/mp4', 'url': 'https://video.twimg.com/amplify_video/995346161769828353/vid/640x360/oCWqzYk1AXyL3Tm-.mp4?tag=2'}, {'bitrate': 320000, 'content_type': 'video/mp4', 'url': 'https://video.twimg.com/amplify_video/995346161769828353/vid/320x180/5y8pUxDe-rj6erFi.mp4?tag=2'}]}, 'sizes': {'thumb': {'w': 150, 'h': 150, 'resize': 'crop'}, 'medium': {'w': 1200, 'h': 675, 'resize': 'fit'}, 'small': {'w': 680, 'h': 383, 'resize': 'fit'}, 'large': {'w': 1280, 'h': 720, 'resize': 'fit'}}}]}, 'favorited': False, 'retweeted': False, 'possibly_sensitive': False, 'filter_level': 'low', 'lang': 'es'})\n",
      "Tweet(id=995364940985888768, content='Getting ready... #Eurovision https://t.co/8yIGHQyDnU', author='Fire & Earth Sports Massage & Therapy', language='en', retweeted_status=False)\n",
      "Tweet(id=995364943636652032, content=\"Non potrò commentare stasera la finale dell' #eurovision 😢😢😢\\n#escita\", author='ＤＲＫＲ™', language='it', retweeted_status=False)\n",
      "Tweet(id=995364944068726787, content=\"RT @montagnette1: Le 14 juillet 2015 : 10 enfants et adolescents ont été tués à Nice :\\nPour le prochain concours de l'Eurovision peut-être…\", author='Jellyfish', language='fr', retweeted_status={'created_at': 'Sat May 12 16:22:23 +0000 2018', 'id': 995338407030206464, 'id_str': '995338407030206464', 'text': \"Le 14 juillet 2015 : 10 enfants et adolescents ont été tués à Nice :\\nPour le prochain concours de l'Eurovision peut… https://t.co/sFbUNL9Aa1\", 'source': '<a href=\"http://twitter.com\" rel=\"nofollow\">Twitter Web Client</a>', 'truncated': True, 'in_reply_to_status_id': None, 'in_reply_to_status_id_str': None, 'in_reply_to_user_id': None, 'in_reply_to_user_id_str': None, 'in_reply_to_screen_name': None, 'user': {'id': 3586145662, 'id_str': '3586145662', 'name': '🇫🇷#montagnette🇫🇷✞', 'screen_name': 'montagnette1', 'location': 'Savoie : la fille des montagnes', 'url': None, 'description': \"Défendre son pays est la plus noble des causes ! \\U000fe4e7🇫🇷L'ouverture d'esprit face à la critique est un talent rare !\", 'translator_type': 'none', 'protected': False, 'verified': False, 'followers_count': 15036, 'friends_count': 12848, 'listed_count': 91, 'favourites_count': 34791, 'statuses_count': 63236, 'created_at': 'Tue Sep 08 09:10:17 +0000 2015', 'utc_offset': -25200, 'time_zone': 'Pacific Time (US & Canada)', 'geo_enabled': True, 'lang': 'fr', 'contributors_enabled': False, 'is_translator': False, 'profile_background_color': '000000', 'profile_background_image_url': 'http://abs.twimg.com/images/themes/theme1/bg.png', 'profile_background_image_url_https': 'https://abs.twimg.com/images/themes/theme1/bg.png', 'profile_background_tile': False, 'profile_link_color': 'FF691F', 'profile_sidebar_border_color': '000000', 'profile_sidebar_fill_color': '000000', 'profile_text_color': '000000', 'profile_use_background_image': False, 'profile_image_url': 'http://pbs.twimg.com/profile_images/993803042473508864/s96l1NB-_normal.jpg', 'profile_image_url_https': 'https://pbs.twimg.com/profile_images/993803042473508864/s96l1NB-_normal.jpg', 'profile_banner_url': 'https://pbs.twimg.com/profile_banners/3586145662/1521706115', 'default_profile': False, 'default_profile_image': False, 'following': None, 'follow_request_sent': None, 'notifications': None}, 'geo': None, 'coordinates': None, 'place': None, 'contributors': None, 'is_quote_status': False, 'extended_tweet': {'full_text': 'Le 14 juillet 2015 : 10 enfants et adolescents ont été tués à Nice :\\nPour le prochain concours de l\\'Eurovision peut-être que \"Madame/Monsieur nous ferons le plaisir de nous présenter une chanson en hommage d\\'une petite victime des attentats ?????', 'display_text_range': [0, 246], 'entities': {'hashtags': [], 'urls': [], 'user_mentions': [], 'symbols': []}}, 'quote_count': 7, 'reply_count': 25, 'retweet_count': 146, 'favorite_count': 162, 'entities': {'hashtags': [], 'urls': [{'url': 'https://t.co/sFbUNL9Aa1', 'expanded_url': 'https://twitter.com/i/web/status/995338407030206464', 'display_url': 'twitter.com/i/web/status/9…', 'indices': [117, 140]}], 'user_mentions': [], 'symbols': []}, 'favorited': False, 'retweeted': False, 'filter_level': 'low', 'lang': 'fr'})\n",
      "Tweet(id=995364944332849153, content='RT @DialCatalunya: La @crisdalmau i el @Chentepardo us desitgen molta sort aquesta nit @Amaia_ot2017 i @Alfred_ot2017 #Eurovision #TUCANCIÓ…', author='Eterno Reportado', language='ca', retweeted_status={'created_at': 'Sat May 12 17:37:30 +0000 2018', 'id': 995357311760846849, 'id_str': '995357311760846849', 'text': 'La @crisdalmau i el @Chentepardo us desitgen molta sort aquesta nit @Amaia_ot2017 i @Alfred_ot2017 #Eurovision… https://t.co/ui7G6uwdRW', 'display_text_range': [0, 140], 'source': '<a href=\"http://twitter.com/download/android\" rel=\"nofollow\">Twitter for Android</a>', 'truncated': True, 'in_reply_to_status_id': None, 'in_reply_to_status_id_str': None, 'in_reply_to_user_id': None, 'in_reply_to_user_id_str': None, 'in_reply_to_screen_name': None, 'user': {'id': 1183186614, 'id_str': '1183186614', 'name': 'Dial Catalunya', 'screen_name': 'DialCatalunya', 'location': None, 'url': 'http://www.cadenadial.com/', 'description': 'Twitter oficial de Cadena Dial Catalunya i Andorra', 'translator_type': 'none', 'protected': False, 'verified': True, 'followers_count': 3257, 'friends_count': 332, 'listed_count': 25, 'favourites_count': 5961, 'statuses_count': 3932, 'created_at': 'Fri Feb 15 17:02:21 +0000 2013', 'utc_offset': 7200, 'time_zone': 'Madrid', 'geo_enabled': True, 'lang': 'ca', 'contributors_enabled': False, 'is_translator': False, 'profile_background_color': '446E39', 'profile_background_image_url': 'http://pbs.twimg.com/profile_background_images/792454084/4afc430c2472fdc17c8da6ed63689d4e.png', 'profile_background_image_url_https': 'https://pbs.twimg.com/profile_background_images/792454084/4afc430c2472fdc17c8da6ed63689d4e.png', 'profile_background_tile': False, 'profile_link_color': '727F47', 'profile_sidebar_border_color': '000000', 'profile_sidebar_fill_color': 'DBE897', 'profile_text_color': '45D530', 'profile_use_background_image': False, 'profile_image_url': 'http://pbs.twimg.com/profile_images/907605486102609921/c7WvG7YJ_normal.jpg', 'profile_image_url_https': 'https://pbs.twimg.com/profile_images/907605486102609921/c7WvG7YJ_normal.jpg', 'profile_banner_url': 'https://pbs.twimg.com/profile_banners/1183186614/1522876228', 'default_profile': False, 'default_profile_image': False, 'following': None, 'follow_request_sent': None, 'notifications': None}, 'geo': None, 'coordinates': None, 'place': None, 'contributors': None, 'is_quote_status': False, 'extended_tweet': {'full_text': 'La @crisdalmau i el @Chentepardo us desitgen molta sort aquesta nit @Amaia_ot2017 i @Alfred_ot2017 #Eurovision #TUCANCIÓN @Cadena_Dial https://t.co/mXIjtTNcZx', 'display_text_range': [0, 134], 'entities': {'hashtags': [{'text': 'Eurovision', 'indices': [99, 110]}, {'text': 'TUCANCIÓN', 'indices': [111, 121]}], 'urls': [], 'user_mentions': [{'screen_name': 'crisdalmau', 'name': 'Cristina Dalmau', 'id': 309656064, 'id_str': '309656064', 'indices': [3, 14]}, {'screen_name': 'Chentepardo', 'name': 'Vicente Pardo Gómez', 'id': 1204492716, 'id_str': '1204492716', 'indices': [20, 32]}, {'screen_name': 'Amaia_ot2017', 'name': 'Amaia', 'id': 921683886819639296, 'id_str': '921683886819639296', 'indices': [68, 81]}, {'screen_name': 'Alfred_ot2017', 'name': 'Alfred García', 'id': 921485446705803267, 'id_str': '921485446705803267', 'indices': [84, 98]}, {'screen_name': 'Cadena_Dial', 'name': 'Cadena Dial España', 'id': 385376697, 'id_str': '385376697', 'indices': [122, 134]}], 'symbols': [], 'media': [{'id': 995357284044886016, 'id_str': '995357284044886016', 'indices': [135, 158], 'media_url': 'http://pbs.twimg.com/media/DdA4LRwX0AAZvMR.jpg', 'media_url_https': 'https://pbs.twimg.com/media/DdA4LRwX0AAZvMR.jpg', 'url': 'https://t.co/mXIjtTNcZx', 'display_url': 'pic.twitter.com/mXIjtTNcZx', 'expanded_url': 'https://twitter.com/DialCatalunya/status/995357311760846849/photo/1', 'type': 'photo', 'sizes': {'thumb': {'w': 150, 'h': 150, 'resize': 'crop'}, 'small': {'w': 680, 'h': 542, 'resize': 'fit'}, 'large': {'w': 1130, 'h': 900, 'resize': 'fit'}, 'medium': {'w': 1130, 'h': 900, 'resize': 'fit'}}}]}, 'extended_entities': {'media': [{'id': 995357284044886016, 'id_str': '995357284044886016', 'indices': [135, 158], 'media_url': 'http://pbs.twimg.com/media/DdA4LRwX0AAZvMR.jpg', 'media_url_https': 'https://pbs.twimg.com/media/DdA4LRwX0AAZvMR.jpg', 'url': 'https://t.co/mXIjtTNcZx', 'display_url': 'pic.twitter.com/mXIjtTNcZx', 'expanded_url': 'https://twitter.com/DialCatalunya/status/995357311760846849/photo/1', 'type': 'photo', 'sizes': {'thumb': {'w': 150, 'h': 150, 'resize': 'crop'}, 'small': {'w': 680, 'h': 542, 'resize': 'fit'}, 'large': {'w': 1130, 'h': 900, 'resize': 'fit'}, 'medium': {'w': 1130, 'h': 900, 'resize': 'fit'}}}]}}, 'quote_count': 0, 'reply_count': 1, 'retweet_count': 19, 'favorite_count': 26, 'entities': {'hashtags': [{'text': 'Eurovision', 'indices': [99, 110]}], 'urls': [{'url': 'https://t.co/ui7G6uwdRW', 'expanded_url': 'https://twitter.com/i/web/status/995357311760846849', 'display_url': 'twitter.com/i/web/status/9…', 'indices': [112, 135]}], 'user_mentions': [{'screen_name': 'crisdalmau', 'name': 'Cristina Dalmau', 'id': 309656064, 'id_str': '309656064', 'indices': [3, 14]}, {'screen_name': 'Chentepardo', 'name': 'Vicente Pardo Gómez', 'id': 1204492716, 'id_str': '1204492716', 'indices': [20, 32]}, {'screen_name': 'Amaia_ot2017', 'name': 'Amaia', 'id': 921683886819639296, 'id_str': '921683886819639296', 'indices': [68, 81]}, {'screen_name': 'Alfred_ot2017', 'name': 'Alfred García', 'id': 921485446705803267, 'id_str': '921485446705803267', 'indices': [84, 98]}], 'symbols': []}, 'favorited': False, 'retweeted': False, 'possibly_sensitive': False, 'filter_level': 'low', 'lang': 'ca'})\n",
      "Tweet(id=995364944777531392, content='RT @javviercalvo: Paquita también les representa. https://t.co/cIGUnNuoE6', author='Moni🎺', language='es', retweeted_status={'created_at': 'Sat May 12 17:58:40 +0000 2018', 'id': 995362637578940417, 'id_str': '995362637578940417', 'text': 'Paquita también les representa. https://t.co/cIGUnNuoE6', 'display_text_range': [0, 31], 'source': '<a href=\"http://twitter.com/download/android\" rel=\"nofollow\">Twitter for Android</a>', 'truncated': False, 'in_reply_to_status_id': None, 'in_reply_to_status_id_str': None, 'in_reply_to_user_id': None, 'in_reply_to_user_id_str': None, 'in_reply_to_screen_name': None, 'user': {'id': 202376075, 'id_str': '202376075', 'name': 'Javier Calvo', 'screen_name': 'javviercalvo', 'location': 'Madrid', 'url': 'http://gosua.com', 'description': '⚡️🙋🏻\\u200d♂️Creador: 👛🙎🏼 Paquita Salas (Netflix) 🙏🎤 La Llamada (El Musical) 📽🏕 La Llamada (La Película) // Lo hacemos y ya vemos.', 'translator_type': 'none', 'protected': False, 'verified': True, 'followers_count': 226525, 'friends_count': 1711, 'listed_count': 776, 'favourites_count': 8458, 'statuses_count': 14938, 'created_at': 'Wed Oct 13 22:31:17 +0000 2010', 'utc_offset': -7200, 'time_zone': 'Greenland', 'geo_enabled': True, 'lang': 'es', 'contributors_enabled': False, 'is_translator': False, 'profile_background_color': 'C0DEED', 'profile_background_image_url': 'http://pbs.twimg.com/profile_background_images/378800000068987294/ae2c4839eb0d5690e3224125b8474053.jpeg', 'profile_background_image_url_https': 'https://pbs.twimg.com/profile_background_images/378800000068987294/ae2c4839eb0d5690e3224125b8474053.jpeg', 'profile_background_tile': True, 'profile_link_color': '000000', 'profile_sidebar_border_color': '000000', 'profile_sidebar_fill_color': 'DDEEF6', 'profile_text_color': '333333', 'profile_use_background_image': True, 'profile_image_url': 'http://pbs.twimg.com/profile_images/823954319833710594/U2F_8WJp_normal.jpg', 'profile_image_url_https': 'https://pbs.twimg.com/profile_images/823954319833710594/U2F_8WJp_normal.jpg', 'profile_banner_url': 'https://pbs.twimg.com/profile_banners/202376075/1504881114', 'default_profile': False, 'default_profile_image': False, 'following': None, 'follow_request_sent': None, 'notifications': None}, 'geo': None, 'coordinates': None, 'place': None, 'contributors': None, 'quoted_status_id': 995356756770467840, 'quoted_status_id_str': '995356756770467840', 'quoted_status': {'created_at': 'Sat May 12 17:35:18 +0000 2018', 'id': 995356756770467840, 'id_str': '995356756770467840', 'text': 'Ella está al mando. Con @PaquitaSalas nada malo puede pasar, ¿no? #Eurovision https://t.co/5HeUDCqxX6', 'display_text_range': [0, 77], 'source': '<a href=\"https://studio.twitter.com\" rel=\"nofollow\">Media Studio</a>', 'truncated': False, 'in_reply_to_status_id': None, 'in_reply_to_status_id_str': None, 'in_reply_to_user_id': None, 'in_reply_to_user_id_str': None, 'in_reply_to_screen_name': None, 'user': {'id': 3143260474, 'id_str': '3143260474', 'name': 'Netflix España', 'screen_name': 'NetflixES', 'location': 'Spain', 'url': 'http://www.netflix.es', 'description': 'Oh Bella Ciao, bella ciao, bella ciao, ciao, ciao. Ayuda: @Netflixhelps', 'translator_type': 'none', 'protected': False, 'verified': True, 'followers_count': 573350, 'friends_count': 264, 'listed_count': 1450, 'favourites_count': 2463, 'statuses_count': 8349, 'created_at': 'Tue Apr 07 09:14:20 +0000 2015', 'utc_offset': 7200, 'time_zone': 'Madrid', 'geo_enabled': True, 'lang': 'es', 'contributors_enabled': False, 'is_translator': False, 'profile_background_color': '000000', 'profile_background_image_url': 'http://abs.twimg.com/images/themes/theme1/bg.png', 'profile_background_image_url_https': 'https://abs.twimg.com/images/themes/theme1/bg.png', 'profile_background_tile': False, 'profile_link_color': 'E81C4F', 'profile_sidebar_border_color': '000000', 'profile_sidebar_fill_color': '000000', 'profile_text_color': '000000', 'profile_use_background_image': False, 'profile_image_url': 'http://pbs.twimg.com/profile_images/744942939932082176/_9oX7gdV_normal.jpg', 'profile_image_url_https': 'https://pbs.twimg.com/profile_images/744942939932082176/_9oX7gdV_normal.jpg', 'profile_banner_url': 'https://pbs.twimg.com/profile_banners/3143260474/1523006236', 'default_profile': False, 'default_profile_image': False, 'following': None, 'follow_request_sent': None, 'notifications': None}, 'geo': None, 'coordinates': None, 'place': None, 'contributors': None, 'is_quote_status': False, 'quote_count': 1183, 'reply_count': 249, 'retweet_count': 5274, 'favorite_count': 7609, 'entities': {'hashtags': [{'text': 'Eurovision', 'indices': [66, 77]}], 'urls': [], 'user_mentions': [{'screen_name': 'PaquitaSalas', 'name': 'Paquita Salas', 'id': 739812492310896640, 'id_str': '739812492310896640', 'indices': [24, 37]}], 'symbols': [], 'media': [{'id': 995346161769828353, 'id_str': '995346161769828353', 'indices': [78, 101], 'additional_media_info': {'title': '', 'description': '', 'embeddable': True, 'monetizable': False}, 'media_url': 'http://pbs.twimg.com/media/DdAvlHFW0AAvqGr.jpg', 'media_url_https': 'https://pbs.twimg.com/media/DdAvlHFW0AAvqGr.jpg', 'url': 'https://t.co/5HeUDCqxX6', 'display_url': 'pic.twitter.com/5HeUDCqxX6', 'expanded_url': 'https://twitter.com/NetflixES/status/995356756770467840/video/1', 'type': 'photo', 'sizes': {'thumb': {'w': 150, 'h': 150, 'resize': 'crop'}, 'medium': {'w': 1200, 'h': 675, 'resize': 'fit'}, 'small': {'w': 680, 'h': 383, 'resize': 'fit'}, 'large': {'w': 1280, 'h': 720, 'resize': 'fit'}}}]}, 'extended_entities': {'media': [{'id': 995346161769828353, 'id_str': '995346161769828353', 'indices': [78, 101], 'additional_media_info': {'title': '', 'description': '', 'embeddable': True, 'monetizable': False}, 'media_url': 'http://pbs.twimg.com/media/DdAvlHFW0AAvqGr.jpg', 'media_url_https': 'https://pbs.twimg.com/media/DdAvlHFW0AAvqGr.jpg', 'url': 'https://t.co/5HeUDCqxX6', 'display_url': 'pic.twitter.com/5HeUDCqxX6', 'expanded_url': 'https://twitter.com/NetflixES/status/995356756770467840/video/1', 'type': 'video', 'video_info': {'aspect_ratio': [16, 9], 'duration_millis': 190880, 'variants': [{'content_type': 'application/x-mpegURL', 'url': 'https://video.twimg.com/amplify_video/995346161769828353/pl/WPFdpHuoatjtZKnI.m3u8?tag=2'}, {'bitrate': 2176000, 'content_type': 'video/mp4', 'url': 'https://video.twimg.com/amplify_video/995346161769828353/vid/1280x720/cbspZ0NjwU7-wpSq.mp4?tag=2'}, {'bitrate': 832000, 'content_type': 'video/mp4', 'url': 'https://video.twimg.com/amplify_video/995346161769828353/vid/640x360/oCWqzYk1AXyL3Tm-.mp4?tag=2'}, {'bitrate': 320000, 'content_type': 'video/mp4', 'url': 'https://video.twimg.com/amplify_video/995346161769828353/vid/320x180/5y8pUxDe-rj6erFi.mp4?tag=2'}]}, 'sizes': {'thumb': {'w': 150, 'h': 150, 'resize': 'crop'}, 'medium': {'w': 1200, 'h': 675, 'resize': 'fit'}, 'small': {'w': 680, 'h': 383, 'resize': 'fit'}, 'large': {'w': 1280, 'h': 720, 'resize': 'fit'}}}]}, 'favorited': False, 'retweeted': False, 'possibly_sensitive': False, 'filter_level': 'low', 'lang': 'es'}, 'is_quote_status': True, 'quote_count': 0, 'reply_count': 10, 'retweet_count': 82, 'favorite_count': 321, 'entities': {'hashtags': [], 'urls': [{'url': 'https://t.co/cIGUnNuoE6', 'expanded_url': 'https://twitter.com/NetflixES/status/995356756770467840', 'display_url': 'twitter.com/NetflixES/stat…', 'indices': [32, 55]}], 'user_mentions': [], 'symbols': []}, 'favorited': False, 'retweeted': False, 'possibly_sensitive': False, 'filter_level': 'low', 'lang': 'es'})\n",
      "Tweet(id=995364941518516227, content='Enjoy the show everyone #Eurovision https://t.co/qTSpV7dFam', author='João 🇮🇱🇫🇷', language='en', retweeted_status=False)\n",
      "Tweet(id=995364945457045504, content='RT @Aitana_ot2017: YO ES QUE, lloro. Les quiero. https://t.co/l8JsDlXRJb', author='Júlia Bonmatí', language='es', retweeted_status={'created_at': 'Sat May 12 17:38:26 +0000 2018', 'id': 995357544888627202, 'id_str': '995357544888627202', 'text': 'YO ES QUE, lloro. Les quiero. https://t.co/l8JsDlXRJb', 'display_text_range': [0, 29], 'source': '<a href=\"http://twitter.com/download/iphone\" rel=\"nofollow\">Twitter for iPhone</a>', 'truncated': False, 'in_reply_to_status_id': None, 'in_reply_to_status_id_str': None, 'in_reply_to_user_id': None, 'in_reply_to_user_id_str': None, 'in_reply_to_screen_name': None, 'user': {'id': 921734966584709120, 'id_str': '921734966584709120', 'name': 'Aitana', 'screen_name': 'Aitana_ot2017', 'location': 'Sant Climent de Llobregat', 'url': 'http://www.rtve.es/television/ot/', 'description': 'Hola, bienvenidas y bienvenidos a mi Twitter (espero estar a la altura)', 'translator_type': 'none', 'protected': False, 'verified': True, 'followers_count': 259996, 'friends_count': 24, 'listed_count': 319, 'favourites_count': 136, 'statuses_count': 188, 'created_at': 'Sat Oct 21 13:48:35 +0000 2017', 'utc_offset': None, 'time_zone': None, 'geo_enabled': False, 'lang': 'es', 'contributors_enabled': False, 'is_translator': False, 'profile_background_color': 'F5F8FA', 'profile_background_image_url': '', 'profile_background_image_url_https': '', 'profile_background_tile': False, 'profile_link_color': '1DA1F2', 'profile_sidebar_border_color': 'C0DEED', 'profile_sidebar_fill_color': 'DDEEF6', 'profile_text_color': '333333', 'profile_use_background_image': True, 'profile_image_url': 'http://pbs.twimg.com/profile_images/961404387905212416/D2bIBjJq_normal.jpg', 'profile_image_url_https': 'https://pbs.twimg.com/profile_images/961404387905212416/D2bIBjJq_normal.jpg', 'profile_banner_url': 'https://pbs.twimg.com/profile_banners/921734966584709120/1523039843', 'default_profile': True, 'default_profile_image': False, 'following': None, 'follow_request_sent': None, 'notifications': None}, 'geo': None, 'coordinates': None, 'place': None, 'contributors': None, 'quoted_status_id': 995356756770467840, 'quoted_status_id_str': '995356756770467840', 'quoted_status': {'created_at': 'Sat May 12 17:35:18 +0000 2018', 'id': 995356756770467840, 'id_str': '995356756770467840', 'text': 'Ella está al mando. Con @PaquitaSalas nada malo puede pasar, ¿no? #Eurovision https://t.co/5HeUDCqxX6', 'display_text_range': [0, 77], 'source': '<a href=\"https://studio.twitter.com\" rel=\"nofollow\">Media Studio</a>', 'truncated': False, 'in_reply_to_status_id': None, 'in_reply_to_status_id_str': None, 'in_reply_to_user_id': None, 'in_reply_to_user_id_str': None, 'in_reply_to_screen_name': None, 'user': {'id': 3143260474, 'id_str': '3143260474', 'name': 'Netflix España', 'screen_name': 'NetflixES', 'location': 'Spain', 'url': 'http://www.netflix.es', 'description': 'Oh Bella Ciao, bella ciao, bella ciao, ciao, ciao. Ayuda: @Netflixhelps', 'translator_type': 'none', 'protected': False, 'verified': True, 'followers_count': 573350, 'friends_count': 264, 'listed_count': 1450, 'favourites_count': 2463, 'statuses_count': 8349, 'created_at': 'Tue Apr 07 09:14:20 +0000 2015', 'utc_offset': 7200, 'time_zone': 'Madrid', 'geo_enabled': True, 'lang': 'es', 'contributors_enabled': False, 'is_translator': False, 'profile_background_color': '000000', 'profile_background_image_url': 'http://abs.twimg.com/images/themes/theme1/bg.png', 'profile_background_image_url_https': 'https://abs.twimg.com/images/themes/theme1/bg.png', 'profile_background_tile': False, 'profile_link_color': 'E81C4F', 'profile_sidebar_border_color': '000000', 'profile_sidebar_fill_color': '000000', 'profile_text_color': '000000', 'profile_use_background_image': False, 'profile_image_url': 'http://pbs.twimg.com/profile_images/744942939932082176/_9oX7gdV_normal.jpg', 'profile_image_url_https': 'https://pbs.twimg.com/profile_images/744942939932082176/_9oX7gdV_normal.jpg', 'profile_banner_url': 'https://pbs.twimg.com/profile_banners/3143260474/1523006236', 'default_profile': False, 'default_profile_image': False, 'following': None, 'follow_request_sent': None, 'notifications': None}, 'geo': None, 'coordinates': None, 'place': None, 'contributors': None, 'is_quote_status': False, 'quote_count': 1183, 'reply_count': 249, 'retweet_count': 5274, 'favorite_count': 7609, 'entities': {'hashtags': [{'text': 'Eurovision', 'indices': [66, 77]}], 'urls': [], 'user_mentions': [{'screen_name': 'PaquitaSalas', 'name': 'Paquita Salas', 'id': 739812492310896640, 'id_str': '739812492310896640', 'indices': [24, 37]}], 'symbols': [], 'media': [{'id': 995346161769828353, 'id_str': '995346161769828353', 'indices': [78, 101], 'additional_media_info': {'title': '', 'description': '', 'embeddable': True, 'monetizable': False}, 'media_url': 'http://pbs.twimg.com/media/DdAvlHFW0AAvqGr.jpg', 'media_url_https': 'https://pbs.twimg.com/media/DdAvlHFW0AAvqGr.jpg', 'url': 'https://t.co/5HeUDCqxX6', 'display_url': 'pic.twitter.com/5HeUDCqxX6', 'expanded_url': 'https://twitter.com/NetflixES/status/995356756770467840/video/1', 'type': 'photo', 'sizes': {'thumb': {'w': 150, 'h': 150, 'resize': 'crop'}, 'medium': {'w': 1200, 'h': 675, 'resize': 'fit'}, 'small': {'w': 680, 'h': 383, 'resize': 'fit'}, 'large': {'w': 1280, 'h': 720, 'resize': 'fit'}}}]}, 'extended_entities': {'media': [{'id': 995346161769828353, 'id_str': '995346161769828353', 'indices': [78, 101], 'additional_media_info': {'title': '', 'description': '', 'embeddable': True, 'monetizable': False}, 'media_url': 'http://pbs.twimg.com/media/DdAvlHFW0AAvqGr.jpg', 'media_url_https': 'https://pbs.twimg.com/media/DdAvlHFW0AAvqGr.jpg', 'url': 'https://t.co/5HeUDCqxX6', 'display_url': 'pic.twitter.com/5HeUDCqxX6', 'expanded_url': 'https://twitter.com/NetflixES/status/995356756770467840/video/1', 'type': 'video', 'video_info': {'aspect_ratio': [16, 9], 'duration_millis': 190880, 'variants': [{'content_type': 'application/x-mpegURL', 'url': 'https://video.twimg.com/amplify_video/995346161769828353/pl/WPFdpHuoatjtZKnI.m3u8?tag=2'}, {'bitrate': 2176000, 'content_type': 'video/mp4', 'url': 'https://video.twimg.com/amplify_video/995346161769828353/vid/1280x720/cbspZ0NjwU7-wpSq.mp4?tag=2'}, {'bitrate': 832000, 'content_type': 'video/mp4', 'url': 'https://video.twimg.com/amplify_video/995346161769828353/vid/640x360/oCWqzYk1AXyL3Tm-.mp4?tag=2'}, {'bitrate': 320000, 'content_type': 'video/mp4', 'url': 'https://video.twimg.com/amplify_video/995346161769828353/vid/320x180/5y8pUxDe-rj6erFi.mp4?tag=2'}]}, 'sizes': {'thumb': {'w': 150, 'h': 150, 'resize': 'crop'}, 'medium': {'w': 1200, 'h': 675, 'resize': 'fit'}, 'small': {'w': 680, 'h': 383, 'resize': 'fit'}, 'large': {'w': 1280, 'h': 720, 'resize': 'fit'}}}]}, 'favorited': False, 'retweeted': False, 'possibly_sensitive': False, 'filter_level': 'low', 'lang': 'es'}, 'is_quote_status': True, 'quote_count': 11, 'reply_count': 68, 'retweet_count': 915, 'favorite_count': 3557, 'entities': {'hashtags': [], 'urls': [{'url': 'https://t.co/l8JsDlXRJb', 'expanded_url': 'https://twitter.com/netflixes/status/995356756770467840', 'display_url': 'twitter.com/netflixes/stat…', 'indices': [30, 53]}], 'user_mentions': [], 'symbols': []}, 'favorited': False, 'retweeted': False, 'possibly_sensitive': False, 'filter_level': 'low', 'lang': 'es'})\n",
      "Tweet(id=995364947147272200, content='the eurovision excitement is :\\n- 50% for the show itself\\n- 50% to see @BuzzFeedFrance @BuzzFeedUK @BuzzFeedGermany… https://t.co/bsHng7yRFZ', author='errine – ESC TODAY!!', language='en', retweeted_status=False)\n"
     ]
    }
   ],
   "source": [
    "import json, dataclasses\n",
    "\n",
    "tweets = []\n",
    "\n",
    "bucket='mudab-2025-pc1262057'\n",
    "data_key = 'input/Eurovision-04.json'\n",
    "data_location = 's3://{}/{}'.format(bucket, data_key)\n",
    "\n",
    "def parse_line(line: str):\n",
    "  \"\"\"Try to parse a string into a Person\"\"\"\n",
    "  error = 0\n",
    "  try:\n",
    "    parsed = json.loads(line)\n",
    "    return Tweet(parsed['id'], parsed['text'], parsed['user']['name'], parsed['lang'],parsed.get('retweeted_status', False))\n",
    "  except Exception as e:\n",
    "    error += 1    \n",
    "#   print(f\"Error parsing '{line}': {e}\")\n",
    "\n",
    "with s3.open(data_location) as input: #CLIENT S3. CAN READ THE FILE LINE BY LINE\n",
    "  for line in input.readlines():\n",
    "    if len(line.strip()) > 0:\n",
    "      tweet = parse_line(line)\n",
    "      if tweet: # We add only if the tweet is not 'None'\n",
    "         tweets.append(tweet)\n",
    "\n",
    "for modeled_tweet in tweets[0:10]:\n",
    "  print(modeled_tweet)"
   ]
  },
  {
   "cell_type": "markdown",
   "metadata": {
    "tags": []
   },
   "source": [
    "### 5:"
   ]
  },
  {
   "cell_type": "code",
   "execution_count": 26,
   "metadata": {
    "tags": []
   },
   "outputs": [],
   "source": [
    "import s3fs\n",
    "s3 = s3fs.S3FileSystem(anon=False)\n",
    "\n",
    "bucket='mudab-2025-big-data'\n",
    "data_key = 'twitter-data/Eurovision-05.json'\n",
    "data_location = 's3://{}/{}'.format(bucket, data_key)"
   ]
  },
  {
   "cell_type": "code",
   "execution_count": 28,
   "metadata": {
    "tags": []
   },
   "outputs": [
    {
     "name": "stdout",
     "output_type": "stream",
     "text": [
      "Tweet(id=995386043187769344, content='RT @tasvolverhalen: Lekker catchy voor een uitvaart. #ltu #esf18 #eurovision', author='Susanne', language='nl', retweeted_status={'created_at': 'Sat May 12 19:31:13 +0000 2018', 'id': 995385927190097926, 'id_str': '995385927190097926', 'text': 'Lekker catchy voor een uitvaart. #ltu #esf18 #eurovision', 'source': '<a href=\"http://twitter.com/#!/download/ipad\" rel=\"nofollow\">Twitter for iPad</a>', 'truncated': False, 'in_reply_to_status_id': None, 'in_reply_to_status_id_str': None, 'in_reply_to_user_id': None, 'in_reply_to_user_id_str': None, 'in_reply_to_screen_name': None, 'user': {'id': 54936488, 'id_str': '54936488', 'name': 'Tas', 'screen_name': 'tasvolverhalen', 'location': 'All over the land', 'url': 'http://omafiettekoop.tumblr.com', 'description': 'Kijkt graag pit tijdens den twit, copy tekst online redactie, ex-dierenarts, Tukker en gewoon verschrikkelijk goed met frikadellen. ©Dagrapportade', 'translator_type': 'none', 'protected': False, 'verified': False, 'followers_count': 7632, 'friends_count': 433, 'listed_count': 110, 'favourites_count': 5023, 'statuses_count': 128308, 'created_at': 'Wed Jul 08 15:57:49 +0000 2009', 'utc_offset': 7200, 'time_zone': 'Amsterdam', 'geo_enabled': False, 'lang': 'nl', 'contributors_enabled': False, 'is_translator': False, 'profile_background_color': '2FF525', 'profile_background_image_url': 'http://pbs.twimg.com/profile_background_images/525594825265930241/hDO4X0Ce.jpeg', 'profile_background_image_url_https': 'https://pbs.twimg.com/profile_background_images/525594825265930241/hDO4X0Ce.jpeg', 'profile_background_tile': True, 'profile_link_color': 'E81C4F', 'profile_sidebar_border_color': '000000', 'profile_sidebar_fill_color': 'FFFFFF', 'profile_text_color': '000000', 'profile_use_background_image': True, 'profile_image_url': 'http://pbs.twimg.com/profile_images/990124423306010624/J767G-MH_normal.jpg', 'profile_image_url_https': 'https://pbs.twimg.com/profile_images/990124423306010624/J767G-MH_normal.jpg', 'profile_banner_url': 'https://pbs.twimg.com/profile_banners/54936488/1520963644', 'default_profile': False, 'default_profile_image': False, 'following': None, 'follow_request_sent': None, 'notifications': None}, 'geo': None, 'coordinates': None, 'place': None, 'contributors': None, 'is_quote_status': False, 'quote_count': 0, 'reply_count': 0, 'retweet_count': 1, 'favorite_count': 1, 'entities': {'hashtags': [{'text': 'ltu', 'indices': [33, 37]}, {'text': 'esf18', 'indices': [38, 44]}, {'text': 'eurovision', 'indices': [45, 56]}], 'urls': [], 'user_mentions': [], 'symbols': []}, 'favorited': False, 'retweeted': False, 'filter_level': 'low', 'lang': 'nl'})\n",
      "Tweet(id=995386043296813060, content='que no le apetece moverse a la chavala #ltu #Eurovision', author='💋📿Virgen de los aros 📿💋', language='es', retweeted_status=False)\n",
      "Tweet(id=995386043280056320, content='RT @ElHuffPost: Ha conocido a uno de sus ídolos #Eurovision\\nhttps://t.co/DA7pxBlpYe', author='Франсиско Гарсия', language='es', retweeted_status={'created_at': 'Sat May 12 19:30:00 +0000 2018', 'id': 995385622557798400, 'id_str': '995385622557798400', 'text': 'Ha conocido a uno de sus ídolos #Eurovision\\nhttps://t.co/DA7pxBlpYe', 'source': '<a href=\"https://about.twitter.com/products/tweetdeck\" rel=\"nofollow\">TweetDeck</a>', 'truncated': False, 'in_reply_to_status_id': None, 'in_reply_to_status_id_str': None, 'in_reply_to_user_id': None, 'in_reply_to_user_id_str': None, 'in_reply_to_screen_name': None, 'user': {'id': 364528766, 'id_str': '364528766', 'name': 'El HuffPost', 'screen_name': 'ElHuffPost', 'location': 'Madrid, Spain', 'url': 'http://www.huffingtonpost.es', 'description': '▶Facebook http://bit.ly/1sDqXwu            \\n\\n▶Telegram  http://bit.ly/1sDriPC\\n\\n▶Android http://bit.ly/1NcE6TE\\n\\n▶iOS  http://bit.ly/1AokTa1', 'translator_type': 'none', 'protected': False, 'verified': True, 'followers_count': 435128, 'friends_count': 1443, 'listed_count': 8188, 'favourites_count': 802, 'statuses_count': 272586, 'created_at': 'Mon Aug 29 22:39:03 +0000 2011', 'utc_offset': 7200, 'time_zone': 'Madrid', 'geo_enabled': False, 'lang': 'es', 'contributors_enabled': False, 'is_translator': False, 'profile_background_color': '015E50', 'profile_background_image_url': 'http://pbs.twimg.com/profile_background_images/709733850/37ce517c25ea1b90e70e3f300dfaec48.png', 'profile_background_image_url_https': 'https://pbs.twimg.com/profile_background_images/709733850/37ce517c25ea1b90e70e3f300dfaec48.png', 'profile_background_tile': False, 'profile_link_color': '015E50', 'profile_sidebar_border_color': 'FFFFFF', 'profile_sidebar_fill_color': 'DDEEF6', 'profile_text_color': '333333', 'profile_use_background_image': True, 'profile_image_url': 'http://pbs.twimg.com/profile_images/921140803422089217/ETOEUOAx_normal.jpg', 'profile_image_url_https': 'https://pbs.twimg.com/profile_images/921140803422089217/ETOEUOAx_normal.jpg', 'profile_banner_url': 'https://pbs.twimg.com/profile_banners/364528766/1521461646', 'default_profile': False, 'default_profile_image': False, 'following': None, 'follow_request_sent': None, 'notifications': None}, 'geo': None, 'coordinates': None, 'place': None, 'contributors': None, 'is_quote_status': False, 'quote_count': 0, 'reply_count': 0, 'retweet_count': 1, 'favorite_count': 0, 'entities': {'hashtags': [{'text': 'Eurovision', 'indices': [32, 43]}], 'urls': [{'url': 'https://t.co/DA7pxBlpYe', 'expanded_url': 'https://www.huffingtonpost.es/2018/05/12/alfred-cumple-su-sueno-justo-antes-de-actuar-en-eurovision-2018_a_23433273/', 'display_url': 'huffingtonpost.es/2018/05/12/alf…', 'indices': [44, 67]}], 'user_mentions': [], 'symbols': []}, 'favorited': False, 'retweeted': False, 'possibly_sensitive': False, 'filter_level': 'low', 'lang': 'es'})\n",
      "Tweet(id=995386043271667712, content='RT @mailithepigeon: #eurovision https://t.co/naDqH2qlVQ', author='🌸☀️💮Domi💮☀️🌸', language='und', retweeted_status={'created_at': 'Sat May 12 19:19:34 +0000 2018', 'id': 995382996315369472, 'id_str': '995382996315369472', 'text': '#eurovision https://t.co/naDqH2qlVQ', 'display_text_range': [0, 11], 'source': '<a href=\"http://twitter.com/download/android\" rel=\"nofollow\">Twitter for Android</a>', 'truncated': False, 'in_reply_to_status_id': None, 'in_reply_to_status_id_str': None, 'in_reply_to_user_id': None, 'in_reply_to_user_id_str': None, 'in_reply_to_screen_name': None, 'user': {'id': 793561777, 'id_str': '793561777', 'name': 'maili', 'screen_name': 'mailithepigeon', 'location': None, 'url': None, 'description': 'inimeselaadne toode', 'translator_type': 'none', 'protected': False, 'verified': False, 'followers_count': 74, 'friends_count': 200, 'listed_count': 3, 'favourites_count': 1286, 'statuses_count': 2670, 'created_at': 'Fri Aug 31 10:22:01 +0000 2012', 'utc_offset': 10800, 'time_zone': 'Tallinn', 'geo_enabled': False, 'lang': 'en', 'contributors_enabled': False, 'is_translator': False, 'profile_background_color': '000000', 'profile_background_image_url': 'http://abs.twimg.com/images/themes/theme1/bg.png', 'profile_background_image_url_https': 'https://abs.twimg.com/images/themes/theme1/bg.png', 'profile_background_tile': False, 'profile_link_color': '000000', 'profile_sidebar_border_color': '000000', 'profile_sidebar_fill_color': '000000', 'profile_text_color': '000000', 'profile_use_background_image': False, 'profile_image_url': 'http://pbs.twimg.com/profile_images/870318483527135232/fWFx85YB_normal.jpg', 'profile_image_url_https': 'https://pbs.twimg.com/profile_images/870318483527135232/fWFx85YB_normal.jpg', 'profile_banner_url': 'https://pbs.twimg.com/profile_banners/793561777/1510585595', 'default_profile': False, 'default_profile_image': False, 'following': None, 'follow_request_sent': None, 'notifications': None}, 'geo': None, 'coordinates': None, 'place': None, 'contributors': None, 'is_quote_status': False, 'quote_count': 8, 'reply_count': 1, 'retweet_count': 586, 'favorite_count': 403, 'entities': {'hashtags': [{'text': 'eurovision', 'indices': [0, 11]}], 'urls': [], 'user_mentions': [], 'symbols': [], 'media': [{'id': 995382979831754752, 'id_str': '995382979831754752', 'indices': [12, 35], 'media_url': 'http://pbs.twimg.com/media/DdBPi-BXcAAqQt0.jpg', 'media_url_https': 'https://pbs.twimg.com/media/DdBPi-BXcAAqQt0.jpg', 'url': 'https://t.co/naDqH2qlVQ', 'display_url': 'pic.twitter.com/naDqH2qlVQ', 'expanded_url': 'https://twitter.com/mailithepigeon/status/995382996315369472/photo/1', 'type': 'photo', 'sizes': {'thumb': {'w': 150, 'h': 150, 'resize': 'crop'}, 'small': {'w': 680, 'h': 383, 'resize': 'fit'}, 'large': {'w': 1920, 'h': 1080, 'resize': 'fit'}, 'medium': {'w': 1200, 'h': 675, 'resize': 'fit'}}}]}, 'extended_entities': {'media': [{'id': 995382979831754752, 'id_str': '995382979831754752', 'indices': [12, 35], 'media_url': 'http://pbs.twimg.com/media/DdBPi-BXcAAqQt0.jpg', 'media_url_https': 'https://pbs.twimg.com/media/DdBPi-BXcAAqQt0.jpg', 'url': 'https://t.co/naDqH2qlVQ', 'display_url': 'pic.twitter.com/naDqH2qlVQ', 'expanded_url': 'https://twitter.com/mailithepigeon/status/995382996315369472/photo/1', 'type': 'photo', 'sizes': {'thumb': {'w': 150, 'h': 150, 'resize': 'crop'}, 'small': {'w': 680, 'h': 383, 'resize': 'fit'}, 'large': {'w': 1920, 'h': 1080, 'resize': 'fit'}, 'medium': {'w': 1200, 'h': 675, 'resize': 'fit'}}}]}, 'favorited': False, 'retweeted': False, 'possibly_sensitive': False, 'filter_level': 'low', 'lang': 'und'})\n",
      "Tweet(id=995386043426844672, content='Ay no me gusta nada, pero tiene buena voz  #Eurovision', author='Mery VOTE O2 🇪🇸', language='es', retweeted_status=False)\n",
      "Tweet(id=995386043305267201, content='Definitely channeling a bit of Cranberries here :-( #Eurovision', author='Nick Clarey', language='en', retweeted_status=False)\n",
      "Tweet(id=995386042994872320, content='She very delicate looking and also doesn’t know a word of English #EUROVISION', author='Fake Wonder Woman', language='en', retweeted_status=False)\n",
      "Tweet(id=995386043309445132, content='Wann muss Marie singen?\\n\\n #ESC2018 #DSDS #ESC', author='ThoMar 🏳️\\u200d🌈       \\\\O/🇷🇸Serbia🇷🇸\\\\O/', language='de', retweeted_status=False)\n",
      "Tweet(id=995386039681372160, content='Far better than #EUROVISION \\n#Cubcamp https://t.co/TtTjWtfRbY', author='Stu Mann', language='en', retweeted_status=False)\n",
      "Tweet(id=995386042957123584, content='RT @LVPibai: Un señor con 16 millones de seguidores nos acaba de dar un 0. El mayor suspenso en la historia de nuestro país. \\nhttps://t.co/…', author='Mistborn🌻🎂', language='es', retweeted_status={'created_at': 'Sat May 12 19:26:28 +0000 2018', 'id': 995384731805118464, 'id_str': '995384731805118464', 'text': 'Un señor con 16 millones de seguidores nos acaba de dar un 0. El mayor suspenso en la historia de nuestro país. \\nhttps://t.co/jgPmTRl9bk', 'source': '<a href=\"http://twitter.com\" rel=\"nofollow\">Twitter Web Client</a>', 'truncated': False, 'in_reply_to_status_id': None, 'in_reply_to_status_id_str': None, 'in_reply_to_user_id': None, 'in_reply_to_user_id_str': None, 'in_reply_to_screen_name': None, 'user': {'id': 2754746065, 'id_str': '2754746065', 'name': 'Ibai', 'screen_name': 'LVPibai', 'location': 'Barcelona, España', 'url': 'http://twitch.tv/ibaailvp', 'description': 'Hablo durante muchas horas en la @LVPes y cuando termino me voy a mi casa a descansar con mi familia.', 'translator_type': 'regular', 'protected': False, 'verified': True, 'followers_count': 295722, 'friends_count': 410, 'listed_count': 524, 'favourites_count': 33920, 'statuses_count': 41498, 'created_at': 'Fri Aug 22 11:50:45 +0000 2014', 'utc_offset': 7200, 'time_zone': 'Belgrade', 'geo_enabled': False, 'lang': 'es', 'contributors_enabled': False, 'is_translator': False, 'profile_background_color': '000000', 'profile_background_image_url': 'http://abs.twimg.com/images/themes/theme1/bg.png', 'profile_background_image_url_https': 'https://abs.twimg.com/images/themes/theme1/bg.png', 'profile_background_tile': False, 'profile_link_color': '000000', 'profile_sidebar_border_color': '000000', 'profile_sidebar_fill_color': '000000', 'profile_text_color': '000000', 'profile_use_background_image': False, 'profile_image_url': 'http://pbs.twimg.com/profile_images/891423090105831424/WX9Y9q0W_normal.jpg', 'profile_image_url_https': 'https://pbs.twimg.com/profile_images/891423090105831424/WX9Y9q0W_normal.jpg', 'profile_banner_url': 'https://pbs.twimg.com/profile_banners/2754746065/1501371817', 'default_profile': False, 'default_profile_image': False, 'following': None, 'follow_request_sent': None, 'notifications': None}, 'geo': None, 'coordinates': None, 'place': None, 'contributors': None, 'quoted_status_id': 995383476181401601, 'quoted_status_id_str': '995383476181401601', 'quoted_status': {'created_at': 'Sat May 12 19:21:28 +0000 2018', 'id': 995383476181401601, 'id_str': '995383476181401601', 'text': 'Already hate it 0/10 #Eurovision #esp', 'source': '<a href=\"http://twitter.com/download/android\" rel=\"nofollow\">Twitter for Android</a>', 'truncated': False, 'in_reply_to_status_id': None, 'in_reply_to_status_id_str': None, 'in_reply_to_user_id': None, 'in_reply_to_user_id_str': None, 'in_reply_to_screen_name': None, 'user': {'id': 39538010, 'id_str': '39538010', 'name': 'ƿ૯ωძɿ૯ƿɿ૯', 'screen_name': 'pewdiepie', 'location': None, 'url': 'http://www.youtube.com/pewdiepie', 'description': 'i like watching YouTube, gaming and playing beyblades https://www.instagram.com/pewdiepie/', 'translator_type': 'regular', 'protected': False, 'verified': True, 'followers_count': 15961756, 'friends_count': 536, 'listed_count': 11851, 'favourites_count': 8238, 'statuses_count': 209, 'created_at': 'Tue May 12 16:41:07 +0000 2009', 'utc_offset': 7200, 'time_zone': 'Stockholm', 'geo_enabled': False, 'lang': 'en', 'contributors_enabled': False, 'is_translator': False, 'profile_background_color': 'EBEBEB', 'profile_background_image_url': 'http://pbs.twimg.com/profile_background_images/615687816/dnpje9pnqt7j48h5gdtg.jpeg', 'profile_background_image_url_https': 'https://pbs.twimg.com/profile_background_images/615687816/dnpje9pnqt7j48h5gdtg.jpeg', 'profile_background_tile': False, 'profile_link_color': 'E81C4F', 'profile_sidebar_border_color': 'FFFFFF', 'profile_sidebar_fill_color': 'DDEEF6', 'profile_text_color': '333333', 'profile_use_background_image': True, 'profile_image_url': 'http://pbs.twimg.com/profile_images/987847052259307520/5W76SSz__normal.jpg', 'profile_image_url_https': 'https://pbs.twimg.com/profile_images/987847052259307520/5W76SSz__normal.jpg', 'profile_banner_url': 'https://pbs.twimg.com/profile_banners/39538010/1521370564', 'default_profile': False, 'default_profile_image': False, 'following': None, 'follow_request_sent': None, 'notifications': None}, 'geo': None, 'coordinates': None, 'place': None, 'contributors': None, 'is_quote_status': False, 'quote_count': 353, 'reply_count': 385, 'retweet_count': 1558, 'favorite_count': 5615, 'entities': {'hashtags': [{'text': 'Eurovision', 'indices': [21, 32]}, {'text': 'esp', 'indices': [33, 37]}], 'urls': [], 'user_mentions': [], 'symbols': []}, 'favorited': False, 'retweeted': False, 'filter_level': 'low', 'lang': 'en'}, 'is_quote_status': True, 'quote_count': 9, 'reply_count': 29, 'retweet_count': 774, 'favorite_count': 1253, 'entities': {'hashtags': [], 'urls': [{'url': 'https://t.co/jgPmTRl9bk', 'expanded_url': 'https://twitter.com/pewdiepie/status/995383476181401601', 'display_url': 'twitter.com/pewdiepie/stat…', 'indices': [113, 136]}], 'user_mentions': [], 'symbols': []}, 'favorited': False, 'retweeted': False, 'possibly_sensitive': False, 'filter_level': 'low', 'lang': 'es'})\n"
     ]
    }
   ],
   "source": [
    "import json, dataclasses\n",
    "\n",
    "tweets = []\n",
    "\n",
    "bucket='mudab-2025-pc1262057'\n",
    "data_key = 'input/Eurovision-05.json'\n",
    "data_location = 's3://{}/{}'.format(bucket, data_key)\n",
    "\n",
    "def parse_line(line: str):\n",
    "  \"\"\"Try to parse a string into a Person\"\"\"\n",
    "  error = 0\n",
    "  try:\n",
    "    parsed = json.loads(line)\n",
    "    return Tweet(parsed['id'], parsed['text'], parsed['user']['name'], parsed['lang'],parsed.get('retweeted_status', False))\n",
    "  except Exception as e:\n",
    "    error += 1    \n",
    "#   print(f\"Error parsing '{line}': {e}\")\n",
    "\n",
    "with s3.open(data_location) as input: #CLIENT S3. CAN READ THE FILE LINE BY LINE\n",
    "  for line in input.readlines():\n",
    "    if len(line.strip()) > 0:\n",
    "      tweet = parse_line(line)\n",
    "      if tweet: # We add only if the tweet is not 'None'\n",
    "         tweets.append(tweet)\n",
    "\n",
    "for modeled_tweet in tweets[0:10]:\n",
    "  print(modeled_tweet)"
   ]
  },
  {
   "cell_type": "markdown",
   "metadata": {
    "tags": []
   },
   "source": [
    "### 6:"
   ]
  },
  {
   "cell_type": "code",
   "execution_count": 30,
   "metadata": {
    "tags": []
   },
   "outputs": [],
   "source": [
    "import s3fs\n",
    "s3 = s3fs.S3FileSystem(anon=False)\n",
    "\n",
    "bucket='mudab-2025-big-data'\n",
    "data_key = 'twitter-data/Eurovision-06.json'\n",
    "data_location = 's3://{}/{}'.format(bucket, data_key)"
   ]
  },
  {
   "cell_type": "code",
   "execution_count": 32,
   "metadata": {
    "tags": []
   },
   "outputs": [
    {
     "name": "stdout",
     "output_type": "stream",
     "text": [
      "Tweet(id=995398563206258688, content='WHY IS AUSTRALIA STILL TAKING PART?? #EUROVISION', author='Luce ʕ´• ᴥ •`ʔ', language='en', retweeted_status=False)\n",
      "Tweet(id=995398562921009152, content='RT @deef4ever: Winter is coming ❄️❄️❄️\\n\\n#den #Tweurovision #Eurovision\\xa0\\xa0\\xa0  #Eurovision18 #Eurovision2018 #ESC2018\\xa0\\xa0\\xa0  #ESC #ESC18 #ESF #ESF…', author='noella broekhuizen', language='en', retweeted_status={'created_at': 'Sat May 12 20:19:21 +0000 2018', 'id': 995398041501913091, 'id_str': '995398041501913091', 'text': 'Winter is coming ❄️❄️❄️\\n\\n#den #Tweurovision #Eurovision\\xa0\\xa0\\xa0  #Eurovision18 #Eurovision2018 #ESC2018\\xa0\\xa0\\xa0  #ESC #ESC18… https://t.co/S0cm6DtNdv', 'display_text_range': [0, 140], 'source': '<a href=\"http://twitter.com/download/iphone\" rel=\"nofollow\">Twitter for iPhone</a>', 'truncated': True, 'in_reply_to_status_id': None, 'in_reply_to_status_id_str': None, 'in_reply_to_user_id': None, 'in_reply_to_user_id_str': None, 'in_reply_to_screen_name': None, 'user': {'id': 2153355289, 'id_str': '2153355289', 'name': '♫ Dave van Bergen ♫', 'screen_name': 'deef4ever', 'location': 'Tilburg', 'url': None, 'description': 'Bouwjaar 1974, Tilburg, love to travel 🌏, sportliefhebber en soms sportief, muziek ♫, hobbykok 👨\\u200d🍳, work @conclusion en ❤️ Noortje. Het leven is vurrukkulluk.', 'translator_type': 'none', 'protected': False, 'verified': False, 'followers_count': 128, 'friends_count': 162, 'listed_count': 17, 'favourites_count': 1143, 'statuses_count': 6324, 'created_at': 'Thu Oct 24 17:24:27 +0000 2013', 'utc_offset': None, 'time_zone': None, 'geo_enabled': True, 'lang': 'nl', 'contributors_enabled': False, 'is_translator': False, 'profile_background_color': '510800', 'profile_background_image_url': 'http://pbs.twimg.com/profile_background_images/378800000102919908/e2d1562b9a36c8499a34459cf373d0f9.jpeg', 'profile_background_image_url_https': 'https://pbs.twimg.com/profile_background_images/378800000102919908/e2d1562b9a36c8499a34459cf373d0f9.jpeg', 'profile_background_tile': True, 'profile_link_color': '3B94D9', 'profile_sidebar_border_color': '3D0702', 'profile_sidebar_fill_color': '2C1703', 'profile_text_color': 'E0912A', 'profile_use_background_image': True, 'profile_image_url': 'http://pbs.twimg.com/profile_images/926413882545106944/SbhEVFYi_normal.jpg', 'profile_image_url_https': 'https://pbs.twimg.com/profile_images/926413882545106944/SbhEVFYi_normal.jpg', 'profile_banner_url': 'https://pbs.twimg.com/profile_banners/2153355289/1400840240', 'default_profile': False, 'default_profile_image': False, 'following': None, 'follow_request_sent': None, 'notifications': None}, 'geo': None, 'coordinates': None, 'place': {'id': 'de4a6927f1d07eca', 'url': 'https://api.twitter.com/1.1/geo/id/de4a6927f1d07eca.json', 'place_type': 'city', 'name': 'Tilburg', 'full_name': 'Tilburg, Nederland', 'country_code': 'NL', 'country': 'Nederland', 'bounding_box': {'type': 'Polygon', 'coordinates': [[[4.947915, 51.529447], [4.947915, 51.640588], [5.179332, 51.640588], [5.179332, 51.529447]]]}, 'attributes': {}}, 'contributors': None, 'is_quote_status': False, 'extended_tweet': {'full_text': 'Winter is coming ❄️❄️❄️\\n\\n#den #Tweurovision #Eurovision\\xa0\\xa0\\xa0  #Eurovision18 #Eurovision2018 #ESC2018\\xa0\\xa0\\xa0  #ESC #ESC18 #ESF #ESF2018 #ESF18 #Songfestival https://t.co/s8q1CoZsVT', 'display_text_range': [0, 149], 'entities': {'hashtags': [{'text': 'den', 'indices': [25, 29]}, {'text': 'Tweurovision', 'indices': [30, 43]}, {'text': 'Eurovision', 'indices': [44, 55]}, {'text': 'Eurovision18', 'indices': [60, 73]}, {'text': 'Eurovision2018', 'indices': [74, 89]}, {'text': 'ESC2018', 'indices': [90, 98]}, {'text': 'ESC', 'indices': [103, 107]}, {'text': 'ESC18', 'indices': [108, 114]}, {'text': 'ESF', 'indices': [115, 119]}, {'text': 'ESF2018', 'indices': [120, 128]}, {'text': 'ESF18', 'indices': [129, 135]}, {'text': 'Songfestival', 'indices': [136, 149]}], 'urls': [], 'user_mentions': [], 'symbols': [], 'media': [{'id': 995398030626091008, 'id_str': '995398030626091008', 'indices': [150, 173], 'media_url': 'http://pbs.twimg.com/media/DdBdPCmXcAAhuEw.jpg', 'media_url_https': 'https://pbs.twimg.com/media/DdBdPCmXcAAhuEw.jpg', 'url': 'https://t.co/s8q1CoZsVT', 'display_url': 'pic.twitter.com/s8q1CoZsVT', 'expanded_url': 'https://twitter.com/deef4ever/status/995398041501913091/photo/1', 'type': 'photo', 'sizes': {'thumb': {'w': 150, 'h': 150, 'resize': 'crop'}, 'small': {'w': 680, 'h': 383, 'resize': 'fit'}, 'large': {'w': 1000, 'h': 563, 'resize': 'fit'}, 'medium': {'w': 1000, 'h': 563, 'resize': 'fit'}}}]}, 'extended_entities': {'media': [{'id': 995398030626091008, 'id_str': '995398030626091008', 'indices': [150, 173], 'media_url': 'http://pbs.twimg.com/media/DdBdPCmXcAAhuEw.jpg', 'media_url_https': 'https://pbs.twimg.com/media/DdBdPCmXcAAhuEw.jpg', 'url': 'https://t.co/s8q1CoZsVT', 'display_url': 'pic.twitter.com/s8q1CoZsVT', 'expanded_url': 'https://twitter.com/deef4ever/status/995398041501913091/photo/1', 'type': 'photo', 'sizes': {'thumb': {'w': 150, 'h': 150, 'resize': 'crop'}, 'small': {'w': 680, 'h': 383, 'resize': 'fit'}, 'large': {'w': 1000, 'h': 563, 'resize': 'fit'}, 'medium': {'w': 1000, 'h': 563, 'resize': 'fit'}}}]}}, 'quote_count': 0, 'reply_count': 0, 'retweet_count': 6, 'favorite_count': 17, 'entities': {'hashtags': [{'text': 'den', 'indices': [25, 29]}, {'text': 'Tweurovision', 'indices': [30, 43]}, {'text': 'Eurovision', 'indices': [44, 55]}, {'text': 'Eurovision18', 'indices': [60, 73]}, {'text': 'Eurovision2018', 'indices': [74, 89]}, {'text': 'ESC2018', 'indices': [90, 98]}, {'text': 'ESC', 'indices': [103, 107]}, {'text': 'ESC18', 'indices': [108, 114]}], 'urls': [{'url': 'https://t.co/S0cm6DtNdv', 'expanded_url': 'https://twitter.com/i/web/status/995398041501913091', 'display_url': 'twitter.com/i/web/status/9…', 'indices': [116, 139]}], 'user_mentions': [], 'symbols': []}, 'favorited': False, 'retweeted': False, 'possibly_sensitive': False, 'filter_level': 'low', 'lang': 'en'})\n",
      "Tweet(id=995398563143307265, content='‘A real fan favourite’\\n\\nTRANSLATION\\n\\nIT’S ANOTHER FUCKING BALLAD ISN’T IT\\n\\n#eurovision #aus', author='Bill C', language='en', retweeted_status=False)\n",
      "Tweet(id=995398558043049984, content='ONDA VITAL #Mercy #Eurovision #Eurovision18 https://t.co/NfJmrbDfRt', author='C 🌸', language='pt', retweeted_status=False)\n",
      "Tweet(id=995398563252330498, content='RT @lexcanroar: incredible. an entire band made up of Skyrim NPCs #Eurovision', author='ThylanDaragon', language='en', retweeted_status={'created_at': 'Sat May 12 20:19:27 +0000 2018', 'id': 995398067116494850, 'id_str': '995398067116494850', 'text': 'incredible. an entire band made up of Skyrim NPCs #Eurovision', 'source': '<a href=\"http://twitter.com\" rel=\"nofollow\">Twitter Web Client</a>', 'truncated': False, 'in_reply_to_status_id': None, 'in_reply_to_status_id_str': None, 'in_reply_to_user_id': None, 'in_reply_to_user_id_str': None, 'in_reply_to_screen_name': None, 'user': {'id': 15907661, 'id_str': '15907661', 'name': 'Lex Croucher', 'screen_name': 'lexcanroar', 'location': 'London, Europe', 'url': 'http://www.youtube.com/tyrannosauruslexxx', 'description': 'London-based YouTuber (sorry)⚡️ management: mark@freefocus.co.uk ⚡️ podcast: @makeoutwithhim ⚡️etsy: http://goo.gl/4Us4uY ⚡️blog: http://goo.gl/zftGfi', 'translator_type': 'none', 'protected': False, 'verified': True, 'followers_count': 110805, 'friends_count': 879, 'listed_count': 464, 'favourites_count': 9816, 'statuses_count': 34815, 'created_at': 'Tue Aug 19 18:34:29 +0000 2008', 'utc_offset': 3600, 'time_zone': 'London', 'geo_enabled': False, 'lang': 'en', 'contributors_enabled': False, 'is_translator': False, 'profile_background_color': 'C0DEED', 'profile_background_image_url': 'http://abs.twimg.com/images/themes/theme1/bg.png', 'profile_background_image_url_https': 'https://abs.twimg.com/images/themes/theme1/bg.png', 'profile_background_tile': False, 'profile_link_color': '66A3FF', 'profile_sidebar_border_color': 'FFFFFF', 'profile_sidebar_fill_color': 'DAECF4', 'profile_text_color': '663B12', 'profile_use_background_image': True, 'profile_image_url': 'http://pbs.twimg.com/profile_images/886846817094295552/8Yqdhvth_normal.jpg', 'profile_image_url_https': 'https://pbs.twimg.com/profile_images/886846817094295552/8Yqdhvth_normal.jpg', 'profile_banner_url': 'https://pbs.twimg.com/profile_banners/15907661/1480272345', 'default_profile': False, 'default_profile_image': False, 'following': None, 'follow_request_sent': None, 'notifications': None}, 'geo': None, 'coordinates': None, 'place': None, 'contributors': None, 'is_quote_status': False, 'quote_count': 0, 'reply_count': 3, 'retweet_count': 79, 'favorite_count': 177, 'entities': {'hashtags': [{'text': 'Eurovision', 'indices': [50, 61]}], 'urls': [], 'user_mentions': [], 'symbols': []}, 'favorited': False, 'retweeted': False, 'filter_level': 'low', 'lang': 'en'})\n",
      "Tweet(id=995398563202064384, content='#EUROVISION los daneses empiezan la reconquista vikinga de europa', author='Martita', language='es', retweeted_status=False)\n",
      "Tweet(id=995398563277524997, content='TUSEN TAKK\\n\\nThe only Norsk I know yeeeee #Eurovision', author='Daniel Tonks', language='en', retweeted_status=False)\n",
      "Tweet(id=995398563281752069, content='RT @BuzzFeedEspana: MEEEEEERCIIIIIItedooooylasgraciaaaaas... #Eurovision https://t.co/X67orsYV1B', author='Tere✨', language='es', retweeted_status={'created_at': 'Sat May 12 20:10:18 +0000 2018', 'id': 995395764711981058, 'id_str': '995395764711981058', 'text': 'MEEEEEERCIIIIIItedooooylasgraciaaaaas... #Eurovision https://t.co/X67orsYV1B', 'display_text_range': [0, 52], 'source': '<a href=\"https://studio.twitter.com\" rel=\"nofollow\">Media Studio</a>', 'truncated': False, 'in_reply_to_status_id': None, 'in_reply_to_status_id_str': None, 'in_reply_to_user_id': None, 'in_reply_to_user_id_str': None, 'in_reply_to_screen_name': None, 'user': {'id': 3260160764, 'id_str': '3260160764', 'name': 'BuzzFeed España', 'screen_name': 'BuzzFeedEspana', 'location': 'Madrid, España', 'url': 'https://www.facebook.com/BuzzFeedEspana/', 'description': 'Esto hay que compartirlo.', 'translator_type': 'none', 'protected': False, 'verified': True, 'followers_count': 24579, 'friends_count': 201, 'listed_count': 248, 'favourites_count': 3454, 'statuses_count': 18755, 'created_at': 'Mon Jun 29 17:56:12 +0000 2015', 'utc_offset': 7200, 'time_zone': 'Madrid', 'geo_enabled': True, 'lang': 'es', 'contributors_enabled': False, 'is_translator': False, 'profile_background_color': 'C0DEED', 'profile_background_image_url': 'http://abs.twimg.com/images/themes/theme1/bg.png', 'profile_background_image_url_https': 'https://abs.twimg.com/images/themes/theme1/bg.png', 'profile_background_tile': False, 'profile_link_color': '1DA1F2', 'profile_sidebar_border_color': 'C0DEED', 'profile_sidebar_fill_color': 'DDEEF6', 'profile_text_color': '333333', 'profile_use_background_image': True, 'profile_image_url': 'http://pbs.twimg.com/profile_images/881772639907225603/RgYNu68A_normal.jpg', 'profile_image_url_https': 'https://pbs.twimg.com/profile_images/881772639907225603/RgYNu68A_normal.jpg', 'profile_banner_url': 'https://pbs.twimg.com/profile_banners/3260160764/1499065967', 'default_profile': True, 'default_profile_image': False, 'following': None, 'follow_request_sent': None, 'notifications': None}, 'geo': None, 'coordinates': None, 'place': None, 'contributors': None, 'is_quote_status': False, 'quote_count': 9, 'reply_count': 1, 'retweet_count': 121, 'favorite_count': 185, 'entities': {'hashtags': [{'text': 'Eurovision', 'indices': [41, 52]}], 'urls': [], 'user_mentions': [], 'symbols': [], 'media': [{'id': 995314340650774528, 'id_str': '995314340650774528', 'indices': [53, 76], 'additional_media_info': {'title': '', 'description': '', 'embeddable': True, 'monetizable': False}, 'media_url': 'http://pbs.twimg.com/amplify_video_thumb/995314340650774528/img/uc8M7dMk91mucl1P.jpg', 'media_url_https': 'https://pbs.twimg.com/amplify_video_thumb/995314340650774528/img/uc8M7dMk91mucl1P.jpg', 'url': 'https://t.co/X67orsYV1B', 'display_url': 'pic.twitter.com/X67orsYV1B', 'expanded_url': 'https://twitter.com/BuzzFeedEspana/status/995395764711981058/video/1', 'type': 'photo', 'sizes': {'thumb': {'w': 150, 'h': 150, 'resize': 'crop'}, 'medium': {'w': 1200, 'h': 675, 'resize': 'fit'}, 'small': {'w': 680, 'h': 383, 'resize': 'fit'}, 'large': {'w': 1280, 'h': 720, 'resize': 'fit'}}}]}, 'extended_entities': {'media': [{'id': 995314340650774528, 'id_str': '995314340650774528', 'indices': [53, 76], 'additional_media_info': {'title': '', 'description': '', 'embeddable': True, 'monetizable': False}, 'media_url': 'http://pbs.twimg.com/amplify_video_thumb/995314340650774528/img/uc8M7dMk91mucl1P.jpg', 'media_url_https': 'https://pbs.twimg.com/amplify_video_thumb/995314340650774528/img/uc8M7dMk91mucl1P.jpg', 'url': 'https://t.co/X67orsYV1B', 'display_url': 'pic.twitter.com/X67orsYV1B', 'expanded_url': 'https://twitter.com/BuzzFeedEspana/status/995395764711981058/video/1', 'type': 'video', 'video_info': {'aspect_ratio': [16, 9], 'duration_millis': 19600, 'variants': [{'bitrate': 832000, 'content_type': 'video/mp4', 'url': 'https://video.twimg.com/amplify_video/995314340650774528/vid/640x360/6gzw6mnsCM6EKdg_.mp4?tag=2'}, {'bitrate': 2176000, 'content_type': 'video/mp4', 'url': 'https://video.twimg.com/amplify_video/995314340650774528/vid/1280x720/pxdYr5geRQMLKUh5.mp4?tag=2'}, {'bitrate': 320000, 'content_type': 'video/mp4', 'url': 'https://video.twimg.com/amplify_video/995314340650774528/vid/320x180/_aHPqStatYgXnbnT.mp4?tag=2'}, {'content_type': 'application/x-mpegURL', 'url': 'https://video.twimg.com/amplify_video/995314340650774528/pl/jFxtABvdd1zcQ7Jd.m3u8?tag=2'}]}, 'sizes': {'thumb': {'w': 150, 'h': 150, 'resize': 'crop'}, 'medium': {'w': 1200, 'h': 675, 'resize': 'fit'}, 'small': {'w': 680, 'h': 383, 'resize': 'fit'}, 'large': {'w': 1280, 'h': 720, 'resize': 'fit'}}}]}, 'favorited': False, 'retweeted': False, 'possibly_sensitive': False, 'filter_level': 'low', 'lang': 'es'})\n",
      "Tweet(id=995398563134889984, content='RT @AnaGaMoral: EL IMPERATIVO ES CON DEEEE NO CON ERREEEE #Eurovision https://t.co/Suqmh2LxT3', author='𝒮ℯ𝓇ℯ𝓃𝒹𝒾𝓅𝒾𝓉𝓎 🏹✨', language='es', retweeted_status={'created_at': 'Sat May 12 20:19:29 +0000 2018', 'id': 995398074796314625, 'id_str': '995398074796314625', 'text': 'EL IMPERATIVO ES CON DEEEE NO CON ERREEEE #Eurovision https://t.co/Suqmh2LxT3', 'display_text_range': [0, 53], 'source': '<a href=\"http://twitter.com/download/iphone\" rel=\"nofollow\">Twitter for iPhone</a>', 'truncated': False, 'in_reply_to_status_id': None, 'in_reply_to_status_id_str': None, 'in_reply_to_user_id': None, 'in_reply_to_user_id_str': None, 'in_reply_to_screen_name': None, 'user': {'id': 417208834, 'id_str': '417208834', 'name': 'ᴬᴺᴬ', 'screen_name': 'AnaGaMoral', 'location': 'Burgos-Benidorm', 'url': None, 'description': 'Química 👩🏻\\u200d🔬📚   C.B.Babieca.🏀 #RSG', 'translator_type': 'none', 'protected': False, 'verified': False, 'followers_count': 1987, 'friends_count': 930, 'listed_count': 12, 'favourites_count': 2084, 'statuses_count': 89448, 'created_at': 'Sun Nov 20 17:27:47 +0000 2011', 'utc_offset': 7200, 'time_zone': 'Amsterdam', 'geo_enabled': True, 'lang': 'es', 'contributors_enabled': False, 'is_translator': False, 'profile_background_color': 'FFFFFF', 'profile_background_image_url': 'http://pbs.twimg.com/profile_background_images/378800000017346580/c53cf0851aaedb38be9be454e38e2d0e.jpeg', 'profile_background_image_url_https': 'https://pbs.twimg.com/profile_background_images/378800000017346580/c53cf0851aaedb38be9be454e38e2d0e.jpeg', 'profile_background_tile': False, 'profile_link_color': 'ABB8C2', 'profile_sidebar_border_color': 'FFFFFF', 'profile_sidebar_fill_color': 'EADEAA', 'profile_text_color': '333333', 'profile_use_background_image': True, 'profile_image_url': 'http://pbs.twimg.com/profile_images/987462108353826816/tuygCAtb_normal.jpg', 'profile_image_url_https': 'https://pbs.twimg.com/profile_images/987462108353826816/tuygCAtb_normal.jpg', 'profile_banner_url': 'https://pbs.twimg.com/profile_banners/417208834/1495904032', 'default_profile': False, 'default_profile_image': False, 'following': None, 'follow_request_sent': None, 'notifications': None}, 'geo': None, 'coordinates': None, 'place': {'id': 'aab98cb60835e83e', 'url': 'https://api.twitter.com/1.1/geo/id/aab98cb60835e83e.json', 'place_type': 'city', 'name': 'Burgos', 'full_name': 'Burgos, España', 'country_code': 'ES', 'country': 'España', 'bounding_box': {'type': 'Polygon', 'coordinates': [[[-3.794911, 42.284782], [-3.794911, 42.404004], [-3.583968, 42.404004], [-3.583968, 42.284782]]]}, 'attributes': {}}, 'contributors': None, 'is_quote_status': False, 'quote_count': 0, 'reply_count': 0, 'retweet_count': 18, 'favorite_count': 27, 'entities': {'hashtags': [{'text': 'Eurovision', 'indices': [42, 53]}], 'urls': [], 'user_mentions': [], 'symbols': [], 'media': [{'id': 995398067946913793, 'id_str': '995398067946913793', 'indices': [54, 77], 'media_url': 'http://pbs.twimg.com/media/DdBdRNoWAAEI8Yv.jpg', 'media_url_https': 'https://pbs.twimg.com/media/DdBdRNoWAAEI8Yv.jpg', 'url': 'https://t.co/Suqmh2LxT3', 'display_url': 'pic.twitter.com/Suqmh2LxT3', 'expanded_url': 'https://twitter.com/AnaGaMoral/status/995398074796314625/photo/1', 'type': 'photo', 'sizes': {'thumb': {'w': 150, 'h': 150, 'resize': 'crop'}, 'large': {'w': 1016, 'h': 664, 'resize': 'fit'}, 'medium': {'w': 1016, 'h': 664, 'resize': 'fit'}, 'small': {'w': 680, 'h': 444, 'resize': 'fit'}}}]}, 'extended_entities': {'media': [{'id': 995398067946913793, 'id_str': '995398067946913793', 'indices': [54, 77], 'media_url': 'http://pbs.twimg.com/media/DdBdRNoWAAEI8Yv.jpg', 'media_url_https': 'https://pbs.twimg.com/media/DdBdRNoWAAEI8Yv.jpg', 'url': 'https://t.co/Suqmh2LxT3', 'display_url': 'pic.twitter.com/Suqmh2LxT3', 'expanded_url': 'https://twitter.com/AnaGaMoral/status/995398074796314625/photo/1', 'type': 'photo', 'sizes': {'thumb': {'w': 150, 'h': 150, 'resize': 'crop'}, 'large': {'w': 1016, 'h': 664, 'resize': 'fit'}, 'medium': {'w': 1016, 'h': 664, 'resize': 'fit'}, 'small': {'w': 680, 'h': 444, 'resize': 'fit'}}}]}, 'favorited': False, 'retweeted': False, 'possibly_sensitive': False, 'filter_level': 'low', 'lang': 'es'})\n",
      "Tweet(id=995398563269173249, content='RT @auronplay: Me está gustando la actuación de Francia pero 0 puntos por robarnos a Neymar. No olvidamos. No perdonamos. #Eurovision', author='Luis Bello', language='es', retweeted_status={'created_at': 'Sat May 12 20:11:56 +0000 2018', 'id': 995396173623189505, 'id_str': '995396173623189505', 'text': 'Me está gustando la actuación de Francia pero 0 puntos por robarnos a Neymar. No olvidamos. No perdonamos. #Eurovision', 'source': '<a href=\"http://twitter.com/download/iphone\" rel=\"nofollow\">Twitter for iPhone</a>', 'truncated': False, 'in_reply_to_status_id': None, 'in_reply_to_status_id_str': None, 'in_reply_to_user_id': None, 'in_reply_to_user_id_str': None, 'in_reply_to_screen_name': None, 'user': {'id': 1501434991, 'id_str': '1501434991', 'name': 'AuronPlay', 'screen_name': 'auronplay', 'location': 'Valhalla', 'url': 'https://www.youtube.com/user/AuronPlay', 'description': 'De pequeño quemaba cosas, ahora ya no. AuronPlay@gmail.com', 'translator_type': 'regular', 'protected': False, 'verified': True, 'followers_count': 2765091, 'friends_count': 397, 'listed_count': 1531, 'favourites_count': 128759, 'statuses_count': 31548, 'created_at': 'Tue Jun 11 10:05:47 +0000 2013', 'utc_offset': 7200, 'time_zone': 'Madrid', 'geo_enabled': False, 'lang': 'es', 'contributors_enabled': False, 'is_translator': False, 'profile_background_color': '131516', 'profile_background_image_url': 'http://abs.twimg.com/images/themes/theme14/bg.gif', 'profile_background_image_url_https': 'https://abs.twimg.com/images/themes/theme14/bg.gif', 'profile_background_tile': True, 'profile_link_color': '009999', 'profile_sidebar_border_color': 'EEEEEE', 'profile_sidebar_fill_color': 'EFEFEF', 'profile_text_color': '333333', 'profile_use_background_image': True, 'profile_image_url': 'http://pbs.twimg.com/profile_images/946023392439885824/9bkw52Y-_normal.jpg', 'profile_image_url_https': 'https://pbs.twimg.com/profile_images/946023392439885824/9bkw52Y-_normal.jpg', 'profile_banner_url': 'https://pbs.twimg.com/profile_banners/1501434991/1478942574', 'default_profile': False, 'default_profile_image': False, 'following': None, 'follow_request_sent': None, 'notifications': None}, 'geo': None, 'coordinates': None, 'place': None, 'contributors': None, 'is_quote_status': False, 'quote_count': 30, 'reply_count': 138, 'retweet_count': 1566, 'favorite_count': 5309, 'entities': {'hashtags': [{'text': 'Eurovision', 'indices': [107, 118]}], 'urls': [], 'user_mentions': [], 'symbols': []}, 'favorited': False, 'retweeted': False, 'filter_level': 'low', 'lang': 'es'})\n"
     ]
    }
   ],
   "source": [
    "import json, dataclasses\n",
    "\n",
    "tweets = []\n",
    "\n",
    "bucket='mudab-2025-pc1262057'\n",
    "data_key = 'input/Eurovision-06.json'\n",
    "data_location = 's3://{}/{}'.format(bucket, data_key)\n",
    "\n",
    "def parse_line(line: str):\n",
    "  \"\"\"Try to parse a string into a Person\"\"\"\n",
    "  error = 0\n",
    "  try:\n",
    "    parsed = json.loads(line)\n",
    "    return Tweet(parsed['id'], parsed['text'], parsed['user']['name'], parsed['lang'],parsed.get('retweeted_status', False))\n",
    "  except Exception as e:\n",
    "    error += 1    \n",
    "#   print(f\"Error parsing '{line}': {e}\")\n",
    "\n",
    "with s3.open(data_location) as input: #CLIENT S3. CAN READ THE FILE LINE BY LINE\n",
    "  for line in input.readlines():\n",
    "    if len(line.strip()) > 0:\n",
    "      tweet = parse_line(line)\n",
    "      if tweet: # We add only if the tweet is not 'None'\n",
    "         tweets.append(tweet)\n",
    "\n",
    "for modeled_tweet in tweets[0:10]:\n",
    "  print(modeled_tweet)"
   ]
  },
  {
   "cell_type": "markdown",
   "metadata": {
    "tags": []
   },
   "source": [
    "### 7:"
   ]
  },
  {
   "cell_type": "code",
   "execution_count": 34,
   "metadata": {
    "tags": []
   },
   "outputs": [],
   "source": [
    "import s3fs\n",
    "s3 = s3fs.S3FileSystem(anon=False)\n",
    "\n",
    "bucket='mudab-2025-big-data'\n",
    "data_key = 'twitter-data/Eurovision-07.json'\n",
    "data_location = 's3://{}/{}'.format(bucket, data_key)"
   ]
  },
  {
   "cell_type": "code",
   "execution_count": 35,
   "metadata": {
    "tags": []
   },
   "outputs": [
    {
     "name": "stdout",
     "output_type": "stream",
     "text": [
      "Tweet(id=995410604914610177, content='RT @DaniCarMa_96: YEEEHAAA #Eurovision #NED https://t.co/Gg8wMrCPUa', author='Emelie @ death™', language='en', retweeted_status={'created_at': 'Sat May 12 20:55:13 +0000 2018', 'id': 995407069342785536, 'id_str': '995407069342785536', 'text': 'YEEEHAAA #Eurovision #NED https://t.co/Gg8wMrCPUa', 'display_text_range': [0, 25], 'source': '<a href=\"http://twitter.com/download/android\" rel=\"nofollow\">Twitter for Android</a>', 'truncated': False, 'in_reply_to_status_id': None, 'in_reply_to_status_id_str': None, 'in_reply_to_user_id': None, 'in_reply_to_user_id_str': None, 'in_reply_to_screen_name': None, 'user': {'id': 326443832, 'id_str': '326443832', 'name': 'Danié', 'screen_name': 'DaniCarMa_96', 'location': 'Middle Earth', 'url': None, 'description': '21. Estudiante de Química + Ingeniería de Materiales en la US. Former IB student. Turn to page three hundred and ninety-four.', 'translator_type': 'regular', 'protected': False, 'verified': False, 'followers_count': 610, 'friends_count': 768, 'listed_count': 18, 'favourites_count': 32432, 'statuses_count': 41167, 'created_at': 'Wed Jun 29 22:48:04 +0000 2011', 'utc_offset': 7200, 'time_zone': 'Madrid', 'geo_enabled': True, 'lang': 'en', 'contributors_enabled': False, 'is_translator': False, 'profile_background_color': '022330', 'profile_background_image_url': 'http://pbs.twimg.com/profile_background_images/737383932/bb9f5309e6ca04c0dd6a9b4cb75b9eee.jpeg', 'profile_background_image_url_https': 'https://pbs.twimg.com/profile_background_images/737383932/bb9f5309e6ca04c0dd6a9b4cb75b9eee.jpeg', 'profile_background_tile': True, 'profile_link_color': '0B6138', 'profile_sidebar_border_color': 'FFFFFF', 'profile_sidebar_fill_color': 'C0DFEC', 'profile_text_color': '333333', 'profile_use_background_image': True, 'profile_image_url': 'http://pbs.twimg.com/profile_images/979707027118329856/1fZVwgu8_normal.jpg', 'profile_image_url_https': 'https://pbs.twimg.com/profile_images/979707027118329856/1fZVwgu8_normal.jpg', 'profile_banner_url': 'https://pbs.twimg.com/profile_banners/326443832/1508547411', 'default_profile': False, 'default_profile_image': False, 'following': None, 'follow_request_sent': None, 'notifications': None}, 'geo': None, 'coordinates': None, 'place': None, 'contributors': None, 'is_quote_status': False, 'quote_count': 14, 'reply_count': 2, 'retweet_count': 376, 'favorite_count': 325, 'entities': {'hashtags': [{'text': 'Eurovision', 'indices': [9, 20]}, {'text': 'NED', 'indices': [21, 25]}], 'urls': [], 'user_mentions': [], 'symbols': [], 'media': [{'id': 995407060647981058, 'id_str': '995407060647981058', 'indices': [26, 49], 'media_url': 'http://pbs.twimg.com/media/DdBlcqDWsAIuCjr.jpg', 'media_url_https': 'https://pbs.twimg.com/media/DdBlcqDWsAIuCjr.jpg', 'url': 'https://t.co/Gg8wMrCPUa', 'display_url': 'pic.twitter.com/Gg8wMrCPUa', 'expanded_url': 'https://twitter.com/DaniCarMa_96/status/995407069342785536/photo/1', 'type': 'photo', 'sizes': {'thumb': {'w': 150, 'h': 150, 'resize': 'crop'}, 'medium': {'w': 1168, 'h': 770, 'resize': 'fit'}, 'large': {'w': 1168, 'h': 770, 'resize': 'fit'}, 'small': {'w': 680, 'h': 448, 'resize': 'fit'}}}]}, 'extended_entities': {'media': [{'id': 995407060647981058, 'id_str': '995407060647981058', 'indices': [26, 49], 'media_url': 'http://pbs.twimg.com/media/DdBlcqDWsAIuCjr.jpg', 'media_url_https': 'https://pbs.twimg.com/media/DdBlcqDWsAIuCjr.jpg', 'url': 'https://t.co/Gg8wMrCPUa', 'display_url': 'pic.twitter.com/Gg8wMrCPUa', 'expanded_url': 'https://twitter.com/DaniCarMa_96/status/995407069342785536/photo/1', 'type': 'photo', 'sizes': {'thumb': {'w': 150, 'h': 150, 'resize': 'crop'}, 'medium': {'w': 1168, 'h': 770, 'resize': 'fit'}, 'large': {'w': 1168, 'h': 770, 'resize': 'fit'}, 'small': {'w': 680, 'h': 448, 'resize': 'fit'}}}]}, 'favorited': False, 'retweeted': False, 'possibly_sensitive': False, 'filter_level': 'low', 'lang': 'en'})\n",
      "Tweet(id=995410604969156608, content='RT @MagicMundi: LUZ, FUEGO, DESTRUCCIÓN\\nEL MUNDO PUEDE SER UNA RUINA #eurovision https://t.co/PhD6Y6Q2R5', author='Deathgazer', language='es', retweeted_status={'created_at': 'Sat May 12 21:05:54 +0000 2018', 'id': 995409757375815680, 'id_str': '995409757375815680', 'text': 'LUZ, FUEGO, DESTRUCCIÓN\\nEL MUNDO PUEDE SER UNA RUINA #eurovision https://t.co/PhD6Y6Q2R5', 'display_text_range': [0, 64], 'source': '<a href=\"https://about.twitter.com/products/tweetdeck\" rel=\"nofollow\">TweetDeck</a>', 'truncated': False, 'in_reply_to_status_id': None, 'in_reply_to_status_id_str': None, 'in_reply_to_user_id': None, 'in_reply_to_user_id_str': None, 'in_reply_to_screen_name': None, 'user': {'id': 3082267313, 'id_str': '3082267313', 'name': 'Mundos Mágicos', 'screen_name': 'MagicMundi', 'location': 'Wonderland', 'url': 'http://facebook.com/MagicMundi1/', 'description': 'Comunidad. “Ohana significa familia, familia que estaremos juntos siempre”. Contacto: Mundosmagicos@icloud.com', 'translator_type': 'none', 'protected': False, 'verified': False, 'followers_count': 100493, 'friends_count': 10, 'listed_count': 173, 'favourites_count': 8961, 'statuses_count': 3123, 'created_at': 'Mon Mar 09 19:28:26 +0000 2015', 'utc_offset': 7200, 'time_zone': 'Belgrade', 'geo_enabled': False, 'lang': 'es', 'contributors_enabled': False, 'is_translator': False, 'profile_background_color': '000000', 'profile_background_image_url': 'http://abs.twimg.com/images/themes/theme1/bg.png', 'profile_background_image_url_https': 'https://abs.twimg.com/images/themes/theme1/bg.png', 'profile_background_tile': False, 'profile_link_color': '1B95E0', 'profile_sidebar_border_color': '000000', 'profile_sidebar_fill_color': '000000', 'profile_text_color': '000000', 'profile_use_background_image': False, 'profile_image_url': 'http://pbs.twimg.com/profile_images/819005342344478720/5x-kKqzt_normal.jpg', 'profile_image_url_https': 'https://pbs.twimg.com/profile_images/819005342344478720/5x-kKqzt_normal.jpg', 'profile_banner_url': 'https://pbs.twimg.com/profile_banners/3082267313/1484748079', 'default_profile': False, 'default_profile_image': False, 'following': None, 'follow_request_sent': None, 'notifications': None}, 'geo': None, 'coordinates': None, 'place': None, 'contributors': None, 'is_quote_status': False, 'quote_count': 1, 'reply_count': 4, 'retweet_count': 292, 'favorite_count': 381, 'entities': {'hashtags': [{'text': 'eurovision', 'indices': [53, 64]}], 'urls': [], 'user_mentions': [], 'symbols': [], 'media': [{'id': 995409593466523650, 'id_str': '995409593466523650', 'indices': [65, 88], 'media_url': 'http://pbs.twimg.com/media/DdBnwFiWkAIQ8av.jpg', 'media_url_https': 'https://pbs.twimg.com/media/DdBnwFiWkAIQ8av.jpg', 'url': 'https://t.co/PhD6Y6Q2R5', 'display_url': 'pic.twitter.com/PhD6Y6Q2R5', 'expanded_url': 'https://twitter.com/MagicMundi/status/995409757375815680/photo/1', 'type': 'photo', 'sizes': {'small': {'w': 680, 'h': 382, 'resize': 'fit'}, 'thumb': {'w': 150, 'h': 150, 'resize': 'crop'}, 'large': {'w': 1532, 'h': 860, 'resize': 'fit'}, 'medium': {'w': 1200, 'h': 674, 'resize': 'fit'}}}]}, 'extended_entities': {'media': [{'id': 995409593466523650, 'id_str': '995409593466523650', 'indices': [65, 88], 'media_url': 'http://pbs.twimg.com/media/DdBnwFiWkAIQ8av.jpg', 'media_url_https': 'https://pbs.twimg.com/media/DdBnwFiWkAIQ8av.jpg', 'url': 'https://t.co/PhD6Y6Q2R5', 'display_url': 'pic.twitter.com/PhD6Y6Q2R5', 'expanded_url': 'https://twitter.com/MagicMundi/status/995409757375815680/photo/1', 'type': 'photo', 'sizes': {'small': {'w': 680, 'h': 382, 'resize': 'fit'}, 'thumb': {'w': 150, 'h': 150, 'resize': 'crop'}, 'large': {'w': 1532, 'h': 860, 'resize': 'fit'}, 'medium': {'w': 1200, 'h': 674, 'resize': 'fit'}}}]}, 'favorited': False, 'retweeted': False, 'possibly_sensitive': False, 'filter_level': 'low', 'lang': 'es'})\n",
      "Tweet(id=995410605065596934, content='RT @Lipton_Kyon: Noruega tocando un violin imaginario\\n-Mhhhhhh OH ESPERA QUE AHORA PUEDO HACERLO\\n#Eurovision https://t.co/JZlwAaoJvT', author='Marina.', language='es', retweeted_status={'created_at': 'Sat May 12 19:48:09 +0000 2018', 'id': 995390189362130944, 'id_str': '995390189362130944', 'text': 'Noruega tocando un violin imaginario\\n-Mhhhhhh OH ESPERA QUE AHORA PUEDO HACERLO\\n#Eurovision https://t.co/JZlwAaoJvT', 'display_text_range': [0, 91], 'source': '<a href=\"http://twitter.com\" rel=\"nofollow\">Twitter Web Client</a>', 'truncated': False, 'in_reply_to_status_id': None, 'in_reply_to_status_id_str': None, 'in_reply_to_user_id': None, 'in_reply_to_user_id_str': None, 'in_reply_to_screen_name': None, 'user': {'id': 628568954, 'id_str': '628568954', 'name': 'Lipton', 'screen_name': 'Lipton_Kyon', 'location': 'Normandia', 'url': None, 'description': None, 'translator_type': 'none', 'protected': False, 'verified': False, 'followers_count': 126, 'friends_count': 131, 'listed_count': 4, 'favourites_count': 4275, 'statuses_count': 9870, 'created_at': 'Fri Jul 06 17:34:05 +0000 2012', 'utc_offset': None, 'time_zone': None, 'geo_enabled': False, 'lang': 'es', 'contributors_enabled': False, 'is_translator': False, 'profile_background_color': 'C0DEED', 'profile_background_image_url': 'http://abs.twimg.com/images/themes/theme1/bg.png', 'profile_background_image_url_https': 'https://abs.twimg.com/images/themes/theme1/bg.png', 'profile_background_tile': False, 'profile_link_color': '1DA1F2', 'profile_sidebar_border_color': 'C0DEED', 'profile_sidebar_fill_color': 'DDEEF6', 'profile_text_color': '333333', 'profile_use_background_image': True, 'profile_image_url': 'http://pbs.twimg.com/profile_images/977627768358866944/DUo8-5p5_normal.jpg', 'profile_image_url_https': 'https://pbs.twimg.com/profile_images/977627768358866944/DUo8-5p5_normal.jpg', 'profile_banner_url': 'https://pbs.twimg.com/profile_banners/628568954/1521959451', 'default_profile': True, 'default_profile_image': False, 'following': None, 'follow_request_sent': None, 'notifications': None}, 'geo': None, 'coordinates': None, 'place': None, 'contributors': None, 'is_quote_status': False, 'quote_count': 4, 'reply_count': 3, 'retweet_count': 400, 'favorite_count': 472, 'entities': {'hashtags': [{'text': 'Eurovision', 'indices': [80, 91]}], 'urls': [], 'user_mentions': [], 'symbols': [], 'media': [{'id': 995390104276557824, 'id_str': '995390104276557824', 'indices': [92, 115], 'media_url': 'http://pbs.twimg.com/media/DdBWBqpX4AAKz-2.jpg', 'media_url_https': 'https://pbs.twimg.com/media/DdBWBqpX4AAKz-2.jpg', 'url': 'https://t.co/JZlwAaoJvT', 'display_url': 'pic.twitter.com/JZlwAaoJvT', 'expanded_url': 'https://twitter.com/Lipton_Kyon/status/995390189362130944/photo/1', 'type': 'photo', 'sizes': {'thumb': {'w': 150, 'h': 150, 'resize': 'crop'}, 'small': {'w': 640, 'h': 480, 'resize': 'fit'}, 'large': {'w': 640, 'h': 480, 'resize': 'fit'}, 'medium': {'w': 640, 'h': 480, 'resize': 'fit'}}}]}, 'extended_entities': {'media': [{'id': 995390104276557824, 'id_str': '995390104276557824', 'indices': [92, 115], 'media_url': 'http://pbs.twimg.com/media/DdBWBqpX4AAKz-2.jpg', 'media_url_https': 'https://pbs.twimg.com/media/DdBWBqpX4AAKz-2.jpg', 'url': 'https://t.co/JZlwAaoJvT', 'display_url': 'pic.twitter.com/JZlwAaoJvT', 'expanded_url': 'https://twitter.com/Lipton_Kyon/status/995390189362130944/photo/1', 'type': 'photo', 'sizes': {'thumb': {'w': 150, 'h': 150, 'resize': 'crop'}, 'small': {'w': 640, 'h': 480, 'resize': 'fit'}, 'large': {'w': 640, 'h': 480, 'resize': 'fit'}, 'medium': {'w': 640, 'h': 480, 'resize': 'fit'}}}, {'id': 995390136425877504, 'id_str': '995390136425877504', 'indices': [92, 115], 'media_url': 'http://pbs.twimg.com/media/DdBWDiaXkAAVmfC.jpg', 'media_url_https': 'https://pbs.twimg.com/media/DdBWDiaXkAAVmfC.jpg', 'url': 'https://t.co/JZlwAaoJvT', 'display_url': 'pic.twitter.com/JZlwAaoJvT', 'expanded_url': 'https://twitter.com/Lipton_Kyon/status/995390189362130944/photo/1', 'type': 'photo', 'sizes': {'thumb': {'w': 150, 'h': 150, 'resize': 'crop'}, 'small': {'w': 640, 'h': 480, 'resize': 'fit'}, 'large': {'w': 640, 'h': 480, 'resize': 'fit'}, 'medium': {'w': 640, 'h': 480, 'resize': 'fit'}}}]}, 'favorited': False, 'retweeted': False, 'possibly_sensitive': False, 'filter_level': 'low', 'lang': 'es'})\n",
      "Tweet(id=995410605191389185, content='Смотрела через комп Евровидение и со всеми пауза и отстала на 5 песен...а я думаю, почему в твиттере уже про другие… https://t.co/oaz4bTCPyM', author='♡Anne♡', language='ru', retweeted_status=False)\n",
      "Tweet(id=995410605124345856, content='RT @PaquitaSalas: Irlanda: Un puente, dos chiquitos que se quieren. #Eurovision https://t.co/B7ERrWdJdc', author='♣Seyna♣', language='es', retweeted_status={'created_at': 'Sat May 12 20:59:08 +0000 2018', 'id': 995408052886147079, 'id_str': '995408052886147079', 'text': 'Irlanda: Un puente, dos chiquitos que se quieren. #Eurovision https://t.co/B7ERrWdJdc', 'display_text_range': [0, 61], 'source': '<a href=\"http://twitter.com\" rel=\"nofollow\">Twitter Web Client</a>', 'truncated': False, 'in_reply_to_status_id': None, 'in_reply_to_status_id_str': None, 'in_reply_to_user_id': None, 'in_reply_to_user_id_str': None, 'in_reply_to_screen_name': None, 'user': {'id': 739812492310896640, 'id_str': '739812492310896640', 'name': 'Paquita Salas', 'screen_name': 'PaquitaSalas', 'location': 'España', 'url': 'http://www.netflix.es', 'description': 'Soy Paquita Salas y soy representante. Júntate a mi lado y habrá éxito. | Puedes encontrarme solo en Netflix.', 'translator_type': 'none', 'protected': False, 'verified': True, 'followers_count': 54877, 'friends_count': 58, 'listed_count': 86, 'favourites_count': 165, 'statuses_count': 1729, 'created_at': 'Mon Jun 06 13:33:38 +0000 2016', 'utc_offset': 7200, 'time_zone': 'Madrid', 'geo_enabled': False, 'lang': 'es', 'contributors_enabled': False, 'is_translator': False, 'profile_background_color': '000000', 'profile_background_image_url': 'http://abs.twimg.com/images/themes/theme1/bg.png', 'profile_background_image_url_https': 'https://abs.twimg.com/images/themes/theme1/bg.png', 'profile_background_tile': False, 'profile_link_color': 'E81C4F', 'profile_sidebar_border_color': '000000', 'profile_sidebar_fill_color': '000000', 'profile_text_color': '000000', 'profile_use_background_image': False, 'profile_image_url': 'http://pbs.twimg.com/profile_images/994152876862734336/WJBoLeYz_normal.jpg', 'profile_image_url_https': 'https://pbs.twimg.com/profile_images/994152876862734336/WJBoLeYz_normal.jpg', 'profile_banner_url': 'https://pbs.twimg.com/profile_banners/739812492310896640/1524591523', 'default_profile': False, 'default_profile_image': False, 'following': None, 'follow_request_sent': None, 'notifications': None}, 'geo': None, 'coordinates': None, 'place': None, 'contributors': None, 'is_quote_status': False, 'quote_count': 11, 'reply_count': 5, 'retweet_count': 575, 'favorite_count': 980, 'entities': {'hashtags': [{'text': 'Eurovision', 'indices': [50, 61]}], 'urls': [], 'user_mentions': [], 'symbols': [], 'media': [{'id': 995407703416729606, 'id_str': '995407703416729606', 'indices': [62, 85], 'media_url': 'http://pbs.twimg.com/tweet_video_thumb/DdBmCEjXcAYitSa.jpg', 'media_url_https': 'https://pbs.twimg.com/tweet_video_thumb/DdBmCEjXcAYitSa.jpg', 'url': 'https://t.co/B7ERrWdJdc', 'display_url': 'pic.twitter.com/B7ERrWdJdc', 'expanded_url': 'https://twitter.com/PaquitaSalas/status/995408052886147079/photo/1', 'type': 'photo', 'sizes': {'small': {'w': 480, 'h': 480, 'resize': 'fit'}, 'thumb': {'w': 150, 'h': 150, 'resize': 'crop'}, 'medium': {'w': 480, 'h': 480, 'resize': 'fit'}, 'large': {'w': 480, 'h': 480, 'resize': 'fit'}}}]}, 'extended_entities': {'media': [{'id': 995407703416729606, 'id_str': '995407703416729606', 'indices': [62, 85], 'media_url': 'http://pbs.twimg.com/tweet_video_thumb/DdBmCEjXcAYitSa.jpg', 'media_url_https': 'https://pbs.twimg.com/tweet_video_thumb/DdBmCEjXcAYitSa.jpg', 'url': 'https://t.co/B7ERrWdJdc', 'display_url': 'pic.twitter.com/B7ERrWdJdc', 'expanded_url': 'https://twitter.com/PaquitaSalas/status/995408052886147079/photo/1', 'type': 'animated_gif', 'video_info': {'aspect_ratio': [1, 1], 'variants': [{'bitrate': 0, 'content_type': 'video/mp4', 'url': 'https://video.twimg.com/tweet_video/DdBmCEjXcAYitSa.mp4'}]}, 'sizes': {'small': {'w': 480, 'h': 480, 'resize': 'fit'}, 'thumb': {'w': 150, 'h': 150, 'resize': 'crop'}, 'medium': {'w': 480, 'h': 480, 'resize': 'fit'}, 'large': {'w': 480, 'h': 480, 'resize': 'fit'}}}]}, 'favorited': False, 'retweeted': False, 'possibly_sensitive': False, 'filter_level': 'low', 'lang': 'es'})\n",
      "Tweet(id=995410604851638272, content='RT @sgaywalker: viendo a españa \\n\\n#eurovision https://t.co/gG1YhHQMv1', author='I am Wenceslao', language='es', retweeted_status={'created_at': 'Sat May 12 19:24:40 +0000 2018', 'id': 995384281886228482, 'id_str': '995384281886228482', 'text': 'viendo a españa \\n\\n#eurovision https://t.co/gG1YhHQMv1', 'display_text_range': [0, 29], 'source': '<a href=\"http://twitter.com/#!/download/ipad\" rel=\"nofollow\">Twitter for iPad</a>', 'truncated': False, 'in_reply_to_status_id': None, 'in_reply_to_status_id_str': None, 'in_reply_to_user_id': None, 'in_reply_to_user_id_str': None, 'in_reply_to_screen_name': None, 'user': {'id': 891256147344273408, 'id_str': '891256147344273408', 'name': 'arumi 🍜 🏳️\\u200d🌈 \\xa0♀', 'screen_name': 'sgaywalker', 'location': '🏳️\\u200d🌈 [L]GBT 🏳️\\u200d🌈', 'url': 'http://curiouscat.me/gaysakurass', 'description': 'in this house we support anakin skywalker. ariadna ve mis hilos y se muere de envidia. me gustan las geishas, el manga, la historia, el arte y hacer memes ✨', 'translator_type': 'none', 'protected': False, 'verified': False, 'followers_count': 2000, 'friends_count': 451, 'listed_count': 22, 'favourites_count': 12029, 'statuses_count': 37249, 'created_at': 'Sat Jul 29 11:16:39 +0000 2017', 'utc_offset': None, 'time_zone': None, 'geo_enabled': False, 'lang': 'es', 'contributors_enabled': False, 'is_translator': False, 'profile_background_color': '000000', 'profile_background_image_url': 'http://abs.twimg.com/images/themes/theme1/bg.png', 'profile_background_image_url_https': 'https://abs.twimg.com/images/themes/theme1/bg.png', 'profile_background_tile': False, 'profile_link_color': 'F58EA8', 'profile_sidebar_border_color': '000000', 'profile_sidebar_fill_color': '000000', 'profile_text_color': '000000', 'profile_use_background_image': False, 'profile_image_url': 'http://pbs.twimg.com/profile_images/993037587395809280/JP67dsgj_normal.jpg', 'profile_image_url_https': 'https://pbs.twimg.com/profile_images/993037587395809280/JP67dsgj_normal.jpg', 'profile_banner_url': 'https://pbs.twimg.com/profile_banners/891256147344273408/1520253298', 'default_profile': False, 'default_profile_image': False, 'following': None, 'follow_request_sent': None, 'notifications': None}, 'geo': None, 'coordinates': None, 'place': None, 'contributors': None, 'is_quote_status': False, 'quote_count': 0, 'reply_count': 0, 'retweet_count': 49, 'favorite_count': 66, 'entities': {'hashtags': [{'text': 'eurovision', 'indices': [18, 29]}], 'urls': [], 'user_mentions': [], 'symbols': [], 'media': [{'id': 995384270469419011, 'id_str': '995384270469419011', 'indices': [30, 53], 'media_url': 'http://pbs.twimg.com/media/DdBQuGBXUAMheKY.jpg', 'media_url_https': 'https://pbs.twimg.com/media/DdBQuGBXUAMheKY.jpg', 'url': 'https://t.co/gG1YhHQMv1', 'display_url': 'pic.twitter.com/gG1YhHQMv1', 'expanded_url': 'https://twitter.com/sgaywalker/status/995384281886228482/photo/1', 'type': 'photo', 'sizes': {'medium': {'w': 900, 'h': 1024, 'resize': 'fit'}, 'thumb': {'w': 150, 'h': 150, 'resize': 'crop'}, 'large': {'w': 900, 'h': 1024, 'resize': 'fit'}, 'small': {'w': 598, 'h': 680, 'resize': 'fit'}}}]}, 'extended_entities': {'media': [{'id': 995384270469419011, 'id_str': '995384270469419011', 'indices': [30, 53], 'media_url': 'http://pbs.twimg.com/media/DdBQuGBXUAMheKY.jpg', 'media_url_https': 'https://pbs.twimg.com/media/DdBQuGBXUAMheKY.jpg', 'url': 'https://t.co/gG1YhHQMv1', 'display_url': 'pic.twitter.com/gG1YhHQMv1', 'expanded_url': 'https://twitter.com/sgaywalker/status/995384281886228482/photo/1', 'type': 'photo', 'sizes': {'medium': {'w': 900, 'h': 1024, 'resize': 'fit'}, 'thumb': {'w': 150, 'h': 150, 'resize': 'crop'}, 'large': {'w': 900, 'h': 1024, 'resize': 'fit'}, 'small': {'w': 598, 'h': 680, 'resize': 'fit'}}}]}, 'favorited': False, 'retweeted': False, 'possibly_sensitive': False, 'filter_level': 'low', 'lang': 'es'})\n",
      "Tweet(id=995410605094985730, content='RT @javviercalvo: Venga, que vamos. A ver si os gusta. #Eurovision', author='Gian Matta', language='es', retweeted_status={'created_at': 'Sat May 12 21:06:20 +0000 2018', 'id': 995409867866288130, 'id_str': '995409867866288130', 'text': 'Venga, que vamos. A ver si os gusta. #Eurovision', 'source': '<a href=\"http://twitter.com/download/android\" rel=\"nofollow\">Twitter for Android</a>', 'truncated': False, 'in_reply_to_status_id': None, 'in_reply_to_status_id_str': None, 'in_reply_to_user_id': None, 'in_reply_to_user_id_str': None, 'in_reply_to_screen_name': None, 'user': {'id': 202376075, 'id_str': '202376075', 'name': 'Javier Calvo', 'screen_name': 'javviercalvo', 'location': 'Madrid', 'url': 'http://gosua.com', 'description': '⚡️🙋🏻\\u200d♂️Creador: 👛🙎🏼 Paquita Salas (Netflix) 🙏🎤 La Llamada (El Musical) 📽🏕 La Llamada (La Película) // Lo hacemos y ya vemos.', 'translator_type': 'none', 'protected': False, 'verified': True, 'followers_count': 226961, 'friends_count': 1711, 'listed_count': 770, 'favourites_count': 8481, 'statuses_count': 14948, 'created_at': 'Wed Oct 13 22:31:17 +0000 2010', 'utc_offset': -7200, 'time_zone': 'Greenland', 'geo_enabled': True, 'lang': 'es', 'contributors_enabled': False, 'is_translator': False, 'profile_background_color': 'C0DEED', 'profile_background_image_url': 'http://pbs.twimg.com/profile_background_images/378800000068987294/ae2c4839eb0d5690e3224125b8474053.jpeg', 'profile_background_image_url_https': 'https://pbs.twimg.com/profile_background_images/378800000068987294/ae2c4839eb0d5690e3224125b8474053.jpeg', 'profile_background_tile': True, 'profile_link_color': '000000', 'profile_sidebar_border_color': '000000', 'profile_sidebar_fill_color': 'DDEEF6', 'profile_text_color': '333333', 'profile_use_background_image': True, 'profile_image_url': 'http://pbs.twimg.com/profile_images/823954319833710594/U2F_8WJp_normal.jpg', 'profile_image_url_https': 'https://pbs.twimg.com/profile_images/823954319833710594/U2F_8WJp_normal.jpg', 'profile_banner_url': 'https://pbs.twimg.com/profile_banners/202376075/1504881114', 'default_profile': False, 'default_profile_image': False, 'following': None, 'follow_request_sent': None, 'notifications': None}, 'geo': None, 'coordinates': None, 'place': None, 'contributors': None, 'is_quote_status': False, 'quote_count': 39, 'reply_count': 30, 'retweet_count': 170, 'favorite_count': 760, 'entities': {'hashtags': [{'text': 'Eurovision', 'indices': [37, 48]}], 'urls': [], 'user_mentions': [], 'symbols': []}, 'favorited': False, 'retweeted': False, 'filter_level': 'low', 'lang': 'es'})\n",
      "Tweet(id=995410605313069056, content='What country is winning or has won Eurovision?', author='Jack H 🏴\\U000e0067\\U000e0062\\U000e0065\\U000e006e\\U000e0067\\U000e007f', language='en', retweeted_status=False)\n",
      "Tweet(id=995410605396852737, content='RT @lucysfate: Que un 4,9 ES UN 5 HOSTIAAAAAAAAAAAA\\n\\n#Eurovision https://t.co/H5GVavvib7', author='Singularity', language='es', retweeted_status={'created_at': 'Sat May 12 21:06:57 +0000 2018', 'id': 995410022770401285, 'id_str': '995410022770401285', 'text': 'Que un 4,9 ES UN 5 HOSTIAAAAAAAAAAAA\\n\\n#Eurovision https://t.co/H5GVavvib7', 'display_text_range': [0, 49], 'source': '<a href=\"http://twitter.com/download/android\" rel=\"nofollow\">Twitter for Android</a>', 'truncated': False, 'in_reply_to_status_id': None, 'in_reply_to_status_id_str': None, 'in_reply_to_user_id': None, 'in_reply_to_user_id_str': None, 'in_reply_to_screen_name': None, 'user': {'id': 3294739069, 'id_str': '3294739069', 'name': 'Lucy Northman', 'screen_name': 'lucysfate', 'location': 'Valencia', 'url': None, 'description': '¿Acaso impide que el viento del norte entre por tu ventana y no te deje dormir?', 'translator_type': 'none', 'protected': False, 'verified': False, 'followers_count': 436, 'friends_count': 442, 'listed_count': 4, 'favourites_count': 2925, 'statuses_count': 19414, 'created_at': 'Sun Jul 26 08:17:17 +0000 2015', 'utc_offset': None, 'time_zone': None, 'geo_enabled': False, 'lang': 'es', 'contributors_enabled': False, 'is_translator': False, 'profile_background_color': 'C0DEED', 'profile_background_image_url': 'http://abs.twimg.com/images/themes/theme1/bg.png', 'profile_background_image_url_https': 'https://abs.twimg.com/images/themes/theme1/bg.png', 'profile_background_tile': False, 'profile_link_color': '1DA1F2', 'profile_sidebar_border_color': 'C0DEED', 'profile_sidebar_fill_color': 'DDEEF6', 'profile_text_color': '333333', 'profile_use_background_image': True, 'profile_image_url': 'http://pbs.twimg.com/profile_images/994844278814846976/g31BZ1sN_normal.jpg', 'profile_image_url_https': 'https://pbs.twimg.com/profile_images/994844278814846976/g31BZ1sN_normal.jpg', 'profile_banner_url': 'https://pbs.twimg.com/profile_banners/3294739069/1462265635', 'default_profile': True, 'default_profile_image': False, 'following': None, 'follow_request_sent': None, 'notifications': None}, 'geo': None, 'coordinates': None, 'place': None, 'contributors': None, 'is_quote_status': False, 'quote_count': 0, 'reply_count': 0, 'retweet_count': 21, 'favorite_count': 26, 'entities': {'hashtags': [{'text': 'Eurovision', 'indices': [38, 49]}], 'urls': [], 'user_mentions': [], 'symbols': [], 'media': [{'id': 995410018966163456, 'id_str': '995410018966163456', 'indices': [50, 73], 'media_url': 'http://pbs.twimg.com/media/DdBoI2pX0AA49sn.jpg', 'media_url_https': 'https://pbs.twimg.com/media/DdBoI2pX0AA49sn.jpg', 'url': 'https://t.co/H5GVavvib7', 'display_url': 'pic.twitter.com/H5GVavvib7', 'expanded_url': 'https://twitter.com/lucysfate/status/995410022770401285/photo/1', 'type': 'photo', 'sizes': {'medium': {'w': 857, 'h': 484, 'resize': 'fit'}, 'thumb': {'w': 150, 'h': 150, 'resize': 'crop'}, 'small': {'w': 680, 'h': 384, 'resize': 'fit'}, 'large': {'w': 857, 'h': 484, 'resize': 'fit'}}}]}, 'extended_entities': {'media': [{'id': 995410018966163456, 'id_str': '995410018966163456', 'indices': [50, 73], 'media_url': 'http://pbs.twimg.com/media/DdBoI2pX0AA49sn.jpg', 'media_url_https': 'https://pbs.twimg.com/media/DdBoI2pX0AA49sn.jpg', 'url': 'https://t.co/H5GVavvib7', 'display_url': 'pic.twitter.com/H5GVavvib7', 'expanded_url': 'https://twitter.com/lucysfate/status/995410022770401285/photo/1', 'type': 'photo', 'sizes': {'medium': {'w': 857, 'h': 484, 'resize': 'fit'}, 'thumb': {'w': 150, 'h': 150, 'resize': 'crop'}, 'small': {'w': 680, 'h': 384, 'resize': 'fit'}, 'large': {'w': 857, 'h': 484, 'resize': 'fit'}}}]}, 'favorited': False, 'retweeted': False, 'possibly_sensitive': False, 'filter_level': 'low', 'lang': 'es'})\n",
      "Tweet(id=995410605199757313, content=\"RT @pewdiepie: I didn't think Italy could disappoint even more. I was wrong #Eurovision #ITA\", author='TooT', language='en', retweeted_status={'created_at': 'Sat May 12 21:08:50 +0000 2018', 'id': 995410495497744384, 'id_str': '995410495497744384', 'text': \"I didn't think Italy could disappoint even more. I was wrong #Eurovision #ITA\", 'source': '<a href=\"http://twitter.com/download/android\" rel=\"nofollow\">Twitter for Android</a>', 'truncated': False, 'in_reply_to_status_id': None, 'in_reply_to_status_id_str': None, 'in_reply_to_user_id': None, 'in_reply_to_user_id_str': None, 'in_reply_to_screen_name': None, 'user': {'id': 39538010, 'id_str': '39538010', 'name': 'ƿ૯ωძɿ૯ƿɿ૯', 'screen_name': 'pewdiepie', 'location': None, 'url': 'http://www.youtube.com/pewdiepie', 'description': 'i like watching YouTube, gaming and playing beyblades https://www.instagram.com/pewdiepie/', 'translator_type': 'regular', 'protected': False, 'verified': True, 'followers_count': 15964408, 'friends_count': 536, 'listed_count': 11820, 'favourites_count': 8241, 'statuses_count': 235, 'created_at': 'Tue May 12 16:41:07 +0000 2009', 'utc_offset': 7200, 'time_zone': 'Stockholm', 'geo_enabled': False, 'lang': 'en', 'contributors_enabled': False, 'is_translator': False, 'profile_background_color': 'EBEBEB', 'profile_background_image_url': 'http://pbs.twimg.com/profile_background_images/615687816/dnpje9pnqt7j48h5gdtg.jpeg', 'profile_background_image_url_https': 'https://pbs.twimg.com/profile_background_images/615687816/dnpje9pnqt7j48h5gdtg.jpeg', 'profile_background_tile': False, 'profile_link_color': 'E81C4F', 'profile_sidebar_border_color': 'FFFFFF', 'profile_sidebar_fill_color': 'DDEEF6', 'profile_text_color': '333333', 'profile_use_background_image': True, 'profile_image_url': 'http://pbs.twimg.com/profile_images/987847052259307520/5W76SSz__normal.jpg', 'profile_image_url_https': 'https://pbs.twimg.com/profile_images/987847052259307520/5W76SSz__normal.jpg', 'profile_banner_url': 'https://pbs.twimg.com/profile_banners/39538010/1521370564', 'default_profile': False, 'default_profile_image': False, 'following': None, 'follow_request_sent': None, 'notifications': None}, 'geo': None, 'coordinates': None, 'place': None, 'contributors': None, 'is_quote_status': False, 'quote_count': 1, 'reply_count': 64, 'retweet_count': 89, 'favorite_count': 856, 'entities': {'hashtags': [{'text': 'Eurovision', 'indices': [61, 72]}, {'text': 'ITA', 'indices': [73, 77]}], 'urls': [], 'user_mentions': [], 'symbols': []}, 'favorited': False, 'retweeted': False, 'filter_level': 'low', 'lang': 'en'})\n"
     ]
    }
   ],
   "source": [
    "import json, dataclasses\n",
    "\n",
    "tweets = []\n",
    "\n",
    "bucket='mudab-2025-pc1262057'\n",
    "data_key = 'input/Eurovision-07.json'\n",
    "data_location = 's3://{}/{}'.format(bucket, data_key)\n",
    "\n",
    "def parse_line(line: str):\n",
    "  \"\"\"Try to parse a string into a Person\"\"\"\n",
    "  error = 0\n",
    "  try:\n",
    "    parsed = json.loads(line)\n",
    "    return Tweet(parsed['id'], parsed['text'], parsed['user']['name'], parsed['lang'],parsed.get('retweeted_status', False))\n",
    "  except Exception as e:\n",
    "    error += 1    \n",
    "#   print(f\"Error parsing '{line}': {e}\")\n",
    "\n",
    "with s3.open(data_location) as input: #CLIENT S3. CAN READ THE FILE LINE BY LINE\n",
    "  for line in input.readlines():\n",
    "    if len(line.strip()) > 0:\n",
    "      tweet = parse_line(line)\n",
    "      if tweet: # We add only if the tweet is not 'None'\n",
    "         tweets.append(tweet)\n",
    "\n",
    "for modeled_tweet in tweets[0:10]:\n",
    "  print(modeled_tweet)"
   ]
  },
  {
   "cell_type": "markdown",
   "metadata": {
    "tags": []
   },
   "source": [
    "### 8:"
   ]
  },
  {
   "cell_type": "code",
   "execution_count": 37,
   "metadata": {
    "tags": []
   },
   "outputs": [],
   "source": [
    "import s3fs\n",
    "s3 = s3fs.S3FileSystem(anon=False)\n",
    "\n",
    "bucket='mudab-2025-big-data'\n",
    "data_key = 'twitter-data/Eurovision-08.json'\n",
    "data_location = 's3://{}/{}'.format(bucket, data_key)"
   ]
  },
  {
   "cell_type": "code",
   "execution_count": 38,
   "metadata": {
    "tags": []
   },
   "outputs": [
    {
     "name": "stdout",
     "output_type": "stream",
     "text": [
      "Tweet(id=995420583667040256, content='RT @Uznare: eurovision rules https://t.co/I8cG3D5tCh', author='gonçalo', language='en', retweeted_status={'created_at': 'Sat May 12 19:13:51 +0000 2018', 'id': 995381560277979136, 'id_str': '995381560277979136', 'text': 'eurovision rules https://t.co/I8cG3D5tCh', 'display_text_range': [0, 16], 'source': '<a href=\"http://twitter.com\" rel=\"nofollow\">Twitter Web Client</a>', 'truncated': False, 'in_reply_to_status_id': None, 'in_reply_to_status_id_str': None, 'in_reply_to_user_id': None, 'in_reply_to_user_id_str': None, 'in_reply_to_screen_name': None, 'user': {'id': 29056256, 'id_str': '29056256', 'name': 'ウズ@ころあず最高', 'screen_name': 'Uznare', 'location': 'Hyperliterate México', 'url': 'http://outerheaven.xyz', 'description': '田所あずさが大好きです', 'translator_type': 'none', 'protected': False, 'verified': False, 'followers_count': 656, 'friends_count': 449, 'listed_count': 16, 'favourites_count': 22950, 'statuses_count': 92272, 'created_at': 'Sun Apr 05 20:25:20 +0000 2009', 'utc_offset': -18000, 'time_zone': 'Mexico City', 'geo_enabled': True, 'lang': 'en', 'contributors_enabled': False, 'is_translator': False, 'profile_background_color': '1A1B1F', 'profile_background_image_url': 'http://pbs.twimg.com/profile_background_images/344511763025245288/1e8cd6ca1e50ab57ab2640d4280407fe.png', 'profile_background_image_url_https': 'https://pbs.twimg.com/profile_background_images/344511763025245288/1e8cd6ca1e50ab57ab2640d4280407fe.png', 'profile_background_tile': True, 'profile_link_color': '2FC2EF', 'profile_sidebar_border_color': 'FFFFFF', 'profile_sidebar_fill_color': '252429', 'profile_text_color': '666666', 'profile_use_background_image': True, 'profile_image_url': 'http://pbs.twimg.com/profile_images/898530421486571521/Yw6NuYrS_normal.jpg', 'profile_image_url_https': 'https://pbs.twimg.com/profile_images/898530421486571521/Yw6NuYrS_normal.jpg', 'profile_banner_url': 'https://pbs.twimg.com/profile_banners/29056256/1498219250', 'default_profile': False, 'default_profile_image': False, 'following': None, 'follow_request_sent': None, 'notifications': None}, 'geo': None, 'coordinates': None, 'place': None, 'contributors': None, 'is_quote_status': False, 'quote_count': 327, 'reply_count': 82, 'retweet_count': 8235, 'favorite_count': 13294, 'entities': {'hashtags': [], 'urls': [], 'user_mentions': [], 'symbols': [], 'media': [{'id': 995381528115871744, 'id_str': '995381528115871744', 'indices': [17, 40], 'media_url': 'http://pbs.twimg.com/media/DdBOOd9VAAAm3YX.jpg', 'media_url_https': 'https://pbs.twimg.com/media/DdBOOd9VAAAm3YX.jpg', 'url': 'https://t.co/I8cG3D5tCh', 'display_url': 'pic.twitter.com/I8cG3D5tCh', 'expanded_url': 'https://twitter.com/Uznare/status/995381560277979136/photo/1', 'type': 'photo', 'sizes': {'small': {'w': 680, 'h': 383, 'resize': 'fit'}, 'thumb': {'w': 150, 'h': 150, 'resize': 'crop'}, 'medium': {'w': 1200, 'h': 676, 'resize': 'fit'}, 'large': {'w': 1708, 'h': 962, 'resize': 'fit'}}}]}, 'extended_entities': {'media': [{'id': 995381528115871744, 'id_str': '995381528115871744', 'indices': [17, 40], 'media_url': 'http://pbs.twimg.com/media/DdBOOd9VAAAm3YX.jpg', 'media_url_https': 'https://pbs.twimg.com/media/DdBOOd9VAAAm3YX.jpg', 'url': 'https://t.co/I8cG3D5tCh', 'display_url': 'pic.twitter.com/I8cG3D5tCh', 'expanded_url': 'https://twitter.com/Uznare/status/995381560277979136/photo/1', 'type': 'photo', 'sizes': {'small': {'w': 680, 'h': 383, 'resize': 'fit'}, 'thumb': {'w': 150, 'h': 150, 'resize': 'crop'}, 'medium': {'w': 1200, 'h': 676, 'resize': 'fit'}, 'large': {'w': 1708, 'h': 962, 'resize': 'fit'}}}, {'id': 995381541797691397, 'id_str': '995381541797691397', 'indices': [17, 40], 'media_url': 'http://pbs.twimg.com/media/DdBOPQ7VAAUbpzx.jpg', 'media_url_https': 'https://pbs.twimg.com/media/DdBOPQ7VAAUbpzx.jpg', 'url': 'https://t.co/I8cG3D5tCh', 'display_url': 'pic.twitter.com/I8cG3D5tCh', 'expanded_url': 'https://twitter.com/Uznare/status/995381560277979136/photo/1', 'type': 'photo', 'sizes': {'thumb': {'w': 150, 'h': 150, 'resize': 'crop'}, 'medium': {'w': 1200, 'h': 675, 'resize': 'fit'}, 'small': {'w': 680, 'h': 383, 'resize': 'fit'}, 'large': {'w': 1592, 'h': 896, 'resize': 'fit'}}}]}, 'favorited': False, 'retweeted': False, 'possibly_sensitive': False, 'filter_level': 'low', 'lang': 'en'})\n",
      "Tweet(id=995420583553916929, content='RT @Jorge7sh: Representación gráfica de cómo llevo bachillerato: \\n\\n#Eurovision https://t.co/Gh969l3Rb5', author='meriisss. 🌹', language='es', retweeted_status={'created_at': 'Sat May 12 21:30:43 +0000 2018', 'id': 995416001771720709, 'id_str': '995416001771720709', 'text': 'Representación gráfica de cómo llevo bachillerato: \\n\\n#Eurovision https://t.co/Gh969l3Rb5', 'source': '<a href=\"http://twitter.com/download/android\" rel=\"nofollow\">Twitter for Android</a>', 'truncated': False, 'in_reply_to_status_id': None, 'in_reply_to_status_id_str': None, 'in_reply_to_user_id': None, 'in_reply_to_user_id_str': None, 'in_reply_to_screen_name': None, 'user': {'id': 853411674, 'id_str': '853411674', 'name': 'george chanches 🇨🇾🇮🇹🇫🇮', 'screen_name': 'Jorge7sh', 'location': 'wonderland', 'url': 'http://www.instagram.com/jorge7sh', 'description': 'nature has cunning ways of finding our weakest spot 🌿\\n\\n| @foureira_eleni winner of #Eurovision', 'translator_type': 'none', 'protected': False, 'verified': False, 'followers_count': 266, 'friends_count': 520, 'listed_count': 3, 'favourites_count': 27035, 'statuses_count': 9031, 'created_at': 'Sat Sep 29 18:58:50 +0000 2012', 'utc_offset': 7200, 'time_zone': 'Madrid', 'geo_enabled': True, 'lang': 'es', 'contributors_enabled': False, 'is_translator': False, 'profile_background_color': 'C0DEED', 'profile_background_image_url': 'http://pbs.twimg.com/profile_background_images/819651549/b371bf97252097d867466ef2fee7b5df.jpeg', 'profile_background_image_url_https': 'https://pbs.twimg.com/profile_background_images/819651549/b371bf97252097d867466ef2fee7b5df.jpeg', 'profile_background_tile': True, 'profile_link_color': '81BEF2', 'profile_sidebar_border_color': 'FFFFFF', 'profile_sidebar_fill_color': 'EFEFEF', 'profile_text_color': '333333', 'profile_use_background_image': True, 'profile_image_url': 'http://pbs.twimg.com/profile_images/983093484541415424/McsWfFiW_normal.jpg', 'profile_image_url_https': 'https://pbs.twimg.com/profile_images/983093484541415424/McsWfFiW_normal.jpg', 'profile_banner_url': 'https://pbs.twimg.com/profile_banners/853411674/1515037749', 'default_profile': False, 'default_profile_image': False, 'following': None, 'follow_request_sent': None, 'notifications': None}, 'geo': None, 'coordinates': None, 'place': None, 'contributors': None, 'is_quote_status': False, 'quote_count': 12, 'reply_count': 6, 'retweet_count': 294, 'favorite_count': 443, 'entities': {'hashtags': [{'text': 'Eurovision', 'indices': [53, 64]}], 'urls': [], 'user_mentions': [], 'symbols': [], 'media': [{'id': 994242466357358592, 'id_str': '994242466357358592', 'indices': [65, 88], 'additional_media_info': {'monetizable': False}, 'media_url': 'http://pbs.twimg.com/ext_tw_video_thumb/994242466357358592/pu/img/bD-vDwW8sdxHDuym.jpg', 'media_url_https': 'https://pbs.twimg.com/ext_tw_video_thumb/994242466357358592/pu/img/bD-vDwW8sdxHDuym.jpg', 'url': 'https://t.co/Gh969l3Rb5', 'display_url': 'pic.twitter.com/Gh969l3Rb5', 'expanded_url': 'https://twitter.com/cabriadiego/status/994242601938276352/video/1', 'type': 'photo', 'sizes': {'medium': {'w': 640, 'h': 640, 'resize': 'fit'}, 'thumb': {'w': 150, 'h': 150, 'resize': 'crop'}, 'large': {'w': 640, 'h': 640, 'resize': 'fit'}, 'small': {'w': 640, 'h': 640, 'resize': 'fit'}}, 'source_status_id': 994242601938276352, 'source_status_id_str': '994242601938276352', 'source_user_id': 114227172, 'source_user_id_str': '114227172'}]}, 'extended_entities': {'media': [{'id': 994242466357358592, 'id_str': '994242466357358592', 'indices': [65, 88], 'additional_media_info': {'monetizable': False}, 'media_url': 'http://pbs.twimg.com/ext_tw_video_thumb/994242466357358592/pu/img/bD-vDwW8sdxHDuym.jpg', 'media_url_https': 'https://pbs.twimg.com/ext_tw_video_thumb/994242466357358592/pu/img/bD-vDwW8sdxHDuym.jpg', 'url': 'https://t.co/Gh969l3Rb5', 'display_url': 'pic.twitter.com/Gh969l3Rb5', 'expanded_url': 'https://twitter.com/cabriadiego/status/994242601938276352/video/1', 'type': 'video', 'video_info': {'aspect_ratio': [1, 1], 'duration_millis': 15900, 'variants': [{'content_type': 'application/x-mpegURL', 'url': 'https://video.twimg.com/ext_tw_video/994242466357358592/pu/pl/cLy6GzZwhPppRjzy.m3u8?tag=3'}, {'bitrate': 832000, 'content_type': 'video/mp4', 'url': 'https://video.twimg.com/ext_tw_video/994242466357358592/pu/vid/480x480/jw1L7djXwe_VDHuJ.mp4?tag=3'}, {'bitrate': 256000, 'content_type': 'video/mp4', 'url': 'https://video.twimg.com/ext_tw_video/994242466357358592/pu/vid/240x240/S0BDWUfITGwfsaPe.mp4?tag=3'}]}, 'sizes': {'medium': {'w': 640, 'h': 640, 'resize': 'fit'}, 'thumb': {'w': 150, 'h': 150, 'resize': 'crop'}, 'large': {'w': 640, 'h': 640, 'resize': 'fit'}, 'small': {'w': 640, 'h': 640, 'resize': 'fit'}}, 'source_status_id': 994242601938276352, 'source_status_id_str': '994242601938276352', 'source_user_id': 114227172, 'source_user_id_str': '114227172'}]}, 'favorited': False, 'retweeted': False, 'possibly_sensitive': False, 'filter_level': 'low', 'lang': 'es'})\n",
      "Tweet(id=995420583415504898, content='#eurovision #eurovision 2018 #festivaldacancao #portugal #lisboa… https://t.co/jHvcpSnTGU', author='Lívia Bueno', language='und', retweeted_status=False)\n",
      "Tweet(id=995420583704891393, content='Watching Eurovision and someone has got super carried away. It’s getting a bit nasty, lot of trash talk. (Apparentl… https://t.co/YONaw9UjC2', author='Tilly Ingram', language='en', retweeted_status=False)\n",
      "Tweet(id=995420587232251905, content='RT @JuanmaofArcos: Si España queda ÚLTIMA en #Eurovision reparto mi saldo entre todos los que hagáis RT https://t.co/22CfqfWxld', author='Diego®', language='es', retweeted_status={'created_at': 'Sat May 12 21:30:09 +0000 2018', 'id': 995415860918607874, 'id_str': '995415860918607874', 'text': 'Si España queda ÚLTIMA en #Eurovision reparto mi saldo entre todos los que hagáis RT https://t.co/22CfqfWxld', 'source': '<a href=\"https://about.twitter.com/products/tweetdeck\" rel=\"nofollow\">TweetDeck</a>', 'truncated': False, 'in_reply_to_status_id': None, 'in_reply_to_status_id_str': None, 'in_reply_to_user_id': None, 'in_reply_to_user_id_str': None, 'in_reply_to_screen_name': None, 'user': {'id': 497950825, 'id_str': '497950825', 'name': 'juanma', 'screen_name': 'JuanmaofArcos', 'location': 'Arcos City', 'url': 'https://myanimelist.net/profile/JuanmaofArcos', 'description': '🌹 | @quienunfortnite', 'translator_type': 'regular', 'protected': False, 'verified': False, 'followers_count': 1235, 'friends_count': 434, 'listed_count': 36, 'favourites_count': 141852, 'statuses_count': 197938, 'created_at': 'Mon Feb 20 14:50:19 +0000 2012', 'utc_offset': 7200, 'time_zone': 'Madrid', 'geo_enabled': True, 'lang': 'es', 'contributors_enabled': False, 'is_translator': False, 'profile_background_color': '22D676', 'profile_background_image_url': 'http://pbs.twimg.com/profile_background_images/624999605390979073/HGtfzDAt.jpg', 'profile_background_image_url_https': 'https://pbs.twimg.com/profile_background_images/624999605390979073/HGtfzDAt.jpg', 'profile_background_tile': True, 'profile_link_color': '0051B3', 'profile_sidebar_border_color': 'FFFFFF', 'profile_sidebar_fill_color': 'DDEEF6', 'profile_text_color': '333333', 'profile_use_background_image': True, 'profile_image_url': 'http://pbs.twimg.com/profile_images/992017059247738880/udNGeAmN_normal.jpg', 'profile_image_url_https': 'https://pbs.twimg.com/profile_images/992017059247738880/udNGeAmN_normal.jpg', 'profile_banner_url': 'https://pbs.twimg.com/profile_banners/497950825/1525697502', 'default_profile': False, 'default_profile_image': False, 'following': None, 'follow_request_sent': None, 'notifications': None}, 'geo': None, 'coordinates': None, 'place': None, 'contributors': None, 'is_quote_status': False, 'quote_count': 24, 'reply_count': 48, 'retweet_count': 3760, 'favorite_count': 605, 'entities': {'hashtags': [{'text': 'Eurovision', 'indices': [26, 37]}], 'urls': [], 'user_mentions': [], 'symbols': [], 'media': [{'id': 995396158108389378, 'id_str': '995396158108389378', 'indices': [85, 108], 'media_url': 'http://pbs.twimg.com/media/DdBbiC7W0AI-VeR.jpg', 'media_url_https': 'https://pbs.twimg.com/media/DdBbiC7W0AI-VeR.jpg', 'url': 'https://t.co/22CfqfWxld', 'display_url': 'pic.twitter.com/22CfqfWxld', 'expanded_url': 'https://twitter.com/SrJPG/status/995396193613041664/photo/1', 'type': 'photo', 'sizes': {'thumb': {'w': 150, 'h': 150, 'resize': 'crop'}, 'medium': {'w': 1200, 'h': 900, 'resize': 'fit'}, 'large': {'w': 2048, 'h': 1536, 'resize': 'fit'}, 'small': {'w': 680, 'h': 510, 'resize': 'fit'}}, 'source_status_id': 995396193613041664, 'source_status_id_str': '995396193613041664', 'source_user_id': 286416209, 'source_user_id_str': '286416209'}]}, 'extended_entities': {'media': [{'id': 995396158108389378, 'id_str': '995396158108389378', 'indices': [85, 108], 'media_url': 'http://pbs.twimg.com/media/DdBbiC7W0AI-VeR.jpg', 'media_url_https': 'https://pbs.twimg.com/media/DdBbiC7W0AI-VeR.jpg', 'url': 'https://t.co/22CfqfWxld', 'display_url': 'pic.twitter.com/22CfqfWxld', 'expanded_url': 'https://twitter.com/SrJPG/status/995396193613041664/photo/1', 'type': 'photo', 'sizes': {'thumb': {'w': 150, 'h': 150, 'resize': 'crop'}, 'medium': {'w': 1200, 'h': 900, 'resize': 'fit'}, 'large': {'w': 2048, 'h': 1536, 'resize': 'fit'}, 'small': {'w': 680, 'h': 510, 'resize': 'fit'}}, 'source_status_id': 995396193613041664, 'source_status_id_str': '995396193613041664', 'source_user_id': 286416209, 'source_user_id_str': '286416209'}]}, 'favorited': False, 'retweeted': False, 'possibly_sensitive': False, 'filter_level': 'low', 'lang': 'es'})\n",
      "Tweet(id=995420587236438017, content='RT @tibutler: Australian commentator Joel Creasey calls SuRie\\'s stage invader \"some absolute cockhead\" on live TV, what an ICON #eurovision…', author='Nepareizais', language='en', retweeted_status={'created_at': 'Sat May 12 20:02:14 +0000 2018', 'id': 995393734849183744, 'id_str': '995393734849183744', 'text': 'Australian commentator Joel Creasey calls SuRie\\'s stage invader \"some absolute cockhead\" on live TV, what an ICON… https://t.co/P4acPUYHOU', 'display_text_range': [0, 140], 'source': '<a href=\"http://twitter.com/download/android\" rel=\"nofollow\">Twitter for Android</a>', 'truncated': True, 'in_reply_to_status_id': None, 'in_reply_to_status_id_str': None, 'in_reply_to_user_id': None, 'in_reply_to_user_id_str': None, 'in_reply_to_screen_name': None, 'user': {'id': 22859141, 'id_str': '22859141', 'name': 'Ti Butler👩\\u200d🎤', 'screen_name': 'tibutler', 'location': 'Victoria, Australia', 'url': 'http://tibutler.me', 'description': '▰ always music ▰ on the radio on MIXX/COAST/TRFM ▰ sometimes writes about new music in @theinterns_net ▰ non-binary and gender fluid ▰ them fatale ▰', 'translator_type': 'none', 'protected': False, 'verified': False, 'followers_count': 2042, 'friends_count': 1255, 'listed_count': 97, 'favourites_count': 42028, 'statuses_count': 49716, 'created_at': 'Thu Mar 05 01:20:53 +0000 2009', 'utc_offset': 36000, 'time_zone': 'Melbourne', 'geo_enabled': True, 'lang': 'en', 'contributors_enabled': False, 'is_translator': False, 'profile_background_color': '2E2E2E', 'profile_background_image_url': 'http://pbs.twimg.com/profile_background_images/587818250/ewhr6q8r97y3pgd907na.png', 'profile_background_image_url_https': 'https://pbs.twimg.com/profile_background_images/587818250/ewhr6q8r97y3pgd907na.png', 'profile_background_tile': False, 'profile_link_color': 'F001B4', 'profile_sidebar_border_color': '000000', 'profile_sidebar_fill_color': 'D6D3D6', 'profile_text_color': '4F4F4F', 'profile_use_background_image': False, 'profile_image_url': 'http://pbs.twimg.com/profile_images/982907681940815872/uSqquyre_normal.jpg', 'profile_image_url_https': 'https://pbs.twimg.com/profile_images/982907681940815872/uSqquyre_normal.jpg', 'profile_banner_url': 'https://pbs.twimg.com/profile_banners/22859141/1510212893', 'default_profile': False, 'default_profile_image': False, 'following': None, 'follow_request_sent': None, 'notifications': None}, 'geo': None, 'coordinates': None, 'place': None, 'contributors': None, 'is_quote_status': False, 'extended_tweet': {'full_text': 'Australian commentator Joel Creasey calls SuRie\\'s stage invader \"some absolute cockhead\" on live TV, what an ICON #eurovision https://t.co/Ej8FKcFGVL', 'display_text_range': [0, 125], 'entities': {'hashtags': [{'text': 'eurovision', 'indices': [114, 125]}], 'urls': [], 'user_mentions': [], 'symbols': [], 'media': [{'id': 995393557560049664, 'id_str': '995393557560049664', 'indices': [126, 149], 'additional_media_info': {'monetizable': False}, 'media_url': 'http://pbs.twimg.com/ext_tw_video_thumb/995393557560049664/pu/img/ZgkX2yd4uYcX-zrs.jpg', 'media_url_https': 'https://pbs.twimg.com/ext_tw_video_thumb/995393557560049664/pu/img/ZgkX2yd4uYcX-zrs.jpg', 'url': 'https://t.co/Ej8FKcFGVL', 'display_url': 'pic.twitter.com/Ej8FKcFGVL', 'expanded_url': 'https://twitter.com/tibutler/status/995393734849183744/video/1', 'type': 'video', 'video_info': {'aspect_ratio': [16, 9], 'duration_millis': 12971, 'variants': [{'bitrate': 256000, 'content_type': 'video/mp4', 'url': 'https://video.twimg.com/ext_tw_video/995393557560049664/pu/vid/320x180/8BhPx0f3TdlBrldM.mp4?tag=3'}, {'content_type': 'application/x-mpegURL', 'url': 'https://video.twimg.com/ext_tw_video/995393557560049664/pu/pl/A169sNPa6-OgQgVH.m3u8?tag=3'}, {'bitrate': 832000, 'content_type': 'video/mp4', 'url': 'https://video.twimg.com/ext_tw_video/995393557560049664/pu/vid/640x360/DbVi8B0iZ-FvXeTB.mp4?tag=3'}, {'bitrate': 2176000, 'content_type': 'video/mp4', 'url': 'https://video.twimg.com/ext_tw_video/995393557560049664/pu/vid/1280x720/N9rV1H2ZWpI-mAfg.mp4?tag=3'}]}, 'sizes': {'thumb': {'w': 150, 'h': 150, 'resize': 'crop'}, 'medium': {'w': 1200, 'h': 675, 'resize': 'fit'}, 'small': {'w': 680, 'h': 383, 'resize': 'fit'}, 'large': {'w': 1280, 'h': 720, 'resize': 'fit'}}}]}, 'extended_entities': {'media': [{'id': 995393557560049664, 'id_str': '995393557560049664', 'indices': [126, 149], 'additional_media_info': {'monetizable': False}, 'media_url': 'http://pbs.twimg.com/ext_tw_video_thumb/995393557560049664/pu/img/ZgkX2yd4uYcX-zrs.jpg', 'media_url_https': 'https://pbs.twimg.com/ext_tw_video_thumb/995393557560049664/pu/img/ZgkX2yd4uYcX-zrs.jpg', 'url': 'https://t.co/Ej8FKcFGVL', 'display_url': 'pic.twitter.com/Ej8FKcFGVL', 'expanded_url': 'https://twitter.com/tibutler/status/995393734849183744/video/1', 'type': 'video', 'video_info': {'aspect_ratio': [16, 9], 'duration_millis': 12971, 'variants': [{'bitrate': 256000, 'content_type': 'video/mp4', 'url': 'https://video.twimg.com/ext_tw_video/995393557560049664/pu/vid/320x180/8BhPx0f3TdlBrldM.mp4?tag=3'}, {'content_type': 'application/x-mpegURL', 'url': 'https://video.twimg.com/ext_tw_video/995393557560049664/pu/pl/A169sNPa6-OgQgVH.m3u8?tag=3'}, {'bitrate': 832000, 'content_type': 'video/mp4', 'url': 'https://video.twimg.com/ext_tw_video/995393557560049664/pu/vid/640x360/DbVi8B0iZ-FvXeTB.mp4?tag=3'}, {'bitrate': 2176000, 'content_type': 'video/mp4', 'url': 'https://video.twimg.com/ext_tw_video/995393557560049664/pu/vid/1280x720/N9rV1H2ZWpI-mAfg.mp4?tag=3'}]}, 'sizes': {'thumb': {'w': 150, 'h': 150, 'resize': 'crop'}, 'medium': {'w': 1200, 'h': 675, 'resize': 'fit'}, 'small': {'w': 680, 'h': 383, 'resize': 'fit'}, 'large': {'w': 1280, 'h': 720, 'resize': 'fit'}}}]}}, 'quote_count': 782, 'reply_count': 229, 'retweet_count': 6214, 'favorite_count': 11203, 'entities': {'hashtags': [], 'urls': [{'url': 'https://t.co/P4acPUYHOU', 'expanded_url': 'https://twitter.com/i/web/status/995393734849183744', 'display_url': 'twitter.com/i/web/status/9…', 'indices': [115, 138]}], 'user_mentions': [], 'symbols': []}, 'favorited': False, 'retweeted': False, 'possibly_sensitive': False, 'filter_level': 'low', 'lang': 'en'})\n",
      "Tweet(id=995420587228004352, content='The important question: What country will win Eurovision tonight? #FinalEurovision #Eurovision', author='Miquel', language='en', retweeted_status=False)\n",
      "Tweet(id=995420586917670912, content='RT @Albagarnie: Gran homenaje a Manuel Bartual  #Eurovision https://t.co/XbrgDuuX8N', author='3:33⚠️', language='es', retweeted_status={'created_at': 'Sat May 12 21:18:54 +0000 2018', 'id': 995413026949009410, 'id_str': '995413026949009410', 'text': 'Gran homenaje a Manuel Bartual  #Eurovision https://t.co/XbrgDuuX8N', 'display_text_range': [0, 43], 'source': '<a href=\"http://twitter.com/#!/download/ipad\" rel=\"nofollow\">Twitter for iPad</a>', 'truncated': False, 'in_reply_to_status_id': None, 'in_reply_to_status_id_str': None, 'in_reply_to_user_id': None, 'in_reply_to_user_id_str': None, 'in_reply_to_screen_name': None, 'user': {'id': 755804192, 'id_str': '755804192', 'name': 'Aurvandil♠️', 'screen_name': 'Albagarnie', 'location': 'En mi mundo', 'url': 'https://curiouscat.me/Albagarnie', 'description': 'Creadora de historias, viajera entre páginas. Broadway. 19 ♀ Zurda. Letras. Tildista de sólo. Bruja significa amiga de los elfos. Be a kiwi, not a sheep.', 'translator_type': 'none', 'protected': False, 'verified': False, 'followers_count': 1471, 'friends_count': 1340, 'listed_count': 29, 'favourites_count': 104099, 'statuses_count': 25195, 'created_at': 'Mon Aug 13 20:45:47 +0000 2012', 'utc_offset': -36000, 'time_zone': 'Hawaii', 'geo_enabled': False, 'lang': 'es', 'contributors_enabled': False, 'is_translator': False, 'profile_background_color': 'C0DEED', 'profile_background_image_url': 'http://abs.twimg.com/images/themes/theme1/bg.png', 'profile_background_image_url_https': 'https://abs.twimg.com/images/themes/theme1/bg.png', 'profile_background_tile': False, 'profile_link_color': '1DA1F2', 'profile_sidebar_border_color': 'C0DEED', 'profile_sidebar_fill_color': 'DDEEF6', 'profile_text_color': '333333', 'profile_use_background_image': True, 'profile_image_url': 'http://pbs.twimg.com/profile_images/969228272125952000/yhFjxfzk_normal.jpg', 'profile_image_url_https': 'https://pbs.twimg.com/profile_images/969228272125952000/yhFjxfzk_normal.jpg', 'profile_banner_url': 'https://pbs.twimg.com/profile_banners/755804192/1509547614', 'default_profile': True, 'default_profile_image': False, 'following': None, 'follow_request_sent': None, 'notifications': None}, 'geo': None, 'coordinates': None, 'place': None, 'contributors': None, 'is_quote_status': False, 'quote_count': 17, 'reply_count': 3, 'retweet_count': 1547, 'favorite_count': 2058, 'entities': {'hashtags': [{'text': 'Eurovision', 'indices': [32, 43]}], 'urls': [], 'user_mentions': [], 'symbols': [], 'media': [{'id': 995413006984077312, 'id_str': '995413006984077312', 'indices': [44, 67], 'media_url': 'http://pbs.twimg.com/media/DdBq2x4W4AArQ4N.jpg', 'media_url_https': 'https://pbs.twimg.com/media/DdBq2x4W4AArQ4N.jpg', 'url': 'https://t.co/XbrgDuuX8N', 'display_url': 'pic.twitter.com/XbrgDuuX8N', 'expanded_url': 'https://twitter.com/Albagarnie/status/995413026949009410/photo/1', 'type': 'photo', 'sizes': {'small': {'w': 680, 'h': 340, 'resize': 'fit'}, 'thumb': {'w': 150, 'h': 150, 'resize': 'crop'}, 'medium': {'w': 854, 'h': 427, 'resize': 'fit'}, 'large': {'w': 854, 'h': 427, 'resize': 'fit'}}}]}, 'extended_entities': {'media': [{'id': 995413006984077312, 'id_str': '995413006984077312', 'indices': [44, 67], 'media_url': 'http://pbs.twimg.com/media/DdBq2x4W4AArQ4N.jpg', 'media_url_https': 'https://pbs.twimg.com/media/DdBq2x4W4AArQ4N.jpg', 'url': 'https://t.co/XbrgDuuX8N', 'display_url': 'pic.twitter.com/XbrgDuuX8N', 'expanded_url': 'https://twitter.com/Albagarnie/status/995413026949009410/photo/1', 'type': 'photo', 'sizes': {'small': {'w': 680, 'h': 340, 'resize': 'fit'}, 'thumb': {'w': 150, 'h': 150, 'resize': 'crop'}, 'medium': {'w': 854, 'h': 427, 'resize': 'fit'}, 'large': {'w': 854, 'h': 427, 'resize': 'fit'}}}]}, 'favorited': False, 'retweeted': False, 'possibly_sensitive': False, 'filter_level': 'low', 'lang': 'es'})\n",
      "Tweet(id=995420587261681664, content='RT @scottygb: I will never stop tweeting these lyrics I WILL NEVER STOP #eurovision https://t.co/Cdiea8tk07', author='Hannah', language='en', retweeted_status={'created_at': 'Sat May 12 20:23:45 +0000 2018', 'id': 995399148005482501, 'id_str': '995399148005482501', 'text': 'I will never stop tweeting these lyrics I WILL NEVER STOP #eurovision https://t.co/Cdiea8tk07', 'display_text_range': [0, 69], 'source': '<a href=\"http://twitter.com\" rel=\"nofollow\">Twitter Web Client</a>', 'truncated': False, 'in_reply_to_status_id': None, 'in_reply_to_status_id_str': None, 'in_reply_to_user_id': None, 'in_reply_to_user_id_str': None, 'in_reply_to_screen_name': None, 'user': {'id': 15721456, 'id_str': '15721456', 'name': 'Scott Bryan', 'screen_name': 'scottygb', 'location': 'East London', 'url': 'https://www.buzzfeed.com/scottybryan', 'description': \"TV Editor @BuzzFeedUK. Dyslexic, so there's errors sometimes in my tweets.\", 'translator_type': 'regular', 'protected': False, 'verified': True, 'followers_count': 25106, 'friends_count': 2037, 'listed_count': 429, 'favourites_count': 19046, 'statuses_count': 59477, 'created_at': 'Mon Aug 04 12:33:01 +0000 2008', 'utc_offset': 3600, 'time_zone': 'London', 'geo_enabled': True, 'lang': 'en', 'contributors_enabled': False, 'is_translator': False, 'profile_background_color': '022330', 'profile_background_image_url': 'http://pbs.twimg.com/profile_background_images/82832228/x295eab4b378f4abba2281f41f00a369.png', 'profile_background_image_url_https': 'https://pbs.twimg.com/profile_background_images/82832228/x295eab4b378f4abba2281f41f00a369.png', 'profile_background_tile': True, 'profile_link_color': '0084B4', 'profile_sidebar_border_color': 'A8C7F7', 'profile_sidebar_fill_color': 'C0DFEC', 'profile_text_color': '333333', 'profile_use_background_image': True, 'profile_image_url': 'http://pbs.twimg.com/profile_images/797345320854233089/fC17fd6-_normal.jpg', 'profile_image_url_https': 'https://pbs.twimg.com/profile_images/797345320854233089/fC17fd6-_normal.jpg', 'profile_banner_url': 'https://pbs.twimg.com/profile_banners/15721456/1406021532', 'default_profile': False, 'default_profile_image': False, 'following': None, 'follow_request_sent': None, 'notifications': None}, 'geo': None, 'coordinates': None, 'place': None, 'contributors': None, 'is_quote_status': False, 'quote_count': 45, 'reply_count': 27, 'retweet_count': 2128, 'favorite_count': 4298, 'entities': {'hashtags': [{'text': 'eurovision', 'indices': [58, 69]}], 'urls': [], 'user_mentions': [], 'symbols': [], 'media': [{'id': 995399064211640320, 'id_str': '995399064211640320', 'indices': [70, 93], 'media_url': 'http://pbs.twimg.com/media/DdBeLNAXUAAwlot.jpg', 'media_url_https': 'https://pbs.twimg.com/media/DdBeLNAXUAAwlot.jpg', 'url': 'https://t.co/Cdiea8tk07', 'display_url': 'pic.twitter.com/Cdiea8tk07', 'expanded_url': 'https://twitter.com/scottygb/status/995399148005482501/photo/1', 'type': 'photo', 'sizes': {'thumb': {'w': 150, 'h': 150, 'resize': 'crop'}, 'medium': {'w': 1061, 'h': 597, 'resize': 'fit'}, 'large': {'w': 1061, 'h': 597, 'resize': 'fit'}, 'small': {'w': 680, 'h': 383, 'resize': 'fit'}}}]}, 'extended_entities': {'media': [{'id': 995399064211640320, 'id_str': '995399064211640320', 'indices': [70, 93], 'media_url': 'http://pbs.twimg.com/media/DdBeLNAXUAAwlot.jpg', 'media_url_https': 'https://pbs.twimg.com/media/DdBeLNAXUAAwlot.jpg', 'url': 'https://t.co/Cdiea8tk07', 'display_url': 'pic.twitter.com/Cdiea8tk07', 'expanded_url': 'https://twitter.com/scottygb/status/995399148005482501/photo/1', 'type': 'photo', 'sizes': {'thumb': {'w': 150, 'h': 150, 'resize': 'crop'}, 'medium': {'w': 1061, 'h': 597, 'resize': 'fit'}, 'large': {'w': 1061, 'h': 597, 'resize': 'fit'}, 'small': {'w': 680, 'h': 383, 'resize': 'fit'}}}]}, 'favorited': False, 'retweeted': False, 'possibly_sensitive': False, 'filter_level': 'low', 'lang': 'en'})\n",
      "Tweet(id=995420587106369536, content='Here are the results of the Postduif jury:\\n1 punt Cyprus\\n2 punten Noorwegen\\n3 punten Finland\\n4 punten Israël \\n5 pun… https://t.co/LFnV8zRUaR', author='Postduif_live', language='nl', retweeted_status=False)\n"
     ]
    }
   ],
   "source": [
    "import json, dataclasses\n",
    "\n",
    "tweets = []\n",
    "\n",
    "bucket='mudab-2025-pc1262057'\n",
    "data_key = 'input/Eurovision-08.json'\n",
    "data_location = 's3://{}/{}'.format(bucket, data_key)\n",
    "\n",
    "def parse_line(line: str):\n",
    "  \"\"\"Try to parse a string into a Person\"\"\"\n",
    "  error = 0\n",
    "  try:\n",
    "    parsed = json.loads(line)\n",
    "    return Tweet(parsed['id'], parsed['text'], parsed['user']['name'], parsed['lang'],parsed.get('retweeted_status', False))\n",
    "  except Exception as e:\n",
    "    error += 1    \n",
    "#   print(f\"Error parsing '{line}': {e}\")\n",
    "\n",
    "with s3.open(data_location) as input: #CLIENT S3. CAN READ THE FILE LINE BY LINE\n",
    "  for line in input.readlines():\n",
    "    if len(line.strip()) > 0:\n",
    "      tweet = parse_line(line)\n",
    "      if tweet: # We add only if the tweet is not 'None'\n",
    "         tweets.append(tweet)\n",
    "\n",
    "for modeled_tweet in tweets[0:10]:\n",
    "  print(modeled_tweet)"
   ]
  },
  {
   "cell_type": "markdown",
   "metadata": {
    "tags": []
   },
   "source": [
    "### 9: "
   ]
  },
  {
   "cell_type": "code",
   "execution_count": 40,
   "metadata": {
    "tags": []
   },
   "outputs": [],
   "source": [
    "import s3fs\n",
    "s3 = s3fs.S3FileSystem(anon=False)\n",
    "\n",
    "bucket='mudab-2025-big-data'\n",
    "data_key = 'twitter-data/Eurovision-09.json'\n",
    "data_location = 's3://{}/{}'.format(bucket, data_key)"
   ]
  },
  {
   "cell_type": "code",
   "execution_count": 41,
   "metadata": {
    "tags": []
   },
   "outputs": [
    {
     "name": "stdout",
     "output_type": "stream",
     "text": [
      "Tweet(id=995432738101645313, content='Gospodarze z Portugalii dzisiaj na ostatnim miejscu.\\n#eurovision', author='Tomasz Witowski 🇵🇱', language='pl', retweeted_status=False)\n",
      "Tweet(id=995432738223214593, content='#Eurovision \\n\\nNEJ!!! I følge min mening er hverken Østrig eller Israel de rette vindere....', author='Mihyunie SVT Bunny', language='da', retweeted_status=False)\n",
      "Tweet(id=995432738068029447, content='все пизда, обидно #Eurovision', author=\"цветочек ри' estonia 💙\", language='ru', retweeted_status=False)\n",
      "Tweet(id=995432737736708097, content='incompréhensible l #Eurovision  ex la Moldavie Chypre et d autres', author='oth sisterhood', language='fr', retweeted_status=False)\n",
      "Tweet(id=995432738227458049, content='raga al televoto non ci batte nessuno #escita #Eurovision #socialsybelli', author='Chiara Yuchi', language='it', retweeted_status=False)\n",
      "Tweet(id=995432738252521473, content='все плохо\\n#Eurovision', author='кичи|24', language='ru', retweeted_status=False)\n",
      "Tweet(id=995432738348990467, content='RT @MonicaCarrillo: Necesito un tutorial para entender las votaciones. \\n#Eurovision', author='Sandra de la Fuente', language='es', retweeted_status={'created_at': 'Sat May 12 22:35:40 +0000 2018', 'id': 995432348283015169, 'id_str': '995432348283015169', 'text': 'Necesito un tutorial para entender las votaciones. \\n#Eurovision', 'source': '<a href=\"http://twitter.com/download/iphone\" rel=\"nofollow\">Twitter for iPhone</a>', 'truncated': False, 'in_reply_to_status_id': None, 'in_reply_to_status_id_str': None, 'in_reply_to_user_id': None, 'in_reply_to_user_id_str': None, 'in_reply_to_screen_name': None, 'user': {'id': 195415139, 'id_str': '195415139', 'name': 'Mónica Carrillo', 'screen_name': 'MonicaCarrillo', 'location': 'Madrid, España', 'url': 'http://monicacarrillo.es', 'description': 'Periodista. Presentadora de las #NoticiasFinDeSemanaA3 en Antena 3 #LaLuzDeCandela #OlvidéDecirteQuiero y #ElTiempoTodoLocura Instagram: monica_carrillo__', 'translator_type': 'none', 'protected': False, 'verified': True, 'followers_count': 473251, 'friends_count': 571, 'listed_count': 2457, 'favourites_count': 6719, 'statuses_count': 19341, 'created_at': 'Sun Sep 26 17:03:45 +0000 2010', 'utc_offset': 7200, 'time_zone': 'Belgrade', 'geo_enabled': False, 'lang': 'es', 'contributors_enabled': False, 'is_translator': False, 'profile_background_color': 'C0DEED', 'profile_background_image_url': 'http://abs.twimg.com/images/themes/theme1/bg.png', 'profile_background_image_url_https': 'https://abs.twimg.com/images/themes/theme1/bg.png', 'profile_background_tile': False, 'profile_link_color': '1DA1F2', 'profile_sidebar_border_color': 'C0DEED', 'profile_sidebar_fill_color': 'DDEEF6', 'profile_text_color': '333333', 'profile_use_background_image': True, 'profile_image_url': 'http://pbs.twimg.com/profile_images/446065576574988288/ek4dC6uE_normal.jpeg', 'profile_image_url_https': 'https://pbs.twimg.com/profile_images/446065576574988288/ek4dC6uE_normal.jpeg', 'profile_banner_url': 'https://pbs.twimg.com/profile_banners/195415139/1485434237', 'default_profile': True, 'default_profile_image': False, 'following': None, 'follow_request_sent': None, 'notifications': None}, 'geo': None, 'coordinates': None, 'place': None, 'contributors': None, 'is_quote_status': False, 'quote_count': 0, 'reply_count': 3, 'retweet_count': 78, 'favorite_count': 120, 'entities': {'hashtags': [{'text': 'Eurovision', 'indices': [52, 63]}], 'urls': [], 'user_mentions': [], 'symbols': []}, 'favorited': False, 'retweeted': False, 'filter_level': 'low', 'lang': 'es'})\n",
      "Tweet(id=995432738219053057, content='RT @Nandotte: LE DANEMARK VA REMONTER DE OUF 😍😍😍😍 #Eurovision', author='Saebyul', language='fr', retweeted_status={'created_at': 'Sat May 12 22:36:49 +0000 2018', 'id': 995432637815771136, 'id_str': '995432637815771136', 'text': 'LE DANEMARK VA REMONTER DE OUF 😍😍😍😍 #Eurovision', 'source': '<a href=\"http://twitter.com/download/android\" rel=\"nofollow\">Twitter for Android</a>', 'truncated': False, 'in_reply_to_status_id': None, 'in_reply_to_status_id_str': None, 'in_reply_to_user_id': None, 'in_reply_to_user_id_str': None, 'in_reply_to_screen_name': None, 'user': {'id': 918748128, 'id_str': '918748128', 'name': 'Peppa Nikiforov', 'screen_name': 'Nandotte', 'location': 'Up in the air', 'url': None, 'description': '@Ivraiiyn is my soulmate. Till the end of the line 💖 🌈 - #HufflepuffPride 💛', 'translator_type': 'regular', 'protected': False, 'verified': False, 'followers_count': 261, 'friends_count': 163, 'listed_count': 4, 'favourites_count': 10523, 'statuses_count': 21333, 'created_at': 'Thu Nov 01 10:56:06 +0000 2012', 'utc_offset': 7200, 'time_zone': 'Amsterdam', 'geo_enabled': True, 'lang': 'fr', 'contributors_enabled': False, 'is_translator': False, 'profile_background_color': '000000', 'profile_background_image_url': 'http://pbs.twimg.com/profile_background_images/774243691/56f31fd878f8857660f4fb275218b9ae.jpeg', 'profile_background_image_url_https': 'https://pbs.twimg.com/profile_background_images/774243691/56f31fd878f8857660f4fb275218b9ae.jpeg', 'profile_background_tile': False, 'profile_link_color': '45A1A8', 'profile_sidebar_border_color': '000000', 'profile_sidebar_fill_color': 'DDEEF6', 'profile_text_color': '333333', 'profile_use_background_image': True, 'profile_image_url': 'http://pbs.twimg.com/profile_images/878997096937930754/NOG2zX2z_normal.jpg', 'profile_image_url_https': 'https://pbs.twimg.com/profile_images/878997096937930754/NOG2zX2z_normal.jpg', 'profile_banner_url': 'https://pbs.twimg.com/profile_banners/918748128/1482942310', 'default_profile': False, 'default_profile_image': False, 'following': None, 'follow_request_sent': None, 'notifications': None}, 'geo': None, 'coordinates': None, 'place': None, 'contributors': None, 'is_quote_status': False, 'quote_count': 0, 'reply_count': 0, 'retweet_count': 1, 'favorite_count': 1, 'entities': {'hashtags': [{'text': 'Eurovision', 'indices': [36, 47]}], 'urls': [], 'user_mentions': [], 'symbols': []}, 'favorited': False, 'retweeted': False, 'filter_level': 'low', 'lang': 'fr'})\n",
      "Tweet(id=995432738432999424, content='MOLDAVIA SÍ SEÑOR. \\n#Eurovision', author='rata topo eurovisiva', language='es', retweeted_status=False)\n",
      "Tweet(id=995432738349076480, content='RT @jula_moonlight: Ten konkurs jest popierdolony #Eurovision', author='carmen', language='pl', retweeted_status={'created_at': 'Sat May 12 22:36:38 +0000 2018', 'id': 995432592622215169, 'id_str': '995432592622215169', 'text': 'Ten konkurs jest popierdolony #Eurovision', 'source': '<a href=\"http://twitter.com/download/android\" rel=\"nofollow\">Twitter for Android</a>', 'truncated': False, 'in_reply_to_status_id': None, 'in_reply_to_status_id_str': None, 'in_reply_to_user_id': None, 'in_reply_to_user_id_str': None, 'in_reply_to_screen_name': None, 'user': {'id': 828180620413112320, 'id_str': '828180620413112320', 'name': 'Życiowy Przegryw', 'screen_name': 'jula_moonlight', 'location': 'Chcę do Norwegii ', 'url': None, 'description': 'Kto dzbanem się urodził, wazonem nie zostanie    S.M /A. G/ E. S      12.08.➡️ Ed Sheeran        21.04-22.04 lgp  /fan account\\n#skijumpingfamily', 'translator_type': 'none', 'protected': False, 'verified': False, 'followers_count': 883, 'friends_count': 717, 'listed_count': 12, 'favourites_count': 20224, 'statuses_count': 12583, 'created_at': 'Sun Feb 05 09:57:01 +0000 2017', 'utc_offset': None, 'time_zone': None, 'geo_enabled': False, 'lang': 'pl', 'contributors_enabled': False, 'is_translator': False, 'profile_background_color': 'F5F8FA', 'profile_background_image_url': '', 'profile_background_image_url_https': '', 'profile_background_tile': False, 'profile_link_color': '1DA1F2', 'profile_sidebar_border_color': 'C0DEED', 'profile_sidebar_fill_color': 'DDEEF6', 'profile_text_color': '333333', 'profile_use_background_image': True, 'profile_image_url': 'http://pbs.twimg.com/profile_images/993532503448268801/jR2K0rpt_normal.jpg', 'profile_image_url_https': 'https://pbs.twimg.com/profile_images/993532503448268801/jR2K0rpt_normal.jpg', 'profile_banner_url': 'https://pbs.twimg.com/profile_banners/828180620413112320/1525711583', 'default_profile': True, 'default_profile_image': False, 'following': None, 'follow_request_sent': None, 'notifications': None}, 'geo': None, 'coordinates': None, 'place': None, 'contributors': None, 'is_quote_status': False, 'quote_count': 0, 'reply_count': 0, 'retweet_count': 1, 'favorite_count': 0, 'entities': {'hashtags': [{'text': 'Eurovision', 'indices': [30, 41]}], 'urls': [], 'user_mentions': [], 'symbols': []}, 'favorited': False, 'retweeted': False, 'filter_level': 'low', 'lang': 'pl'})\n"
     ]
    }
   ],
   "source": [
    "import json, dataclasses\n",
    "\n",
    "tweets = []\n",
    "\n",
    "bucket='mudab-2025-pc1262057'\n",
    "data_key = 'input/Eurovision-09.json'\n",
    "data_location = 's3://{}/{}'.format(bucket, data_key)\n",
    "\n",
    "def parse_line(line: str):\n",
    "  \"\"\"Try to parse a string into a Person\"\"\"\n",
    "  error = 0\n",
    "  try:\n",
    "    parsed = json.loads(line)\n",
    "    return Tweet(parsed['id'], parsed['text'], parsed['user']['name'], parsed['lang'],parsed.get('retweeted_status', False))\n",
    "  except Exception as e:\n",
    "    error += 1    \n",
    "#   print(f\"Error parsing '{line}': {e}\")\n",
    "\n",
    "with s3.open(data_location) as input: #CLIENT S3. CAN READ THE FILE LINE BY LINE\n",
    "  for line in input.readlines():\n",
    "    if len(line.strip()) > 0:\n",
    "      tweet = parse_line(line)\n",
    "      if tweet: # We add only if the tweet is not 'None'\n",
    "         tweets.append(tweet)\n",
    "\n",
    "for modeled_tweet in tweets[0:10]:\n",
    "  print(modeled_tweet)"
   ]
  }
 ],
 "metadata": {
  "colab": {
   "provenance": []
  },
  "kernelspec": {
   "display_name": "conda_python3",
   "language": "python",
   "name": "conda_python3"
  },
  "language_info": {
   "codemirror_mode": {
    "name": "ipython",
    "version": 3
   },
   "file_extension": ".py",
   "mimetype": "text/x-python",
   "name": "python",
   "nbconvert_exporter": "python",
   "pygments_lexer": "ipython3",
   "version": "3.10.16"
  }
 },
 "nbformat": 4,
 "nbformat_minor": 4
}
