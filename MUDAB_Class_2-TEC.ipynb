{
 "cells": [
  {
   "cell_type": "markdown",
   "metadata": {
    "id": "7e3SpPNdP8As"
   },
   "source": [
    "# Clase 2 - Contestar a preguntas sencillas sobre datos\n",
    "\n",
    "## Objetivos\n",
    "\n",
    "Utilizar datos reales y crear código para contestar preguntas sobre el conjunto.\n",
    "\n",
    "### Pasos\n",
    "\n",
    "1. leer el input (1 json per línea)\n",
    "2. modelar cada línea correcta en una data class que represente a un Tweet \n",
    "3. contestar preguntas sobre el conjunto de datos obtenidos"
   ]
  },
  {
   "cell_type": "markdown",
   "metadata": {
    "id": "VUrEnRQ5zTd8"
   },
   "source": [
    "## Repaso de Python: I/O con ficheros"
   ]
  },
  {
   "cell_type": "markdown",
   "metadata": {
    "id": "0sfVIfxzrZqc"
   },
   "source": [
    "### Escribir ficheros\n",
    "\n",
    "El siguiente snippet de código muestra como escribir un fichero (observen la `w` - de *write* - como segundo argumento del método `open`)\n",
    "Además, observen el carater espeecial `\\n` para insertar un final de línea. \n",
    "\n",
    "\n",
    "```python\n",
    "with open('/some/path/to/a/file', 'w') as f:\n",
    "  f.writeline(\"a line\\n\")\n",
    "```"
   ]
  },
  {
   "cell_type": "code",
   "execution_count": 2,
   "metadata": {
    "id": "UbftQULFrw4U",
    "tags": []
   },
   "outputs": [],
   "source": [
    "with open('/tmp/test-file.txt', 'w') as input:\n",
    "  input.write(\"test1\\n\")\n",
    "  input.write(\"test2\\n\")\n",
    "  input.writelines([\"test3\\n\", 'test4\\n'])\n"
   ]
  },
  {
   "cell_type": "markdown",
   "metadata": {
    "id": "WmvTH93QqYgL"
   },
   "source": [
    "### Leer ficheros\n",
    "\n",
    "El siguiente snippet de código muestra como leer un fichero (observen la `r` - de *read* - como segundo argumento del método `open`)\n",
    "\n",
    "\n",
    "```python\n",
    "with open('/some/path/to/a/file', 'r') as f:\n",
    "  line = f.readline()\n",
    "```"
   ]
  },
  {
   "cell_type": "markdown",
   "metadata": {
    "id": "MpWGCgaQtEn9"
   },
   "source": [
    "### Leer linea por línea\n",
    "\n",
    "Es la manera recomendada en leer ficheros grandes en Python, para evitar de mantener todo el fichero en memoria, que es un recurso escaso. "
   ]
  },
  {
   "cell_type": "code",
   "execution_count": 3,
   "metadata": {
    "colab": {
     "base_uri": "https://localhost:8080/"
    },
    "id": "I1sHXcTssEzp",
    "outputId": "f12fa8a5-b896-4fe9-ea22-5409c49b13a1",
    "tags": []
   },
   "outputs": [
    {
     "name": "stdout",
     "output_type": "stream",
     "text": [
      "test1\n",
      "test2\n",
      "test3\n",
      "test4\n"
     ]
    }
   ],
   "source": [
    "with open('/tmp/test-file.txt', 'r') as f:\n",
    "    for line in f:\n",
    "      print(line.rstrip())"
   ]
  },
  {
   "cell_type": "markdown",
   "metadata": {},
   "source": [
    "### Leer solo las primeras N líneas\n",
    "\n",
    "Puede ser útil para explorar los ficheros de input y hacerse una idea de la forma de los datos "
   ]
  },
  {
   "cell_type": "code",
   "execution_count": 5,
   "metadata": {
    "tags": []
   },
   "outputs": [
    {
     "name": "stdout",
     "output_type": "stream",
     "text": [
      "test1\n",
      "test2\n",
      "test3\n"
     ]
    }
   ],
   "source": [
    "with open('/tmp/test-file.txt', 'r') as f:\n",
    "    ## Lee cada línea (next) para cada elemento de una lista de 0 a N y añadela a la lista head\n",
    "    head = [next(f).rstrip() for _ in range(3)]\n",
    "    ## Imprime una línea por cada línea en head (que es una lista) \n",
    "    [print(line) for line in head]\n"
   ]
  },
  {
   "cell_type": "markdown",
   "metadata": {
    "id": "9nMLMr9Ks5_D"
   },
   "source": [
    "# ETL (Extract, transform, Load)\n",
    "\n",
    "\n"
   ]
  },
  {
   "cell_type": "markdown",
   "metadata": {
    "tags": []
   },
   "source": [
    "### Estudiar el input\n",
    "\n",
    "Descargamos el fichero `mini_input.txt` y lo subimos a nuestro entorno Jupyter. Procedemos a explorarlo, leendo las primeras líneas del mismo. "
   ]
  },
  {
   "cell_type": "code",
   "execution_count": 6,
   "metadata": {
    "tags": []
   },
   "outputs": [
    {
     "name": "stdout",
     "output_type": "stream",
     "text": [
      "{\"created_at\":\"Sat May 12 15:58:53 +0000 2018\",\"id\":995332494974210048,\"id_str\":\"995332494974210048\",\"text\":\"RT @carloscarmo98: -Manel, algo que decir sobre tu actuaci\\u00f3n en Eurovision?\\n-Kikiriketediga https:\\/\\/t.co\\/yXGYtKmJoM\",\"source\":\"\\u003ca href=\\\"http:\\/\\/twitter.com\\/download\\/android\\\" rel=\\\"nofollow\\\"\\u003eTwitter for Android\\u003c\\/a\\u003e\",\"truncated\":false,\"in_reply_to_status_id\":null,\"in_reply_to_status_id_str\":null,\"in_reply_to_user_id\":null,\"in_reply_to_user_id_str\":null,\"in_reply_to_screen_name\":null,\"user\":{\"id\":492271155,\"id_str\":\"492271155\",\"name\":\"alba aguirre\",\"screen_name\":\"Alba137\",\"location\":\"en pleno akelarre\",\"url\":null,\"description\":\"no todo lo que brilla es oro, a veces es highlight \\u2728\\ud83d\\udc9c\",\"translator_type\":\"regular\",\"protected\":false,\"verified\":false,\"followers_count\":718,\"friends_count\":416,\"listed_count\":2,\"favourites_count\":24718,\"statuses_count\":21764,\"created_at\":\"Tue Feb 14 14:46:34 +0000 2012\",\"utc_offset\":10800,\"time_zone\":\"Athens\",\"geo_enabled\":true,\"lang\":\"es\",\"contributors_enabled\":false,\"is_translator\":false,\"profile_background_color\":\"C0DEED\",\"profile_background_image_url\":\"http:\\/\\/pbs.twimg.com\\/profile_background_images\\/623739463202684928\\/vjeMtHPV.jpg\",\"profile_background_image_url_https\":\"https:\\/\\/pbs.twimg.com\\/profile_background_images\\/623739463202684928\\/vjeMtHPV.jpg\",\"profile_background_tile\":true,\"profile_link_color\":\"00B371\",\"profile_sidebar_border_color\":\"000000\",\"profile_sidebar_fill_color\":\"DDEEF6\",\"profile_text_color\":\"333333\",\"profile_use_background_image\":true,\"profile_image_url\":\"http:\\/\\/pbs.twimg.com\\/profile_images\\/992694287451217920\\/v3dvIg9N_normal.jpg\",\"profile_image_url_https\":\"https:\\/\\/pbs.twimg.com\\/profile_images\\/992694287451217920\\/v3dvIg9N_normal.jpg\",\"profile_banner_url\":\"https:\\/\\/pbs.twimg.com\\/profile_banners\\/492271155\\/1516449879\",\"default_profile\":false,\"default_profile_image\":false,\"following\":null,\"follow_request_sent\":null,\"notifications\":null},\"geo\":null,\"coordinates\":null,\"place\":null,\"contributors\":null,\"retweeted_status\":{\"created_at\":\"Sat May 13 20:57:18 +0000 2017\",\"id\":863498411517108224,\"id_str\":\"863498411517108224\",\"text\":\"-Manel, algo que decir sobre tu actuaci\\u00f3n en Eurovision?\\n-Kikiriketediga https:\\/\\/t.co\\/yXGYtKmJoM\",\"display_text_range\":[0,72],\"source\":\"\\u003ca href=\\\"http:\\/\\/twitter.com\\/download\\/android\\\" rel=\\\"nofollow\\\"\\u003eTwitter for Android\\u003c\\/a\\u003e\",\"truncated\":false,\"in_reply_to_status_id\":null,\"in_reply_to_status_id_str\":null,\"in_reply_to_user_id\":null,\"in_reply_to_user_id_str\":null,\"in_reply_to_screen_name\":null,\"user\":{\"id\":1651197529,\"id_str\":\"1651197529\",\"name\":\"Carlos Carmona\",\"screen_name\":\"carloscarmo98\",\"location\":\"Logro\\u00f1o, Espa\\u00f1a\",\"url\":null,\"description\":\"Estudiante de Geograf\\u00eda e Historia y seguidor del Valencia C.F. Nacido en Villanueva de la Serena, Extremadura, y viviendo en Logro\\u00f1o\",\"translator_type\":\"none\",\"protected\":false,\"verified\":false,\"followers_count\":155,\"friends_count\":108,\"listed_count\":0,\"favourites_count\":1100,\"statuses_count\":1857,\"created_at\":\"Tue Aug 06 20:28:56 +0000 2013\",\"utc_offset\":null,\"time_zone\":null,\"geo_enabled\":false,\"lang\":\"es\",\"contributors_enabled\":false,\"is_translator\":false,\"profile_background_color\":\"C0DEED\",\"profile_background_image_url\":\"http:\\/\\/abs.twimg.com\\/images\\/themes\\/theme1\\/bg.png\",\"profile_background_image_url_https\":\"https:\\/\\/abs.twimg.com\\/images\\/themes\\/theme1\\/bg.png\",\"profile_background_tile\":false,\"profile_link_color\":\"1DA1F2\",\"profile_sidebar_border_color\":\"C0DEED\",\"profile_sidebar_fill_color\":\"DDEEF6\",\"profile_text_color\":\"333333\",\"profile_use_background_image\":true,\"profile_image_url\":\"http:\\/\\/pbs.twimg.com\\/profile_images\\/924184485771522048\\/MGfUXALI_normal.jpg\",\"profile_image_url_https\":\"https:\\/\\/pbs.twimg.com\\/profile_images\\/924184485771522048\\/MGfUXALI_normal.jpg\",\"profile_banner_url\":\"https:\\/\\/pbs.twimg.com\\/profile_banners\\/1651197529\\/1498818908\",\"default_profile\":true,\"default_profile_image\":false,\"following\":null,\"follow_request_sent\":null,\"notifications\":null},\"geo\":null,\"coordinates\":null,\"place\":null,\"contributors\":null,\"is_quote_status\":false,\"quote_count\":63,\"reply_count\":17,\"retweet_count\":2945,\"favorite_count\":2568,\"entities\":{\"hashtags\":[],\"urls\":[],\"user_mentions\":[],\"symbols\":[],\"media\":[{\"id\":863498400314126342,\"id_str\":\"863498400314126342\",\"indices\":[73,96],\"media_url\":\"http:\\/\\/pbs.twimg.com\\/media\\/C_vDOFbXcAYRKXK.jpg\",\"media_url_https\":\"https:\\/\\/pbs.twimg.com\\/media\\/C_vDOFbXcAYRKXK.jpg\",\"url\":\"https:\\/\\/t.co\\/yXGYtKmJoM\",\"display_url\":\"pic.twitter.com\\/yXGYtKmJoM\",\"expanded_url\":\"https:\\/\\/twitter.com\\/carloscarmo98\\/status\\/863498411517108224\\/photo\\/1\",\"type\":\"photo\",\"sizes\":{\"thumb\":{\"w\":150,\"h\":150,\"resize\":\"crop\"},\"small\":{\"w\":680,\"h\":519,\"resize\":\"fit\"},\"medium\":{\"w\":1078,\"h\":823,\"resize\":\"fit\"},\"large\":{\"w\":1078,\"h\":823,\"resize\":\"fit\"}}}]},\"extended_entities\":{\"media\":[{\"id\":863498400314126342,\"id_str\":\"863498400314126342\",\"indices\":[73,96],\"media_url\":\"http:\\/\\/pbs.twimg.com\\/media\\/C_vDOFbXcAYRKXK.jpg\",\"media_url_https\":\"https:\\/\\/pbs.twimg.com\\/media\\/C_vDOFbXcAYRKXK.jpg\",\"url\":\"https:\\/\\/t.co\\/yXGYtKmJoM\",\"display_url\":\"pic.twitter.com\\/yXGYtKmJoM\",\"expanded_url\":\"https:\\/\\/twitter.com\\/carloscarmo98\\/status\\/863498411517108224\\/photo\\/1\",\"type\":\"photo\",\"sizes\":{\"thumb\":{\"w\":150,\"h\":150,\"resize\":\"crop\"},\"small\":{\"w\":680,\"h\":519,\"resize\":\"fit\"},\"medium\":{\"w\":1078,\"h\":823,\"resize\":\"fit\"},\"large\":{\"w\":1078,\"h\":823,\"resize\":\"fit\"}}}]},\"favorited\":false,\"retweeted\":false,\"possibly_sensitive\":false,\"filter_level\":\"low\",\"lang\":\"es\"},\"is_quote_status\":false,\"quote_count\":0,\"reply_count\":0,\"retweet_count\":0,\"favorite_count\":0,\"entities\":{\"hashtags\":[],\"urls\":[],\"user_mentions\":[{\"screen_name\":\"carloscarmo98\",\"name\":\"Carlos Carmona\",\"id\":1651197529,\"id_str\":\"1651197529\",\"indices\":[3,17]}],\"symbols\":[],\"media\":[{\"id\":863498400314126342,\"id_str\":\"863498400314126342\",\"indices\":[92,115],\"media_url\":\"http:\\/\\/pbs.twimg.com\\/media\\/C_vDOFbXcAYRKXK.jpg\",\"media_url_https\":\"https:\\/\\/pbs.twimg.com\\/media\\/C_vDOFbXcAYRKXK.jpg\",\"url\":\"https:\\/\\/t.co\\/yXGYtKmJoM\",\"display_url\":\"pic.twitter.com\\/yXGYtKmJoM\",\"expanded_url\":\"https:\\/\\/twitter.com\\/carloscarmo98\\/status\\/863498411517108224\\/photo\\/1\",\"type\":\"photo\",\"sizes\":{\"thumb\":{\"w\":150,\"h\":150,\"resize\":\"crop\"},\"small\":{\"w\":680,\"h\":519,\"resize\":\"fit\"},\"medium\":{\"w\":1078,\"h\":823,\"resize\":\"fit\"},\"large\":{\"w\":1078,\"h\":823,\"resize\":\"fit\"}},\"source_status_id\":863498411517108224,\"source_status_id_str\":\"863498411517108224\",\"source_user_id\":1651197529,\"source_user_id_str\":\"1651197529\"}]},\"extended_entities\":{\"media\":[{\"id\":863498400314126342,\"id_str\":\"863498400314126342\",\"indices\":[92,115],\"media_url\":\"http:\\/\\/pbs.twimg.com\\/media\\/C_vDOFbXcAYRKXK.jpg\",\"media_url_https\":\"https:\\/\\/pbs.twimg.com\\/media\\/C_vDOFbXcAYRKXK.jpg\",\"url\":\"https:\\/\\/t.co\\/yXGYtKmJoM\",\"display_url\":\"pic.twitter.com\\/yXGYtKmJoM\",\"expanded_url\":\"https:\\/\\/twitter.com\\/carloscarmo98\\/status\\/863498411517108224\\/photo\\/1\",\"type\":\"photo\",\"sizes\":{\"thumb\":{\"w\":150,\"h\":150,\"resize\":\"crop\"},\"small\":{\"w\":680,\"h\":519,\"resize\":\"fit\"},\"medium\":{\"w\":1078,\"h\":823,\"resize\":\"fit\"},\"large\":{\"w\":1078,\"h\":823,\"resize\":\"fit\"}},\"source_status_id\":863498411517108224,\"source_status_id_str\":\"863498411517108224\",\"source_user_id\":1651197529,\"source_user_id_str\":\"1651197529\"}]},\"favorited\":false,\"retweeted\":false,\"possibly_sensitive\":false,\"filter_level\":\"low\",\"lang\":\"es\",\"timestamp_ms\":\"1526140733842\"}\n",
      "\n",
      "{\"created_at\":\"Sat May 12 15:58:54 +0000 2018\",\"id\":995332495783727105,\"id_str\":\"995332495783727105\",\"text\":\"RT @DougJ7777: If Britain wins #Eurovision then we have to rejoin the EU. It's in the rules. #Eurovision2018\",\"source\":\"\\u003ca href=\\\"http:\\/\\/twitter.com\\/download\\/android\\\" rel=\\\"nofollow\\\"\\u003eTwitter for Android\\u003c\\/a\\u003e\",\"truncated\":false,\"in_reply_to_status_id\":null,\"in_reply_to_status_id_str\":null,\"in_reply_to_user_id\":null,\"in_reply_to_user_id_str\":null,\"in_reply_to_screen_name\":null,\"user\":{\"id\":295119361,\"id_str\":\"295119361\",\"name\":\"Doug\",\"screen_name\":\"DougJ7777\",\"location\":\"Newcastle\",\"url\":null,\"description\":\"'If we find in ourselves a desire which nothing on earth can satisfy, the only explanation is that we were made for another world' - CS Lewis\",\"translator_type\":\"none\",\"protected\":false,\"verified\":false,\"followers_count\":967,\"friends_count\":1564,\"listed_count\":6,\"favourites_count\":12087,\"statuses_count\":9294,\"created_at\":\"Sun May 08 12:01:06 +0000 2011\",\"utc_offset\":null,\"time_zone\":null,\"geo_enabled\":true,\"lang\":\"en\",\"contributors_enabled\":false,\"is_translator\":false,\"profile_background_color\":\"C0DEED\",\"profile_background_image_url\":\"http:\\/\\/abs.twimg.com\\/images\\/themes\\/theme1\\/bg.png\",\"profile_background_image_url_https\":\"https:\\/\\/abs.twimg.com\\/images\\/themes\\/theme1\\/bg.png\",\"profile_background_tile\":false,\"profile_link_color\":\"1DA1F2\",\"profile_sidebar_border_color\":\"C0DEED\",\"profile_sidebar_fill_color\":\"DDEEF6\",\"profile_text_color\":\"333333\",\"profile_use_background_image\":true,\"profile_image_url\":\"http:\\/\\/pbs.twimg.com\\/profile_images\\/981507339323920387\\/H76UOiji_normal.jpg\",\"profile_image_url_https\":\"https:\\/\\/pbs.twimg.com\\/profile_images\\/981507339323920387\\/H76UOiji_normal.jpg\",\"profile_banner_url\":\"https:\\/\\/pbs.twimg.com\\/profile_banners\\/295119361\\/1523786878\",\"default_profile\":true,\"default_profile_image\":false,\"following\":null,\"follow_request_sent\":null,\"notifications\":null},\"geo\":null,\"coordinates\":null,\"place\":null,\"contributors\":null,\"retweeted_status\":{\"created_at\":\"Sat May 12 15:58:17 +0000 2018\",\"id\":995332342712586240,\"id_str\":\"995332342712586240\",\"text\":\"If Britain wins #Eurovision then we have to rejoin the EU. It's in the rules. #Eurovision2018\",\"source\":\"\\u003ca href=\\\"http:\\/\\/twitter.com\\/download\\/android\\\" rel=\\\"nofollow\\\"\\u003eTwitter for Android\\u003c\\/a\\u003e\",\"truncated\":false,\"in_reply_to_status_id\":null,\"in_reply_to_status_id_str\":null,\"in_reply_to_user_id\":null,\"in_reply_to_user_id_str\":null,\"in_reply_to_screen_name\":null,\"user\":{\"id\":295119361,\"id_str\":\"295119361\",\"name\":\"Doug\",\"screen_name\":\"DougJ7777\",\"location\":\"Newcastle\",\"url\":null,\"description\":\"'If we find in ourselves a desire which nothing on earth can satisfy, the only explanation is that we were made for another world' - CS Lewis\",\"translator_type\":\"none\",\"protected\":false,\"verified\":false,\"followers_count\":967,\"friends_count\":1564,\"listed_count\":6,\"favourites_count\":12087,\"statuses_count\":9293,\"created_at\":\"Sun May 08 12:01:06 +0000 2011\",\"utc_offset\":null,\"time_zone\":null,\"geo_enabled\":true,\"lang\":\"en\",\"contributors_enabled\":false,\"is_translator\":false,\"profile_background_color\":\"C0DEED\",\"profile_background_image_url\":\"http:\\/\\/abs.twimg.com\\/images\\/themes\\/theme1\\/bg.png\",\"profile_background_image_url_https\":\"https:\\/\\/abs.twimg.com\\/images\\/themes\\/theme1\\/bg.png\",\"profile_background_tile\":false,\"profile_link_color\":\"1DA1F2\",\"profile_sidebar_border_color\":\"C0DEED\",\"profile_sidebar_fill_color\":\"DDEEF6\",\"profile_text_color\":\"333333\",\"profile_use_background_image\":true,\"profile_image_url\":\"http:\\/\\/pbs.twimg.com\\/profile_images\\/981507339323920387\\/H76UOiji_normal.jpg\",\"profile_image_url_https\":\"https:\\/\\/pbs.twimg.com\\/profile_images\\/981507339323920387\\/H76UOiji_normal.jpg\",\"profile_banner_url\":\"https:\\/\\/pbs.twimg.com\\/profile_banners\\/295119361\\/1523786878\",\"default_profile\":true,\"default_profile_image\":false,\"following\":null,\"follow_request_sent\":null,\"notifications\":null},\"geo\":null,\"coordinates\":null,\"place\":{\"id\":\"7bd9298983681ec3\",\"url\":\"https:\\/\\/api.twitter.com\\/1.1\\/geo\\/id\\/7bd9298983681ec3.json\",\"place_type\":\"city\",\"name\":\"Sunderland\",\"full_name\":\"Sunderland, England\",\"country_code\":\"GB\",\"country\":\"United Kingdom\",\"bounding_box\":{\"type\":\"Polygon\",\"coordinates\":[[[-1.416610,54.858852],[-1.416610,54.939633],[-1.354122,54.939633],[-1.354122,54.858852]]]},\"attributes\":{}},\"contributors\":null,\"is_quote_status\":false,\"quote_count\":0,\"reply_count\":0,\"retweet_count\":2,\"favorite_count\":2,\"entities\":{\"hashtags\":[{\"text\":\"Eurovision\",\"indices\":[16,27]},{\"text\":\"Eurovision2018\",\"indices\":[78,93]}],\"urls\":[],\"user_mentions\":[],\"symbols\":[]},\"favorited\":false,\"retweeted\":false,\"filter_level\":\"low\",\"lang\":\"en\"},\"is_quote_status\":false,\"quote_count\":0,\"reply_count\":0,\"retweet_count\":0,\"favorite_count\":0,\"entities\":{\"hashtags\":[{\"text\":\"Eurovision\",\"indices\":[31,42]},{\"text\":\"Eurovision2018\",\"indices\":[93,108]}],\"urls\":[],\"user_mentions\":[{\"screen_name\":\"DougJ7777\",\"name\":\"Doug\",\"id\":295119361,\"id_str\":\"295119361\",\"indices\":[3,13]}],\"symbols\":[]},\"favorited\":false,\"retweeted\":false,\"filter_level\":\"low\",\"lang\":\"en\",\"timestamp_ms\":\"1526140734035\"}\n"
     ]
    }
   ],
   "source": [
    "with open('mini_input.txt', 'r') as f:\n",
    "    head = [next(f).rstrip() for _ in range(3)]\n",
    "    [print(line) for line in head]\n"
   ]
  },
  {
   "cell_type": "markdown",
   "metadata": {
    "id": "v5MGuGGFJy2-"
   },
   "source": [
    "## Modelizar Tweets\n",
    "\n",
    "Representar un Tweet dentro de una dataclass de python. Desde el input de arriba sabemos que: \n",
    "- el input es en formato JSON \n",
    "- contiene muchos campos, por lo tanto seleccionaremos algunos relevantes, u ignoraremos los otros"
   ]
  },
  {
   "cell_type": "code",
   "execution_count": 8,
   "metadata": {
    "id": "BF2lAty2c4yy",
    "tags": []
   },
   "outputs": [],
   "source": [
    "from dataclasses import dataclass\n",
    "\n",
    "@dataclass\n",
    "class Tweet:\n",
    "  \"\"\"Class to model a Tweet\"\"\"\n",
    "  id: int         # The unique ID of a tweet\n",
    "  content: str    # The textual content of a tweet\n",
    "  author: str     # The nickname of the author of the tweet\n",
    "  language: str   # The language of the tweet\n"
   ]
  },
  {
   "cell_type": "markdown",
   "metadata": {},
   "source": [
    "En el código siguiente, el método `parse_line` se ocupa de interpretar una línea de input como JSON, y de mapear cada línea en una instancia de la dataclass `Tweet`. \n",
    "\n",
    "De momento, aunque no se recomiende para inputs de gran tamaño, almacenaremos **todos** los Tweets en una lista `tweets`, que escribiremos en un fichero `clean-dataset`. \n",
    "\n",
    "Completamos juntos *en clase* el código del método `parse_line`. "
   ]
  },
  {
   "cell_type": "code",
   "execution_count": 10,
   "metadata": {
    "colab": {
     "base_uri": "https://localhost:8080/"
    },
    "id": "ghv9ixwmcbk9",
    "outputId": "d8197cee-9cc9-4904-ec91-509748ce6ecb",
    "tags": []
   },
   "outputs": [],
   "source": [
    "import json, dataclasses\n",
    "\n",
    "tweets = []\n",
    "\n",
    "def parse_line(line: str):\n",
    "  \"\"\"Try to parse a string into a Person\"\"\"\n",
    "  try:\n",
    "    parsed = json.loads(line)\n",
    "    return Tweet(parsed['id'], parsed['text'], parsed['user']['screen_name'], parsed['lang'])\n",
    "  except Exception as e:\n",
    "    print(f\"Error parsing '{line}': {e}\")\n",
    "\n",
    "with open(\"mini_input.txt\") as input:\n",
    "    for line in input:\n",
    "        if len(line.rstrip()) > 0:\n",
    "          tweet = parse_line(line)\n",
    "          tweets.append(tweet)\n",
    "\n",
    "#print(tweets)\n",
    "\n",
    "with open(\"clean-dataset\", 'w') as f:\n",
    " tweet_strings = map(lambda x: json.dumps(dataclasses.asdict(x)) + '\\n', tweets)\n",
    " f.writelines(tweet_strings)\n"
   ]
  },
  {
   "cell_type": "code",
   "execution_count": null,
   "metadata": {
    "colab": {
     "base_uri": "https://localhost:8080/"
    },
    "id": "apozej9_LL6l",
    "outputId": "2f4341bc-df83-4824-b9ef-2670c8938c47",
    "tags": []
   },
   "outputs": [],
   "source": [
    "for modeled_tweet in tweets[0:10]:\n",
    "  print(modeled_tweet)"
   ]
  },
  {
   "cell_type": "markdown",
   "metadata": {
    "id": "e4PHW8O8wbCO"
   },
   "source": [
    "# Responder preguntas sobre datos\n",
    "\n",
    "Desde nuestro dataset limpio `clean_input` podemos ahora intentar responder a preguntas concretas, por ejemplo:\n",
    "\n",
    "1. Cuántos tweets hay en nuestro fichero `mini_input.txt`? \n",
    "2. Cuántos de estos tweets son en español? Y cuantos son en inglés? \n",
    "3. Cual es la palabra más significativa de los tweets en castellano? "
   ]
  },
  {
   "cell_type": "code",
   "execution_count": 21,
   "metadata": {
    "colab": {
     "base_uri": "https://localhost:8080/"
    },
    "id": "0M228jcmOWBS",
    "outputId": "2ccaa550-be80-465f-dfa4-3744cda48797",
    "tags": []
   },
   "outputs": [
    {
     "name": "stdout",
     "output_type": "stream",
     "text": [
      "[Tweet(id=995332494974210048, content='RT @carloscarmo98: -Manel, algo que decir sobre tu actuación en Eurovision?\\n-Kikiriketediga https://t.co/yXGYtKmJoM', author='Alba137', language='es'), Tweet(id=995332495783727105, content=\"RT @DougJ7777: If Britain wins #Eurovision then we have to rejoin the EU. It's in the rules. #Eurovision2018\", author='DougJ7777', language='en')]\n",
      "1000\n",
      "236\n",
      "{'RT': 17, 'e': 12, '-': 9, '@MetaErmal': 8, 'in': 8, 'il': 7, '@FabrizioMoroOff': 6, 'di': 6, 'a': 5, 'Song': 5, 'Contest': 5, 'Eurovision': 5, 'che': 5, 'per': 5, '#Eurovision': 5, 'è': 4, '#ESC2018': 4, 'Stasera': 4, 'la': 4, 'con': 4, 'si': 3, 'sera': 3, 'ci': 3, 'non': 3, '#MetaMoro': 3, 'Ermal': 3, '#ESCITA': 2, 'poche': 2, 'ore': 2, 'delle': 2, 'gara': 2, 'c…': 2, 'può': 2, 'ht…': 2, 'gli': 2, '@ElisaDospina:': 2, 'Si': 2, 'le': 2, 'più': 2, 'Meta': 2, 'Fabrizio': 2, 'della': 2, 'questo': 2, 'video': 2, 'DEL': 2, 'vi': 2, 'tv': 2, '12': 2, 'maggio': 2, '2018': 2, 'Amici,': 2, 'Ulisse': 2, 'Il': 2, '@eurofestivalit:': 1, 'Intervista': 1, 'ad': 1, ':': 1, '“Partecipare': 1, 'all’#Eurovision': 1, 'fantastico!”': 1, '#NonMiAveteF…': 1, 'Ottimo': 1, 'consiglio': 1, '@ElisaDospina': 1, 'dalla': 1, 'finalissima,': 1, 'un': 1, 'riepilogo': 1, '43': 1, 'canzoni': 1, \"all'…\": 1, 'https://t.co/rCPughuDyA': 1, '@RaiRadio2:': 1, 'tifiamo': 1, \"all'@Eurovision!\\n\\nSegui\": 1, 'diretta': 1, '@RaiUno': 1, 'noi': 1, '#Radio2': 1, 'dalle': 1, '20:30': 1, 'Rappresentazione': 1, '\"plastica\"': 1, 'eurovision': 1, 'de:': 1, '#lammerda': 1, '💩': 1, 'https://t.co/2bym1Ce8bL': 1, '@TIM_Official:': 1, 'Dopo': 1, 'aver': 1, 'emozionato': 1, 'pubblico': 1, \"dell'@Eurovision\": 1, 'Lisbona': 1, 'preparano': 1, 'in…': 1, '2016': 1, 'Francesca': 1, 'Michielin': 1, 'No': 1, 'Degree': 1, 'Of': 1, 'Separation': 1, '(Italy)': 1, 'https://t.co/g6laCYxF5a': 1, 'via': 1, '@YouTube': 1, 'raga': 1, 'ma': 1, 'una': 1, 'cosa...\\nsta': 1, 'finisce': 1, 'tutto\\nCOME': 1, 'STRA': 1, 'CAZZO': 1, 'SOPRAVVIVIAMO': 1, 'NOI?': 1, '\\n#MetaMoro': 1, '#MetaMoroESC2018…': 1, 'https://t.co/U7Slprg8K9': 1, '@pirandellama:': 1, \"L'HA\": 1, 'DETTO:': 1, '\"TRANSLATION': 1, 'IS': 1, 'LIKE': 1, 'A': 1, 'BETRAYAL\"\\nOra': 1, 'sua': 1, 'missione': 1, \"all'Eurovision\": 1, 'dirsi': 1, 'compiuta.\\n\\n#ErmalMeta': 1, '#MetaMoro…': 1, 'Dai': 1, 'meglio': 1, 'deve': 1, 'ancora': 1, 'venire.\\n\\nTanta': 1, 'merda': 1, 'stasera🇮🇹🧡\\n#MetMoro': 1, '\\n#metamoresc2018…': 1, 'https://t.co/m8JcaPulUC': 1, '@maddylupa1:': 1, 'Anche': 1, 'qui,': 1, 'modo': 1, 'nostro,': 1, 'stiamo': 1, 'preparando': 1, 'stasera': 1, '😏🇮🇹🍀\\n#MetaMoroESC2018': 1, '#ESCita': 1, '#AllAboard': 1, 'saranno': 1, 'Amici': 1, 'contemporaneamente': 1, 'quindi': 1, 'se': 1, 'fate': 1, 'uscire': 1, 'Emma,': 1, 'Malta': 1, 'darà': 1, 'voto…': 1, 'https://t.co/sH390RBYIO': 1, 'Prova': 1, 'eccelsa!': 1, 'Domani': 1, 'saremo': 1, 'ultimi': 1, 'esibirci': 1, '#Esc18': 1, '#Allaboard': 1, 'https://t.co/WtL…': 1, '@SpettacoliNEWS:': 1, 'gioca': 1, '#Eurovision\\xa0': 1, '#ESC2018\\xa0': 1, '#AllABoard\\xa0': 1, '#MetaMoroALisbona': 1, 'https://t.c…': 1, '@flo_lemonworld:': 1, 'Insomma': 1, 'finita': 1, 'l’abbiamo': 1, 'buttata': 1, 'caciara': 1, 'come': 1, 'piace': 1, 'noi.': 1, '#MetaMoroEsc2018': 1, '#EscIta': 1, '#Esc…': 1, '@wwwrithings:': 1, 'E': 1, 'questa': 1, 'sera,': 1, 'diretta,': 1, 'cammineranno': 1, 'sul': 1, 'tetto': 1, 'dell’Europa.': 1, 'abbracceranno': 1, 'dietro': 1, 'quinte,': 1, 'canteranno': 1, 'contro': 1, '@manchiessendoci:': 1, 'va': 1, 'migliora': 1, 'quando': 1, 'canta': 1, 'nmafn': 1, 'durante': 1, 'prove': 1, 'dell’eurovision.': 1, '@Radio105:': 1, 'Sapete': 1, 'cosa': 1, 'succede': 1, 'alle': 1, '18:10❓\\n@MaxBrigante': 1, 'collega': 1, 'telefonicamente': 1, '😍\\xa0Non': 1, 'mancate‼\\n👉': 1, 'Questa': 1, 'finale': 1, 'del': 1, '#ESC2018...': 1, 'Italia': 1, 'auto-votare': 1, '&amp;': 1, 'Moro…': 1, 'https://t.co/A3aO771KaK': 1, '@Raiofficialnews:': 1, '⚡️Ci': 1, 'siamo!\\nOggi': 1, 'giorno': 1, 'FINALE': 1, \"dell'#Eurovision:\": 1, 'tutti': 1, '@FabrizioMoroOff,': 1, \"l'Ita…\": 1, '@vitaindiretta:': 1, '\"L\\'impatto': 1, 'palco': 1, 'gigantesco': 1, 'stato': 1, 'meraviglioso\"\\n\\nIl': 1, 'messaggio': 1, 'ora': 1, 'a…': 1, '@Softiyong:': 1, 'ERMAL': 1, 'VOCE': 1, 'POPOLO': 1, 'HAHAHAHAHAHAHAHAHHA\\n#MetaMoroECS2018': 1, '\\n#Eurovision': 1, '\\n#ESC2018': 1, '\\n#ESCita': 1, 'https://t.co/M1UYh9YmJK': 1, 'Partecipare': 1, \"all'#Eurovision\": 1, 'aumenta': 1, '#Felicità': 1, 'persone': 1, '(lo': 1, 'dice': 1, 'scienza)': 1, '-…': 1, 'https://t.co/LodQlW322V': 1, 'È': 1, \"l'evento\": 1, 'infiammerà': 1, 'i': 1, 'nostri': 1, 'cuori.': 1, 'Tutta': 1, \"l'Italia\": 1, 'sta': 1, 'aspettando': 1, '@FabrizioMoroOff.': 1, 'Al': 1, 'loro': 1, 'fian…': 1, 'https://t.co/knfT7S8v7K': 1, 'In': 1, 'attesa': 1, 'dell’ultimo': 1, '@TIM_Official': 1, 'mandiamo': 1, '#buongiorno': 1, '...': 1, 'mancano': 1, 'alla': 1, 'finalissima': 1, '#Esc1…': 1, 'LeNewsCheVuoiTu': 1, '2018:': 1, 'GRANDE': 1, 'ATTESA': 1, 'Moro': 1, 'https://t.co/7kwk93jq35': 1, 'LE': 1, 'NOTIZIE': 1, 'GIORNO': 1, '–': 1, 'piacere': 1, 'sco…': 1, 'https://t.co/m0vRQKRzgU': 1, 'Francisco': 1, 'Vieira': 1, 'MY': 1, 'EUROVISION': 1, 'TOP': 1, '10!!': 1, 'https://t.co/pPdyVP0ymQ': 1, 'Elizabeth': 1, 'Macon': 1, 'serale': 1, '2018,': 1, 'piacer…': 1, 'https://t.co/NJFUlg7bda': 1, '@portamjviia:': 1, 'io': 1, 'mi': 1, 'sto': 1, 'sentendo': 1, 'male': 1, '#eurovision': 1, 'https://t.co/rjpvcVVPgU': 1, '@MartyRockstar:': 1, \"'GaBbAnI\": 1, 'dEvE': 1, 'eSsErE': 1, \"vEnDiCaTo'\\n'ErA\": 1, 'aRrIvAtO': 1, 'sOlO': 1, \"sEsTo'\\n\\nPeccato\": 1, 'ricordate': 1, 'lui': 1, 'aveva': 1, 'vinto': 1, 'PREMIO': 1, 'DE…': 1}\n"
     ]
    }
   ],
   "source": [
    "import json, dataclasses\n",
    "\n",
    "def read_clean_tweets(input: str):\n",
    "  tweets = []\n",
    "  with open(input, 'r') as f:\n",
    "    lines = f.readlines()\n",
    "  for line in lines:\n",
    "    parsed = json.loads(line)\n",
    "    tweet = Tweet(**parsed)\n",
    "    tweets.append(tweet)\n",
    "  return tweets\n",
    "\n",
    "def count_tweets(tweets: list[Tweet]):\n",
    "    return len(tweets)\n",
    "\n",
    "def count_spanish_tweets(tweets: list[Tweet]):\n",
    "    count = 0 \n",
    "    for tweet in tweets:\n",
    "        if tweet.language == 'es':\n",
    "            count += 1\n",
    "    return count \n",
    "\n",
    "def most_significant_word_in_lang(tweets: list[Tweet], lang: str):\n",
    "    counts = {} \n",
    "    for tweet in tweets:\n",
    "        if tweet.language == lang: \n",
    "            for word in tweet.content.split(' '):\n",
    "                if word in counts: \n",
    "                    current_value = counts[word]\n",
    "                    new_value = current_value + 1\n",
    "                    counts[word] = new_value\n",
    "                else:\n",
    "                    counts[word] = 1\n",
    "    return dict(sorted(counts.items(), key = lambda x: x[1], reverse = True))\n",
    "            \n",
    "\n",
    "tweets = read_clean_tweets('clean-dataset')\n",
    "\n",
    "print(tweets[0:2])\n",
    "\n",
    "tweets_count = count_tweets(tweets)\n",
    "\n",
    "spanish_tweets_count = count_spanish_tweets(tweets)\n",
    "\n",
    "most_significant_word_in_spanish = most_significant_word_in_lang(tweets, 'it')\n",
    "\n",
    "print(tweets_count)\n",
    "\n",
    "print(spanish_tweets_count)\n",
    "\n",
    "print(most_significant_word_in_spanish)"
   ]
  },
  {
   "cell_type": "markdown",
   "metadata": {
    "id": "VEUuzkPYUWMW"
   },
   "source": [
    "## Brainstorming\n",
    "\n",
    "What other questions could we ask to the data?"
   ]
  },
  {
   "cell_type": "markdown",
   "metadata": {
    "id": "MwjHMWoRCGn7"
   },
   "source": [
    "# Question 2.1\n",
    "\n",
    "Cuántos tweets son originales? \n",
    "\n",
    "Definimos un Tweet como *original* si no es un retweet. Para nuestros datos, diremos que un tweet es un retweet si contiene el campo `retweeted_status`. \n",
    "\n",
    "Pasos a seguir: \n",
    "- Anadir un elemento a nuestra dataclass Tweet (que tipo mejor representa esta información?) \n",
    "- Leer de nuevo el input teniendo en cuenta este nuevo elemento y el criterio establecido arriba para determinar si un tweet as un retweet\n",
    "- Escribir un método `count_original_tweets` que devuelva el recuento de tweet originales"
   ]
  },
  {
   "cell_type": "code",
   "execution_count": null,
   "metadata": {},
   "outputs": [],
   "source": []
  }
 ],
 "metadata": {
  "colab": {
   "provenance": [],
   "toc_visible": true
  },
  "kernelspec": {
   "display_name": "conda_pytorch_p310",
   "language": "python",
   "name": "conda_pytorch_p310"
  },
  "language_info": {
   "codemirror_mode": {
    "name": "ipython",
    "version": 3
   },
   "file_extension": ".py",
   "mimetype": "text/x-python",
   "name": "python",
   "nbconvert_exporter": "python",
   "pygments_lexer": "ipython3",
   "version": "3.10.14"
  }
 },
 "nbformat": 4,
 "nbformat_minor": 4
}
